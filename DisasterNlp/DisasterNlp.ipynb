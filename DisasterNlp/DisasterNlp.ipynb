{
 "cells": [
  {
   "cell_type": "code",
   "execution_count": 398,
   "metadata": {},
   "outputs": [
    {
     "name": "stderr",
     "output_type": "stream",
     "text": [
      "[nltk_data] Downloading package punkt to\n",
      "[nltk_data]     /Users/steven.glembocki/nltk_data...\n",
      "[nltk_data]   Package punkt is already up-to-date!\n"
     ]
    }
   ],
   "source": [
    "import pandas as pd\n",
    "from textblob import TextBlob, Word\n",
    "from nltk.stem.snowball import SnowballStemmer\n",
    "import string\n",
    "from spellchecker import SpellChecker\n",
    "import re\n",
    "from sklearn.feature_extraction.text import CountVectorizer, TfidfVectorizer\n",
    "import nltk\n",
    "from sklearn.linear_model import LogisticRegression\n",
    "import featuretools as ft\n",
    "from featuretools.nlp_primitives import DiversityScore, LSA, MeanCharactersPerWord, PartOfSpeechCount, PolarityScore, PunctuationCount, StopwordCount, TitleWordCount, UniversalSentenceEncoder, UpperCaseCount\n",
    "from sklearn.model_selection import train_test_split\n",
    "from sklearn.metrics import accuracy_score\n",
    "\n",
    "nltk.download('punkt')\n",
    "stemmer = SnowballStemmer('english')"
   ]
  },
  {
   "cell_type": "code",
   "execution_count": 399,
   "metadata": {},
   "outputs": [],
   "source": [
    "def word_tokenize(text, how = 'lemma'):\n",
    "    words = TextBlob(text).words\n",
    "    if how == 'lemma':\n",
    "        return [word.lemmatize() for word in words]\n",
    "    elif how == 'stem':\n",
    "        return [stemmer.stem(word) for word in words]\n",
    "    \n",
    "def remove_url(text):\n",
    "    url = re.compile(r'https?://\\S+|www\\.\\S+')\n",
    "    return url.sub(r'', text).strip()\n",
    "\n",
    "def remove_html(text):\n",
    "    html = re.compile(r'<.*?>')\n",
    "    return html.sub(r'', text)\n",
    "\n",
    "def remove_emoji(text):\n",
    "    emoji_pattern = re.compile(\"[\"\n",
    "        u\"\\U0001F600-\\U0001F64F\"  # emoticons\n",
    "        u\"\\U0001F300-\\U0001F5FF\"  # symbols & pictographs\n",
    "        u\"\\U0001F680-\\U0001F6FF\"  # transport & map symbols\n",
    "        u\"\\U0001F1E0-\\U0001F1FF\"  # flags (iOS)\n",
    "        u\"\\U00002702-\\U000027B0\"\n",
    "        u\"\\U000024C2-\\U0001F251\"\n",
    "        \"]+\", flags = re.UNICODE)\n",
    "    return emoji_pattern.sub(r'', text)\n",
    "\n",
    "def remove_punct(text):\n",
    "    table=str.maketrans('', '', string.punctuation)\n",
    "    return text.translate(table).strip()\n",
    "\n",
    "spell = SpellChecker()\n",
    "\n",
    "def correct_spellings(text):\n",
    "    corrected_text = []\n",
    "    misspelled_words = spell.unknown(text.split())\n",
    "    for word in text.split():\n",
    "        if word in misspelled_words:\n",
    "            corrected_text.append(spell.correction(word))\n",
    "        else:\n",
    "            corrected_text.append(word)\n",
    "    return \" \".join(corrected_text)"
   ]
  },
  {
   "cell_type": "code",
   "execution_count": 400,
   "metadata": {},
   "outputs": [],
   "source": [
    "train = pd.read_csv('train.csv')\n",
    "test = pd.read_csv('test.csv')\n",
    "sample = pd.read_csv('sample_submission.csv')"
   ]
  },
  {
   "cell_type": "code",
   "execution_count": 401,
   "metadata": {},
   "outputs": [
    {
     "data": {
      "text/html": [
       "<div>\n",
       "<style scoped>\n",
       "    .dataframe tbody tr th:only-of-type {\n",
       "        vertical-align: middle;\n",
       "    }\n",
       "\n",
       "    .dataframe tbody tr th {\n",
       "        vertical-align: top;\n",
       "    }\n",
       "\n",
       "    .dataframe thead th {\n",
       "        text-align: right;\n",
       "    }\n",
       "</style>\n",
       "<table border=\"1\" class=\"dataframe\">\n",
       "  <thead>\n",
       "    <tr style=\"text-align: right;\">\n",
       "      <th></th>\n",
       "      <th>id</th>\n",
       "      <th>target</th>\n",
       "    </tr>\n",
       "  </thead>\n",
       "  <tbody>\n",
       "    <tr>\n",
       "      <td>0</td>\n",
       "      <td>0</td>\n",
       "      <td>0</td>\n",
       "    </tr>\n",
       "    <tr>\n",
       "      <td>1</td>\n",
       "      <td>2</td>\n",
       "      <td>0</td>\n",
       "    </tr>\n",
       "    <tr>\n",
       "      <td>2</td>\n",
       "      <td>3</td>\n",
       "      <td>0</td>\n",
       "    </tr>\n",
       "    <tr>\n",
       "      <td>3</td>\n",
       "      <td>9</td>\n",
       "      <td>0</td>\n",
       "    </tr>\n",
       "    <tr>\n",
       "      <td>4</td>\n",
       "      <td>11</td>\n",
       "      <td>0</td>\n",
       "    </tr>\n",
       "  </tbody>\n",
       "</table>\n",
       "</div>"
      ],
      "text/plain": [
       "   id  target\n",
       "0   0       0\n",
       "1   2       0\n",
       "2   3       0\n",
       "3   9       0\n",
       "4  11       0"
      ]
     },
     "execution_count": 401,
     "metadata": {},
     "output_type": "execute_result"
    }
   ],
   "source": [
    "sample.head()"
   ]
  },
  {
   "cell_type": "code",
   "execution_count": 402,
   "metadata": {},
   "outputs": [
    {
     "data": {
      "text/html": [
       "<div>\n",
       "<style scoped>\n",
       "    .dataframe tbody tr th:only-of-type {\n",
       "        vertical-align: middle;\n",
       "    }\n",
       "\n",
       "    .dataframe tbody tr th {\n",
       "        vertical-align: top;\n",
       "    }\n",
       "\n",
       "    .dataframe thead th {\n",
       "        text-align: right;\n",
       "    }\n",
       "</style>\n",
       "<table border=\"1\" class=\"dataframe\">\n",
       "  <thead>\n",
       "    <tr style=\"text-align: right;\">\n",
       "      <th></th>\n",
       "      <th>id</th>\n",
       "      <th>target</th>\n",
       "    </tr>\n",
       "  </thead>\n",
       "  <tbody>\n",
       "    <tr>\n",
       "      <td>0</td>\n",
       "      <td>0</td>\n",
       "      <td>0</td>\n",
       "    </tr>\n",
       "    <tr>\n",
       "      <td>1</td>\n",
       "      <td>2</td>\n",
       "      <td>0</td>\n",
       "    </tr>\n",
       "    <tr>\n",
       "      <td>2</td>\n",
       "      <td>3</td>\n",
       "      <td>0</td>\n",
       "    </tr>\n",
       "    <tr>\n",
       "      <td>3</td>\n",
       "      <td>9</td>\n",
       "      <td>0</td>\n",
       "    </tr>\n",
       "    <tr>\n",
       "      <td>4</td>\n",
       "      <td>11</td>\n",
       "      <td>0</td>\n",
       "    </tr>\n",
       "  </tbody>\n",
       "</table>\n",
       "</div>"
      ],
      "text/plain": [
       "   id  target\n",
       "0   0       0\n",
       "1   2       0\n",
       "2   3       0\n",
       "3   9       0\n",
       "4  11       0"
      ]
     },
     "execution_count": 402,
     "metadata": {},
     "output_type": "execute_result"
    }
   ],
   "source": [
    "submission = pd.DataFrame(test['id'])\n",
    "submission['target'] = 0\n",
    "submission.to_csv('submission.csv', index = False)\n",
    "submission.head()"
   ]
  },
  {
   "cell_type": "code",
   "execution_count": 403,
   "metadata": {},
   "outputs": [
    {
     "data": {
      "text/html": [
       "<div>\n",
       "<style scoped>\n",
       "    .dataframe tbody tr th:only-of-type {\n",
       "        vertical-align: middle;\n",
       "    }\n",
       "\n",
       "    .dataframe tbody tr th {\n",
       "        vertical-align: top;\n",
       "    }\n",
       "\n",
       "    .dataframe thead th {\n",
       "        text-align: right;\n",
       "    }\n",
       "</style>\n",
       "<table border=\"1\" class=\"dataframe\">\n",
       "  <thead>\n",
       "    <tr style=\"text-align: right;\">\n",
       "      <th></th>\n",
       "      <th>id</th>\n",
       "      <th>keyword</th>\n",
       "      <th>location</th>\n",
       "      <th>text</th>\n",
       "      <th>target</th>\n",
       "    </tr>\n",
       "  </thead>\n",
       "  <tbody>\n",
       "    <tr>\n",
       "      <td>0</td>\n",
       "      <td>1</td>\n",
       "      <td>NaN</td>\n",
       "      <td>NaN</td>\n",
       "      <td>Our Deeds are the Reason of this #earthquake M...</td>\n",
       "      <td>1</td>\n",
       "    </tr>\n",
       "    <tr>\n",
       "      <td>1</td>\n",
       "      <td>4</td>\n",
       "      <td>NaN</td>\n",
       "      <td>NaN</td>\n",
       "      <td>Forest fire near La Ronge Sask. Canada</td>\n",
       "      <td>1</td>\n",
       "    </tr>\n",
       "    <tr>\n",
       "      <td>2</td>\n",
       "      <td>5</td>\n",
       "      <td>NaN</td>\n",
       "      <td>NaN</td>\n",
       "      <td>All residents asked to 'shelter in place' are ...</td>\n",
       "      <td>1</td>\n",
       "    </tr>\n",
       "    <tr>\n",
       "      <td>3</td>\n",
       "      <td>6</td>\n",
       "      <td>NaN</td>\n",
       "      <td>NaN</td>\n",
       "      <td>13,000 people receive #wildfires evacuation or...</td>\n",
       "      <td>1</td>\n",
       "    </tr>\n",
       "    <tr>\n",
       "      <td>4</td>\n",
       "      <td>7</td>\n",
       "      <td>NaN</td>\n",
       "      <td>NaN</td>\n",
       "      <td>Just got sent this photo from Ruby #Alaska as ...</td>\n",
       "      <td>1</td>\n",
       "    </tr>\n",
       "  </tbody>\n",
       "</table>\n",
       "</div>"
      ],
      "text/plain": [
       "   id keyword location                                               text  \\\n",
       "0   1     NaN      NaN  Our Deeds are the Reason of this #earthquake M...   \n",
       "1   4     NaN      NaN             Forest fire near La Ronge Sask. Canada   \n",
       "2   5     NaN      NaN  All residents asked to 'shelter in place' are ...   \n",
       "3   6     NaN      NaN  13,000 people receive #wildfires evacuation or...   \n",
       "4   7     NaN      NaN  Just got sent this photo from Ruby #Alaska as ...   \n",
       "\n",
       "   target  \n",
       "0       1  \n",
       "1       1  \n",
       "2       1  \n",
       "3       1  \n",
       "4       1  "
      ]
     },
     "execution_count": 403,
     "metadata": {},
     "output_type": "execute_result"
    }
   ],
   "source": [
    "train.head()"
   ]
  },
  {
   "cell_type": "code",
   "execution_count": 404,
   "metadata": {},
   "outputs": [
    {
     "name": "stdout",
     "output_type": "stream",
     "text": [
      "<class 'pandas.core.frame.DataFrame'>\n",
      "RangeIndex: 7613 entries, 0 to 7612\n",
      "Data columns (total 5 columns):\n",
      "id          7613 non-null int64\n",
      "keyword     7552 non-null object\n",
      "location    5080 non-null object\n",
      "text        7613 non-null object\n",
      "target      7613 non-null int64\n",
      "dtypes: int64(2), object(3)\n",
      "memory usage: 297.5+ KB\n"
     ]
    }
   ],
   "source": [
    "train.info()"
   ]
  },
  {
   "cell_type": "code",
   "execution_count": 405,
   "metadata": {},
   "outputs": [],
   "source": [
    "train['text'] = train['text'].str.replace(' AHHHH ', ' ahh ')\n",
    "train['text'] = train['text'].str.replace(' AHHhhh ', ' ahh ')\n",
    "train['text'] = train['text'].str.replace('AYHHHHHDJJFJRJJRDJJEKS', '')\n",
    "train['text'] = train['text'].str.replace(' Aaaaaand ', ' and ')\n",
    "train['text'] = train['text'].str.replace('  ', ' ')\n",
    "train['text'] = train['text'].str.replace(' bc ', ' because ')\n",
    "train['text'] = train['text'].str.replace('#RT ', '')\n",
    "train['text'] = train['text'].str.replace('RT ', '')\n",
    "train['text'] = train['text'].str.replace('&amp', '')\n",
    "train['text'] = train['text'].str.replace('\\x89Û', '')\n",
    "train['text'] = train['text'].str.replace('\\x9d', '')\n",
    "train['text'] = train['text'].str.replace('\\x89ã¢', '')\n",
    "train['text'] = train['text'].str.replace('\\x89âÂ', '')\n",
    "train['text'] = train['text'].str.replace('÷', '')\n",
    "train['text'] = train['text'].str.replace('Ï', '')\n",
    "train['text'] = train['text'].str.replace('ª', '')\n",
    "train['text'] = train['text'].str.replace('åÊ', ' ')\n",
    "train['text'] = train['text'].str.replace('¢', '')\n",
    "train['text'] = train['text'].str.replace(' ur ', ' your ')\n",
    "train['text'] = train['text'].str.replace(' u ', ' you ')\n",
    "train['text'] = train['text'].str.replace('Ì', 'i')\n",
    "train['text'] = train['text'].str.replace('inbetween', 'in between')\n",
    "train['text'] = train['text'].str.replace('Damnnnn', 'damn')\n",
    "train['text'] = train['text'].str.replace(' hwy ', ' highway ')\n",
    "train['text'] = train['text'].str.replace(' Hwy ', ' highway ')\n",
    "train['text'] = train['text'].str.replace('LOLOL', 'lol')\n",
    "train['text'] = train['text'].str.replace('LOOOOOOL', 'lol')\n",
    "train['text'] = train['text'].str.replace('LOOOOOOOOOOOOL', 'lol')\n",
    "train['text'] = train['text'].str.replace('yourboyshawn', 'your boy shawn')\n",
    "train['text'] = train['text'].str.replace('WorldNews', 'world news')\n",
    "train['text'] = train['text'].str.replace('Worldnews', 'world news')\n",
    "train['text'] = train['text'].str.replace('WhiteHouse', 'White House')\n",
    "train['text'] = train['text'].str.replace('Whitehouse', 'White House')\n",
    "train['text'] = train['text'].str.replace('WorstSummerJob', 'worst summer job')\n",
    "train['text'] = train['text'].str.replace('wrongperson', 'wrong person')\n",
    "train['text'] = train['text'].str.replace('wrongway', 'wrong way')\n",
    "train['text'] = train['text'].str.replace('volcanotornado', 'volcano tornado')\n",
    "train['text'] = train['text'].apply(lambda x: remove_url(x))\n",
    "train['text'] = train['text'].apply(lambda x: remove_html(x))\n",
    "train['text'] = train['text'].apply(lambda x: remove_emoji(x))\n",
    "train['text'] = train['text'].apply(lambda x: remove_punct(x))\n",
    "train['text'] = train['text'].apply(lambda x: re.sub(r'[^a-zA-Z\\']', ' ', x)) #\n",
    "train['text'] = train['text'].apply(lambda x: re.sub(r'[^\\x00-\\x7F]+', ' ', x)) #\n",
    "train['text'] = train['text'].apply(lambda x: ''.join([i for i in x if not i.isdigit()]))\n",
    "train['text'] = train['text'].apply(lambda x: re.sub(r'\\bt.co/\\w+', '', x))\n",
    "#train['text'] = train['text'].apply(lambda x: correct_spellings(x))\n",
    "train['text'] = train['text'].str.lower() #"
   ]
  },
  {
   "cell_type": "code",
   "execution_count": 406,
   "metadata": {},
   "outputs": [
    {
     "data": {
      "text/plain": [
       "'hello &amp'"
      ]
     },
     "execution_count": 406,
     "metadata": {},
     "output_type": "execute_result"
    }
   ],
   "source": [
    "remove_html('hello &amp')"
   ]
  },
  {
   "cell_type": "code",
   "execution_count": 407,
   "metadata": {},
   "outputs": [
    {
     "name": "stdout",
     "output_type": "stream",
     "text": [
      "hello world @remove\n"
     ]
    }
   ],
   "source": [
    "print(re.sub(r'\\b@/\\w+', '', 'hello world @remove'))"
   ]
  },
  {
   "cell_type": "code",
   "execution_count": 408,
   "metadata": {},
   "outputs": [
    {
     "name": "stdout",
     "output_type": "stream",
     "text": [
      "<class 'pandas.core.frame.DataFrame'>\n",
      "RangeIndex: 7613 entries, 0 to 7612\n",
      "Data columns (total 3 columns):\n",
      "id        7613 non-null int64\n",
      "text      7613 non-null object\n",
      "target    7613 non-null int64\n",
      "dtypes: int64(2), object(1)\n",
      "memory usage: 178.6+ KB\n"
     ]
    }
   ],
   "source": [
    "train = train.fillna('na')\n",
    "test = test.fillna('na')\n",
    "\n",
    "del train['keyword']\n",
    "del train['location']\n",
    "del test['keyword']\n",
    "del test['location']\n",
    "\n",
    "train.info()"
   ]
  },
  {
   "cell_type": "code",
   "execution_count": 409,
   "metadata": {},
   "outputs": [],
   "source": [
    "#train2 = train.copy()\n",
    "#del train2['target']\n",
    "#entities = {\n",
    "    #'text' : (train2, 'id')\n",
    "#}\n",
    "\n",
    "#trans = [DiversityScore, LSA, MeanCharactersPerWord,\n",
    "    #PartOfSpeechCount, PunctuationCount, StopwordCount,\n",
    "    #TitleWordCount, UpperCaseCount]\n",
    "\n",
    "#features, feature_names = ft.dfs(entities = entities, target_entity = 'text', \n",
    "    #trans_primitives = trans, verbose = True,\n",
    "    #features_only = False, max_depth = 1)"
   ]
  },
  {
   "cell_type": "code",
   "execution_count": 410,
   "metadata": {},
   "outputs": [],
   "source": [
    "#entities2 = {\n",
    "    #'text2' : (test, 'id')\n",
    "#}\n",
    "\n",
    "#trans2 = [DiversityScore, LSA, MeanCharactersPerWord,\n",
    "    #PartOfSpeechCount, PunctuationCount, StopwordCount,\n",
    "    #TitleWordCount, UpperCaseCount]\n",
    "\n",
    "#features2, feature_names2 = ft.dfs(entities = entities2, target_entity = 'text2', \n",
    "    #trans_primitives = trans2, verbose = True,\n",
    "    #features_only = False, max_depth = 1)"
   ]
  },
  {
   "cell_type": "code",
   "execution_count": 411,
   "metadata": {},
   "outputs": [],
   "source": [
    "#print(features.shape)\n",
    "#print(features2.shape)"
   ]
  },
  {
   "cell_type": "code",
   "execution_count": 412,
   "metadata": {},
   "outputs": [],
   "source": [
    "#pol = PolarityScore()\n",
    "#train['polarity'] = train['text'].apply(lambda x: pol(x))\n",
    "#test['polarity'] = test['text'].apply(lambda x: pol(x))"
   ]
  },
  {
   "cell_type": "code",
   "execution_count": 413,
   "metadata": {},
   "outputs": [
    {
     "data": {
      "text/plain": [
       "['i', 'me', 'my', 'myself', 'we']"
      ]
     },
     "execution_count": 413,
     "metadata": {},
     "output_type": "execute_result"
    }
   ],
   "source": [
    "from nltk.corpus import stopwords\n",
    "import nltk\n",
    "stop_words = stopwords.words('english')\n",
    "stop_words[:5]"
   ]
  },
  {
   "cell_type": "code",
   "execution_count": 414,
   "metadata": {},
   "outputs": [],
   "source": [
    "X, y = train.drop('target', axis = 1), train['target']\n",
    "X_train, X_test, y_train, y_test = train_test_split(X, y, random_state = 1)"
   ]
  },
  {
   "cell_type": "code",
   "execution_count": 418,
   "metadata": {},
   "outputs": [
    {
     "name": "stdout",
     "output_type": "stream",
     "text": [
      "5000 = 0.7904411764705882\n",
      "6000 = 0.7883403361344538\n",
      "7000 = 0.7909663865546218\n",
      "8000 = 0.7888655462184874\n",
      "9000 = 0.789390756302521\n",
      "10000 = 0.7904411764705882\n",
      "11000 = 0.7909663865546218\n",
      "12000 = 0.7941176470588235\n",
      "13000 = 0.7935924369747899\n",
      "14000 = 0.792016806722689\n",
      "15000 = 0.792016806722689\n",
      "16000 = 0.792016806722689\n",
      "17000 = 0.792016806722689\n",
      "18000 = 0.792016806722689\n"
     ]
    },
    {
     "ename": "KeyboardInterrupt",
     "evalue": "",
     "output_type": "error",
     "traceback": [
      "\u001b[0;31m---------------------------------------------------------------------------\u001b[0m",
      "\u001b[0;31mKeyboardInterrupt\u001b[0m                         Traceback (most recent call last)",
      "\u001b[0;32m<ipython-input-418-c52835476772>\u001b[0m in \u001b[0;36m<module>\u001b[0;34m\u001b[0m\n\u001b[1;32m     24\u001b[0m \u001b[0;34m\u001b[0m\u001b[0m\n\u001b[1;32m     25\u001b[0m     \u001b[0mlogreg\u001b[0m \u001b[0;34m=\u001b[0m \u001b[0mLogisticRegression\u001b[0m\u001b[0;34m(\u001b[0m\u001b[0msolver\u001b[0m \u001b[0;34m=\u001b[0m \u001b[0;34m'lbfgs'\u001b[0m\u001b[0;34m,\u001b[0m \u001b[0mmulti_class\u001b[0m \u001b[0;34m=\u001b[0m \u001b[0;34m'ovr'\u001b[0m\u001b[0;34m)\u001b[0m\u001b[0;34m\u001b[0m\u001b[0;34m\u001b[0m\u001b[0m\n\u001b[0;32m---> 26\u001b[0;31m     \u001b[0mlogreg\u001b[0m\u001b[0;34m.\u001b[0m\u001b[0mfit\u001b[0m\u001b[0;34m(\u001b[0m\u001b[0mtrain_dtm\u001b[0m\u001b[0;34m,\u001b[0m \u001b[0my_train\u001b[0m\u001b[0;34m)\u001b[0m\u001b[0;34m\u001b[0m\u001b[0;34m\u001b[0m\u001b[0m\n\u001b[0m\u001b[1;32m     27\u001b[0m     \u001b[0mpreds\u001b[0m \u001b[0;34m=\u001b[0m \u001b[0mpd\u001b[0m\u001b[0;34m.\u001b[0m\u001b[0mDataFrame\u001b[0m\u001b[0;34m(\u001b[0m\u001b[0mlogreg\u001b[0m\u001b[0;34m.\u001b[0m\u001b[0mpredict\u001b[0m\u001b[0;34m(\u001b[0m\u001b[0mtest_dtm\u001b[0m\u001b[0;34m)\u001b[0m\u001b[0;34m,\u001b[0m \u001b[0mcolumns\u001b[0m \u001b[0;34m=\u001b[0m \u001b[0;34m[\u001b[0m\u001b[0;34m'target'\u001b[0m\u001b[0;34m]\u001b[0m\u001b[0;34m)\u001b[0m\u001b[0;34m\u001b[0m\u001b[0;34m\u001b[0m\u001b[0m\n\u001b[1;32m     28\u001b[0m     \u001b[0mscores\u001b[0m\u001b[0;34m.\u001b[0m\u001b[0mappend\u001b[0m\u001b[0;34m(\u001b[0m\u001b[0mi\u001b[0m\u001b[0;34m)\u001b[0m\u001b[0;34m\u001b[0m\u001b[0;34m\u001b[0m\u001b[0m\n",
      "\u001b[0;32m~/opt/anaconda3/lib/python3.7/site-packages/sklearn/linear_model/logistic.py\u001b[0m in \u001b[0;36mfit\u001b[0;34m(self, X, y, sample_weight)\u001b[0m\n\u001b[1;32m   1530\u001b[0m \u001b[0;34m\u001b[0m\u001b[0m\n\u001b[1;32m   1531\u001b[0m         X, y = check_X_y(X, y, accept_sparse='csr', dtype=_dtype, order=\"C\",\n\u001b[0;32m-> 1532\u001b[0;31m                          accept_large_sparse=solver != 'liblinear')\n\u001b[0m\u001b[1;32m   1533\u001b[0m         \u001b[0mcheck_classification_targets\u001b[0m\u001b[0;34m(\u001b[0m\u001b[0my\u001b[0m\u001b[0;34m)\u001b[0m\u001b[0;34m\u001b[0m\u001b[0;34m\u001b[0m\u001b[0m\n\u001b[1;32m   1534\u001b[0m         \u001b[0mself\u001b[0m\u001b[0;34m.\u001b[0m\u001b[0mclasses_\u001b[0m \u001b[0;34m=\u001b[0m \u001b[0mnp\u001b[0m\u001b[0;34m.\u001b[0m\u001b[0munique\u001b[0m\u001b[0;34m(\u001b[0m\u001b[0my\u001b[0m\u001b[0;34m)\u001b[0m\u001b[0;34m\u001b[0m\u001b[0;34m\u001b[0m\u001b[0m\n",
      "\u001b[0;32m~/opt/anaconda3/lib/python3.7/site-packages/sklearn/utils/validation.py\u001b[0m in \u001b[0;36mcheck_X_y\u001b[0;34m(X, y, accept_sparse, accept_large_sparse, dtype, order, copy, force_all_finite, ensure_2d, allow_nd, multi_output, ensure_min_samples, ensure_min_features, y_numeric, warn_on_dtype, estimator)\u001b[0m\n\u001b[1;32m    717\u001b[0m                     \u001b[0mensure_min_features\u001b[0m\u001b[0;34m=\u001b[0m\u001b[0mensure_min_features\u001b[0m\u001b[0;34m,\u001b[0m\u001b[0;34m\u001b[0m\u001b[0;34m\u001b[0m\u001b[0m\n\u001b[1;32m    718\u001b[0m                     \u001b[0mwarn_on_dtype\u001b[0m\u001b[0;34m=\u001b[0m\u001b[0mwarn_on_dtype\u001b[0m\u001b[0;34m,\u001b[0m\u001b[0;34m\u001b[0m\u001b[0;34m\u001b[0m\u001b[0m\n\u001b[0;32m--> 719\u001b[0;31m                     estimator=estimator)\n\u001b[0m\u001b[1;32m    720\u001b[0m     \u001b[0;32mif\u001b[0m \u001b[0mmulti_output\u001b[0m\u001b[0;34m:\u001b[0m\u001b[0;34m\u001b[0m\u001b[0;34m\u001b[0m\u001b[0m\n\u001b[1;32m    721\u001b[0m         y = check_array(y, 'csr', force_all_finite=True, ensure_2d=False,\n",
      "\u001b[0;32m~/opt/anaconda3/lib/python3.7/site-packages/sklearn/utils/validation.py\u001b[0m in \u001b[0;36mcheck_array\u001b[0;34m(array, accept_sparse, accept_large_sparse, dtype, order, copy, force_all_finite, ensure_2d, allow_nd, ensure_min_samples, ensure_min_features, warn_on_dtype, estimator)\u001b[0m\n\u001b[1;32m    494\u001b[0m             \u001b[0;32mtry\u001b[0m\u001b[0;34m:\u001b[0m\u001b[0;34m\u001b[0m\u001b[0;34m\u001b[0m\u001b[0m\n\u001b[1;32m    495\u001b[0m                 \u001b[0mwarnings\u001b[0m\u001b[0;34m.\u001b[0m\u001b[0msimplefilter\u001b[0m\u001b[0;34m(\u001b[0m\u001b[0;34m'error'\u001b[0m\u001b[0;34m,\u001b[0m \u001b[0mComplexWarning\u001b[0m\u001b[0;34m)\u001b[0m\u001b[0;34m\u001b[0m\u001b[0;34m\u001b[0m\u001b[0m\n\u001b[0;32m--> 496\u001b[0;31m                 \u001b[0marray\u001b[0m \u001b[0;34m=\u001b[0m \u001b[0mnp\u001b[0m\u001b[0;34m.\u001b[0m\u001b[0masarray\u001b[0m\u001b[0;34m(\u001b[0m\u001b[0marray\u001b[0m\u001b[0;34m,\u001b[0m \u001b[0mdtype\u001b[0m\u001b[0;34m=\u001b[0m\u001b[0mdtype\u001b[0m\u001b[0;34m,\u001b[0m \u001b[0morder\u001b[0m\u001b[0;34m=\u001b[0m\u001b[0morder\u001b[0m\u001b[0;34m)\u001b[0m\u001b[0;34m\u001b[0m\u001b[0;34m\u001b[0m\u001b[0m\n\u001b[0m\u001b[1;32m    497\u001b[0m             \u001b[0;32mexcept\u001b[0m \u001b[0mComplexWarning\u001b[0m\u001b[0;34m:\u001b[0m\u001b[0;34m\u001b[0m\u001b[0;34m\u001b[0m\u001b[0m\n\u001b[1;32m    498\u001b[0m                 raise ValueError(\"Complex data not supported\\n\"\n",
      "\u001b[0;32m~/opt/anaconda3/lib/python3.7/site-packages/numpy/core/_asarray.py\u001b[0m in \u001b[0;36masarray\u001b[0;34m(a, dtype, order)\u001b[0m\n\u001b[1;32m     83\u001b[0m \u001b[0;34m\u001b[0m\u001b[0m\n\u001b[1;32m     84\u001b[0m     \"\"\"\n\u001b[0;32m---> 85\u001b[0;31m     \u001b[0;32mreturn\u001b[0m \u001b[0marray\u001b[0m\u001b[0;34m(\u001b[0m\u001b[0ma\u001b[0m\u001b[0;34m,\u001b[0m \u001b[0mdtype\u001b[0m\u001b[0;34m,\u001b[0m \u001b[0mcopy\u001b[0m\u001b[0;34m=\u001b[0m\u001b[0;32mFalse\u001b[0m\u001b[0;34m,\u001b[0m \u001b[0morder\u001b[0m\u001b[0;34m=\u001b[0m\u001b[0morder\u001b[0m\u001b[0;34m)\u001b[0m\u001b[0;34m\u001b[0m\u001b[0;34m\u001b[0m\u001b[0m\n\u001b[0m\u001b[1;32m     86\u001b[0m \u001b[0;34m\u001b[0m\u001b[0m\n\u001b[1;32m     87\u001b[0m \u001b[0;34m\u001b[0m\u001b[0m\n",
      "\u001b[0;31mKeyboardInterrupt\u001b[0m: "
     ]
    }
   ],
   "source": [
    "#insantiate and fit transform tfidf vectorizer (term frequency) 20214 20129 20092 20088 20086 20084 20030\n",
    "\n",
    "scores = []\n",
    "\n",
    "for i in range(5000, 25000, 1000):\n",
    "    vect = CountVectorizer(\n",
    "        #analyzer = lambda x: word_tokenize(x, how = 'stem'),\n",
    "        stop_words = stop_words,\n",
    "        strip_accents = 'unicode',\n",
    "        max_features = i,\n",
    "        lowercase = True, #not working\n",
    "        ngram_range = (1, 1) #not working\n",
    "    )\n",
    "\n",
    "    #create document term matrices\n",
    "\n",
    "    train_dtm = pd.DataFrame(vect.fit_transform(X_train['text']).todense(), columns = vect.get_feature_names())\n",
    "    test_dtm = pd.DataFrame(vect.transform(X_test['text']).todense(), columns = vect.get_feature_names())\n",
    "\n",
    "    #ensure columns match\n",
    "\n",
    "    #print(train_dtm.shape)\n",
    "    #print(test_dtm.shape)\n",
    "\n",
    "    logreg = LogisticRegression(solver = 'lbfgs', multi_class = 'ovr')\n",
    "    logreg.fit(train_dtm, y_train)\n",
    "    preds = pd.DataFrame(logreg.predict(test_dtm), columns = ['target'])\n",
    "    scores.append(i)\n",
    "    print(str(i) + \" = \" + str(accuracy_score(y_test, preds)))\n",
    "\n",
    "#8004201680672269 @10,000 CV lemma\n",
    "#803046218487395 @9000 Tfidf lemma\n",
    "#805672268907563 @7000 Tfidf stem"
   ]
  },
  {
   "cell_type": "code",
   "execution_count": 416,
   "metadata": {},
   "outputs": [
    {
     "name": "stdout",
     "output_type": "stream",
     "text": [
      "(5709, 13901)\n",
      "(1904, 13901)\n"
     ]
    }
   ],
   "source": [
    "print(train_dtm.shape)\n",
    "print(test_dtm.shape)"
   ]
  },
  {
   "cell_type": "code",
   "execution_count": 370,
   "metadata": {},
   "outputs": [
    {
     "data": {
      "text/html": [
       "<div>\n",
       "<style scoped>\n",
       "    .dataframe tbody tr th:only-of-type {\n",
       "        vertical-align: middle;\n",
       "    }\n",
       "\n",
       "    .dataframe tbody tr th {\n",
       "        vertical-align: top;\n",
       "    }\n",
       "\n",
       "    .dataframe thead th {\n",
       "        text-align: right;\n",
       "    }\n",
       "</style>\n",
       "<table border=\"1\" class=\"dataframe\">\n",
       "  <thead>\n",
       "    <tr style=\"text-align: right;\">\n",
       "      <th></th>\n",
       "      <th>cat</th>\n",
       "      <th>sleeping</th>\n",
       "      <th>store</th>\n",
       "      <th>went</th>\n",
       "    </tr>\n",
       "  </thead>\n",
       "  <tbody>\n",
       "    <tr>\n",
       "      <td>0</td>\n",
       "      <td>0.000000</td>\n",
       "      <td>0.000000</td>\n",
       "      <td>0.707107</td>\n",
       "      <td>0.707107</td>\n",
       "    </tr>\n",
       "    <tr>\n",
       "      <td>1</td>\n",
       "      <td>0.000000</td>\n",
       "      <td>0.000000</td>\n",
       "      <td>0.000000</td>\n",
       "      <td>0.000000</td>\n",
       "    </tr>\n",
       "    <tr>\n",
       "      <td>2</td>\n",
       "      <td>0.707107</td>\n",
       "      <td>0.707107</td>\n",
       "      <td>0.000000</td>\n",
       "      <td>0.000000</td>\n",
       "    </tr>\n",
       "  </tbody>\n",
       "</table>\n",
       "</div>"
      ],
      "text/plain": [
       "        cat  sleeping     store      went\n",
       "0  0.000000  0.000000  0.707107  0.707107\n",
       "1  0.000000  0.000000  0.000000  0.000000\n",
       "2  0.707107  0.707107  0.000000  0.000000"
      ]
     },
     "execution_count": 370,
     "metadata": {},
     "output_type": "execute_result"
    }
   ],
   "source": [
    "vect = TfidfVectorizer(\n",
    "    stop_words = stop_words,\n",
    "    lowercase = True, #not working\n",
    "    ngram_range = (1, 1) #not working\n",
    ")\n",
    "\n",
    "s = ['I went to the store', 'the', 'the cat is sleeping']\n",
    "dtm = pd.DataFrame(vect.fit_transform(s).todense(), columns = vect.get_feature_names())\n",
    "dtm"
   ]
  },
  {
   "cell_type": "code",
   "execution_count": 357,
   "metadata": {},
   "outputs": [
    {
     "name": "stdout",
     "output_type": "stream",
     "text": [
      "['a', 'aa', 'aaaaaaallll', 'aaaaaand', 'aaceorg', 'aan', 'aaronthefm', 'aashiqui', 'ab', 'aba', 'abandon', 'abandonedp', 'abbandon', 'abbott', 'abbswinston', 'abbyairshow', 'abc', 'abcnew', 'abe', 'aberdeen', 'aberdeenfanpag', 'aberdeenfc', 'aberystwythshrewsburi', 'abia', 'abil', 'abject', 'abl', 'ablaz', 'ableg', 'abninfvet', 'aboard', 'abomb', 'abomin', 'abort', 'about', 'abov', 'abrancaballero', 'absolut', 'absolutsumya', 'abstorm', 'abstract', 'absurd', 'abubaraa', 'abus', 'abuseddesolatelost', 'ac', 'acaciapenn', 'acarewornheart', 'acc', 'accept', 'access', 'accid', 'accident', 'accidentalpropheci', 'accionempresa', 'accord', 'account', 'accuraci', 'accus', 'accustom', 'acd', 'acdelco', 'ace', 'acebab', 'acebreakingnew', 'acenewsdesk', 'ach', 'achedin', 'achiev', 'achimota', 'acid', 'acmilan', 'acn', 'acoust', 'acousticmaloley', 'acquiesc', 'acquir', 'acquisit', 'acr', 'acronym', 'across', 'act', 'actavi', 'action', 'actionmoviestaughtus', 'activ', 'activis', 'activist', 'actor', 'actress', 'actual', 'acut', 'ad', 'adam', 'adamtuss', 'adann', 'adapt', 'add', 'addict', 'addit', 'address', 'addtexastonext', 'adelaid', 'adhd', 'adida', 'adiossuperbacteria', 'adjust', 'admin', 'administr', 'admit', 'adndotcom', 'adopt', 'ador', 'adorableapppl', 'adrianpeel', 'adriasimon', 'adult', 'adultblackmal', 'adumbbb', 'advanc', 'advantag', 'adventur', 'advertis', 'advic', 'advis', 'advisori', 'adweek', 'aeg', 'aelinrhe', 'aeroplan', 'aerospac', 'aesop', 'aesthet', 'af', 'afc', 'affair', 'affect', 'affili', 'afflict', 'afghan', 'afghanistan', 'afghetcleft', 'afk', 'afor', 'afp', 'afraid', 'africa', 'african', 'afrikaan', 'afrin', 'aft', 'after', 'afterhaiyan', 'afterhour', 'afterlif', 'aftermath', 'afternoon', 'aftershock', 'aftershockdelo', 'aftershockorg', 'afterward', 'afycso', 'ag', 'again', 'against', 'age', 'ageekyfangirl', 'agenc', 'agent', 'aggarw', 'aggress', 'aggressif', 'agnivesh', 'agnus', 'ago', 'agochicago', 'agoni', 'agre', 'agreement', 'agreesh', 'agusa', 'agw', 'ah', 'ahahahga', 'ahamedi', 'ahead', 'ahh', 'ahhtheenikki', 'ahmaz', 'ahrar', 'ahuh', 'ai', 'aia', 'aid', 'aidad', 'aidan', 'aiginsur', 'aiiamericangiri', 'aim', 'aint', 'air', 'airasia', 'aircraft', 'airhead', 'airhorn', 'airlift', 'airlin', 'airplan', 'airport', 'airstrik', 'aisl', 'aisumag', 'aitchkayce', 'ajabrown', 'ajw', 'ak', 'aka', 'akam', 'akamon', 'akarb', 'akcsl', 'akgovbillwalk', 'akilah', 'akito', 'akram', 'akumareisu', 'akwa', 'akx', 'akxbskdn', 'al', 'ala', 'alabama', 'alamodc', 'alarm', 'alarmem', 'alaska', 'alaskan', 'albani', 'alberta', 'albertan', 'albertson', 'album', 'alcohol', 'alcoholandmet', 'aldridg', 'alert', 'alex', 'alexalltimelow', 'alexandrian', 'alexbelloli', 'alexeivolkov', 'alexhammerston', 'alexi', 'alexjacobsonpf', 'alextuck', 'algeria', 'alhaji', 'alhanda', 'ali', 'alic', 'alien', 'alifaditha', 'alil', 'alipap', 'alisonannyoung', 'aliv', 'aliveaft', 'all', 'allah', 'allahsfinest', 'allay', 'alleg', 'allegi', 'allenenbot', 'alley', 'alli', 'allianc', 'allin', 'alllivesmatt', 'alllll', 'allow', 'alloy', 'allpro', 'allthekidneybeansandsorbet', 'allthenew', 'allyinwondrland', 'almighti', 'almost', 'aloi', 'alon', 'along', 'alot', 'alp', 'alpha', 'alphen', 'alrasyid', 'alreadi', 'alright', 'alrighti', 'also', 'alt', 'altamont', 'altern', 'although', 'aluminum', 'alv', 'alvinnelson', 'alway', 'alwsl', 'am', 'ama', 'amageddon', 'amali', 'amateur', 'amateurnest', 'amaz', 'amazin', 'amazing', 'amazon', 'amazond', 'amber', 'ambit', 'amblesid', 'ambul', 'amcx', 'ame', 'ameenshaikh', 'amend', 'ament', 'ameribag', 'america', 'american', 'americanlegion', 'amico', 'amicospizzato', 'amid', 'amiibo', 'aminakh', 'aminespn', 'amino', 'amirit', 'amo', 'among', 'amongst', 'amp', 'amplifi', 'amread', 'amritsar', 'amsal', 'amsosorri', 'amssumm', 'amsterdam', 'amznfavorit', 'an', 'ana', 'anakin', 'analog', 'analysi', 'anatomi', 'anchor', 'anchorag', 'ancient', 'ancop', 'and', 'ander', 'anderson', 'andi', 'andor', 'andr', 'andrea', 'android', 'androidgam', 'andygild', 'anellatulip', 'anew', 'angel', 'angela', 'angelheartnight', 'angelina', 'angelriveralib', 'angelstar', 'anger', 'angioplasti', 'angri', 'angusmacneilsnp', 'anhqdc', 'ani', 'anim', 'animallog', 'animalrescu', 'animatron', 'aniston', 'ankl', 'anna', 'annajhm', 'annddd', 'annealiz', 'annihil', 'anniversari', 'annmarieronan', 'annonym', 'announc', 'annoy', 'annual', 'anonchimp', 'anonym', 'anoth', 'answer', 'ant', 'anthelmint', 'antholog', 'anthoni', 'anthrax', 'anthxvi', 'anti', 'antiblight', 'antichrist', 'antifeminist', 'antioch', 'antiochhickoryhollowtn', 'antiochus', 'antiterror', 'antoni', 'antpip', 'anu', 'anxieti', 'anxious', 'anybodi', 'anymor', 'anyon', 'anyth', 'anyway', 'anywher', 'anza', 'aogashima', 'aom', 'ap', 'apano', 'apart', 'apc', 'apch', 'apd', 'apga', 'aphiabeta', 'aphl', 'aphyr', 'apiec', 'apocalpyt', 'apocalyps', 'apocalypt', 'apollo', 'apollobrown', 'apolog', 'apologis', 'app', 'appal', 'appar', 'appeal', 'appear', 'appeas', 'appi', 'appl', 'applaud', 'appleofficl', 'appli', 'applic', 'appoint', 'apprais', 'appreci', 'appreciativeinquiri', 'approach', 'appropri', 'approv', 'appx', 'april', 'apropo', 'apt', 'aptlyengineerd', 'apunk', 'aqua', 'aquarium', 'ar', 'ara', 'arab', 'arabia', 'arabian', 'arachi', 'arcad', 'arceen', 'architect', 'architectur', 'are', 'area', 'areal', 'areasminor', 'aredelug', 'arena', 'arenanon', 'arent', 'areva', 'arfur', 'argent', 'argentaelit', 'argentina', 'argh', 'argsuppos', 'argu', 'argument', 'ari', 'ariaahrari', 'ariabrisard', 'arian', 'ariana', 'arianagrand', 'arianare', 'arin', 'ariz', 'arizona', 'arizonadot', 'arkan', 'arkansa', 'arlington', 'arm', 'armageddon', 'armenian', 'armi', 'arnhem', 'arobotlegion', 'around', 'aroundth', 'arovolturi', 'arrang', 'arrest', 'arriv', 'arrog', 'ars', 'arsenal', 'arson', 'arsonist', 'arsonistmus', 'art', 'artectura', 'arti', 'artic', 'articl', 'artifici', 'artilleri', 'artist', 'artisteoftheweekfact', 'artistsunit', 'artwork', 'arvindkejriw', 'arwx', 'as', 'asa', 'asap', 'asb', 'ascend', 'aseer', 'asf', 'ash', 'ashayo', 'ashberxo', 'ashdod', 'ashestoash', 'ashghebrani', 'ashj', 'ashley', 'ashrafiyah', 'ashton', 'ashvill', 'ashwo', 'asia', 'asian', 'asianshawtyy', 'asic', 'asid', 'asimtanvir', 'ask', 'askcharley', 'askh', 'asleep', 'aspect', 'asphalt', 'ass', 'assad', 'assail', 'assassin', 'assassinkpg', 'assault', 'assembl', 'assess', 'asshol', 'assist', 'assnchat', 'associ', 'assum', 'assur', 'asswip', 'astonish', 'astound', 'astrakhan', 'astro', 'astrolog', 'astrologian', 'astroturf', 'asukag', 'asylum', 'asymbina', 'at', 'atcha', 'atchisonsean', 'atgrannyshous', 'atheist', 'athen', 'athlet', 'atl', 'atlant', 'atlanta', 'atlarnxx', 'atlas', 'atlbizchron', 'atleast', 'atlev', 'atljw', 'atm', 'atmospher', 'atom', 'atombomb', 'atomicbomb', 'attack', 'attackonstil', 'attackshar', 'attain', 'attempt', 'attend', 'attende', 'attent', 'attic', 'attila', 'attitud', 'attjcdemo', 'attract', 'atv', 'au', 'aubilenon', 'aubrey', 'auburn', 'auc', 'auckland', 'auction', 'audaciousspunk', 'audacityjamesta', 'audi', 'audienc', 'audio', 'audit', 'audreyp', 'aug', 'august', 'aul', 'aunt', 'auntiedot', 'aurora', 'aus', 'ausinstarchitect', 'auspol', 'aussi', 'aust', 'austin', 'australia', 'australian', 'austrian', 'auth', 'authent', 'author', 'autism', 'autist', 'auto', 'autoam', 'autobiographi', 'autobodi', 'autoinsur', 'autom', 'automat', 'autumn', 'autumnwint', 'auz', 'av', 'ava', 'avail', 'avalanch', 'avalanchesgtgt', 'avbronstein', 'ave', 'aveng', 'avenu', 'averag', 'avert', 'aviat', 'avigdorliberman', 'avoid', 'aw', 'awadgolf', 'await', 'awak', 'awaken', 'awar', 'awash', 'away', 'awesom', 'awesomeeeeeee', 'awesomelov', 'awesomesauc', 'awkward', 'awn', 'awol', 'awwww', 'ay', 'ayekoradio', 'ayshuntornado', 'ayyy', 'az', 'azimel', 'azusa', 'b', 'ba', 'baan', 'babal', 'babalmaowelcom', 'babe', 'babi', 'babybackreev', 'bachmann', 'back', 'background', 'backlash', 'backpack', 'backroom', 'backti', 'backtoback', 'backup', 'backyard', 'bacteria', 'bad', 'badass', 'badastronom', 'badchoic', 'badg', 'badotweet', 'badr', 'badu', 'bae', 'baekhyun', 'baffl', 'bag', 'bagenc', 'baggag', 'bago', 'bah', 'bahrain', 'bail', 'baileysmsteach', 'bailout', 'bajrangi', 'bak', 'bake', 'bakeofffriend', 'bal', 'balconi', 'bald', 'bali', 'ball', 'ballew', 'baltimor', 'bama', 'bamenda', 'ban', 'bancodeseri', 'band', 'banditregina', 'bandoli', 'banerje', 'bang', 'bangin', 'bangladesh', 'bangladeshaffect', 'bangladeshflood', 'bangmeupguk', 'bangmi', 'bangtan', 'bank', 'banki', 'banksi', 'bankstown', 'bannuk', 'banquet', 'banthebomb', 'bantrophyhunt', 'bapusuratsingh', 'bar', 'barack', 'barackobama', 'barak', 'barbado', 'barbar', 'barber', 'barbitwin', 'barcouski', 'bard', 'bare', 'barfield', 'bargain', 'barkevi', 'barra', 'barrack', 'barri', 'barrier', 'barrington', 'bartend', 'base', 'basebal', 'baseballquot', 'basedgeorgi', 'basedlarock', 'basement', 'bash', 'basi', 'basic', 'basildudin', 'bask', 'bass', 'bastard', 'bat', 'batfanuk', 'bath', 'bathandnortheastsomerset', 'bathroom', 'bathroomit', 'batista', 'batter', 'batteri', 'battl', 'battledom', 'battlefield', 'battlerapchri', 'battleroyalemod', 'battleship', 'bay', 'bayarea', 'bayelsa', 'bayonet', 'bb', 'bbc', 'bbcengland', 'bbcintroduc', 'bbclaurak', 'bbcmtd', 'bbcnew', 'bbctalkback', 'bbcwomanshour', 'bblogger', 'bbm', 'bbsnew', 'bc', 'bcfcticketladi', 'bcpoli', 'bcs', 'bcuz', 'bd', 'bday', 'bdisgust', 'be', 'beach', 'beacon', 'beam', 'bean', 'bear', 'beard', 'beastin', 'beat', 'beatdown', 'beaten', 'beatg', 'beatz', 'beaumont', 'beauscoven', 'beauti', 'beautifulju', 'bebacksoon', 'becam', 'becaus', 'beccacaitlyn', 'beckarnley', 'beckon', 'beckyfeigin', 'beclearoncanc', 'becom', 'beconfid', 'bed', 'bedroom', 'bee', 'beef', 'beelievedc', 'been', 'beenghost', 'beer', 'beet', 'beetroot', 'beezersun', 'befor', 'beforeitsnew', 'beg', 'began', 'begin', 'beginn', 'begun', 'behalf', 'behavior', 'behaviour', 'behead', 'behind', 'behold', 'beig', 'beinart', 'beisbol', 'bekahw', 'belair', 'beli', 'belief', 'believ', 'believei', 'bell', 'bella', 'bellalinn', 'bellerin', 'belli', 'belliger', 'bellybomb', 'beloeil', 'belong', 'below', 'belowthemasondixonlin', 'belt', 'beluga', 'ben', 'benaffleck', 'bend', 'bene', 'beneath', 'benedict', 'benefit', 'benew', 'bengal', 'bengali', 'benignovito', 'benitez', 'benjamin', 'benjbeckwith', 'benjidevo', 'benjm', 'benkin', 'benoth', 'benson', 'benstraci', 'bentley', 'bentossel', 'benzema', 'beram', 'berlatski', 'berlin', 'bernard', 'bernardino', 'besaf', 'besid', 'besieg', 'best', 'bestcomedyvin', 'bestfriend', 'bestiv', 'bestnaijamad', 'bestsel', 'bet', 'beth', 'bethanymota', 'bethlehem', 'betray', 'better', 'bettyfreedom', 'between', 'betweensong', 'betz', 'bewar', 'beyhiv', 'beyonc', 'beyond', 'beyondthebomb', 'bff', 'bfgfcrush', 'bfore', 'bg', 'bhaijaan', 'bhp', 'bhramabul', 'bhusa', 'bibl', 'biblestudi', 'biblic', 'bicentenni', 'bicep', 'bickleton', 'bicycl', 'bicyclesuv', 'bicyclist', 'bid', 'bieber', 'big', 'bigamist', 'bigburgerboi', 'biggangvh', 'biggar', 'bigger', 'biggest', 'bigrigradio', 'bigsbi', 'bigtent', 'bike', 'biker', 'bill', 'billboard', 'billgat', 'billharristv', 'billion', 'billionair', 'billiton', 'billneelynbc', 'billroos', 'billyhodg', 'bin', 'bind', 'binellithresa', 'bing', 'binladen', 'bio', 'biolab', 'biolog', 'biosurveil', 'bioterror', 'bioterrorismap', 'bioterrorismim', 'bird', 'birmingham', 'birth', 'birthday', 'biryani', 'bishopfr', 'bit', 'bitch', 'bitchl', 'bitchrun', 'bitco', 'bitcoin', 'bite', 'biterel', 'biz', 'bjp', 'bjpsamvad', 'bk', 'bkn', 'blaaaaaaa', 'black', 'blackberri', 'blackburn', 'blackcat', 'blackinamerica', 'blacklivesmatt', 'blackpool', 'blackwhit', 'blah', 'blairmcdougal', 'blais', 'blake', 'blakeschmidt', 'blakeshelton', 'blame', 'bland', 'blanket', 'blanksocietyx', 'blanktgt', 'blast', 'blastedi', 'blaze', 'blazerfan', 'blazingben', 'blazingelwood', 'bldrcosheriff', 'bleacher', 'bleed', 'blend', 'bless', 'blevin', 'blew', 'blight', 'blind', 'blink', 'blinker', 'bliss', 'blitz', 'blizzard', 'blizzardc', 'blizzarddraco', 'blizzhero', 'blk', 'blks', 'block', 'blockag', 'blockchain', 'blog', 'blogger', 'blond', 'blood', 'bloodbathtv', 'bloodbound', 'bloodi', 'bloodymind', 'bloodymonday', 'bloomberg', 'bloopandablast', 'blossom', 'blossominglilac', 'blow', 'blowin', 'blowltan', 'blowmandyup', 'blown', 'blowout', 'blubber', 'blue', 'bluebel', 'bluedio', 'bluehand', 'bluejay', 'blueprint', 'bluetooth', 'bluewestlo', 'blunt', 'blutz', 'blvd', 'bmw', 'bmx', 'bn', 'bo', 'board', 'boast', 'boat', 'boatnew', 'bob', 'bobbl', 'bobbyofhomewood', 'bobcat', 'bod', 'bodi', 'bodybag', 'boe', 'boi', 'bois', 'boko', 'bokoharam', 'bolshevik', 'bolster', 'bolt', 'bomb', 'bombedout', 'bomber', 'bomd', 'bon', 'bone', 'bong', 'bonhomm', 'bonn', 'bonus', 'book', 'bookanoth', 'bookboost', 'bookmobil', 'bookofdaniel', 'booksbyrog', 'bookslast', 'boom', 'boomerangtim', 'booradleyvancullen', 'boost', 'boot', 'booth', 'booti', 'booz', 'bordento', 'bore', 'borgeous', 'boringdead', 'born', 'bornverifi', 'borrow', 'bosphor', 'boss', 'boston', 'bot', 'both', 'bother', 'bottl', 'bottom', 'bought', 'boulder', 'bounc', 'bound', 'boundari', 'bounti', 'bout', 'bouta', 'boutta', 'bowknot', 'bowl', 'box', 'boxer', 'boxset', 'boy', 'boycottbear', 'boyd', 'boyfriend', 'boyhaus', 'boyinahorsemask', 'boylesport', 'bp', 'br', 'brace', 'bracelet', 'bracket', 'bradi', 'bradley', 'bradleybrad', 'brahman', 'brain', 'brainless', 'brake', 'branch', 'brand', 'brandonskei', 'brant', 'brasswork', 'brave', 'braveri', 'brazil', 'brazilian', 'brbrs', 'breach', 'bread', 'break', 'breakdanc', 'breakdown', 'breakfast', 'breakfaston', 'breakingnew', 'breakingnewslh', 'breast', 'breath', 'bred', 'breed', 'breeder', 'breemar', 'breivik', 'brena', 'brew', 'brewer', 'brian', 'brianboru', 'briannafrost', 'brick', 'bridal', 'bride', 'bridg', 'bridgetown', 'brief', 'brig', 'brigad', 'bright', 'brighton', 'briliant', 'brilliant', 'brinco', 'bring', 'brinx', 'brisban', 'brisk', 'bristol', 'brit', 'britain', 'british', 'britishbakeoff', 'britney', 'briton', 'brittanypetko', 'brixton', 'bro', 'broad', 'broadcast', 'broader', 'broadway', 'brobread', 'brock', 'brockton', 'brodyfriel', 'broke', 'broken', 'bromleyth', 'bronx', 'brook', 'brookesddl', 'brooklyn', 'brooktekl', 'brooo', 'bros', 'broseidonrex', 'brother', 'brought', 'brown', 'browner', 'browni', 'brows', 'browser', 'brrookkllyynnr', 'brucewilli', 'bruh', 'bruis', 'brunett', 'brush', 'brutal', 'bruv', 'brzjc', 'bs', 'bsg', 'bst', 'bts', 'btw', 'btwn', 'bu', 'bubbl', 'bubblycuteon', 'buchana', 'buck', 'buckl', 'buddha', 'buddi', 'buddz', 'budget', 'buff', 'buffalo', 'buffer', 'buffoonmik', 'bug', 'build', 'buildup', 'built', 'bukidnon', 'bull', 'bullet', 'bulletin', 'bulletproof', 'bulli', 'bullpen', 'bullsey', 'bullshit', 'bummer', 'bump', 'bumpin', 'bunch', 'bundi', 'bundl', 'bungi', 'bunt', 'burberry', 'buren', 'burford', 'burger', 'burglari', 'buri', 'burn', 'burnabi', 'burner', 'burnfat', 'burnt', 'burok', 'burp', 'burst', 'burundi', 'bus', 'buscemi', 'buse', 'busey', 'bush', 'bushman', 'busi', 'busin', 'businessman', 'businessmen', 'bust', 'busti', 'but', 'butch', 'bute', 'buthidaung', 'butiqob', 'butt', 'butter', 'butterfing', 'butterlondon', 'butth', 'button', 'buy', 'buzzfe', 'bv', 'bwin', 'bwp', 'by', 'bye', 'byebyesoundcloud', 'byityf', 'bypass', 'bytorrecilla', 'c', 'ca', 'caaaaaall', 'cab', 'cabin', 'cabl', 'cabramatta', 'cabrillo', 'cackl', 'cadfyi', 'cadusd', 'caesar', 'cafe', 'cafeaw', 'cafi', 'cafir', 'cage', 'cagov', 'cai', 'cain', 'cairo', 'caitlin', 'caitsrobert', 'caixxum', 'cake', 'cal', 'calabria', 'calai', 'calam', 'calest', 'calfreedommom', 'calgari', 'calgarian', 'cali', 'calif', 'california', 'californian', 'call', 'callin', 'calm', 'calori', 'calum', 'calumet', 'calwildfir', 'cam', 'camden', 'came', 'cameo', 'camera', 'cameronciletti', 'cameronhigdon', 'cameronw', 'cameroon', 'camila', 'camilacabello', 'camilla', 'camp', 'campaign', 'campanha', 'campbel', 'camper', 'campsit', 'campus', 'can', 'canaanit', 'canada', 'canadian', 'canag', 'canal', 'canberra', 'cancel', 'cancer', 'candi', 'candl', 'candylit', 'cannabi', 'cannon', 'cano', 'canonbringit', 'canontattoo', 'canonusaimag', 'canpoli', 'cant', 'cantar', 'cantmakeitup', 'cantwaittoplayinminneapoli', 'cantwont', 'canva', 'canyon', 'cap', 'capac', 'cape', 'capeann', 'capit', 'capitalist', 'capitul', 'capoeira', 'capsiz', 'captain', 'captainnmorgan', 'captiv', 'captor', 'captur', 'captureyyc', 'car', 'cara', 'caraccidentlawy', 'carajdeievingnc', 'caravan', 'carcinoma', 'card', 'cardboard', 'care', 'careemerg', 'careen', 'career', 'careerbest', 'carfest', 'cargo', 'carhot', 'carinduc', 'carl', 'carlachamorro', 'carlsbadbugkil', 'carmel', 'carmi', 'carnag', 'carolin', 'carolina', 'carpet', 'carpool', 'carr', 'carri', 'carriag', 'carryi', 'carsonrex', 'cart', 'cartervill', 'cartoon', 'cartoonylik', 'cartridg', 'caruana', 'cascad', 'case', 'casewrit', 'cash', 'casino', 'casper', 'casperrmg', 'cast', 'castello', 'castl', 'casual', 'casualti', 'casualtygray', 'cat', 'cataclysm', 'catalina', 'catalogu', 'catastroph', 'catastrophicfallenangel', 'catch', 'catech', 'catfish', 'catholicismhomophobia', 'catlow', 'catoinstitut', 'catovitch', 'catsandsyrup', 'catsofinstagram', 'caught', 'caus', 'causat', 'caution', 'cautious', 'cave', 'cawx', 'cbc', 'cbcca', 'cbs', 'cbsbigbroth', 'cbsdenver', 'cc', 'ccmusic', 'ccot', 'cd', 'cdc', 'cdcgov', 'cdnpoli', 'cdt', 'ce', 'cech', 'cecil', 'cecilthelion', 'cedarglad', 'cee', 'celebr', 'celebreti', 'celesti', 'cell', 'celtic', 'celticinde', 'cement', 'censor', 'censorship', 'census', 'center', 'centiped', 'centr', 'central', 'ceo', 'cereal', 'cerographi', 'certain', 'certainti', 'certif', 'certifi', 'cervelli', 'cervix', 'cessna', 'cest', 'cfc', 'cgi', 'cgt', 'ch', 'chachi', 'chain', 'chair', 'chairman', 'chalk', 'challeng', 'chamber', 'chamberedblood', 'champagn', 'champion', 'championsblackfoot', 'championship', 'chan', 'chanc', 'chandane', 'chane', 'chang', 'changeforthewors', 'changepilipina', 'chann', 'channel', 'channelstvthat', 'chao', 'chaosmagician', 'chapouti', 'chapter', 'char', 'charact', 'charg', 'chargedup', 'charger', 'chariti', 'charl', 'charlesadl', 'charleston', 'charleyisqueen', 'charli', 'charlieputh', 'charliz', 'charlott', 'charm', 'charmeus', 'charminar', 'charon', 'chart', 'chase', 'chaser', 'chat', 'chattanooga', 'chawalchorbjp', 'cheap', 'cheat', 'check', 'checkedh', 'cheeki', 'chees', 'cheeto', 'cheetosarabia', 'chelsdelong', 'chelsea', 'chelseadog', 'chemic', 'chemicalbab', 'chemicalweapon', 'chernobyl', 'cheroke', 'cherri', 'cheryl', 'chest', 'chester', 'chestertweetsuk', 'chesttorso', 'chevi', 'chevrolet', 'chew', 'cheyenn', 'chiang', 'chiasson', 'chibi', 'chicago', 'chicagoarea', 'chicagoscann', 'chick', 'chicken', 'chief', 'chiefcg', 'chieftain', 'child', 'childcar', 'childfund', 'childhood', 'childhooddefin', 'childish', 'children', 'childress', 'childsexabus', 'chile', 'chill', 'chilli', 'chillimik', 'chillin', 'china', 'chinadotcom', 'chines', 'chip', 'chitral', 'chocol', 'choctaw', 'choic', 'choke', 'choos', 'choosegod', 'chop', 'choppa', 'choppergatebronwynbishopauspol', 'chord', 'chore', 'chose', 'chosen', 'chowchilla', 'chowtaxi', 'chp', 'chris', 'chriscesq', 'chrisman', 'chrissi', 'christ', 'christi', 'christian', 'christielinford', 'christinartnd', 'christma', 'christopherszen', 'christycroley', 'chromsuck', 'chronicl', 'chrysler', 'chubychux', 'chuck', 'chucker', 'chuckswindol', 'chunk', 'church', 'churchil', 'churkin', 'ci', 'cia', 'ciaramckendri', 'cig', 'cigarett', 'cilla', 'cindi', 'cinema', 'cinla', 'cinstg', 'cipinang', 'circa', 'circl', 'circuit', 'circular', 'circus', 'cis', 'citat', 'cite', 'citi', 'citizen', 'citrus', 'citylink', 'cityofcalgari', 'cityofhummus', 'cityofkamloop', 'cityofmemphi', 'civil', 'civilian', 'cj', 'cjban', 'cjoyner', 'ckec', 'ckosova', 'cl', 'clad', 'claiborn', 'claim', 'clairecmc', 'clap', 'clapton', 'clash', 'class', 'classic', 'clay', 'claytonbry', 'cld', 'cle', 'clean', 'cleanest', 'cleanup', 'clear', 'clearedincid', 'cleav', 'cleavag', 'clegg', 'clelliyou', 'clergyforc', 'cleric', 'clev', 'cleveland', 'clever', 'cleverbot', 'clicca', 'click', 'clico', 'client', 'cliff', 'climat', 'climatechang', 'climb', 'clinic', 'clinton', 'clip', 'cliptv', 'clipuri', 'clist', 'cllrraymogford', 'clnv', 'clock', 'clog', 'close', 'closest', 'closet', 'closur', 'cloth', 'clothesless', 'cloud', 'cloudi', 'cloudygoldrush', 'clown', 'cloydriv', 'club', 'clubbang', 'clue', 'cluei', 'clueless', 'clutch', 'cm', 'cmcsa', 'cmnevalisti', 'cn', 'cnbc', 'cncpts', 'cndpoli', 'cnewsliv', 'cnn', 'cnnbrk', 'cnni', 'cnns', 'cnv', 'co', 'coach', 'coahuila', 'coal', 'coalit', 'coast', 'coastal', 'coastdj', 'coaster', 'coastguard', 'coat', 'cobe', 'cobra', 'cochisecolleg', 'cochran', 'cock', 'cocker', 'cockpit', 'cocoa', 'cod', 'codawscrim', 'code', 'codycarn', 'codythompson', 'coeffici', 'coercion', 'coffe', 'coffin', 'cofound', 'cogniz', 'cogxbox', 'coif', 'coincid', 'col', 'cold', 'coldblood', 'colder', 'coldmpress', 'cole', 'colin', 'colinhoffman', 'collab', 'collaps', 'collapseblow', 'collater', 'collect', 'colleg', 'collegeradi', 'colli', 'collid', 'collin', 'collis', 'collisionno', 'collisionunkn', 'collud', 'colnharun', 'coloiccarn', 'colombia', 'colombian', 'colonel', 'color', 'colorado', 'coloradoavalanch', 'colorect', 'colorlin', 'colour', 'colt', 'columbia', 'columbus', 'com', 'coma', 'combat', 'combin', 'combo', 'combust', 'comcastcar', 'comdev', 'come', 'comedi', 'comeeee', 'cometh', 'comfort', 'comic', 'comin', 'comingsoon', 'comma', 'command', 'commenc', 'comment', 'commerc', 'commerci', 'commiss', 'commit', 'committe', 'commod', 'common', 'commonwealth', 'communic', 'communiti', 'commut', 'como', 'comp', 'compani', 'companionship', 'compar', 'comparison', 'compass', 'compel', 'compens', 'compet', 'competit', 'competitor', 'complaint', 'complet', 'complex', 'complianc', 'compliant', 'complic', 'compon', 'compound', 'comprehens', 'compulsori', 'comput', 'con', 'concenot', 'concentr', 'concept', 'concern', 'concert', 'concertaugust', 'conclud', 'conclus', 'concret', 'concuss', 'condemn', 'condit', 'conditionspriv', 'condo', 'condol', 'conduct', 'conf', 'confer', 'confess', 'confidenti', 'confirm', 'conflict', 'confus', 'congest', 'congrat', 'congratul', 'congress', 'conklin', 'connect', 'connector', 'connectorconnecto', 'connormidd', 'conquest', 'conscious', 'consent', 'consequ', 'conserv', 'consid', 'consist', 'consol', 'constant', 'constel', 'constitut', 'construct', 'consum', 'consumerist', 'cont', 'contact', 'contain', 'contempl', 'contemporari', 'content', 'contentmarket', 'context', 'contig', 'continu', 'continuinglet', 'contractor', 'contrast', 'contri', 'contribut', 'contributor', 'control', 'contruct', 'convent', 'convers', 'convert', 'convinc', 'convivt', 'cook', 'cooki', 'cool', 'cooler', 'coolest', 'coolweird', 'coop', 'cooper', 'cooperstown', 'cop', 'copa', 'cope', 'copi', 'copilot', 'coppednew', 'copperfield', 'copycat', 'coquitlam', 'coral', 'cord', 'core', 'corey', 'coreyash', 'corii', 'corleonedaboss', 'corn', 'corner', 'corp', 'corps', 'correct', 'correl', 'correspond', 'corrupt', 'cortezera', 'corycov', 'cos', 'cosm', 'cosponsor', 'cossack', 'cost', 'costa', 'costlier', 'cote', 'cottag', 'cotton', 'couch', 'cougar', 'could', 'coulda', 'couldnt', 'couldv', 'coun', 'council', 'councilscc', 'counselor', 'count', 'counter', 'countermoonbat', 'counterstrik', 'counterterror', 'counti', 'countless', 'countri', 'countynew', 'coupl', 'courag', 'cours', 'court', 'courtlizcamp', 'courtney', 'courtof', 'cousin', 'cover', 'coverag', 'coverup', 'cow', 'cowboy', 'cowgirl', 'cowgirllawy', 'cowork', 'cowx', 'coxytown', 'coya', 'coyi', 'coyot', 'cozmo', 'cpanel', 'cpinto', 'cpr', 'cqnow', 'cr', 'crabbycal', 'crack', 'crackdown', 'crackin', 'cram', 'cramer', 'cramp', 'cranboonitz', 'crane', 'crap', 'crash', 'crashgt', 'crashsterlingwho', 'crater', 'crave', 'craykain', 'crayon', 'crazi', 'crazydoctorladi', 'crazyideascolleg', 'crazyindapeg', 'crazyweath', 'crbzfz', 'cream', 'creamfield', 'creat', 'createduniqu', 'creation', 'creationmin', 'creativ', 'creativitybalancelongev', 'creatur', 'credenti', 'credit', 'cree', 'creek', 'creelyou', 'creep', 'creeper', 'creepiest', 'crematoria', 'crept', 'crescent', 'crest', 'crew', 'cri', 'cricket', 'crime', 'crimin', 'crimsonfuckingv', 'crippl', 'crisi', 'cristianinspir', 'cristiano', 'critic', 'criticalmedia', 'critter', 'croat', 'croatian', 'crobscarla', 'crocodil', 'crook', 'crose', 'cross', 'crossbodi', 'crossbord', 'crossexam', 'crossfit', 'crowd', 'crown', 'crowtherjohn', 'croydon', 'croze', 'crptotech', 'crucial', 'crude', 'cruis', 'crumbl', 'crunchi', 'crush', 'crushmtvhottest', 'crusti', 'cruz', 'cryptic', 'crystal', 'crystalblaz', 'cs', 'csismica', 'cspanwj', 'cst', 'cstsmith', 'csx', 'cta', 'ctafail', 'ctaztroph', 'ctd', 'cte', 'cti', 'ctr', 'cts', 'cuban', 'cube', 'cuddl', 'cuddlesforjen', 'cue', 'cuf', 'cuff', 'cufi', 'cultsierr', 'cultur', 'cum', 'cummerbund', 'cumshot', 'cunayyh', 'cunt', 'cup', 'cupcak', 'curb', 'cure', 'curfew', 'curios', 'curl', 'currenc', 'currensi', 'current', 'curri', 'curs', 'curv', 'cus', 'custer', 'custom', 'cut', 'cute', 'cutekitten', 'cuti', 'cutleri', 'cutter', 'cuyahoga', 'cuz', 'cvinchwaow', 'cw', 'cwhoop', 'cya', 'cyber', 'cyberdemon', 'cycl', 'cyclist', 'cyclon', 'cyclonereizei', 'cyclonesama', 'cydia', 'cyhitheprync', 'cypress', 'cyprus', 'cz', 'd', 'da', 'dab', 'daborsch', 'dad', 'dadwho', 'daem', 'daesh', 'dagen', 'dagestan', 'dagger', 'daili', 'dailyliber', 'dailytimesngr', 'daisi', 'daisycuttertz', 'dajaal', 'dakota', 'dal', 'dalinthanelan', 'dalla', 'dam', 'damag', 'damagenh', 'damagewpd', 'damatu', 'damaturu', 'dambisa', 'dame', 'damiengayl', 'damn', 'damnaariell', 'damnwa', 'damp', 'dampen', 'damsel', 'dan', 'danagould', 'danc', 'dancer', 'dangdaddi', 'danger', 'dangerousbean', 'dangl', 'danharmon', 'daniel', 'danielkemp', 'daniell', 'danielsahyouni', 'danni', 'dannyjohnjul', 'dannyoneil', 'dannyonpc', 'dant', 'dantwitti', 'daorcey', 'dapurplesharpi', 'dare', 'dark', 'darken', 'darkhorsecom', 'darkndtat', 'darkread', 'darkstormytidalsea', 'darrellissa', 'darrylb', 'darrylbrook', 'darsena', 'darud', 'darwin', 'dat', 'data', 'date', 'dateswhitecoat', 'datingtip', 'dattomm', 'daubt', 'daughter', 'daughterofnai', 'dauntedpsych', 'dave', 'david', 'davidcameron', 'davidcovucci', 'davidduchovni', 'davidjordan', 'davidlabrava', 'davidolszak', 'davidson', 'davidvonderhaar', 'davison', 'dawson', 'day', 'daytoday', 'daytonarea', 'dazzl', 'db', 'dc', 'dccc', 'dcclotheslin', 'dccomic', 'ddnewsliv', 'ddnt', 'ddos', 'de', 'deactiv', 'dead', 'deaddream', 'deadgirltalk', 'deadgrassandflow', 'deadliest', 'deadpool', 'deafen', 'deai', 'deal', 'dealbreak', 'dealer', 'dear', 'death', 'deathmul', 'deb', 'debacl', 'debat', 'debatequestionswewanttohear', 'debbi', 'debri', 'debt', 'dec', 'decad', 'deceas', 'decemb', 'decent', 'decid', 'decis', 'deck', 'declar', 'declarat', 'declin', 'decomposit', 'decor', 'decreas', 'decrimin', 'dedic', 'deduct', 'dee', 'deed', 'deedeecasey', 'deejayempiresound', 'deem', 'deep', 'deepli', 'deepthought', 'deepwat', 'deezercolombia', 'def', 'defeat', 'defect', 'defenc', 'defend', 'defendantmass', 'defendbutera', 'defens', 'defensenewscomus', 'defin', 'definit', 'deflateg', 'degre', 'dehydr', 'del', 'delay', 'deldryden', 'delet', 'delhi', 'deliber', 'delici', 'deliv', 'dell', 'delmont', 'delphi', 'delta', 'deltachildren', 'delud', 'delug', 'delus', 'dem', 'demand', 'demco', 'demeanor', 'demi', 'demis', 'demo', 'democraci', 'democrat', 'demolish', 'demolishdeep', 'demolit', 'demon', 'demonstr', 'demonstratio', 'den', 'denali', 'deni', 'denial', 'denier', 'deniseromano', 'denmark', 'dent', 'dental', 'denton', 'denver', 'deosl', 'depart', 'depend', 'deploy', 'depot', 'depreci', 'depress', 'dept', 'depth', 'deputi', 'derail', 'derailedbenchmark', 'derbi', 'dere', 'deriv', 'derma', 'descend', 'describ', 'descript', 'desecr', 'desert', 'deserv', 'design', 'desir', 'desk', 'desol', 'desolationofsmaug', 'despair', 'desper', 'despic', 'despit', 'destiel', 'destin', 'destinationimpact', 'destini', 'destinythegam', 'destroy', 'destroyd', 'destruct', 'detail', 'detain', 'detectado', 'detector', 'determin', 'detkenlang', 'deton', 'detonateshot', 'detour', 'detroit', 'detroitnew', 'detroitpl', 'deutsch', 'devalu', 'devast', 'develop', 'devereaux', 'devi', 'devia', 'deviat', 'devic', 'devil', 'devinjoslyn', 'devis', 'devot', 'dew', 'dey', 'dfir', 'dfljev', 'dfr', 'dh', 'dhaka', 'dhsscitech', 'di', 'diageo', 'diagnosi', 'dial', 'diamond', 'diamondkesawn', 'diamorfiend', 'dianneg', 'diaporama', 'diari', 'diarrhea', 'diaspora', 'dice', 'dicehatem', 'dick', 'dickhead', 'dicki', 'dickson', 'dictat', 'did', 'didnt', 'die', 'diebold', 'diego', 'diegt', 'diepleas', 'dierk', 'diesel', 'diesi', 'diet', 'diff', 'differ', 'difficult', 'difficultpeopl', 'dig', 'diggin', 'digit', 'digitalhealth', 'digniti', 'dijk', 'dilawri', 'dilut', 'dimens', 'dinallyhot', 'dinner', 'dip', 'diplomaci', 'diplomat', 'direct', 'direction', 'director', 'directori', 'diretub', 'dirknomissski', 'dirktrossen', 'dirt', 'dirumah', 'dis', 'disabledveteran', 'disagr', 'disappear', 'disappoint', 'disast', 'disastereofici', 'disasterhospit', 'disasterrecoveri', 'disasterrel', 'disclaim', 'disclo', 'disco', 'disconnect', 'discount', 'discov', 'discoveri', 'discoverycntr', 'discuss', 'disdain', 'disea', 'diseas', 'disfigur', 'disgrac', 'disgust', 'disinfo', 'dislik', 'disloc', 'dismay', 'dismiss', 'disney', 'disneyland', 'disord', 'disown', 'dispatch', 'dispensari', 'dispers', 'displac', 'displacedinjuredkil', 'display', 'displeas', 'disput', 'disregard', 'disrespect', 'disrupt', 'diss', 'dissert', 'dissuad', 'distanc', 'distract', 'distress', 'distribut', 'district', 'ditch', 'div', 'dive', 'diver', 'divers', 'diversif', 'diversifi', 'divert', 'divestitur', 'divid', 'divin', 'divis', 'dix', 'dixi', 'diyala', 'dj', 'djcoreygrand', 'djeddygnj', 'djicemoon', 'djknyce', 'djoneplustwo', 'djryanwolf', 'dk', 'dl', 'dlac', 'dlc', 'dlin', 'dloesch', 'dmassa', 'dmd', 'dmoneydemi', 'dmpl', 'dmt', 'dna', 'dnb', 'dnbheaven', 'dnjcom', 'do', 'dobut', 'doc', 'dock', 'doco', 'doctor', 'doctordryadma', 'doctorfluxx', 'document', 'documentari', 'dodg', 'doe', 'doesnt', 'doessnt', 'dog', 'dogg', 'doingahhhthat', 'doll', 'dolla', 'dollar', 'dolphin', 'domain', 'domest', 'domin', 'dominicana', 'don', 'donald', 'donat', 'done', 'donington', 'doningtondash', 'donjazzi', 'donnelli', 'donni', 'dont', 'donthat', 'dontpan', 'donut', 'donzilla', 'doofus', 'doom', 'doomsday', 'doon', 'door', 'dope', 'dopeitsv', 'dopest', 'dopey', 'doppler', 'dorett', 'doricr', 'dorismatsui', 'dorito', 'dorl', 'dorret', 'dorri', 'dorrian', 'dose', 'dothraki', 'doubl', 'doublecup', 'doubleghat', 'doubt', 'douchebag', 'doug', 'dough', 'dougkessl', 'dove', 'down', 'downfal', 'downgrad', 'download', 'downpour', 'downright', 'downstair', 'downtim', 'downtown', 'doylech', 'dozen', 'dpagexxi', 'dq', 'dr', 'drag', 'dragon', 'dragonval', 'drain', 'drake', 'drako', 'drama', 'dramaallama', 'dramat', 'dratom', 'dravet', 'draw', 'drawn', 'drayesha', 'drbasebal', 'drdrewhln', 'dream', 'dreami', 'dredougi', 'dress', 'drew', 'drewwtaylor', 'drfriedencdc', 'dri', 'dribbl', 'drift', 'drill', 'driller', 'drink', 'drinker', 'drive', 'drivebi', 'driven', 'driver', 'driverlesscar', 'drjohanfranzen', 'drjustinmazur', 'drmartyfox', 'drob', 'droid', 'drone', 'drool', 'drop', 'droppd', 'drothvad', 'drought', 'droughtgov', 'droughtmonitor', 'drove', 'drown', 'drphil', 'drrichardbess', 'drug', 'drum', 'drummond', 'drumpf', 'drumstep', 'drunk', 'drvox', 'ds', 'dserialpcilp', 'dt', 'dtb', 'dtn', 'dtop', 'dtour', 'du', 'dua', 'dual', 'dualcom', 'dub', 'dubai', 'dubbo', 'dublin', 'dubloadz', 'dubstep', 'duchovbutt', 'duck', 'duckvillelol', 'duda', 'dude', 'due', 'duh', 'duke', 'dull', 'dum', 'dumb', 'dumbass', 'dumbfound', 'duml', 'dump', 'dumuzid', 'dunbar', 'dune', 'dungeon', 'dunk', 'duo', 'dupe', 'dupre', 'durabl', 'durant', 'durbanknight', 'dure', 'durham', 'durrellb', 'durvod', 'dust', 'dustinbrowd', 'dustpig', 'dustpiggi', 'duststorm', 'duststormfilm', 'dutch', 'duti', 'dutton', 'dvbbs', 'dvc', 'dvd', 'dvds', 'dviyer', 'dw', 'dwarfonjetpack', 'dwarv', 'dwenglish', 'dwight', 'dyannbridg', 'dye', 'dyersburg', 'dylanmcclur', 'dynamix', 'dynasti', 'dystopian', 'dyxtmrydu', 'dzafichari', 'e', 'eac', 'each', 'eagl', 'ear', 'earbud', 'earl', 'earli', 'earlier', 'earn', 'earner', 'earnest', 'earring', 'earth', 'earthquak', 'earthquakenew', 'earthsvoic', 'earthtwerk', 'easi', 'easier', 'easili', 'east', 'eastbound', 'easter', 'eastern', 'easton', 'eastward', 'eat', 'eaten', 'eazzyp', 'eb', 'ebay', 'ebb', 'ebik', 'ebola', 'ebolatrend', 'ebrointheam', 'eco', 'ecofriend', 'econom', 'economi', 'ecstat', 'ect', 'ed', 'edcxo', 'eddi', 'eden', 'edfring', 'edg', 'edinburgh', 'edison', 'edit', 'editaxohaz', 'editor', 'edm', 'edmond', 'edmund', 'edna', 'edsheeran', 'edt', 'educ', 'edvinnn', 'edw', 'edward', 'edwelchmus', 'edwin', 'ee', 'eeasterl', 'ef', 'efak', 'effect', 'effiedean', 'effort', 'eg', 'egan', 'egg', 'ego', 'egoresolut', 'egreer', 'egypt', 'egyptian', 'eh', 'ehek', 'ehutch', 'eight', 'eighth', 'eightynin', 'eileenmfl', 'eisenhow', 'either', 'ejacul', 'ekiti', 'el', 'elabor', 'elanorofrohan', 'elat', 'elbow', 'elder', 'elect', 'electr', 'electro', 'electrocut', 'electron', 'electronicmus', 'electrostat', 'elem', 'element', 'elementari', 'eleph', 'elephantintheroom', 'eleskayle', 'elev', 'elgato', 'elgeotaofeeq', 'elielcruz', 'elig', 'elijah', 'elijahmallari', 'elimin', 'elit', 'elitesportsni', 'elitist', 'elizabeth', 'elk', 'elkhorn', 'ella', 'ellenfromnowon', 'elliott', 'elm', 'els', 'elsa', 'eltorroloco', 'elvi', 'elvia', 'elwood', 'elxn', 'em', 'emaaalay', 'email', 'embarrass', 'ember', 'embra', 'embrac', 'embroid', 'emerg', 'emergencymgtmag', 'emhub', 'emi', 'emiiliexirwin', 'emili', 'emilio', 'emiliorivera', 'emilymcfcheslop', 'eminem', 'emittin', 'emmachosenon', 'emmanuel', 'emmerdal', 'emmi', 'emo', 'emot', 'emp', 'empathi', 'emperor', 'empir', 'empirikgam', 'employe', 'empow', 'empti', 'emptyp', 'emsc', 'emsn', 'emt', 'en', 'enabl', 'enact', 'encaust', 'encor', 'encount', 'encourag', 'encyclopedia', 'end', 'endang', 'ender', 'endless', 'endors', 'endur', 'enem', 'enemi', 'energi', 'engag', 'engin', 'enginesh', 'england', 'english', 'engulf', 'engvaus', 'enhanc', 'enjoy', 'enorm', 'enough', 'enrout', 'enrt', 'ensu', 'ensur', 'entens', 'enter', 'enterpris', 'entershikari', 'entertain', 'entir', 'entiti', 'entitl', 'entranc', 'entrepreneur', 'enugu', 'enviroment', 'environ', 'environment', 'envis', 'envw', 'enzasbargain', 'eo', 'eovm', 'ep', 'epcotexplor', 'epic', 'epicent', 'epicentr', 'epicinsan', 'epidem', 'epilepsi', 'epilept', 'epiphan', 'episod', 'episodesofgg', 'epl', 'epsom', 'eq', 'equal', 'equat', 'equestrian', 'equip', 'er', 'era', 'eral', 'ercjmnea', 'erect', 'ergo', 'eri', 'eric', 'ericbulak', 'erictsunami', 'ermac', 'erod', 'err', 'error', 'errrr', 'erupt', 'erykah', 'es', 'escap', 'escort', 'esh', 'eshop', 'esn', 'esoter', 'esp', 'espargaro', 'especi', 'espn', 'esquireattir', 'essenceofm', 'est', 'establish', 'estat', 'esteem', 'estellasreveng', 'estim', 'et', 'etc', 'etcpb', 'ether', 'ethic', 'ethiopia', 'ethiopian', 'etisalat', 'etoff', 'etribun', 'eu', 'eudrylantiqua', 'eulog', 'eur', 'eurocrisi', 'europ', 'european', 'euroquak', 'eurostyl', 'eurotunnel', 'ev', 'evaaasr', 'evac', 'evacid', 'evacu', 'evad', 'evahanderek', 'evangelicalliarabbott', 'evanston', 'evansvill', 'eve', 'evebrigid', 'even', 'event', 'eventspalmbeach', 'eventu', 'ever', 'everest', 'everi', 'eversaf', 'everton', 'everwh', 'everyday', 'everyon', 'everyth', 'everythign', 'everytim', 'everywher', 'evid', 'evil', 'evildead', 'evilempir', 'evolv', 'ex', 'exacerb', 'exact', 'exagger', 'exam', 'examin', 'exampl', 'exassembl', 'exc', 'excel', 'except', 'exchang', 'excit', 'exclam', 'exclus', 'excus', 'exec', 'execut', 'exercis', 'exhaust', 'exhibit', 'exhibitor', 'exist', 'exit', 'exo', 'exofficio', 'exot', 'exp', 'expand', 'expans', 'expect', 'expens', 'experi', 'experienc', 'expert', 'expertwhin', 'expirehc', 'explain', 'explan', 'explicit', 'explicitpretti', 'explod', 'exploit', 'explor', 'explos', 'explosionproof', 'explosivespack', 'explosivesrig', 'expo', 'exponenti', 'export', 'expos', 'exposur', 'express', 'expressandstar', 'expressioncheek', 'exquisit', 'extend', 'extens', 'extent', 'extermin', 'extern', 'extinguish', 'extra', 'extrem', 'exum', 'ey', 'eye', 'eyebal', 'eyesss', 'eyewit', 'eytay', 'ezidigenocid', 'ezralev', 'f', 'fa', 'faan', 'fab', 'fabric', 'face', 'facebook', 'facemarvin', 'facil', 'fact', 'factcheck', 'faction', 'factor', 'factori', 'faculti', 'fade', 'fadelurk', 'fahlowcw', 'fail', 'failur', 'fain', 'faint', 'fair', 'fairfax', 'fairground', 'fairx', 'faith', 'fake', 'falcon', 'fall', 'fallaci', 'fallen', 'fallontonight', 'falmer', 'falphil', 'fals', 'fam', 'fame', 'famili', 'familiar', 'famin', 'faminedeath', 'faminemega', 'famous', 'fan', 'fanarmyfaceoff', 'fanbas', 'fanboy', 'fanfict', 'fangirl', 'fantasi', 'fantast', 'fantasticfour', 'fantosex', 'faq', 'far', 'farewel', 'fari', 'farm', 'farmer', 'farmr', 'faro', 'faroeisland', 'farrakhan', 'fart', 'fartanxieti', 'farther', 'fashion', 'fast', 'faster', 'fastest', 'fastpitch', 'fat', 'fatal', 'fatalitiesxray', 'fatalityus', 'fatalityuudlk', 'fatburn', 'fate', 'father', 'fatherofthre', 'fault', 'faux', 'fav', 'fave', 'favor', 'favori', 'favorit', 'favorita', 'favourit', 'fazerain', 'fb', 'fbi', 'fci', 'fcked', 'fco', 'fd', 'fdni', 'fdx', 'fear', 'feast', 'feat', 'featur', 'fecal', 'fed', 'feder', 'fedex', 'fedporn', 'fee', 'feed', 'feel', 'feelin', 'feelingman', 'feelslikefob', 'feet', 'feinstein', 'fel', 'fell', 'fella', 'felt', 'fema', 'femal', 'femalegilgamesh', 'feminist', 'femnism', 'fenc', 'fennovoima', 'fentanyl', 'fergi', 'ferguson', 'fernandez', 'ferri', 'ferrochrom', 'fest', 'festac', 'festiv', 'fettilootch', 'fevwarrior', 'few', 'fewmoretweet', 'fez', 'ffa', 'fforecast', 'ffvii', 'fgcu', 'fi', 'fiasco', 'fiascothat', 'fiat', 'fiction', 'fiddl', 'fieg', 'field', 'fieldwid', 'fierc', 'fieri', 'fifa', 'fife', 'fifth', 'fifti', 'fight', 'fighter', 'fighterdena', 'fightnop', 'figur', 'file', 'filipino', 'fill', 'film', 'filter', 'fin', 'final', 'finalis', 'financ', 'financi', 'financialreview', 'financialtim', 'find', 'fine', 'finem', 'finer', 'finger', 'finish', 'finn', 'finna', 'finnish', 'fiona', 'fionagilbert', 'fir', 'fire', 'fireand', 'firearm', 'firebal', 'firefight', 'firefightr', 'firefigth', 'fireman', 'firepow', 'firewis', 'firework', 'firey', 'firm', 'first', 'firstev', 'firstnat', 'firstpostin', 'fish', 'fist', 'fit', 'fitba', 'fittscott', 'fitz', 'fitzgerald', 'five', 'fix', 'fixingmatch', 'fizzi', 'fkhanag', 'fkn', 'flag', 'flake', 'flame', 'flamesn', 'flamethrow', 'flash', 'flashback', 'flat', 'flatback', 'flatlin', 'flatt', 'flatten', 'flavafraz', 'flavor', 'flavorchargedtea', 'flaw', 'flechada', 'fled', 'flee', 'fleek', 'fleet', 'fleetwood', 'flew', 'flex', 'flgovscott', 'fli', 'flickershowel', 'flight', 'flint', 'flip', 'float', 'floatin', 'flood', 'floodrainstorm', 'floodzon', 'floor', 'florenc', 'florid', 'florida', 'florin', 'flow', 'flower', 'floyd', 'fluid', 'flunki', 'flurri', 'flush', 'flynn', 'fm', 'fmk', 'fn', 'fnaf', 'fnaftalkmc', 'fnet', 'fo', 'focus', 'fog', 'foil', 'fold', 'folieacat', 'folk', 'follow', 'followback', 'followm', 'follownflnew', 'fomchenri', 'fond', 'font', 'food', 'foodscar', 'foodstand', 'fool', 'foolish', 'foot', 'footag', 'footbal', 'foothil', 'for', 'foragesecret', 'forb', 'forbath', 'forbid', 'forc', 'ford', 'forebod', 'forecast', 'forefath', 'foreign', 'foreman', 'forest', 'forestfir', 'forestservic', 'forev', 'forex', 'forfeit', 'forget', 'forgiv', 'forgiven', 'forgot', 'forgotten', 'form', 'format', 'former', 'formula', 'forreal', 'forrest', 'forrestmankin', 'forsur', 'forsyth', 'fort', 'forth', 'forthright', 'fortun', 'fortworth', 'forward', 'fossil', 'foster', 'fosterfloyd', 'foto', 'fotofil', 'fotoset', 'fought', 'foul', 'found', 'foundat', 'founder', 'four', 'fourth', 'fousey', 'fouseytub', 'fowler', 'fox', 'foxa', 'foxdebatequest', 'foxnew', 'foxnewsinsid', 'foxnewsvideo', 'foxsportscom', 'foxtrot', 'foxysiren', 'fr', 'fraction', 'fragil', 'fragranc', 'frail', 'frame', 'fran', 'franc', 'franci', 'francisunderwood', 'frank', 'franklin', 'frat', 'fraud', 'frautrapani', 'freak', 'freaki', 'freakiest', 'freddiedebo', 'fredolsencruis', 'fredosantana', 'free', 'freebesieg', 'freed', 'freediscountbk', 'freedom', 'freefrom', 'freefromwolv', 'freegeezi', 'freeman', 'freemurphi', 'freesikhpoliticalprisnor', 'freespeech', 'freestyl', 'freeview', 'freeway', 'freez', 'freiza', 'french', 'frenzi', 'frequent', 'fresh', 'freshman', 'fresno', 'freya', 'fri', 'frickin', 'friday', 'friend', 'friendship', 'friendshipyou', 'friggin', 'frighten', 'frobeusn', 'frofrofro', 'frog', 'from', 'front', 'frontin', 'frontlin', 'frontpag', 'frost', 'frothi', 'froze', 'frozen', 'fruit', 'frustrat', 'frvrgrate', 'fsloth', 'ft', 'fte', 'ftsn', 'ftsnnewsdesk', 'fu', 'fuck', 'fuckboy', 'fuckfacewineisdumbcom', 'fuckin', 'fucktard', 'fuckyeahcarey', 'fuel', 'fuelga', 'fujiwara', 'fukushima', 'fukushimatepco', 'fulfil', 'full', 'fullblown', 'fulli', 'fullscreen', 'fun', 'function', 'fund', 'fundament', 'fundrais', 'funer', 'funkflex', 'funko', 'funkylilshack', 'funni', 'funniest', 'funnydadcoach', 'funtenna', 'funtim', 'fur', 'furi', 'furiosoxv', 'furious', 'further', 'furtrix', 'fusion', 'futur', 'fvck', 'fwi', 'fwo', 'fx', 'fyi', 'g', 'ga', 'gaabyx', 'gabon', 'gadget', 'gaelit', 'gag', 'gaia', 'gailsimon', 'gain', 'gainesvill', 'galact', 'galaxi', 'galleria', 'gallipoli', 'galloway', 'gallup', 'galvnew', 'gambia', 'gambit', 'game', 'gameday', 'gamefe', 'gameinsight', 'gameplay', 'gamer', 'gamerg', 'gamma', 'gander', 'gang', 'gangstermail', 'gansey', 'ganseyman', 'gape', 'garbag', 'garbagebot', 'gard', 'garden', 'garfield', 'gari', 'garza', 'gas', 'gasp', 'gastric', 'gate', 'gateau', 'gave', 'gawx', 'gay', 'gaynor', 'gaza', 'gazebo', 'gazett', 'gba', 'gbay', 'gbbo', 'gbonyin', 'gd', 'gear', 'gecko', 'geekapocalyps', 'gel', 'geller', 'gem', 'gemini', 'gemmahentsch', 'gemmast', 'gen', 'gene', 'general', 'generalnew', 'generat', 'generic', 'geneva', 'genisi', 'genit', 'genius', 'genocid', 'gentl', 'genuin', 'geometr', 'georg', 'georgecol', 'georgefost', 'georgegalloway', 'georgia', 'georgina', 'gerenciatodo', 'germ', 'german', 'germani', 'gerryconnolli', 'ges', 'gesserit', 'gestur', 'get', 'gettin', 'gettinglost', 'geyser', 'gf', 'gfe', 'gfrost', 'gfzs', 'ggindependencmessag', 'ggkeeponrockin', 'ghe', 'ghetto', 'ghost', 'ghostoftheav', 'ghostwrit', 'ghoul', 'ghul', 'gi', 'gianni', 'giant', 'giantgiantsound', 'gibraltar', 'gideonstrumpet', 'gif', 'gift', 'gig', 'gigagil', 'giggl', 'gilbert', 'gilderoy', 'gilmanrock', 'gilmoreguysshow', 'gin', 'ginga', 'gio', 'giorgio', 'girl', 'girlfriend', 'girlsgirlsboy', 'girlthatsrio', 'gisell', 'give', 'given', 'givingevid', 'glad', 'glander', 'glass', 'glassanim', 'glenn', 'glide', 'glimps', 'glink', 'global', 'globalwarm', 'globe', 'globiinclus', 'gloomi', 'glori', 'gloria', 'gloriavelez', 'glorious', 'gloucest', 'glue', 'gm', 'gmmbc', 'gms', 'gmt', 'gmtti', 'gn', 'gns', 'gnwt', 'go', 'goal', 'goat', 'gobsmackeddevast', 'god', 'godofmischief', 'godsfirstson', 'godslov', 'goe', 'gofundm', 'gog', 'goggl', 'gohan', 'goin', 'gokitgo', 'gold', 'golf', 'golfbal', 'gon', 'gone', 'goner', 'good', 'goodby', 'goodel', 'goodlookrun', 'goodread', 'goof', 'googl', 'goonc', 'goonda', 'gooneratheist', 'goooooooaaaaaal', 'goooooooo', 'gop', 'gopdeb', 'gordonr', 'gore', 'gorgeous', 'gorpuazikinak', 'gosh', 'goshen', 'gostei', 'got', 'gotham', 'gotten', 'gotthard', 'gov', 'govegan', 'govern', 'governor', 'govjaynixon', 'govt', 'govwalk', 'goz', 'gpaulista', 'gpm', 'gps', 'gpsbase', 'gr', 'grab', 'grabakahitman', 'grabber', 'grace', 'grade', 'grahamwp', 'grain', 'grand', 'grandad', 'grandeur', 'grandfath', 'grandmoth', 'grantgordi', 'granttaman', 'grape', 'graph', 'grass', 'grate', 'gratia', 'grave', 'gravel', 'graveyard', 'gravi', 'graviti', 'gravitymovi', 'gray', 'graysondolan', 'graywarden', 'graze', 'greasi', 'great', 'greatbritishbakeoff', 'greater', 'greateranglia', 'greatest', 'greec', 'greedi', 'greek', 'green', 'greenbuildermag', 'greenharvard', 'greenlacey', 'greenway', 'greer', 'greet', 'greg', 'greggmair', 'grego', 'gregori', 'greink', 'grenad', 'grew', 'grey', 'greyjoy', 'grid', 'gridlock', 'grief', 'griffin', 'grill', 'grimrail', 'grindhous', 'gritti', 'grizzli', 'groan', 'groceri', 'grogparti', 'groin', 'groom', 'gross', 'ground', 'group', 'grouponuk', 'grove', 'grow', 'growingupblack', 'growingupincolorado', 'growingupspoil', 'grown', 'growth', 'grtvnew', 'grub', 'grudg', 'grummz', 'grumpout', 'gt', 'gta', 'gtas', 'gtfo', 'gtgt', 'gtgtgt', 'gtgtthis', 'gthanov', 'gtii', 'gtlt', 'gtmainten', 'gtpari', 'gtserver', 'gtxrwm', 'guabxfv', 'guag', 'guarante', 'guard', 'guardian', 'guardrail', 'guatemala', 'guatemalan', 'gucci', 'guess', 'guest', 'guid', 'guidofawk', 'guild', 'guillermo', 'guilti', 'guiltygearxxacp', 'guimara', 'gujaratriot', 'gulfport', 'gull', 'gum', 'gummi', 'gun', 'gunfail', 'gunfight', 'gunfir', 'gunman', 'gunmen', 'gunnersfan', 'gunsens', 'gunshot', 'guoqiang', 'gurmeetramrahim', 'gust', 'gusti', 'gusto', 'gut', 'guy', 'guyreginald', 'gv', 'gwfraze', 'gym', 'gymflow', 'gymtim', 'gyp', 'gypsi', 'h', 'ha', 'habit', 'hack', 'hacker', 'had', 'hadnt', 'hagerstown', 'hah', 'haha', 'hahah', 'hahaha', 'hahahah', 'hahahaha', 'hai', 'hail', 'haildamag', 'hailstorm', 'hailstormwindstorm', 'hailth', 'hailyycstorm', 'hailzel', 'hair', 'hairbut', 'hairdryer', 'hairi', 'haiyan', 'hajihunt', 'hakogaku', 'half', 'halfderail', 'halfnak', 'halfrail', 'halfway', 'halifax', 'hall', 'halljh', 'halloikbenwil', 'halsey', 'halt', 'ham', 'hama', 'hamayun', 'hamburg', 'hamilton', 'hamlet', 'hamper', 'hampshir', 'hamptonroadsform', 'hamstr', 'hana', 'hand', 'handbag', 'handi', 'handicap', 'handl', 'handsid', 'handsom', 'hang', 'hangin', 'hangout', 'hank', 'hanna', 'hannabrooksi', 'hannah', 'hannaph', 'hanneman', 'hap', 'happen', 'happi', 'happili', 'happyhour', 'har', 'harakiri', 'haram', 'harass', 'harbhajansingh', 'harbor', 'hard', 'harda', 'hardbal', 'hardcor', 'hardcov', 'harder', 'hardest', 'hardlin', 'hardsid', 'harlan', 'harm', 'harman', 'harmkid', 'harmoni', 'harper', 'harperanetflixshow', 'harri', 'harrisgl', 'harrybecar', 'harsh', 'harvardu', 'harvest', 'harwich', 'has', 'hasbro', 'hashd', 'hashimoto', 'hashtag', 'hashtagteaclub', 'hasnt', 'hassanrouhani', 'hat', 'hatcap', 'hatchet', 'hatchetwield', 'hate', 'hateviol', 'hatman', 'hatr', 'haunt', 'hav', 'have', 'havent', 'havnt', 'hawaii', 'hay', 'hayden', 'haydnexist', 'hazard', 'hazarddanger', 'hazardsdisast', 'hazardu', 'hazelannmac', 'hazmat', 'hcg', 'hcsm', 'hd', 'he', 'head', 'headlin', 'headphon', 'headquart', 'headset', 'heal', 'health', 'healthandsafeti', 'healthcar', 'healthi', 'healthweek', 'hear', 'heard', 'hearitfrompatti', 'heart', 'heartach', 'heartbeat', 'heartdiseas', 'hearth', 'hearthston', 'heartland', 'heartless', 'heartwarm', 'heat', 'heather', 'heatwav', 'heaven', 'heavi', 'heavybag', 'heavydirtysoul', 'heavyweight', 'hebron', 'hebrooon', 'hector', 'hed', 'heebsterrr', 'heel', 'heheh', 'height', 'heir', 'held', 'helen', 'heli', 'helicopt', 'helio', 'hell', 'hella', 'heller', 'hellfir', 'hellfireev', 'hello', 'hellonwheelsamc', 'hellotybeeren', 'helm', 'helmet', 'help', 'helphors', 'helplin', 'helsinki', 'hem', 'hempoil', 'hendi', 'hendrick', 'hendrixonfir', 'henley', 'her', 'here', 'heredelug', 'heregtcnn', 'herei', 'hereticofeth', 'herman', 'hermancranston', 'hermitag', 'hero', 'heroin', 'herring', 'herself', 'hersvp', 'hes', 'hess', 'hexagon', 'hey', 'heyimbeeyt', 'heyitsepark', 'heyot', 'heyseto', 'heysundown', 'heywood', 'hfxstanfield', 'hgf', 'hhahaha', 'hhbu', 'hhello', 'hi', 'hiatt', 'hibern', 'hickson', 'hicksvill', 'hidden', 'hide', 'hideous', 'hienshi', 'hieroglyph', 'hif', 'high', 'higher', 'highest', 'highland', 'highqualitybird', 'highris', 'highsmith', 'hightech', 'highway', 'hijack', 'hijackerturnedsattutor', 'hijink', 'hikagezero', 'hike', 'hiker', 'hil', 'hilari', 'hilda', 'hill', 'hillari', 'hillarymass', 'hillsid', 'hillymountain', 'hilversum', 'him', 'himalaya', 'himeruisu', 'himself', 'hinata', 'hinatobot', 'hindsight', 'hindustan', 'hint', 'hintdevast', 'hinterestin', 'hinton', 'hip', 'hiphop', 'hipster', 'hire', 'hirochii', 'hiroshima', 'hiroshimanagasaki', 'hiroshimas', 'his', 'hisao', 'histor', 'histori', 'historicalmag', 'historicchurch', 'hit', 'hitandrun', 'hitch', 'hitchhik', 'hitter', 'hlongwan', 'hlportal', 'hm', 'hmm', 'hmmthis', 'hmu', 'ho', 'hoax', 'hobbi', 'hobbit', 'hobo', 'hoc', 'hockey', 'hoe', 'hoffman', 'hog', 'hogan', 'hoist', 'hoke', 'hold', 'holdin', 'hole', 'holi', 'holiday', 'holist', 'holland', 'holli', 'hollyorang', 'hollywood', 'holm', 'holmgren', 'holodomor', 'holtz', 'hom', 'home', 'homeabc', 'homealon', 'homebuy', 'homecom', 'homefolk', 'homeimprov', 'homeland', 'homeless', 'homemad', 'homeown', 'homepag', 'homer', 'homessponsorship', 'hometown', 'hometownglori', 'homi', 'homukami', 'hond', 'honda', 'honduran', 'honest', 'honey', 'honor', 'hooligan', 'hop', 'hope', 'horizon', 'horribl', 'horrif', 'horror', 'hors', 'hospit', 'host', 'hostag', 'hot', 'hotel', 'hour', 'hous', 'household', 'houston', 'how', 'howev', 'hr', 'huffman', 'huge', 'hugh', 'huh', 'human', 'humanconsumpt', 'humaza', 'humid', 'hundr', 'hunger', 'hungri', 'hunk', 'hunt', 'hunter', 'hurri', 'hurrican', 'hurt', 'hw', 'hwi', 'hwo', 'hybrid', 'hyderabad', 'hype', 'hypocrisi', 'hysteria', 'i', 'ian', 'ianhellfir', 'ibooklov', 'ice', 'icemoon', 'iclown', 'id', 'idc', 'idea', 'identitytheft', 'idfir', 'idi', 'idiot', 'idk', 'idol', 'idp', 'ie', 'if', 'ig', 'iger', 'ignit', 'ignor', 'ihhen', 'ii', 'iii', 'ik', 'ill', 'illeg', 'illinoi', 'illus', 'illustr', 'im', 'ima', 'imag', 'imagin', 'imdb', 'immedi', 'impact', 'imperfect', 'import', 'imposs', 'impress', 'imprison', 'improv', 'impuls', 'in', 'inc', 'incas', 'inch', 'incid', 'incit', 'includ', 'increas', 'incred', 'inde', 'independ', 'indi', 'india', 'indian', 'indiannew', 'indiffer', 'individu', 'indonesia', 'indoor', 'industri', 'inec', 'inevit', 'infiltr', 'infin', 'influenc', 'info', 'infoord', 'inform', 'infosec', 'inj', 'injur', 'injuri', 'injuryi', 'ink', 'inner', 'inning', 'innoc', 'insan', 'insid', 'inspect', 'inspir', 'inst', 'instagram', 'instant', 'instead', 'institut', 'instruct', 'insult', 'insur', 'integr', 'intend', 'intens', 'intensifi', 'interest', 'intern', 'internet', 'intersect', 'interst', 'interview', 'into', 'intrigu', 'introduc', 'inund', 'invalid', 'invas', 'invest', 'investig', 'invit', 'invoic', 'involv', 'ipad', 'iphon', 'ir', 'iran', 'irand', 'iranian', 'iraq', 'iraqi', 'ireland', 'iron', 'ironi', 'irvin', 'is', 'isi', 'isil', 'islam', 'island', 'isnt', 'isra', 'israel', 'issu', 'it', 'itali', 'italian', 'item', 'itll', 'itself', 'itun', 'itunesmus', 'ive', 'j', 'ja', 'jack', 'jackson', 'jacksonvill', 'jacqu', 'jacqui', 'jail', 'jake', 'jam', 'jamaica', 'jamaicaplain', 'jame', 'jamesmelvill', 'jan', 'janaq', 'japan', 'japanes', 'japin', 'japton', 'jasmin', 'jax', 'jay', 'jazz', 'jdabe', 'jealous', 'jean', 'jeb', 'jedi', 'jeep', 'jeez', 'jeff', 'jeffersondori', 'jeffpalm', 'jengriffinfnc', 'jenna', 'jennasjem', 'jennellensbb', 'jenner', 'jennif', 'jenniferarri', 'jeremydun', 'jerkfac', 'jeromekem', 'jerri', 'jersey', 'jerusalem', 'jess', 'jessicastclair', 'jessienovoa', 'jessienovoarp', 'jesus', 'jesuss', 'jet', 'jetengin', 'jetixrestor', 'jetstar', 'jew', 'jewel', 'jewelri', 'jewhaditm', 'jewish', 'jewishpress', 'jez', 'jfb', 'jfc', 'jhaustin', 'jhmnye', 'jiahahahha', 'jihad', 'jim', 'jimin', 'jimmi', 'jimmyfallon', 'jimskiv', 'jishin', 'jitsu', 'jitter', 'jiwonl', 'jj', 'jjdirti', 'jkl', 'jlabuz', 'jmastrodonato', 'jmcwrite', 'job', 'jocelyn', 'joe', 'joedawg', 'joel', 'joestrong', 'joeysterl', 'johannesburg', 'john', 'johndcgow', 'johnejefferson', 'johnfromcranb', 'johnfugelsang', 'johngreen', 'johnjcampbel', 'johnni', 'johnson', 'join', 'joint', 'joke', 'jokin', 'joli', 'jon', 'jona', 'jonathan', 'jonathanferrel', 'jone', 'jonesboro', 'joonma', 'jordan', 'journal', 'journalist', 'journey', 'joy', 'jst', 'judg', 'juic', 'juli', 'julian', 'juliedicaro', 'jump', 'june', 'jupit', 'just', 'justic', 'justifi', 'justin', 'justinbieb', 'k', 'kaduna', 'kall', 'kany', 'karachi', 'karma', 'karymski', 'katrina', 'kca', 'ke', 'keegan', 'keep', 'kelli', 'kenya', 'kept', 'kerri', 'kerricktri', 'key', 'kg', 'kgb', 'kh', 'khadidon', 'khaki', 'khalidkkazi', 'khan', 'khqa', 'khulna', 'khuzdar', 'ki', 'kia', 'kick', 'kid', 'kiddi', 'kiddo', 'kidicalmassdc', 'kidnap', 'kidnapgafp', 'kidney', 'kidscompani', 'kidstheseday', 'kierannicholson', 'kiernan', 'kiev', 'kike', 'kill', 'killeddisplac', 'killer', 'killin', 'kimkardashian', 'kind', 'kinda', 'kindermorgan', 'kindersley', 'kindl', 'kindlecountdown', 'kindof', 'kinesiolog', 'kinet', 'king', 'kingdom', 'kinggerudo', 'kingmyth', 'kingnaruto', 'kinkyconnor', 'kirafrog', 'kircut', 'kiro', 'kisii', 'kiss', 'kit', 'kitana', 'kith', 'kitten', 'kiwikaryn', 'kjforday', 'klarajoelsson', 'klavierstuk', 'klimkin', 'klitschko', 'klondik', 'km', 'kmactwn', 'kml', 'knee', 'knew', 'knife', 'knight', 'knive', 'kno', 'knob', 'knobhead', 'knock', 'knockout', 'know', 'knowital', 'knowlddg', 'knowledg', 'known', 'knox', 'knoxvill', 'knw', 'kodak', 'kodi', 'kodiak', 'koin', 'kombat', 'kombatfan', 'komen', 'komo', 'kontrol', 'kook', 'kopiteluk', 'korea', 'korean', 'korzhonov', 'kosciusko', 'kosher', 'kotaweath', 'kou', 'kow', 'kp', 'kpcc', 'kraft', 'krefeld', 'kristenkoin', 'kristindavi', 'kristyleemus', 'kro', 'ks', 'ksbynew', 'kshllcenterpri', 'ktfounder', 'kttape', 'kuala', 'kunalkapoor', 'kung', 'kunstler', 'kurd', 'kurdish', 'kurdistan', 'kurokobot', 'kurtkamka', 'kurtschlicht', 'kus', 'kushwush', 'kuualohax', 'kuwait', 'kwaaaaadead', 'kwislo', 'kwwwkwwwk', 'ky', 'kyee', 'kyle', 'kylekrenek', 'kyrikoni', 'l', 'la', 'lab', 'label', 'laboratori', 'lace', 'lack', 'laden', 'ladi', 'ladin', 'ladyfleur', 'lafayett', 'lag', 'laid', 'laighign', 'lake', 'lakh', 'lalaloopsi', 'lamarcus', 'lamb', 'lame', 'lamha', 'lamp', 'lan', 'lanc', 'land', 'landfal', 'landi', 'landolina', 'landown', 'landscap', 'landsli', 'landslid', 'lane', 'lanford', 'langata', 'langley', 'langtre', 'languag', 'lanjut', 'lansdown', 'laoi', 'lap', 'lapaka', 'lapdanc', 'laphamsquart', 'larg', 'larger', 'largest', 'las', 'lash', 'lasiren', 'lassic', 'last', 'lasting', 'late', 'latechwatch', 'later', 'laterim', 'latest', 'latestnew', 'latim', 'latin', 'latina', 'latino', 'latinoand', 'lattic', 'laud', 'laudner', 'laugh', 'laughtrad', 'launch', 'laundri', 'laura', 'lauradeholanda', 'laurathorn', 'lauren', 'laurenjauregui', 'laurenmil', 'lava', 'lavapixcom', 'lavenderpoetrycaf', 'law', 'lawfulsurvivor', 'lawn', 'lawrenc', 'lawsonoffici', 'lawsuit', 'lawton', 'lay', 'laylovetournay', 'layout', 'lbr', 'lcb', 'lcc', 'ldnrterrorist', 'ldrago', 'lds', 'lead', 'leader', 'leadership', 'leaf', 'leagu', 'leak', 'lean', 'leandotorg', 'learn', 'learni', 'leashless', 'least', 'leather', 'leav', 'led', 'lee', 'leed', 'leedsroug', 'leedstraif', 'leejasp', 'leelanau', 'leezi', 'left', 'lefti', 'leftlean', 'leftwich', 'leg', 'legaci', 'legacyofthesith', 'legal', 'legend', 'legendari', 'legio', 'legion', 'legionna', 'legionnair', 'legionnairesdiseas', 'legisl', 'legit', 'legna', 'lego', 'legwalk', 'leh', 'leiaorganasolo', 'leisur', 'leitchfield', 'lemairele', 'lemon', 'lemonad', 'len', 'lender', 'length', 'lenkaiswaifu', 'lennlen', 'lennonparham', 'lennox', 'leo', 'leoblakecart', 'leon', 'leonalewi', 'leonardvill', 'leprosi', 'ler', 'lesbian', 'lesleychappell', 'lesleymariie', 'lesnarcena', 'lesotho', 'less', 'lesson', 'lest', 'let', 'lethal', 'lethbridg', 'letter', 'level', 'levi', 'lexi', 'lexipurdue', 'lez', 'lga', 'lgbt', 'lgl', 'lglorg', 'lgm', 'lhh', 'liabil', 'liabl', 'liananovoa', 'lib', 'libbi', 'liber', 'libertarianluk', 'liberti', 'libertybel', 'librari', 'libraryeliza', 'libya', 'libyan', 'licens', 'lickin', 'lie', 'lieu', 'life', 'lifeaintfairkid', 'lifeguard', 'lifehack', 'lifelettercaf', 'lifelin', 'lifereboot', 'lifestyl', 'lifethreaten', 'lifetim', 'lift', 'light', 'lightbulb', 'lighten', 'lighter', 'lightman', 'lightn', 'lightningcaus', 'lightningooc', 'lightningstrik', 'lightningwolf', 'lightseraph', 'liguist', 'like', 'likeavillasboa', 'liken', 'lil', 'lili', 'lilitan', 'lilithsaintcrow', 'lilourri', 'lilrees', 'lim', 'limeston', 'limit', 'limpar', 'lincoln', 'lind', 'lindasocvat', 'linden', 'lindenow', 'lindsay', 'line', 'linerless', 'link', 'linkedin', 'linkuri', 'lion', 'lionel', 'lip', 'liqd', 'liquid', 'lisavanderpump', 'lisowski', 'lisp', 'list', 'listen', 'listenbuy', 'listenl', 'listeria', 'listia', 'lit', 'litani', 'lite', 'liter', 'literarycak', 'lith', 'litter', 'littl', 'littlebitofbass', 'littledeath', 'littlewomenla', 'liv', 'live', 'liveact', 'liveleak', 'liveleakfun', 'livelihood', 'livemint', 'liveonk', 'liveonkbak', 'liveonlin', 'liveonstream', 'liver', 'liverpool', 'livesci', 'liveworkshop', 'livingsaf', 'liy', 'lizard', 'lizbon', 'lizhphoto', 'lizzi', 'll', 'llegast', 'llf', 'llll', 'llook', 'lloyd', 'lmao', 'lmaovv', 'lmfao', 'lmfaooo', 'lmfaoooo', 'lncolyellowston', 'lnp', 'load', 'loan', 'lobbi', 'local', 'localarsonist', 'locat', 'lock', 'lockdown', 'locker', 'lockewiggin', 'locksmith', 'locksmithingart', 'locomot', 'locust', 'lodisilverado', 'log', 'logan', 'logic', 'logist', 'logo', 'loki', 'lol', 'lolatjesus', 'lolgop', 'lolim', 'lolla', 'lollapalooza', 'lollyknick', 'lolo', 'lolol', 'london', 'londonfir', 'lone', 'lonepin', 'loner', 'lonewolffur', 'long', 'longer', 'longest', 'longfoxysiren', 'longlast', 'longll', 'longterm', 'look', 'lookg', 'lookss', 'looney', 'loop', 'loos', 'looser', 'loot', 'looter', 'lopez', 'lopezandthelion', 'lord', 'lordbrathwait', 'lordofbetray', 'loretta', 'lorr', 'lorri', 'los', 'losangel', 'losangelestim', 'losdelsonido', 'lose', 'loseit', 'loser', 'loss', 'lost', 'lot', 'lotg', 'lou', 'loud', 'louderth', 'loui', 'louistomlinson', 'lous', 'love', 'lovedup', 'lovefood', 'loveislov', 'lovelylikelaura', 'lovemydentist', 'lovemywif', 'lover', 'low', 'lower', 'lowkey', 'lowli', 'lownd', 'lpdkl', 'lpunbiggiewrap', 'lrefer', 'lstation', 'lt', 'lta', 'ltbgtbakeltbgt', 'ltbgtchocolateltbgt', 'ltgaspgt', 'ltlt', 'ltmeltdown', 'ltpgtan', 'ltz', 'lubbock', 'lubric', 'luca', 'luchaunderground', 'lucif', 'luck', 'lucki', 'lucymayoffici', 'lucypalladino', 'luhan', 'lui', 'luiz', 'luka', 'luke', 'lukewinki', 'lulgzimbestpict', 'lulu', 'lumbar', 'lume', 'lumpur', 'lunch', 'lung', 'lungcanc', 'lure', 'lurkin', 'lv', 'lvg', 'lwb', 'lwilliam', 'lyme', 'lynch', 'lynchburg', 'lyndon', 'lyon', 'lyric', 'lyrium', 'lzk', 'lzktjnox', 'm', 'ma', 'maaaaan', 'maatmhi', 'mac', 'maca', 'macabrelolita', 'macbreck', 'machidadid', 'machin', 'machismo', 'macia', 'mad', 'madara', 'maddddd', 'maddi', 'made', 'madhya', 'madinah', 'madison', 'madisonpa', 'madmakni', 'mafireem', 'mag', 'magazin', 'mageavexi', 'magginoodl', 'magic', 'magichairbump', 'magist', 'magner', 'magnet', 'magnetract', 'magnific', 'magnitud', 'magnum', 'magog', 'magu', 'maid', 'maiga', 'mail', 'mailonlin', 'main', 'mainlin', 'mainstag', 'maintain', 'mainten', 'maj', 'majesti', 'major', 'make', 'maketh', 'makewaterwork', 'malabamiandson', 'malaysia', 'malaysiaairlin', 'malaysian', 'male', 'mall', 'mallord', 'malta', 'mama', 'mamata', 'man', 'manag', 'manchest', 'manchesterlit', 'mandat', 'mandatori', 'mandela', 'mandem', 'mane', 'manga', 'mango', 'manhood', 'mani', 'mania', 'manifest', 'manitou', 'mankind', 'manmad', 'mannequin', 'manor', 'mansehra', 'manserv', 'mansion', 'manslaught', 'manual', 'manuel', 'manufactur', 'manutd', 'map', 'mapl', 'mapmyrun', 'mar', 'maratha', 'march', 'marchol', 'marcoar', 'marg', 'marginoferror', 'mari', 'maria', 'mariaf', 'mariah', 'mariahcarey', 'marian', 'mariasherwood', 'marijuana', 'marilyn', 'marin', 'mariomaraczi', 'mark', 'markarg', 'marker', 'market', 'marketforc', 'marketwatch', 'markkriegsman', 'marksmaponyan', 'markwschaef', 'marlen', 'marley', 'marleyknysh', 'marlon', 'marquei', 'marquez', 'marr', 'marri', 'marshal', 'martial', 'martinmj', 'martsunmushroom', 'martynwait', 'martyr', 'marvel', 'marxism', 'maryland', 'marynmck', 'mascara', 'mask', 'masochisticmag', 'masonit', 'mass', 'massacr', 'massiv', 'massmurder', 'master', 'masterchef', 'masterpiec', 'mat', 'matakomilk', 'match', 'mate', 'mateo', 'materi', 'math', 'mathewisangri', 'matia', 'matt', 'mattbez', 'mattburgen', 'mattcohen', 'matter', 'matthew', 'mattkroschel', 'mattmosley', 'mattson', 'mattytalk', 'maud', 'maui', 'mav', 'max', 'maxi', 'maximum', 'maxsi', 'may', 'mayan', 'mayb', 'mayflow', 'mayhem', 'mayonnais', 'mayor', 'mayoroflondon', 'mayweath', 'mazda', 'mb', 'mba', 'mbataweel', 'mc', 'mccain', 'mccainenl', 'mcclain', 'mccormick', 'mcdonald', 'mcfadden', 'mcfaul', 'mcgsecur', 'mcgwire', 'mcilroy', 'mclaughlin', 'mcmahon', 'mcnabbych', 'mcpherson', 'mcr', 'md', 'mdt', 'me', 'mead', 'meaganerd', 'meal', 'mean', 'meaningless', 'meansit', 'meant', 'meanwhil', 'measl', 'measur', 'meat', 'meatlov', 'mebeat', 'mechamacgyv', 'mechan', 'mechanicsburg', 'med', 'medal', 'meddl', 'media', 'mediaguido', 'median', 'medic', 'medicin', 'mediev', 'medinah', 'mediocr', 'medit', 'meditationbymsg', 'mediterran', 'mediterranean', 'medium', 'medusa', 'meek', 'meekmil', 'meellltt', 'meerkat', 'meet', 'meetkakarotto', 'meg', 'mega', 'megadeth', 'megadethsymphoni', 'megan', 'meganbe', 'megancoopi', 'megaquak', 'megatronafc', 'megynkelli', 'mei', 'meinlcymb', 'melani', 'melt', 'meltdown', 'meltdowni', 'member', 'meme', 'memebait', 'memenaar', 'memor', 'memori', 'memphi', 'men', 'menahem', 'mencius', 'menswear', 'mental', 'mentaltwitt', 'mention', 'meow', 'mercado', 'mercenari', 'merci', 'mercuri', 'mere', 'merg', 'merl', 'mesew', 'mesh', 'meshnewsdesk', 'mesick', 'mesmer', 'meson', 'mess', 'messag', 'messeng', 'messeymetoo', 'messi', 'messiah', 'met', 'metal', 'metallica', 'metaphor', 'metastat', 'meteoearth', 'metepec', 'meter', 'method', 'metlif', 'metric', 'metro', 'metrobus', 'metrofmtalk', 'metropoli', 'metrotown', 'meturn', 'mexico', 'mf', 'mfalcon', 'mfi', 'mfrwauthor', 'mfs', 'mgm', 'mgr', 'mgs', 'mgtab', 'mh', 'mht', 'mhtw', 'mi', 'mia', 'miami', 'mic', 'michael', 'michaelgbaron', 'michaelwestbiz', 'michel', 'michelebachman', 'michelenfpa', 'michelleelll', 'michigan', 'mickinyman', 'micom', 'micountryhick', 'microb', 'microchip', 'microlight', 'microphon', 'microsoft', 'microwav', 'mid', 'midday', 'middl', 'middleag', 'middleeastey', 'mideast', 'midfield', 'midg', 'midget', 'midmorn', 'midnight', 'mido', 'midsouth', 'midst', 'midsumm', 'midtown', 'midweek', 'midwest', 'might', 'migrant', 'migrat', 'mii', 'mike', 'mikeparractor', 'mile', 'mileena', 'mili', 'milioooo', 'milit', 'milita', 'militar', 'militari', 'militarydotcom', 'milk', 'milkshak', 'mill', 'millcityio', 'millennium', 'million', 'miln', 'milwauke', 'min', 'mina', 'minaj', 'minamisoma', 'mind', 'mindblow', 'mindless', 'mindmischief', 'mine', 'minecraft', 'mineenjoybab', 'miner', 'mingo', 'minhazmerch', 'mini', 'miniatur', 'minimehh', 'minimum', 'minion', 'minist', 'ministersay', 'ministri', 'mino', 'minor', 'minus', 'minuscul', 'minut', 'minutemix', 'minutia', 'mipasho', 'miprv', 'mir', 'miracl', 'mirad', 'mirag', 'mirkwood', 'mirmanda', 'mirror', 'mirrorladi', 'miscalcul', 'misdirect', 'miseri', 'misfit', 'misfitrar', 'misfortunebut', 'misguid', 'misha', 'mishacollin', 'mishap', 'misl', 'miss', 'missambear', 'misscharleywebb', 'missdaoh', 'misshomasttopa', 'missi', 'missil', 'mission', 'missionhil', 'mississauga', 'mississippi', 'missjadebrown', 'missleylaha', 'missouri', 'misstep', 'mistak', 'mistaken', 'misti', 'mistreat', 'mistress', 'mistresspip', 'mistrust', 'mitig', 'mitt', 'mix', 'mixtap', 'miyagi', 'mizzou', 'mk', 'mkayla', 'mkx', 'ml', 'mlb', 'mlm', 'mln', 'mlstransfer', 'mm', 'mma', 'mmda', 'mmfa', 'mmmm', 'mn', 'mnpdnashvill', 'mo', 'moan', 'mobil', 'moblin', 'mochichiiiii', 'mock', 'mockingpanem', 'mod', 'mode', 'model', 'modelbubbl', 'moder', 'modern', 'modest', 'modestmouseremix', 'modi', 'modibo', 'modifi', 'modiministri', 'modoc', 'moe', 'mofanon', 'moferadio', 'mofo', 'moham', 'moist', 'mold', 'mole', 'molecular', 'moli', 'molloy', 'mollythetanz', 'mom', 'momdi', 'moment', 'mommi', 'mommyisbomb', 'momneedscoffe', 'mon', 'monarchi', 'monday', 'monetari', 'money', 'monica', 'monitor', 'monkey', 'monogram', 'monologu', 'monopol', 'monoton', 'monro', 'monsoon', 'monster', 'monstros', 'montalbanoni', 'montana', 'montego', 'montetjwitt', 'montgomeri', 'month', 'monthold', 'montroseband', 'monwabisi', 'mood', 'moon', 'moonbeam', 'moor', 'mooresvill', 'mop', 'moral', 'moralityzion', 'morbid', 'morbidmovi', 'more', 'morebut', 'morehous', 'morel', 'moreland', 'morethan', 'morevoic', 'morgan', 'morganlawgrp', 'mormon', 'morn', 'morningi', 'morningjo', 'morocco', 'moron', 'mortal', 'mortar', 'morti', 'mortifi', 'moscow', 'moscowghost', 'mosebi', 'mosh', 'moshav', 'mosqu', 'mosquito', 'most', 'moth', 'mother', 'motion', 'motiv', 'motley', 'motogp', 'motor', 'motorcraft', 'motorcycl', 'motorcyclist', 'motorist', 'mould', 'mount', 'mountain', 'mountwario', 'mourn', 'mous', 'mouss', 'mouth', 'move', 'moveit', 'movement', 'movi', 'movietheatr', 'moyo', 'mp', 'mpc', 'mper', 'mph', 'mprnew', 'mr', 'mraamirjavaid', 'mraffleck', 'mrc', 'mre', 'mrmikeeaton', 'mrrobinson', 'mrsbinker', 'mrw', 'ms', 'msf', 'msgdo', 'msmiggi', 'msmigot', 'mt', 'mtgrotto', 'mthe', 'mtr', 'mtsalert', 'mtvhottest', 'muaytai', 'muazimusprim', 'much', 'mud', 'mudslid', 'mueller', 'mufc', 'muffl', 'muhamadjab', 'mukilteo', 'mulberri', 'mullah', 'multi', 'multicasualti', 'multidimension', 'multipl', 'multiplay', 'multiraci', 'mum', 'mumbai', 'mumbairiot', 'mumbaitim', 'mumbl', 'munclejim', 'municip', 'munni', 'muppet', 'murder', 'murfreesboro', 'murlo', 'muschamp', 'muscl', 'muse', 'museawayf', 'museum', 'music', 'musicadvisori', 'musician', 'musicvideo', 'musik', 'musk', 'muslim', 'muslimsterror', 'must', 'mustachemurs', 'mustard', 'muster', 'mustv', 'mutant', 'mutekmontr', 'mutil', 'mutt', 'muttatek', 'mutual', 'muzzamil', 'muzzi', 'mv', 'mwednesday', 'mwjcdk', 'mwlippert', 'mx', 'mxaaaa', 'my', 'myanmar', 'mybabi', 'mycar', 'mydrought', 'myelf', 'myfitnessp', 'mygc', 'mypillowstudio', 'myreligion', 'myrtlegroggin', 'myself', 'mysteri', 'mystic', 'myth', 'myvintagesoul', 'mzmandilynn', 'n', 'na', 'naayf', 'nade', 'naemolgo', 'nafeezahm', 'nagasaki', 'nagaski', 'nagelashley', 'nah', 'nail', 'nailreal', 'najib', 'najibrazak', 'nake', 'name', 'namekian', 'namjoon', 'nan', 'nank', 'nankana', 'nap', 'nar', 'narciss', 'narendramodi', 'narrat', 'narri', 'narrowli', 'nasa', 'nasahurrican', 'nasasolarsystem', 'nashhmu', 'nashsnewvideo', 'nashvill', 'nashvillefd', 'nasti', 'natalia', 'nataliealund', 'nate', 'nathan', 'nathanfillion', 'nation', 'nativehuman', 'nato', 'natsnat', 'natur', 'natwest', 'navbl', 'nave', 'navi', 'navig', 'navista', 'nawh', 'naypyidaw', 'nazi', 'nb', 'nba', 'nbanew', 'nbc', 'nbcnew', 'nbcnightlynew', 'nbcpolit', 'nbn', 'nc', 'ncms', 'nd', 'nda', 'ndabndiv', 'ndetent', 'ndtv', 'ndzedz', 'ne', 'neanderrebel', 'neanea', 'near', 'nearbi', 'nearfat', 'neat', 'necessari', 'neck', 'necn', 'need', 'needl', 'negat', 'neglig', 'negoti', 'negro', 'neighbor', 'neighborhood', 'neighbour', 'neil', 'neileastwood', 'neither', 'nelson', 'nema', 'nemesiskp', 'nennicook', 'neon', 'neoprogress', 'nepal', 'nephew', 'nervana', 'nervous', 'nestleindia', 'net', 'netanyahu', 'netflix', 'netkicorp', 'netlabel', 'network', 'neur', 'nevada', 'never', 'neverend', 'neverforget', 'nevermor', 'new', 'newbeginningsanimalrescu', 'newberg', 'newbi', 'newep', 'newest', 'newidea', 'newli', 'newlyw', 'newport', 'newreleas', 'news', 'newsadl', 'newsarama', 'newscomauhq', 'newsdict', 'newser', 'newsintweet', 'newsmorn', 'newswatch', 'newyork', 'newyorkc', 'newzsacramento', 'next', 'nexus', 'nf', 'nffc', 'nfl', 'nflexpertpick', 'nfpa', 'ng', 'ngata', 'nh', 'nhl', 'nhs', 'nia', 'niagara', 'niagaravehicl', 'niamhosullivanx', 'nic', 'nice', 'nick', 'nickcannon', 'nickcocofre', 'nicki', 'nickscom', 'nicolacl', 'nicolekidman', 'niec', 'nieuw', 'nigeltann', 'nigeria', 'nigerian', 'nigga', 'night', 'nightbeat', 'nightmar', 'nightmarish', 'nightsad', 'nike', 'nikeplus', 'nikistitz', 'nikki', 'nikoniko', 'nikostar', 'nine', 'nineyearold', 'ninja', 'nino', 'niqqa', 'nissannew', 'nitclub', 'nite', 'nitishkumar', 'nitti', 'nixon', 'nj', 'njenga', 'nkea', 'nkeajresq', 'nking', 'nlmdimrc', 'nm', 'nnw', 'no', 'noaa', 'noah', 'noahanynam', 'noahcrothman', 'noahj', 'noahshack', 'nobodi', 'nochilllukeham', 'nockthi', 'noel', 'nogo', 'noi', 'nois', 'nojok', 'nola', 'nolesfan', 'nomin', 'nomiya', 'nomorehandout', 'non', 'noncompli', 'none', 'nonenglish', 'nonexist', 'nonhazard', 'nonlif', 'nonpasseng', 'nonprofit', 'noob', 'noodl', 'nook', 'noonancindynoonanheartbreak', 'noooooooo', 'noooooooooooo', 'nopasseng', 'nope', 'nopow', 'nor', 'nora', 'norfolk', 'norg', 'normal', 'norman', 'nors', 'nort', 'north', 'northampton', 'northbayhealth', 'northbound', 'northeast', 'northern', 'northerncalifornia', 'northgat', 'northland', 'northwest', 'northwestern', 'northwestproof', 'norwaymfa', 'nose', 'nosport', 'nostalgia', 'nostril', 'nosurrend', 'nosyb', 'not', 'note', 'notexplain', 'notgoingoutinthat', 'noth', 'nothing', 'notic', 'notif', 'notifi', 'notificationsu', 'notion', 'notley', 'notori', 'notorieti', 'notr', 'notrocketsci', 'nottingham', 'nout', 'nov', 'nova', 'novalismi', 'novel', 'novemb', 'novic', 'now', 'nowher', 'nowplay', 'nowt', 'nowwwwww', 'noxdv', 'np', 'nprfreshair', 'npzp', 'nra', 'nrcmiddleeast', 'nri', 'nro', 'ns', 'nsa', 'nsfw', 'nside', 'nsit', 'nsw', 'ntsb', 'ntvde', 'nu', 'nuclear', 'nuclearbiologicalchem', 'nucleard', 'nuclearweapon', 'nude', 'nueva', 'nugget', 'nuh', 'nuke', 'number', 'nurs', 'nut', 'nutsandboltssp', 'nuy', 'nv', 'nvr', 'nw', 'nwo', 'nws', 'nwsbayarea', 'nwt', 'nxwestmidland', 'ny', 'nyc', 'nycbuild', 'nycfc', 'nycha', 'nyka', 'nylon', 'nyozi', 'nypd', 'nypdnew', 'nyse', 'nyt', 'nytim', 'nz', 'o', 'oak', 'oakridg', 'oamsgajagahahah', 'obama', 'obamadh', 'obedi', 'obispo', 'object', 'oblig', 'obligatori', 'obliter', 'oblivi', 'obscur', 'observ', 'obsess', 'obsolet', 'obta', 'obvious', 'oc', 'ocalan', 'ocampo', 'occas', 'occup', 'occur', 'occurr', 'ocd', 'ocean', 'ocnj', 'oct', 'ocuana', 'odd', 'oddbal', 'odeek', 'odel', 'odeon', 'of', 'off', 'offend', 'offens', 'offer', 'offic', 'officerrel', 'offici', 'officialcoredj', 'officialmqm', 'officialtjonez', 'offlin', 'offload', 'offr', 'offramp', 'offroad', 'offshoot', 'offshor', 'offsit', 'offspr', 'offtrackhors', 'ofnsixjk', 'ofr', 'often', 'ogtomd', 'ogun', 'oh', 'ohgod', 'ohio', 'ohlordi', 'ohmygoshi', 'ohmyloz', 'oi', 'oifoef', 'oil', 'oilandga', 'ojoubot', 'ok', 'okanagan', 'okanowa', 'okay', 'okayyyyyi', 'okgabbi', 'okgoon', 'okinawa', 'oklahoma', 'oklahomaok', 'oktaviana', 'oktxduo', 'okwx', 'ol', 'olap', 'old', 'older', 'oldest', 'oldtimey', 'oliv', 'oliviaann', 'oliviaapalmerr', 'olliebailey', 'ollymursaus', 'olrul', 'olymp', 'olympia', 'omagazin', 'omar', 'omarmolina', 'ombudsmanship', 'omega', 'omfg', 'omg', 'omgbethersss', 'omgggg', 'omron', 'omw', 'on', 'onc', 'onduti', 'one', 'oneborn', 'onegreenplanet', 'oneheartonemindonecss', 'oneman', 'oneself', 'onfireand', 'ongo', 'onihimedesu', 'onion', 'onli', 'onlin', 'onlinea', 'onlinecommun', 'onlinemh', 'onnnn', 'onr', 'onscen', 'onshit', 'ontario', 'onthisday', 'onto', 'onufr', 'oo', 'ooh', 'oomf', 'oompahperiod', 'ooohshit', 'ooooohshit', 'ooour', 'oop', 'ootd', 'op', 'ope', 'open', 'oper', 'opera', 'ophelia', 'ophiuchus', 'opinion', 'opp', 'opportun', 'opposit', 'oppress', 'oprah', 'opseaworld', 'optic', 'optich', 'opticscump', 'optim', 'optimist', 'option', 'opus', 'or', 'oral', 'orang', 'orangeblu', 'orangi', 'orca', 'orch', 'orchard', 'orchestr', 'orchid', 'orcot', 'ordain', 'order', 'org', 'organ', 'organicallyrud', 'ori', 'origin', 'originalfunko', 'ornament', 'orphanag', 'orpik', 'orpol', 'ortiz', 'oryx', 'os', 'osborn', 'osbourn', 'oso', 'osp', 'ostentati', 'otd', 'oth', 'other', 'otherwis', 'otleyhour', 'otm', 'otrametlif', 'otratmetlif', 'ouch', 'oun', 'oup', 'our', 'ourmothermari', 'ourselv', 'out', 'outag', 'outbid', 'outbound', 'outbre', 'outbreak', 'outburst', 'outcom', 'outcri', 'outdoor', 'outfit', 'outflow', 'outlet', 'outlook', 'outrag', 'outright', 'outrun', 'outsid', 'outta', 'ouvindo', 'ouwbbal', 'ov', 'ovari', 'oven', 'over', 'overblown', 'overcharg', 'overcom', 'overdr', 'overhead', 'overload', 'overlook', 'overnight', 'overpr', 'overrun', 'oversatur', 'overse', 'oversight', 'overtak', 'overtim', 'overturn', 'overwhelm', 'overwork', 'overzero', 'ovo', 'ovofest', 'own', 'owner', 'ownership', 'p', 'pa', 'pace', 'pacic', 'pacif', 'pack', 'packag', 'pacquiao', 'pact', 'paddytomlinson', 'padr', 'pagasa', 'page', 'pageshi', 'paid', 'pain', 'paint', 'pair', 'pajama', 'pak', 'pakistan', 'pakistani', 'pakistannew', 'pakthey', 'palermo', 'palestin', 'palestinian', 'palin', 'palinfoen', 'palm', 'palmer', 'palmoil', 'pam', 'pamela', 'pampalmat', 'pamper', 'pan', 'panama', 'panay', 'pancak', 'panda', 'pandemonium', 'pandemoniumiso', 'pandora', 'panel', 'panic', 'panick', 'panik', 'panoram', 'pant', 'pantalonesfuego', 'panther', 'pantherattack', 'panti', 'pantofel', 'papa', 'papcrdol', 'paper', 'paperwork', 'papi', 'papicongress', 'par', 'parad', 'paradis', 'paraguay', 'paramed', 'paramor', 'paratroop', 'pardon', 'parent', 'parenthood', 'parentsacrossam', 'pari', 'parisian', 'park', 'parkchat', 'parker', 'parksboardfact', 'parley', 'parliamentari', 'parol', 'parshol', 'part', 'partak', 'parter', 'parti', 'partial', 'particip', 'particular', 'particulatebreak', 'partliftsoddsplaneglidednotcrashedintosea', 'partner', 'partnership', 'pascal', 'pasco', 'pass', 'passeng', 'passion', 'password', 'past', 'pasta', 'pasti', 'pat', 'patch', 'path', 'pathogen', 'patienc', 'patient', 'patientreport', 'patna', 'patriciatraina', 'patrick', 'patrickjbutl', 'patrickwsl', 'patriot', 'patriotsn', 'patrol', 'patron', 'pattern', 'pattonoswalt', 'pattyd', 'paul', 'paulhollywood', 'paulista', 'paulstaub', 'pave', 'pawsox', 'paxton', 'pay', 'payback', 'payday', 'paydayprison', 'payment', 'paypil', 'pb', 'pbban', 'pbcanpcx', 'pbohanna', 'pbs', 'pbx', 'pc', 'pcaldicott', 'pci', 'pcps', 'pcs', 'pdp', 'pdx', 'pdxabq', 'pea', 'peac', 'peacetim', 'peak', 'peal', 'peanut', 'pearl', 'pearlharbor', 'peasant', 'pedal', 'pedestrian', 'pediatr', 'peek', 'peel', 'peep', 'peer', 'peeter', 'peic', 'pelosi', 'pen', 'penalti', 'pendleton', 'penetr', 'peninsula', 'penn', 'penney', 'penni', 'pennington', 'pennliv', 'peopl', 'peoplecommun', 'peoplegt', 'pepper', 'pepperoni', 'per', 'percent', 'perfect', 'perfor', 'perform', 'perhap', 'period', 'periscop', 'perish', 'peritoengrafoscopia', 'perkpearl', 'perman', 'permiss', 'perquisit', 'perrybellegard', 'perrychat', 'persecut', 'persist', 'person', 'personalinjuri', 'personnel', 'pertain', 'perth', 'pestl', 'pet', 'peta', 'petchari', 'petelmcguir', 'peterhowenecn', 'peterjuk', 'peterknox', 'petit', 'petitiontak', 'petti', 'pfft', 'pft', 'ph', 'phalaborwa', 'phantasm', 'phantom', 'pharaoh', 'pharma', 'pharrel', 'phase', 'phdsquar', 'phelimkin', 'phenomen', 'phew', 'phil', 'philadelphia', 'philip', 'philipduncan', 'philippin', 'philli', 'phillip', 'phillipten', 'phnotf', 'phoenix', 'phone', 'photo', 'photogen', 'photograph', 'photographi', 'photoop', 'photoset', 'photoshop', 'phuket', 'physic', 'physician', 'piano', 'pianohand', 'pic', 'pick', 'picken', 'pickerel', 'pickpocket', 'pickup', 'picthi', 'pictur', 'pictwittercompnpizodi', 'piec', 'pieceofm', 'pierc', 'pigeon', 'pikachu', 'pikin', 'pile', 'pileq', 'pileup', 'pilgrim', 'pill', 'pillori', 'pillow', 'pilot', 'pin', 'piner', 'pink', 'pinpoint', 'pioneerpress', 'pipe', 'pipelin', 'piperwearsthep', 'pir', 'piraci', 'pirat', 'pisc', 'pisco', 'pisgah', 'piss', 'pit', 'pitch', 'pitcher', 'pitchwar', 'piti', 'pitmix', 'pittsburgh', 'pivot', 'pixelcanuck', 'pixeljanosz', 'pixelsmovi', 'pizza', 'pizzarev', 'pjnet', 'pkk', 'pkwi', 'pl', 'pla', 'place', 'plagu', 'plain', 'plan', 'plane', 'planet', 'planetari', 'plank', 'plannedparenthood', 'planner', 'plant', 'plantat', 'plantcov', 'plastic', 'plate', 'platform', 'platinum', 'play', 'playa', 'player', 'playingnow', 'playlist', 'playoff', 'playoverwatch', 'playstat', 'plaza', 'plea', 'plead', 'pleas', 'pleasant', 'pleasur', 'pledg', 'plenti', 'pletch', 'plez', 'pll', 'pllolz', 'ploppi', 'plot', 'pls', 'plsss', 'plug', 'plugin', 'plummet', 'plung', 'plus', 'pluto', 'plymouth', 'plz', 'pm', 'pmarca', 'pmclose', 'pmharper', 'pneumonia', 'po', 'poc', 'pochett', 'pocket', 'poconorecord', 'pod', 'podcast', 'poem', 'pogo', 'point', 'pointless', 'pokemon', 'pol', 'poland', 'polaroid', 'polic', 'policeng', 'policerun', 'polici', 'policyhold', 'polit', 'politic', 'politician', 'politifiact', 'poll', 'pollut', 'pomo', 'pond', 'pone', 'poni', 'pool', 'poor', 'pop', 'popcorn', 'pope', 'popehat', 'popey', 'poplar', 'popul', 'popular', 'populardemand', 'popularmmo', 'porcini', 'porcupin', 'porn', 'pornhub', 'porno', 'porridg', 'port', 'portabl', 'portaloo', 'portfolio', 'portgassdk', 'portion', 'portland', 'portrait', 'portug', 'pose', 'posit', 'poss', 'posses', 'possess', 'possibl', 'post', 'postapocalypticflimflam', 'postbattl', 'postcard', 'poster', 'postexist', 'postpon', 'pot', 'potato', 'potenti', 'potter', 'potus', 'pouch', 'pound', 'pour', 'pov', 'poverti', 'pow', 'poway', 'powder', 'power', 'powerhiroshima', 'powerlin', 'pox', 'pozarmi', 'poze', 'pp', 'ppact', 'ppc', 'ppfa', 'ppl', 'pple', 'ppsellsbabypart', 'pra', 'prabhu', 'prablematicla', 'practic', 'practicenyg', 'practition', 'pradesh', 'pragnik', 'prais', 'praiz', 'pray', 'prayer', 'pre', 'preacher', 'preborn', 'prebreak', 'precipit', 'precisionist', 'precondit', 'predat', 'predict', 'predynast', 'preemptiv', 'prefer', 'pregnant', 'prematur', 'premier', 'premis', 'premium', 'premonit', 'prensa', 'preorder', 'prepar', 'prepared', 'preparedelectrocutedboil', 'prepper', 'preppertalk', 'pres', 'presbad', 'preschool', 'preseason', 'preseasonworkout', 'presenc', 'present', 'preserv', 'preset', 'presid', 'presley', 'press', 'presser', 'presssec', 'pressur', 'prestig', 'presum', 'pretend', 'pretti', 'prettyboyshyflizzi', 'preval', 'prevent', 'preview', 'previous', 'price', 'priceless', 'pride', 'priest', 'primal', 'primari', 'primarili', 'prime', 'princ', 'princeoffenc', 'princessduck', 'principl', 'print', 'printabl', 'prior', 'prioriti', 'prison', 'prisonlik', 'prisonplanet', 'privaci', 'privat', 'privileg', 'pro', 'prob', 'probabl', 'probe', 'problem', 'proc', 'procedur', 'proceed', 'process', 'prod', 'prodemocraci', 'produc', 'product', 'producthunt', 'profession', 'profil', 'profit', 'profittothepeopl', 'program', 'programm', 'progress', 'project', 'projectil', 'prolifer', 'prolong', 'prom', 'promis', 'promo', 'promot', 'prompt', 'prone', 'proof', 'propel', 'proper', 'properti', 'propertycasu', 'propertycasualti', 'propheci', 'prophet', 'prophetmuhammad', 'proport', 'propos', 'prosecut', 'prosper', 'prosser', 'prosyn', 'protect', 'protectdenaliwolv', 'protector', 'protein', 'protest', 'protestor', 'protoshoggoth', 'proud', 'proudgreenhom', 'prove', 'proven', 'provid', 'provinc', 'provok', 'proxi', 'ps', 'psa', 'psalm', 'pseudojuuzo', 'psfda', 'psp', 'psqd', 'psychiatr', 'psychic', 'psycholog', 'psychologist', 'psychrewatch', 'pt', 'ptbo', 'ptsd', 'ptsdchat', 'pu', 'pub', 'public', 'publichealth', 'publicityalthough', 'publish', 'puddl', 'puerto', 'puff', 'pug', 'pugprob', 'pugwash', 'puledotechupd', 'pulkovo', 'pull', 'puls', 'pulwama', 'pummel', 'pump', 'pumper', 'pumpkin', 'pun', 'punch', 'punctur', 'pundit', 'punish', 'punjab', 'punk', 'punkblunt', 'pup', 'puppet', 'puppi', 'puppyshogun', 'purchas', 'purdi', 'pure', 'purpl', 'purpleturtlerdg', 'purport', 'purpos', 'purs', 'push', 'pussi', 'pusssssssssi', 'pussyxdestroy', 'put', 'puth', 'putin', 'pvc', 'pvris', 'pwhvgwax', 'pydisney', 'pyramidhead', 'pyrbliss', 'pyrotechn', 'q', 'qave', 'qendil', 'qew', 'qnh', 'qotr', 'qpr', 'quak', 'qual', 'qualit', 'qualiti', 'quantit', 'quantum', 'quarantin', 'quarrel', 'quarter', 'quarterstaff', 'quartz', 'que', 'queen', 'queenswharf', 'queenwendi', 'queer', 'quest', 'question', 'questionfatalityflawless', 'quick', 'quicker', 'quit', 'quiz', 'quizz', 'quora', 'quot', 'quoteoftheday', 'quotesttg', 'quotoper', 'quottelevis', 'quran', 'qzloremft', 'r', 'ra', 'raabchar', 'rabaa', 'rabbit', 'rabidmonkey', 'racco', 'raccoon', 'race', 'racer', 'rachelcain', 'rachelrof', 'racist', 'radar', 'radiat', 'radic', 'radio', 'radioact', 'radioriffrock', 'radler', 'radneck', 'rag', 'rage', 'raheel', 'raheelsharif', 'rai', 'raid', 'raider', 'raidersreport', 'rail', 'railgun', 'railway', 'rain', 'rainbow', 'raineishida', 'rainfal', 'rainforestresq', 'rainier', 'rainstorm', 'rainwindstorm', 'rais', 'raishimi', 'raisinfing', 'ralli', 'ram', 'ramag', 'rampag', 'ran', 'rand', 'randallpinkston', 'randerson', 'random', 'randomtourist', 'randpaul', 'rang', 'rangerkaitimay', 'raniakhalek', 'rank', 'ransack', 'rap', 'rape', 'rapid', 'rapidc', 'rapper', 'raptorsbeg', 'rar', 'rare', 'raredealsuk', 'rascal', 'rat', 'rate', 'rather', 'ratingscategori', 'ratio', 'ration', 'raung', 'ravioli', 'raw', 'ray', 'raychielovesu', 'raynbowaffair', 'rayner', 'raynor', 'razak', 'raze', 'rb', 'rbcinsur', 'rchs', 'rcityporn', 'rcmp', 'rconspiraci', 'rd', 'rdconsid', 'rdg', 'rdhorndal', 'rdprairi', 're', 'rea', 'reaad', 'reach', 'react', 'reaction', 'reactor', 'reactorbas', 'read', 'readi', 'reaf', 'reagan', 'real', 'realdonaldtrump', 'realest', 'realhiphop', 'realhotcullen', 'realis', 'realism', 'realiti', 'realiz', 'realize', 'realli', 'realliampayn', 'realmandyrain', 'realtim', 'reap', 'rear', 'reason', 'reassign', 'reator', 'rebah', 'rebecca', 'rebeccaforr', 'rebel', 'rebelmag', 'reboot', 'rebound', 'rebuild', 'rec', 'recal', 'recap', 'receipt', 'receiv', 'recent', 'recip', 'reckless', 'reckon', 'reclus', 'recogn', 'recognis', 'recognit', 'recoil', 'recommend', 'record', 'recordhigh', 'recount', 'recov', 'recoveri', 'recreat', 'recruit', 'recycl', 'red', 'redblood', 'redcliff', 'redcoatjackpot', 'reddakushgodd', 'reddit', 'redeem', 'redeemeth', 'redesign', 'redhand', 'redhead', 'redistribut', 'redland', 'redlight', 'redo', 'redskin', 'redsox', 'reduc', 'redw', 'reebok', 'reed', 'reef', 'reev', 'refer', 'referencerefer', 'reflect', 'refuge', 'refugeesmatt', 'refugeesvictimiserdutton', 'refugio', 'refund', 'refus', 'reg', 'regard', 'regardless', 'regc', 'reggaeboyz', 'regim', 'region', 'regist', 'regr', 'regress', 'regret', 'regular', 'reid', 'reidlak', 'reigncoco', 'reimagin', 'reinc', 'reinstat', 'reject', 'rejoic', 'relat', 'relationship', 'relax', 'relaxinpr', 'relay', 'releas', 'releg', 'relentless', 'relev', 'relief', 'religion', 'reliv', 'remad', 'remain', 'remand', 'remark', 'remast', 'rembr', 'remedi', 'rememb', 'rememberrabaa', 'remind', 'remix', 'remors', 'remorseless', 'remot', 'remov', 'remymarcel', 'ren', 'renam', 'renaomino', 'render', 'rene', 'renew', 'renewsit', 'renison', 'reno', 'renov', 'rent', 'reoccur', 'reopen', 'rep', 'repair', 'repatri', 'repay', 'repdonbey', 'repeat', 'repjohnkatko', 'replac', 'repli', 'report', 'repres', 'repris', 'reprocuss', 'republ', 'republican', 'repuls', 'reput', 'reqd', 'requa', 'request', 'requiem', 'requir', 'rescind', 'rescu', 'rescueadoptionloc', 'rescuedagain', 'rescuer', 'rescuersth', 'research', 'resembl', 'reserv', 'reshap', 'reshareworthi', 'reshrimplevi', 'resid', 'residenti', 'residu', 'residualincom', 'resigninsham', 'resin', 'resist', 'resoluteshield', 'resolutevan', 'resort', 'resourc', 'respect', 'respond', 'respons', 'resqu', 'rest', 'restaur', 'restiv', 'restor', 'restoringpath', 'restrict', 'restrospect', 'result', 'resum', 'retail', 'retain', 'retard', 'retir', 'retire', 'retiredfilth', 'retool', 'retract', 'retreat', 'retro', 'retroact', 'return', 'retweet', 'reunion', 'reunit', 'reuter', 'rev', 'reveal', 'reveillertm', 'revel', 'revenu', 'revers', 'review', 'revis', 'revitup', 'revolt', 'revolut', 'revolutionblight', 'reward', 'rewatchingthepilot', 'rexyy', 'rey', 'rfcgeom', 'rfp', 'rhett', 'rhineston', 'rhode', 'rhyme', 'ri', 'ribbon', 'rice', 'rich', 'richard', 'richarkkirkarch', 'richchandl', 'richelieusaintlaur', 'richhomeydon', 'richmond', 'rick', 'ricket', 'rickperri', 'rickybonessxm', 'rico', 'ricotta', 'rid', 'ridah', 'ride', 'rider', 'ridg', 'ridicul', 'rifl', 'rig', 'right', 'rightsgener', 'rightway', 'rightwaystan', 'rigour', 'rihanna', 'rijn', 'rin', 'rindou', 'ring', 'rinkydnk', 'rio', 'rioslad', 'riot', 'rioter', 'rip', 'rippl', 'ripriprip', 'ririnsid', 'ris', 'rise', 'riser', 'risk', 'riski', 'rite', 'ritual', 'ritualist', 'ritzyjewel', 'rival', 'riveeeeeer', 'river', 'riverroam', 'riyadh', 'rizzo', 'rjailbreak', 'rjg', 'rjkrraj', 'rl', 'rlauren', 'rli', 'rlyeh', 'rn', 'road', 'roadwayproperti', 'roanok', 'roanoketim', 'roar', 'rob', 'robbi', 'robbiewilliam', 'robdelaney', 'robert', 'robertcalifornia', 'roberthard', 'robertmey', 'robertwelch', 'robinson', 'robot', 'robotrainstorm', 'robpulsenew', 'robthieren', 'rochdal', 'rock', 'rockbottomradfm', 'rockefellerchirockefellerunivheiress', 'rocket', 'rocki', 'rockin', 'rockn', 'rockstar', 'rockyfir', 'rod', 'rodarm', 'rodkiai', 'roga', 'roger', 'roguewatson', 'roh', 'rohingya', 'roimentor', 'role', 'roleplay', 'roll', 'roller', 'rollingston', 'rolo', 'rom', 'roman', 'romanatwoodvlog', 'romanc', 'romant', 'romanticsuspens', 'rome', 'romeo', 'romeocrow', 'romero', 'romp', 'ron', 'ronald', 'ronaldo', 'ronda', 'rondarousey', 'rong', 'ronincarbon', 'ronni', 'ronwyden', 'roof', 'roofer', 'rooftop', 'room', 'roomsgrrrr', 'roosevelt', 'root', 'rori', 'rorington', 'rosali', 'rose', 'rosemarytraval', 'rosenberg', 'rosewel', 'roskomnadzor', 'ross', 'rossbarton', 'rossmartin', 'rossum', 'rot', 'rotari', 'rotat', 'rotten', 'rottentomato', 'round', 'roundhous', 'rousey', 'rout', 'router', 'routin', 'rove', 'rover', 'row', 'rowaa', 'rowysolouisvill', 'royal', 'royalcarribean', 'rpn', 'rq', 'rrbc', 'rrusa', 'rs', 'rsa', 'rsf', 'rskarim', 'rslm', 'rspca', 'rss', 'rstormcom', 'rt', 'rtamerica', 'rtcom', 'rtrlotz', 'rtsdemocraci', 'ru', 'rub', 'rubber', 'rubberi', 'rubbin', 'rubbl', 'rubi', 'rudd', 'ruddyyyyyy', 'rude', 'rueb', 'ruhl', 'ruin', 'rule', 'ruler', 'rumah', 'rumor', 'run', 'runabout', 'runaway', 'rundown', 'runin', 'runjewel', 'runkeep', 'runner', 'runnerjoy', 'runnin', 'runway', 'ruor', 'rural', 'rush', 'rushhour', 'rushlimbaugh', 'russia', 'russian', 'ruthann', 'rutherford', 'rvacchianonydn', 'rvfriedmann', 'rw', 'rwa', 'rwi', 'rworldnew', 'rwrabbit', 'ryan', 'ryanoss', 'ryrotheunawar', 'ryt', 'rzimmermanjr', 's', 'sa', 'sabcnewsroom', 'sabotagei', 'sabrina', 'sac', 'sack', 'sacramento', 'sad', 'saddlebrook', 'saddledom', 'sadtraumatis', 'safari', 'safe', 'safeco', 'safer', 'safeti', 'safferoonicl', 'safsufa', 'safyuan', 'sagacioussab', 'sahel', 'sahib', 'said', 'sail', 'sailor', 'saintrobinho', 'saintsfc', 'saipan', 'sake', 'saku', 'sakuuchiha', 'saladinahm', 'salado', 'sale', 'salem', 'salisburi', 'salli', 'salman', 'salmanmydarl', 'salmon', 'salon', 'salopek', 'salt', 'salti', 'saltriverwildhors', 'salut', 'salvador', 'salvadoran', 'salyersblairhal', 'sam', 'samanthaturn', 'samaritan', 'same', 'samesex', 'samihonkonen', 'sampl', 'samsmithworld', 'samsung', 'san', 'sana', 'sanction', 'sand', 'sandbox', 'sander', 'sandi', 'sandiego', 'sandra', 'sandscrim', 'sandstorm', 'sandun', 'sanelesstheori', 'sanford', 'sanfrancisco', 'sang', 'sanit', 'saniti', 'sanitis', 'sanjaynirupam', 'sanonofr', 'sansa', 'santa', 'santaclara', 'santanicopandemonium', 'santo', 'sara', 'sarabia', 'sarah', 'sarahmcp', 'sarcasm', 'sarumi', 'sasha', 'sask', 'sassi', 'sat', 'satan', 'satanaofhel', 'satchel', 'satellit', 'satin', 'satir', 'satisfi', 'satur', 'saturday', 'saturn', 'saudi', 'saudiarabia', 'saumur', 'saunder', 'sav', 'savag', 'savagen', 'savannahross', 'save', 'savebe', 'savedenaliwolv', 'saver', 'saveti', 'savior', 'savour', 'saw', 'say', 'sayedridha', 'sayin', 'sayna', 'sb', 'sbee', 'sbnation', 'scab', 'scale', 'scaligero', 'scalpium', 'scandal', 'scare', 'scari', 'scarier', 'scariest', 'scaryeven', 'scasualti', 'scegnew', 'scenario', 'scene', 'schedul', 'scheer', 'schelbertgeorg', 'scheme', 'schiphol', 'schism', 'schoenfeld', 'scholar', 'school', 'schoolboy', 'schulz', 'schwarber', 'scichat', 'scienc', 'sciencefict', 'scientist', 'scifi', 'scissor', 'scmpnew', 'scofield', 'scoopit', 'scorch', 'score', 'scorpion', 'scotiabank', 'scotland', 'scott', 'scottdpierc', 'scottwalk', 'scourgu', 'scout', 'scrambledegg', 'scraptrid', 'scratch', 'scream', 'screamqueen', 'screamsdont', 'screen', 'screenshot', 'screw', 'scriptettesar', 'scseestapreparando', 'sct', 'scuf', 'scvsupremecourt', 'scwx', 'scynic', 'sd', 'se', 'sea', 'seagul', 'seal', 'seamstress', 'sean', 'seanhann', 'search', 'seashor', 'season', 'seasonfrom', 'seat', 'seatbelt', 'seattl', 'seaworld', 'sebe', 'sec', 'seclus', 'second', 'secondhand', 'secret', 'section', 'secur', 'securedgt', 'sed', 'sedan', 'sedar', 'seduct', 'see', 'seed', 'seek', 'seeker', 'seem', 'seemeth', 'seen', 'seeyouatamico', 'sef', 'sega', 'segment', 'seismic', 'seismicresist', 'seiz', 'sel', 'select', 'self', 'selfavow', 'selfdelus', 'selfesteem', 'selfi', 'selfimag', 'selfinflict', 'selfpiti', 'selfseek', 'sell', 'selmo', 'selmoooooo', 'semasirtalk', 'semi', 'seminar', 'sen', 'senat', 'send', 'senfeinstein', 'senior', 'sens', 'sensand', 'sensei', 'sensit', 'sensor', 'sensorknock', 'sensorsenso', 'sent', 'sentient', 'sentinel', 'senzu', 'sep', 'separ', 'sept', 'septemb', 'septic', 'sequenc', 'sera', 'serbian', 'seren', 'serephina', 'sergiopiaggio', 'seri', 'serial', 'serious', 'serv', 'servant', 'server', 'servic', 'servicesft', 'servicin', 'session', 'set', 'setanta', 'sethalphaeus', 'setsuko', 'settl', 'settlement', 'setzorah', 'seven', 'seventi', 'sever', 'sew', 'sewag', 'sewer', 'sex', 'sexi', 'sexist', 'sexual', 'sexydragonmag', 'sf', 'sfa', 'sfor', 'sg', 'sgc', 'sh', 'sha', 'shaabi', 'shad', 'shade', 'shadow', 'shadowflam', 'shadowman', 'shahe', 'shake', 'shaken', 'shakeolog', 'shaker', 'shakespear', 'shakingcatch', 'shakjn', 'shall', 'sham', 'shame', 'shanaynay', 'shanghai', 'shania', 'shantaeskyy', 'shaolin', 'shape', 'shapeand', 'shaper', 'shar', 'share', 'sharethi', 'sharia', 'sharif', 'shark', 'sharp', 'sharper', 'sharpli', 'shatter', 'shaw', 'shawi', 'she', 'shear', 'shed', 'shedid', 'sheer', 'sheeran', 'sheet', 'shelbi', 'shell', 'shelli', 'shelter', 'sheltersupport', 'shen', 'shepherd', 'sherfield', 'sheriff', 'shes', 'shestooyoung', 'shevlinhixon', 'shidddd', 'shift', 'shifter', 'shii', 'shimmyfab', 'shine', 'ship', 'shipsxanchor', 'shipwreck', 'shira', 'shirt', 'shit', 'shite', 'shitti', 'shizun', 'shoalstraff', 'shock', 'shoe', 'sholt', 'shook', 'shoook', 'shoot', 'shoota', 'shooter', 'shootout', 'shop', 'shopcollis', 'shopp', 'shore', 'short', 'shot', 'shotgun', 'should', 'shoulder', 'shouldnt', 'shouldv', 'shout', 'shoutout', 'shove', 'shovel', 'show', 'showcas', 'showdown', 'shower', 'showersstorm', 'showwent', 'shrew', 'sht', 'shtap', 'shtf', 'shud', 'shuffl', 'shunichiro', 'shut', 'shutdown', 'si', 'sica', 'sicili', 'sick', 'side', 'sidelin', 'sidelinesavag', 'sidewalk', 'sidjsjdjekdjskdjd', 'sif', 'sift', 'sigalert', 'sigaleupd', 'sigh', 'sight', 'sign', 'signal', 'signific', 'signin', 'signup', 'sigu', 'sikh', 'silenc', 'silent', 'silentmind', 'silinski', 'silver', 'silvergray', 'silverhuski', 'silveri', 'silverstar', 'silverwood', 'similar', 'simmer', 'simmon', 'simon', 'simpl', 'simpli', 'simplifi', 'simul', 'simultan', 'sin', 'sinc', 'sincer', 'sincerelyevelnn', 'sindh', 'sing', 'singalong', 'singl', 'singlecar', 'sinistra', 'sinjar', 'sink', 'sinkhol', 'sinkingfund', 'sip', 'sippin', 'sir', 'sirbrandonknt', 'siren', 'sirensicebreak', 'sirenvoic', 'siri', 'sirius', 'sirmion', 'sirmixalot', 'sirtophamhat', 'sis', 'sismo', 'sister', 'sit', 'site', 'sittw', 'situ', 'situat', 'six', 'sixcar', 'sixmet', 'sixpencee', 'sixth', 'size', 'sizewel', 'sizygwwf', 'sj', 'sk', 'skagg', 'skanndtyagi', 'skarletan', 'skateboard', 'skc', 'sketch', 'sketchbook', 'skh', 'ski', 'skill', 'skim', 'skin', 'skinless', 'skinni', 'skip', 'skirt', 'skull', 'sky', 'skye', 'skyhawkmm', 'skyland', 'skype', 'skyrim', 'skyscrap', 'skywar', 'skywarn', 'sl', 'slam', 'slander', 'slanglucci', 'slap', 'slashandburn', 'slate', 'slatukip', 'slaughter', 'slave', 'slaveri', 'slay', 'slayer', 'sleep', 'sleeper', 'sleepjunki', 'slept', 'slew', 'slicker', 'slide', 'slideshar', 'slight', 'slightest', 'slikrickdarula', 'slingnew', 'slip', 'slither', 'slogan', 'slone', 'slopeofhop', 'slosher', 'slosheriff', 'slow', 'slower', 'slowli', 'slowpok', 'slsandpet', 'slsp', 'sm', 'small', 'smallbiz', 'smaller', 'smantibatam', 'smart', 'smartnew', 'smarttek', 'smash', 'smaug', 'smb', 'smear', 'smell', 'smelltast', 'smfh', 'smh', 'smile', 'smirk', 'smithereen', 'smithsonian', 'smoke', 'smoki', 'smoochi', 'smooth', 'smore', 'smp', 'sms', 'smth', 'smug', 'smuggler', 'smusx', 'sn', 'snack', 'snake', 'snap', 'snapchat', 'snapchatselfi', 'snapharmoni', 'snazzychipz', 'snd', 'sneak', 'sni', 'sniff', 'sniiiiiiff', 'snipe', 'snippet', 'snooker', 'snoop', 'snort', 'snotgreen', 'snow', 'snowbal', 'snowden', 'snowflak', 'snowstorm', 'snowstormdespit', 'snowstormhailstorm', 'snowywolf', 'snuff', 'so', 'soak', 'soaker', 'soap', 'soapscoop', 'sob', 'soc', 'socal', 'soccer', 'social', 'socialmedia', 'socialnew', 'socialtim', 'socialwot', 'societi', 'sock', 'socket', 'sodamntru', 'sofa', 'soft', 'softbal', 'softenza', 'softwar', 'soggi', 'soil', 'sojapan', 'solano', 'solar', 'sold', 'soldi', 'soldier', 'solelink', 'solicitor', 'solid', 'solitud', 'solo', 'solut', 'solv', 'somalia', 'some', 'somebodi', 'someday', 'somehow', 'someon', 'someth', 'somethin', 'sometim', 'somewher', 'somm', 'son', 'sona', 'sond', 'soner', 'song', 'songhey', 'soni', 'sonison', 'sonofbaldwin', 'sonofbobbob', 'sonofliberti', 'soo', 'soon', 'soonergrunt', 'soonermag', 'soonpandemonium', 'sooo', 'soooo', 'soothmyslumb', 'sopam', 'sophi', 'sophiewisey', 'sore', 'sorri', 'sorrow', 'sort', 'sos', 'sosfam', 'sosfamupdat', 'soudelor', 'sought', 'soul', 'soultech', 'sound', 'soundcloud', 'sounder', 'soup', 'sourc', 'sourmashnumb', 'souss', 'south', 'southaccid', 'southampton', 'southbound', 'southdown', 'southeast', 'southern', 'southkorea', 'southlin', 'southridgelif', 'southwestern', 'soviet', 'sow', 'soz', 'sp', 'space', 'spaceangelseven', 'spaceship', 'spaceshiptwo', 'spacewolverin', 'spacex', 'spain', 'spam', 'span', 'spaniel', 'spanish', 'spark', 'sparkz', 'spartan', 'sparxxx', 'speak', 'speaker', 'speakingfromexperi', 'spear', 'speci', 'special', 'specialist', 'specialne', 'specif', 'specimen', 'spectacular', 'spectrum', 'speech', 'speed', 'speedtech', 'spell', 'spen', 'spencer', 'spencerfearon', 'spend', 'spent', 'spi', 'spice', 'spicybread', 'spider', 'spiderweb', 'spike', 'spill', 'spilt', 'spin', 'spinnellii', 'spinningbot', 'spirit', 'spit', 'splatdown', 'splatl', 'split', 'splottdav', 'spoil', 'spokan', 'spoke', 'spong', 'spongea', 'sponsor', 'spontan', 'spookyfob', 'sport', 'sporten', 'sportinggood', 'sportwatch', 'spos', 'spot', 'spotlight', 'spous', 'spout', 'sprain', 'spray', 'spread', 'spree', 'spring', 'springer', 'sprinkler', 'sprinter', 'sps', 'spsgsp', 'spur', 'spurgeon', 'sputnik', 'sq', 'squad', 'squar', 'squeaki', 'squeaver', 'squeez', 'squibbi', 'squirrel', 'sqwizzix', 'sr', 'srajapaks', 'sriramk', 'srs', 'srsli', 'ss', 'ssb', 'ssp', 'ssu', 'ssw', 'st', 'stab', 'stacedemon', 'stacey', 'staci', 'stack', 'stadium', 'staf', 'staff', 'stage', 'stagetwo', 'staid', 'stain', 'stalag', 'stalin', 'stall', 'stallion', 'stamp', 'stan', 'stand', 'standard', 'standardanonym', 'standardis', 'standup', 'standus', 'standwithpp', 'stankyboy', 'star', 'starb', 'starbuck', 'starbucksculli', 'stardat', 'stare', 'starflamegirl', 'stark', 'starmad', 'starr', 'start', 'startelegram', 'starter', 'startrek', 'startup', 'starv', 'stat', 'state', 'statement', 'statesvill', 'station', 'stationcdrkelli', 'statist', 'status', 'stavernis', 'stay', 'stds', 'steadi', 'steak', 'steal', 'steam', 'steamship', 'stearn', 'steel', 'steellord', 'stefanejon', 'stefano', 'stem', 'step', 'steph', 'stephanenni', 'stephaniemarija', 'stephen', 'stephenk', 'stephenscifi', 'stephenson', 'stereo', 'sterlingknight', 'sterlingscott', 'stern', 'sterotyp', 'steve', 'steven', 'stevenontwatt', 'steveychees', 'stevi', 'stewart', 'stfxunivers', 'sthing', 'stick', 'sticki', 'stiiilo', 'stil', 'still', 'stir', 'stl', 'stlnd', 'stloui', 'sto', 'stock', 'stockholm', 'stockton', 'stockwel', 'stole', 'stolen', 'stomach', 'stone', 'stonewal', 'stood', 'stop', 'stopharp', 'store', 'storen', 'stori', 'storm', 'stormbeard', 'stormchas', 'stormfre', 'stormlik', 'stormtroop', 'stout', 'stow', 'straight', 'straighten', 'strain', 'strait', 'strand', 'strang', 'stranger', 'strategi', 'strategicpati', 'stratford', 'strawberri', 'strawberrysoryu', 'stray', 'streak', 'stream', 'streamyxhomesouthern', 'stree', 'street', 'streetlight', 'strength', 'strengthen', 'stress', 'stretch', 'stretcher', 'stretcherbear', 'strickskin', 'strict', 'strike', 'striker', 'strikesstrik', 'strip', 'stripteas', 'strive', 'stroke', 'strong', 'stronger', 'strongest', 'strongmind', 'struck', 'structur', 'struggl', 'strut', 'sts', 'stu', 'stuart', 'stuartbroad', 'stuck', 'stud', 'student', 'studi', 'studio', 'stuff', 'stuffin', 'stump', 'stun', 'stunckl', 'stupid', 'stupidniggr', 'sturgi', 'stvmlli', 'style', 'stylish', 'stylist', 'su', 'sub', 'subatom', 'subcommitte', 'subject', 'submerg', 'submiss', 'submit', 'subreddit', 'subsd', 'subsequ', 'substanc', 'subtl', 'subtleti', 'subway', 'succeed', 'success', 'such', 'suck', 'sudden', 'sue', 'suffer', 'suffic', 'suffici', 'sugar', 'sugg', 'suh', 'suho', 'suicid', 'suicidebomb', 'suit', 'suitabl', 'sul', 'sultri', 'summari', 'summer', 'summerf', 'summerhalleri', 'summerinsweden', 'summerslam', 'summertim', 'summervib', 'summon', 'sumn', 'sumo', 'sun', 'sunbath', 'sunburn', 'sunburst', 'suncorp', 'sunday', 'sundaydont', 'sundercr', 'sunflow', 'sunk', 'sunni', 'sunray', 'sunset', 'sunshin', 'sunyorang', 'super', 'superb', 'superbug', 'superfici', 'superfood', 'superhero', 'superintend', 'superior', 'superman', 'supermarket', 'supernatur', 'supernovalest', 'superpow', 'superstit', 'superv', 'supervisor', 'suppli', 'support', 'suppos', 'suprem', 'supremacist', 'supremo', 'surah', 'sure', 'suregod', 'suresh', 'sureshpprabhu', 'sureshprabhu', 'sureti', 'surf', 'surfac', 'surfer', 'surfphoto', 'surfspa', 'surg', 'surgeri', 'surpris', 'surrend', 'surround', 'suruc', 'surui', 'survey', 'surviv', 'survivor', 'survivorsr', 'suryaray', 'sushi', 'susi', 'susiya', 'suspect', 'suspend', 'suspens', 'suspici', 'sustain', 'suv', 'sux', 'sw', 'swag', 'swallow', 'swam', 'swami', 'swanger', 'swansea', 'swarm', 'swayoung', 'swea', 'swear', 'sweat', 'sweater', 'sweatfyi', 'sweati', 'sweden', 'swedish', 'sweep', 'sweet', 'sweetiebirk', 'swell', 'swellyjetevo', 'swept', 'swift', 'swiftycommissh', 'swim', 'swime', 'swing', 'swingman', 'swiss', 'switch', 'switzerland', 'swivel', 'swollen', 'swoop', 'sword', 'sworn', 'sws', 'swtrain', 'sx', 'syd', 'sydney', 'sydtraff', 'syjexo', 'symantec', 'symbol', 'sympathi', 'symphoni', 'symptom', 'syndrom', 'syria', 'syrian', 'syringetoang', 'sys', 'system', 'systemat', 't', 'ta', 'taaylordarr', 'tab', 'tabl', 'tablet', 'tackettdc', 'taco', 'tact', 'tactic', 'tadhgtgmtel', 'tae', 'taf', 'tag', 'taho', 'tahoeblazeravalanch', 'taiji', 'tailor', 'taint', 'taipei', 'taiwan', 'tak', 'take', 'takeaway', 'takehom', 'taken', 'taki', 'takin', 'tale', 'talent', 'taliban', 'talisman', 'talk', 'talkecologyhuman', 'talkin', 'talkinghel', 'talkradio', 'tallest', 'tambo', 'tambourin', 'tammyw', 'tampa', 'tampabay', 'tan', 'tanehisico', 'tank', 'tanslash', 'tanstaafl', 'tantonationalforest', 'tantrum', 'tanzania', 'taoistinsight', 'tapa', 'tape', 'tareksoc', 'targ', 'target', 'tarmineta', 'tarynel', 'tarzana', 'task', 'tasmania', 'tast', 'tastemycupcake', 'tat', 'tattoo', 'taufikcj', 'taught', 'taungbazar', 'tax', 'taxi', 'taxiway', 'taxpay', 'taxreturn', 'taxston', 'tayiorrmad', 'taylor', 'taylorswift', 'tb', 'tbh', 'tblack', 'tbr', 'tbt', 'tc', 'tcc', 'tch', 'tcot', 'tdm', 'tdog', 'tdp', 'te', 'tea', 'teach', 'teacher', 'teafrystlik', 'team', 'teamatowinn', 'teamhendrick', 'teamhennessi', 'teamo', 'teampalestina', 'teamscorpion', 'teamstream', 'teamsurvivor', 'teamvodg', 'tear', 'teas', 'tech', 'techesback', 'technew', 'technica', 'techniqu', 'technolog', 'tecno', 'ted', 'teddi', 'teduka', 'tee', 'teemo', 'teen', 'teena', 'teenag', 'teenfict', 'teeth', 'telangana', 'telegraph', 'telegraphworld', 'telekinesi', 'telemarket', 'teleport', 'tell', 'telli', 'telltal', 'tellyfckngo', 'tellyi', 'telnet', 'tem', 'temecafreeman', 'temp', 'temper', 'temperatur', 'templ', 'templat', 'temporari', 'temporarili', 'temptat', 'ten', 'tend', 'tenn', 'tennesse', 'tennessean', 'tennew', 'tenshi', 'tension', 'tent', 'terel', 'term', 'terribl', 'terrif', 'terrifi', 'territori', 'terror', 'terrorist', 'tersestuff', 'terwillig', 'tesco', 'tesla', 'test', 'testi', 'testifi', 'testimoni', 'texa', 'texansdc', 'texaschainsawmassacr', 'text', 'tf', 'tfb', 'tfl', 'tflbusalert', 'tfw', 'tgirl', 'th', 'tha', 'thai', 'thailand', 'thalapathi', 'than', 'thank', 'thankkk', 'thanku', 'thankyou', 'that', 'thatd', 'thatfatguy', 'thatnot', 'thatrussianman', 'thatsabinegirl', 'thatswhatfriendsarefor', 'thatwitchem', 'thda', 'the', 'theadvocatemag', 'theaf', 'theater', 'theatershoot', 'theatlant', 'theatr', 'thebachelorett', 'thebargain', 'theblackshag', 'theblaz', 'theboyofmask', 'thebriankraus', 'theburnageblu', 'theconspiracytheori', 'thedarktow', 'thedoolinggroup', 'theeconomist', 'theemobrago', 'theft', 'thegam', 'theghostparti', 'thegreenparti', 'thehighfess', 'thehobbit', 'their', 'thejenmorillo', 'thejonesesvoic', 'thelegendblu', 'them', 'themagickidrap', 'themain', 'themalemadonna', 'themayhoka', 'theme', 'themermacorn', 'themselv', 'themthen', 'then', 'thene', 'thenewshyp', 'theolog', 'theori', 'thepartyofmean', 'theramin', 'therapi', 'there', 'thereal', 'therealrittz', 'therefor', 'thereisonlysex', 'thereof', 'theresmorewherethatcamefrom', 'thescor', 'these', 'thesewphist', 'thesteveharveyshow', 'thestrain', 'thetawniest', 'thetshirtkid', 'thetwist', 'thetxi', 'thewebbeffect', 'they', 'theyd', 'theyll', 'theyr', 'theyv', 'thi', 'thick', 'thief', 'thigh', 'thin', 'thing', 'thingsih', 'think', 'thinkpink', 'thinner', 'third', 'thirdquart', 'thirsti', 'thirtyf', 'this', 'thisispublichealth', 'thisiswhywecanthaveniceth', 'thisizbwright', 'thnk', 'tho', 'thoma', 'thomashcrown', 'thomassmonson', 'thomasvissman', 'thorin', 'thorium', 'thorough', 'those', 'though', 'thought', 'thoughwil', 'thousand', 'thr', 'thranduil', 'thrarchiv', 'thread', 'threat', 'threatconnect', 'threaten', 'threatintel', 'three', 'threealarm', 'threesom', 'threw', 'thriller', 'thrive', 'throat', 'throne', 'through', 'throughout', 'throw', 'throwback', 'throwin', 'throwingknif', 'thrown', 'thru', 'thrust', 'thruuu', 'tht', 'thu', 'thucydipleas', 'thug', 'thuggin', 'thunder', 'thunderstorm', 'thunderstormtornado', 'thur', 'thurlow', 'thursd', 'thursday', 'thus', 'thx', 'thyroid', 'tianta', 'ticket', 'ticklemeshawn', 'tidal', 'tidalhifi', 'tide', 'tie', 'tier', 'tiger', 'tigersjostun', 'tiggr', 'tight', 'til', 'tile', 'till', 'tilnow', 'time', 'timebomb', 'timelaps', 'timelin', 'timesap', 'timestack', 'timeworld', 'timkain', 'timmicallef', 'tin', 'tinder', 'tinderbox', 'ting', 'tini', 'tint', 'tinybabi', 'tinyjecht', 'tip', 'tipster', 'tire', 'tireless', 'tita', 'titan', 'titania', 'tithenai', 'titl', 'titolo', 'titortau', 'titti', 'tix', 'tjrobertson', 'tkyon', 'tlc', 'tlk', 'tlvface', 'tlvfacesauspol', 'tmp', 'tn', 'tna', 'tneazzi', 'to', 'tobiasellwood', 'tod', 'today', 'todayim', 'todayng', 'todd', 'toddcalfe', 'toddler', 'toe', 'toenail', 'togeth', 'togth', 'toilet', 'toke', 'tokyo', 'told', 'toler', 'tolewantg', 'toll', 'tom', 'tomars', 'tomato', 'tomcatart', 'tomfromireland', 'tomislav', 'tommorow', 'tomorrow', 'ton', 'tongu', 'toni', 'tonight', 'tonto', 'tonyburk', 'tonyhsieh', 'tonymcguin', 'too', 'toocodtodd', 'took', 'tookem', 'tookitlikeaman', 'tool', 'toosoon', 'tooth', 'tootru', 'top', 'topdown', 'topstori', 'tor', 'tora', 'torch', 'tore', 'tori', 'torment', 'tornado', 'toronto', 'torontorc', 'torrecilla', 'torrent', 'torrenti', 'torso', 'tortur', 'tos', 'tosu', 'total', 'totalitarian', 'tote', 'totoooooo', 'totoooooooooo', 'totteham', 'touch', 'touchdown', 'tough', 'toughen', 'toung', 'tour', 'tournament', 'tourofutah', 'tow', 'toward', 'towboat', 'towel', 'tower', 'town', 'township', 'toxic', 'toxiccancerdiseasehazard', 'toxicsavior', 'tozlet', 'tpfa', 'tpkotc', 'tprimo', 'tps', 'tr', 'tra', 'trace', 'traci', 'track', 'tracklist', 'tractor', 'trad', 'tradcatknight', 'trade', 'trader', 'tradit', 'traditionalist', 'traffic', 'trafficaleeastbound', 'trafficnetwork', 'trafford', 'tragedi', 'tragic', 'trail', 'trailer', 'trailhead', 'train', 'trajectori', 'tram', 'trampl', 'tranci', 'transcendblaz', 'transcript', 'transfer', 'transform', 'transgend', 'transgener', 'transgress', 'transit', 'translat', 'transport', 'transporta', 'transwomen', 'trap', 'traplord', 'trapmus', 'trash', 'trauma', 'traumatis', 'travel', 'travers', 'travi', 'tray', 'trc', 'treasur', 'treasurehous', 'treat', 'treati', 'treatmen', 'treatment', 'treblinka', 'tree', 'treeporn', 'treescap', 'trek', 'trekker', 'tremblayeh', 'tremont', 'tremor', 'tren', 'trench', 'trend', 'trent', 'trespass', 'trey', 'trfc', 'tri', 'triad', 'trial', 'triangl', 'trib', 'tribal', 'tribe', 'tribez', 'tribun', 'triciaoneil', 'triciaoneillphoto', 'trick', 'tricki', 'trickshot', 'trickxi', 'tricycl', 'trident', 'trigger', 'trillion', 'trim', 'triniti', 'trinna', 'trip', 'tripl', 'tripledigit', 'triumph', 'trivium', 'trixiedrown', 'trjdavi', 'troll', 'trolley', 'trollingtilmeekdiss', 'trombonetristan', 'troop', 'trooper', 'trophi', 'tropic', 'troubl', 'troubleonmymind', 'troup', 'troy', 'troyslabi', 'trs', 'trubgm', 'truck', 'truckcrash', 'truckload', 'true', 'truediagnosi', 'truelov', 'truestori', 'truli', 'trump', 'trunk', 'trust', 'trusti', 'trustymclusti', 'truth', 'tryna', 'tryout', 'ts', 'tshirt', 'tsipra', 'tsunami', 'tsunamiesh', 'tsunaminopeach', 'tsutomi', 'tt', 'ttes', 'ttw', 'tu', 'tub', 'tube', 'tubestrik', 'tuesday', 'tuicruis', 'tullamarin', 'tulowitzki', 'tumbl', 'tune', 'tunein', 'tunesblak', 'tuneswgg', 'tuni', 'tunisia', 'tunnel', 'turbin', 'turbojet', 'turdnado', 'turkey', 'turkish', 'turkmen', 'turn', 'turner', 'tutor', 'tutori', 'tv', 'tvjnew', 'tvshowtim', 'tw', 'twain', 'tweak', 'tween', 'tweet', 'tweetinglew', 'tweetlikeitsseptemb', 'tweetstorm', 'twelv', 'twentynin', 'twentysix', 'twi', 'twia', 'twice', 'twilight', 'twilightfairi', 'twimbo', 'twin', 'twist', 'twister', 'twitch', 'twitsandiego', 'twitter', 'two', 'twoout', 'twoptwip', 'twos', 'twovehicl', 'twx', 'tx', 'txlege', 'txt', 'ty', 'tyar', 'tyler', 'tyleroakley', 'type', 'typhoon', 'typhoondevast', 'typic', 'typo', 'typographi', 'tyrant', 'tyre', 'tyron', 'u', 'uabstephenlong', 'uae', 'uber', 'ublogeurop', 'uchicago', 'ud', 'udest', 'udhampur', 'udhampuragain', 'udom', 'ufn', 'ufo', 'uganda', 'ugc', 'ugh', 'ugli', 'ugliest', 'uglyamesocialact', 'uglypeopl', 'uh', 'uhc', 'uk', 'uke', 'ukflood', 'uknew', 'ukrain', 'ultim', 'ultimalucha', 'ultimatum', 'ultra', 'uluru', 'um', 'un', 'unabl', 'unaddress', 'unarm', 'unauthor', 'unavoid', 'unawar', 'unbeliev', 'uncertain', 'uncertaintyeconom', 'uncl', 'uncomfort', 'uncondit', 'unconfirm', 'unconsci', 'uncontrol', 'under', 'undercov', 'underestim', 'undergroundbestsel', 'undergroundrailraod', 'undermin', 'understand', 'understood', 'underwat', 'underway', 'underwood', 'underwrit', 'underwritersenior', 'undeserv', 'unexercis', 'unexplain', 'unfair', 'unfil', 'unfml', 'unfold', 'unfollow', 'unfortun', 'unfortunemelodi', 'ungod', 'unhappi', 'unharm', 'unhing', 'uniform', 'unimagin', 'unimpress', 'uninvestig', 'union', 'uniqu', 'unit', 'uniteblu', 'uniti', 'univers', 'unknown', 'unless', 'unlicens', 'unload', 'unlock', 'unnecessari', 'unnewsteam', 'unpack', 'unplug', 'unpreced', 'unpredict', 'unprepar', 'unqualifi', 'unr', 'unreal', 'unrealtouch', 'unrecogn', 'unrel', 'unrest', 'unsaf', 'unsecur', 'unsens', 'unsign', 'unstabl', 'unstableth', 'unstopp', 'unsuckdcmetro', 'unsur', 'unsurpris', 'untameddirewolf', 'until', 'unto', 'unu', 'unveil', 'unwant', 'unwarr', 'unwomen', 'up', 'upa', 'upah', 'upcom', 'updat', 'updatem', 'upgrad', 'upheav', 'uphil', 'upi', 'uplift', 'upload', 'upon', 'upper', 'uproot', 'upset', 'upstair', 'uptown', 'upward', 'ur', 'uranium', 'urban', 'urbanfashion', 'urbanis', 'urg', 'urgent', 'urib', 'uriminzok', 'urogyn', 'urself', 'ursula', 'uruan', 'us', 'usa', 'usag', 'usagi', 'usagov', 'usama', 'usamisan', 'usar', 'usarmi', 'usatoday', 'usbush', 'use', 'useless', 'user', 'usf', 'usg', 'ush', 'ushanka', 'ushiocom', 'usmnt', 'usnwsgov', 'uspacif', 'usual', 'usw', 'uswarcrim', 'ut', 'utahcanari', 'utc', 'utfir', 'util', 'utp', 'utter', 'utv', 'uv', 'uvopwz', 'v', 'va', 'vaal', 'vabeng', 'vacanc', 'vacant', 'vacat', 'vaccin', 'vagersedolla', 'vaginaorcak', 'vai', 'vail', 'val', 'vald', 'vale', 'valentin', 'valley', 'valleywx', 'valu', 'valuat', 'vampiro', 'van', 'vancouv', 'vandal', 'vanderbilt', 'vanessa', 'vanilla', 'vanish', 'vannuyscouncil', 'vanpoli', 'vantag', 'vanuatu', 'vape', 'varieti', 'various', 'vashon', 'vassalboro', 'vault', 'vaxshil', 've', 'vecannon', 'vector', 'veg', 'vega', 'vegan', 'veget', 'vegetarian', 'veggi', 'vehicl', 'veil', 'vein', 'vela', 'veld', 'veldfest', 'venezuela', 'venic', 'venom', 'vent', 'ventil', 'ventur', 'verdict', 'verg', 'vergil', 'verhoek', 'veri', 'vermilion', 'vermont', 'vern', 'veronicadlcruz', 'verseth', 'version', 'versus', 'vessel', 'vest', 'vestment', 'vet', 'veteran', 'vgbootcamp', 'vhs', 'vhull', 'vi', 'via', 'viab', 'vibe', 'vibez', 'vibrat', 'vice', 'vichardi', 'vicin', 'vicken', 'vicker', 'vicki', 'victim', 'victori', 'victoria', 'victoriagittin', 'victorian', 'victorinox', 'vid', 'vida', 'video', 'videoclip', 'videogam', 'videoveranomtv', 'viennabutch', 'vietnam', 'vietnames', 'view', 'vigil', 'vike', 'vilelunar', 'vill', 'villag', 'vimvith', 'vinc', 'vincent', 'vine', 'vintag', 'vinustrip', 'vinyl', 'violat', 'violenc', 'violent', 'violentfeminazi', 'violet', 'violin', 'vip', 'viper', 'vir', 'viralspel', 'virg', 'virgil', 'virgin', 'virtual', 'virus', 'visag', 'viscous', 'visibl', 'vision', 'visit', 'vist', 'visto', 'vita', 'vital', 'vitali', 'vitess', 'vivaargentina', 'vivian', 'vivianunhcr', 'vivid', 'vixmeldrew', 'vixstuart', 'vj', 'vmas', 'vocal', 'vocalist', 'vocpetroleum', 'vod', 'voic', 'void', 'vol', 'volcan', 'volcano', 'volcanodiscov', 'volfan', 'volga', 'volgagrad', 'volleybal', 'voltaic', 'volunt', 'voluntari', 'voodoo', 'voodooben', 'voortrekk', 'vote', 'votejkt', 'voter', 'vra', 'vroman', 'vs', 'vtc', 'vuitton', 'vuln', 'vulner', 'vulnera', 'vvorm', 'vzwsupport', 'w', 'wa', 'wacko', 'waferthin', 'wage', 'wahhab', 'wahpeton', 'waimat', 'waist', 'wait', 'waiver', 'wake', 'waldo', 'wale', 'walerga', 'walk', 'walker', 'wall', 'wallybait', 'walmart', 'waltdisney', 'walter', 'wan', 'wander', 'wank', 'wannab', 'wanoth', 'want', 'wantmyabsback', 'war', 'warcraft', 'ward', 'warden', 'warfight', 'warlordqueen', 'warm', 'warmbodi', 'warmth', 'warn', 'warningwild', 'warp', 'warra', 'warrant', 'warrior', 'warship', 'wart', 'warthen', 'warzon', 'was', 'waseembadami', 'wash', 'washabl', 'washard', 'washington', 'washingtonpost', 'wasilla', 'wasn', 'wasnt', 'wasp', 'wast', 'wasteland', 'wastenoxi', 'watch', 'watchin', 'watchout', 'watchthevideo', 'water', 'waterfur', 'watermeloann', 'waterresist', 'watersafeti', 'watersland', 'watertown', 'waterway', 'wattashit', 'watti', 'wattl', 'wattpad', 'wave', 'way', 'wayfieldston', 'wayi', 'wayn', 'waynesteratl', 'wayward', 'waziristan', 'wb', 'wbc', 'wbcshirl', 'wbioterrorismus', 'wbre', 'wbu', 'wc', 'wccorosen', 'wce', 'wctv', 'wcvb', 'wcw', 'wd', 'wderail', 'wdtv', 'wdyouth', 'we', 'weak', 'weaken', 'wealilknowa', 'weallheartonedirect', 'wealth', 'wealthi', 'weapon', 'weaponxmus', 'wear', 'wearethenew', 'weather', 'weatherit', 'weathernetwork', 'weatherstay', 'webinar', 'websit', 'wed', 'wedaug', 'weddinghour', 'wedgi', 'wedn', 'wednesday', 'wee', 'weebli', 'weed', 'week', 'weekend', 'weeklong', 'weekold', 'weigh', 'weight', 'weightless', 'weird', 'welcom', 'welfar', 'welfarework', 'well', 'welladjust', 'wellknown', 'weloverobdyrdek', 'welshninja', 'wen', 'wenger', 'went', 'were', 'werent', 'wereonadesolateplanet', 'wesley', 'west', 'westchest', 'western', 'westerncanadadrought', 'westero', 'westerosnah', 'weston', 'wet', 'weve', 'wew', 'wexler', 'weyburn', 'weyreygidi', 'wfp', 'wfri', 'wftv', 'whackamol', 'whag', 'whale', 'whao', 'whashtag', 'what', 'whatcanthedo', 'whatev', 'whatsapp', 'wheat', 'wheaven', 'wheel', 'wheeler', 'whelen', 'when', 'whenev', 'whensoev', 'wher', 'where', 'wherea', 'whether', 'whi', 'which', 'while', 'whimsi', 'whine', 'whip', 'whipe', 'whippenz', 'whirlwind', 'whiskey', 'whistl', 'whistleblow', 'whitbourn', 'white', 'whitewalk', 'whitewash', 'whitt', 'who', 'whoa', 'whocar', 'whod', 'whoever', 'whole', 'wholesal', 'wholeteam', 'whomev', 'whoop', 'whopperjr', 'whos', 'whose', 'wht', 'whts', 'whvholst', 'whyor', 'wi', 'wick', 'wickett', 'widda', 'wide', 'wider', 'widespread', 'widout', 'width', 'wiedem', 'wife', 'wifi', 'wikipedia', 'wild', 'wildfir', 'wildhors', 'wildlif', 'wildlionx', 'wildlook', 'will', 'willhillbet', 'willi', 'william', 'willieami', 'willienelson', 'willingheart', 'wilsher', 'wimbledon', 'wimp', 'win', 'wind', 'windi', 'windit', 'windmi', 'window', 'windowgatribbl', 'windsor', 'windstorm', 'windstormfollow', 'windwakerstyl', 'wine', 'winechat', 'wing', 'winik', 'winner', 'winnipeg', 'winston', 'winter', 'wipe', 'wipp', 'wire', 'wireless', 'wisconsin', 'wisdc', 'wisdom', 'wisdomw', 'wise', 'wisenew', 'wish', 'wishlist', 'wit', 'witch', 'with', 'wither', 'within', 'without', 'withstand', 'witter', 'wiwnpfxa', 'wizard', 'wknd', 'wkrn', 'wlandslid', 'wld', 'wmata', 'wmiddl', 'wmur', 'wmv', 'wn', 'wnd', 'wniagospel', 'wnuke', 'wo', 'woah', 'wocowa', 'wod', 'woe', 'woke', 'woken', 'wolf', 'wolforth', 'wolter', 'wolv', 'wom', 'woman', 'womb', 'womem', 'women', 'womengirl', 'wompppp', 'won', 'wonder', 'wonderkid', 'wonderousallur', 'wont', 'wood', 'wooden', 'woodlawn', 'woodward', 'word', 'wordk', 'wordpressdotcom', 'work', 'workd', 'worker', 'workforc', 'workout', 'workplac', 'world', 'worldlet', 'worldnetdaili', 'worldnetdailyhomosexu', 'worldnew', 'worldwatchesferguson', 'worldwid', 'worn', 'worri', 'wors', 'worseit', 'worship', 'worst', 'worstev', 'worstoverdos', 'worstsummerjob', 'worth', 'worthless', 'would', 'wouldnt', 'wouldv', 'wound', 'woundedpigeon', 'wout', 'wow', 'wowo', 'wowth', 'wpo', 'wpri', 'wps', 'wpt', 'wr', 'wraith', 'wrap', 'wrapup', 'wreak', 'wreck', 'wreckag', 'wrestler', 'wrightsboro', 'wrist', 'wristband', 'write', 'writebothfist', 'writer', 'written', 'wrked', 'wron', 'wrong', 'wrongway', 'wrote', 'wrought', 'wsj', 'wsls', 'wsoar', 'wsoc', 'wsvr', 'wtc', 'wtf', 'wth', 'wthat', 'wtwitter', 'wud', 'wugli', 'wunscreen', 'wut', 'ww', 'wwe', 'wwexdream', 'wwi', 'wwii', 'wwp', 'www', 'wx', 'wxii', 'wxki', 'wy', 'wyattb', 'wyou', 'wyrmwood', 'x', 'xavier', 'xaviermarqui', 'xbox', 'xboxon', 'xd', 'xdescri', 'xdojjjj', 'xekstrin', 'xgninfin', 'xhnew', 'xii', 'xl', 'xleak', 'xmen', 'xo', 'xojademari', 'xp', 'xpost', 'xray', 'xv', 'xvii', 'xxx', 'xylodemon', 'y', 'ya', 'yaboiluk', 'yagitudeh', 'yahistor', 'yahoo', 'yahoocar', 'yahoofinancehop', 'yahoonew', 'yahoonewsdigest', 'yahooschwab', 'yahootv', 'yakub', 'yall', 'yamaguchi', 'yanke', 'yard', 'yay', 'yazidi', 'yazidishingalgenocid', 'ybtheprophet', 'yday', 'ye', 'yea', 'yeaahh', 'yeah', 'year', 'yearold', 'yeat', 'yeda', 'yeehaw', 'yell', 'yelllowheath', 'yellow', 'yemen', 'yemeni', 'yennora', 'yes', 'yeshayad', 'yessum', 'yesterday', 'yet', 'yeyeulala', 'yh', 'yhngsjlg', 'yiayplan', 'yield', 'yike', 'yiraneuni', 'ykelquiban', 'ymcglaun', 'yo', 'yobe', 'yoga', 'yogurt', 'yolandaph', 'yonew', 'yor', 'york', 'yorker', 'yorkshir', 'yosemit', 'you', 'youd', 'yougov', 'youheat', 'youll', 'young', 'younger', 'youngergrossli', 'youngheroesid', 'youngin', 'your', 'yourboyshawn', 'yourself', 'yourselv', 'youth', 'youtub', 'youuu', 'youv', 'ypg', 'ypres', 'yr', 'yrs', 'yuan', 'yug', 'yugvani', 'yuki', 'yum', 'yumiko', 'yup', 'yuuko', 'yuvi', 'yyc', 'yycstorm', 'yycwalk', 'yycweath', 'yyeso', 'yygb', 'yyj', 'yzf', 'z', 'zaatari', 'zabadani', 'zacb', 'zachlowenba', 'zachzaidman', 'zaibatsunew', 'zakbagan', 'zakuun', 'zaman', 'zarharzar', 'zarri', 'zayn', 'zaynmalik', 'zeal', 'zenandemcfen', 'zepp', 'zergel', 'zero', 'zhenghxn', 'zimbabw', 'zimmer', 'zimmerman', 'zimpapersview', 'zionism', 'zionist', 'zip', 'ziphimup', 'zippednew', 'zipper', 'zippolin', 'ziuw', 'zmne', 'zodiac', 'zomatoaus', 'zombi', 'zombiefunrun', 'zone', 'zonesthank', 'zouma', 'zourryart', 'zss', 'zumiez', 'zurich']\n"
     ]
    }
   ],
   "source": [
    "print(vect.get_feature_names())"
   ]
  },
  {
   "cell_type": "code",
   "execution_count": 338,
   "metadata": {},
   "outputs": [],
   "source": [
    "#insantiate and fit transform tfidf vectorizer (term frequency)\n",
    "\n",
    "#vect = TfidfVectorizer(\n",
    "    #analyzer = lambda x: word_tokenize(x, how = 'stem'),\n",
    "    #ngram_range = (2, 2),\n",
    "    #stop_words = 'english',\n",
    "    #strip_accents = 'unicode'\n",
    "#)\n",
    "\n",
    "#create document term matrices\n",
    "\n",
    "#train_dtm2 = pd.DataFrame(vect.fit_transform(train['keyword']).todense(), columns = vect.get_feature_names())\n",
    "#test_dtm2 = pd.DataFrame(vect.transform(test['keyword']).todense(), columns = vect.get_feature_names())\n",
    "\n",
    "#ensure columns match\n",
    "\n",
    "#print(train_dtm2.shape)\n",
    "#print(test_dtm2.shape)"
   ]
  },
  {
   "cell_type": "code",
   "execution_count": 339,
   "metadata": {},
   "outputs": [],
   "source": [
    "#insantiate and fit transform tfidf vectorizer (term frequency)\n",
    "\n",
    "#vect = TfidfVectorizer(\n",
    "    #analyzer = lambda x: word_tokenize(x, how = 'stem'),\n",
    "    #ngram_range = (2, 2),\n",
    "    #stop_words = 'english',\n",
    "    #strip_accents = 'unicode'\n",
    "#)\n",
    "\n",
    "#create document term matrices\n",
    "\n",
    "#train_dtm3 = pd.DataFrame(vect.fit_transform(train['location']).todense(), columns = vect.get_feature_names())\n",
    "#test_dtm3 = pd.DataFrame(vect.transform(test['location']).todense(), columns = vect.get_feature_names())\n",
    "\n",
    "#ensure columns match\n",
    "\n",
    "#print(train_dtm3.shape)\n",
    "#print(test_dtm3.shape)"
   ]
  },
  {
   "cell_type": "code",
   "execution_count": 340,
   "metadata": {},
   "outputs": [],
   "source": [
    "#train_dtm.reset_index(drop = True, inplace = True)\n",
    "#test_dtm.reset_index(drop = True, inplace = True)\n",
    "#features.reset_index(drop = True, inplace = True)\n",
    "#features2.reset_index(drop = True, inplace = True)"
   ]
  },
  {
   "cell_type": "code",
   "execution_count": 341,
   "metadata": {},
   "outputs": [],
   "source": [
    "#train_dtm_test = pd.concat([train_dtm, features], axis = 1)\n",
    "#test_dtm_test = pd.concat([test_dtm, features2], axis = 1)"
   ]
  },
  {
   "cell_type": "code",
   "execution_count": 271,
   "metadata": {},
   "outputs": [
    {
     "name": "stdout",
     "output_type": "stream",
     "text": [
      "0.7967436974789915\n"
     ]
    },
    {
     "name": "stderr",
     "output_type": "stream",
     "text": [
      "/Users/steven.glembocki/opt/anaconda3/lib/python3.7/site-packages/sklearn/linear_model/logistic.py:432: FutureWarning: Default solver will be changed to 'lbfgs' in 0.22. Specify a solver to silence this warning.\n",
      "  FutureWarning)\n"
     ]
    }
   ],
   "source": [
    "logreg = LogisticRegression()\n",
    "logreg.fit(train_dtm, y_train)\n",
    "preds = pd.DataFrame(logreg.predict(test_dtm), columns = ['target'])\n",
    "print(accuracy_score(y_test, preds))"
   ]
  },
  {
   "cell_type": "code",
   "execution_count": 419,
   "metadata": {},
   "outputs": [],
   "source": [
    "vect = TfidfVectorizer(\n",
    "    #analyzer = lambda x: word_tokenize(x, how = 'lemma'),\n",
    "    stop_words = 'english',\n",
    "    strip_accents = 'unicode',\n",
    "    lowercase = True, #not working\n",
    "    ngram_range = (1, 1) #not working\n",
    ")\n",
    "\n",
    "train_dtm = pd.DataFrame(vect.fit_transform(train['text']).todense(), columns = vect.get_feature_names())\n",
    "test_dtm = pd.DataFrame(vect.transform(test['text']).todense(), columns = vect.get_feature_names())\n",
    "\n",
    "logreg = LogisticRegression(solver = 'lbfgs')\n",
    "logreg.fit(train_dtm, train['target'])\n",
    "preds = pd.DataFrame(logreg.predict(test_dtm), columns = ['target'])"
   ]
  },
  {
   "cell_type": "code",
   "execution_count": 420,
   "metadata": {},
   "outputs": [],
   "source": [
    "test_ids = test['id']\n",
    "result = pd.DataFrame(test_ids, columns = ['id'])\n",
    "result['target'] = preds"
   ]
  },
  {
   "cell_type": "code",
   "execution_count": 421,
   "metadata": {},
   "outputs": [],
   "source": [
    "result.to_csv('submission.csv', index = False)"
   ]
  },
  {
   "cell_type": "code",
   "execution_count": null,
   "metadata": {},
   "outputs": [],
   "source": []
  },
  {
   "cell_type": "code",
   "execution_count": null,
   "metadata": {},
   "outputs": [],
   "source": []
  },
  {
   "cell_type": "code",
   "execution_count": null,
   "metadata": {},
   "outputs": [],
   "source": []
  },
  {
   "cell_type": "code",
   "execution_count": null,
   "metadata": {},
   "outputs": [],
   "source": []
  }
 ],
 "metadata": {
  "kernelspec": {
   "display_name": "Python 3",
   "language": "python",
   "name": "python3"
  },
  "language_info": {
   "codemirror_mode": {
    "name": "ipython",
    "version": 3
   },
   "file_extension": ".py",
   "mimetype": "text/x-python",
   "name": "python",
   "nbconvert_exporter": "python",
   "pygments_lexer": "ipython3",
   "version": "3.7.4"
  }
 },
 "nbformat": 4,
 "nbformat_minor": 2
}
