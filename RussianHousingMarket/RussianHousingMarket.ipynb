{
 "cells": [
  {
   "cell_type": "code",
   "execution_count": 31,
   "metadata": {
    "collapsed": true
   },
   "outputs": [],
   "source": [
    "import pandas as pd\n",
    "import matplotlib.pyplot as plt\n",
    "import seaborn as sns\n",
    "import xgboost as xgb\n",
    "from sklearn.cross_validation import train_test_split\n",
    "%matplotlib inline"
   ]
  },
  {
   "cell_type": "code",
   "execution_count": 19,
   "metadata": {
    "collapsed": true
   },
   "outputs": [],
   "source": [
    "train = pd.read_csv('train.csv')\n",
    "test = pd.read_csv('test.csv')\n",
    "test_ids = pd.DataFrame(test['id'])\n",
    "test_ids = test_ids.reset_index(drop = True)"
   ]
  },
  {
   "cell_type": "code",
   "execution_count": 20,
   "metadata": {},
   "outputs": [
    {
     "data": {
      "text/html": [
       "<div>\n",
       "<table border=\"1\" class=\"dataframe\">\n",
       "  <thead>\n",
       "    <tr style=\"text-align: right;\">\n",
       "      <th></th>\n",
       "      <th>id</th>\n",
       "      <th>timestamp</th>\n",
       "      <th>full_sq</th>\n",
       "      <th>life_sq</th>\n",
       "      <th>floor</th>\n",
       "      <th>max_floor</th>\n",
       "      <th>material</th>\n",
       "      <th>build_year</th>\n",
       "      <th>num_room</th>\n",
       "      <th>kitch_sq</th>\n",
       "      <th>...</th>\n",
       "      <th>cafe_count_5000_price_2500</th>\n",
       "      <th>cafe_count_5000_price_4000</th>\n",
       "      <th>cafe_count_5000_price_high</th>\n",
       "      <th>big_church_count_5000</th>\n",
       "      <th>church_count_5000</th>\n",
       "      <th>mosque_count_5000</th>\n",
       "      <th>leisure_count_5000</th>\n",
       "      <th>sport_count_5000</th>\n",
       "      <th>market_count_5000</th>\n",
       "      <th>price_doc</th>\n",
       "    </tr>\n",
       "  </thead>\n",
       "  <tbody>\n",
       "    <tr>\n",
       "      <th>0</th>\n",
       "      <td>1</td>\n",
       "      <td>8/20/11</td>\n",
       "      <td>43</td>\n",
       "      <td>27</td>\n",
       "      <td>4</td>\n",
       "      <td>NaN</td>\n",
       "      <td>NaN</td>\n",
       "      <td>NaN</td>\n",
       "      <td>NaN</td>\n",
       "      <td>NaN</td>\n",
       "      <td>...</td>\n",
       "      <td>9</td>\n",
       "      <td>4</td>\n",
       "      <td>0</td>\n",
       "      <td>13</td>\n",
       "      <td>22</td>\n",
       "      <td>1</td>\n",
       "      <td>0</td>\n",
       "      <td>52</td>\n",
       "      <td>4</td>\n",
       "      <td>5850000</td>\n",
       "    </tr>\n",
       "    <tr>\n",
       "      <th>1</th>\n",
       "      <td>2</td>\n",
       "      <td>8/23/11</td>\n",
       "      <td>34</td>\n",
       "      <td>19</td>\n",
       "      <td>3</td>\n",
       "      <td>NaN</td>\n",
       "      <td>NaN</td>\n",
       "      <td>NaN</td>\n",
       "      <td>NaN</td>\n",
       "      <td>NaN</td>\n",
       "      <td>...</td>\n",
       "      <td>15</td>\n",
       "      <td>3</td>\n",
       "      <td>0</td>\n",
       "      <td>15</td>\n",
       "      <td>29</td>\n",
       "      <td>1</td>\n",
       "      <td>10</td>\n",
       "      <td>66</td>\n",
       "      <td>14</td>\n",
       "      <td>6000000</td>\n",
       "    </tr>\n",
       "    <tr>\n",
       "      <th>2</th>\n",
       "      <td>3</td>\n",
       "      <td>8/27/11</td>\n",
       "      <td>43</td>\n",
       "      <td>29</td>\n",
       "      <td>2</td>\n",
       "      <td>NaN</td>\n",
       "      <td>NaN</td>\n",
       "      <td>NaN</td>\n",
       "      <td>NaN</td>\n",
       "      <td>NaN</td>\n",
       "      <td>...</td>\n",
       "      <td>10</td>\n",
       "      <td>3</td>\n",
       "      <td>0</td>\n",
       "      <td>11</td>\n",
       "      <td>27</td>\n",
       "      <td>0</td>\n",
       "      <td>4</td>\n",
       "      <td>67</td>\n",
       "      <td>10</td>\n",
       "      <td>5700000</td>\n",
       "    </tr>\n",
       "    <tr>\n",
       "      <th>3</th>\n",
       "      <td>4</td>\n",
       "      <td>9/1/11</td>\n",
       "      <td>89</td>\n",
       "      <td>50</td>\n",
       "      <td>9</td>\n",
       "      <td>NaN</td>\n",
       "      <td>NaN</td>\n",
       "      <td>NaN</td>\n",
       "      <td>NaN</td>\n",
       "      <td>NaN</td>\n",
       "      <td>...</td>\n",
       "      <td>11</td>\n",
       "      <td>2</td>\n",
       "      <td>1</td>\n",
       "      <td>4</td>\n",
       "      <td>4</td>\n",
       "      <td>0</td>\n",
       "      <td>0</td>\n",
       "      <td>26</td>\n",
       "      <td>3</td>\n",
       "      <td>13100000</td>\n",
       "    </tr>\n",
       "    <tr>\n",
       "      <th>4</th>\n",
       "      <td>5</td>\n",
       "      <td>9/5/11</td>\n",
       "      <td>77</td>\n",
       "      <td>77</td>\n",
       "      <td>4</td>\n",
       "      <td>NaN</td>\n",
       "      <td>NaN</td>\n",
       "      <td>NaN</td>\n",
       "      <td>NaN</td>\n",
       "      <td>NaN</td>\n",
       "      <td>...</td>\n",
       "      <td>319</td>\n",
       "      <td>108</td>\n",
       "      <td>17</td>\n",
       "      <td>135</td>\n",
       "      <td>236</td>\n",
       "      <td>2</td>\n",
       "      <td>91</td>\n",
       "      <td>195</td>\n",
       "      <td>14</td>\n",
       "      <td>16331452</td>\n",
       "    </tr>\n",
       "  </tbody>\n",
       "</table>\n",
       "<p>5 rows × 292 columns</p>\n",
       "</div>"
      ],
      "text/plain": [
       "   id timestamp  full_sq  life_sq  floor  max_floor  material  build_year  \\\n",
       "0   1   8/20/11       43       27      4        NaN       NaN         NaN   \n",
       "1   2   8/23/11       34       19      3        NaN       NaN         NaN   \n",
       "2   3   8/27/11       43       29      2        NaN       NaN         NaN   \n",
       "3   4    9/1/11       89       50      9        NaN       NaN         NaN   \n",
       "4   5    9/5/11       77       77      4        NaN       NaN         NaN   \n",
       "\n",
       "   num_room  kitch_sq    ...      cafe_count_5000_price_2500  \\\n",
       "0       NaN       NaN    ...                               9   \n",
       "1       NaN       NaN    ...                              15   \n",
       "2       NaN       NaN    ...                              10   \n",
       "3       NaN       NaN    ...                              11   \n",
       "4       NaN       NaN    ...                             319   \n",
       "\n",
       "  cafe_count_5000_price_4000 cafe_count_5000_price_high  \\\n",
       "0                          4                          0   \n",
       "1                          3                          0   \n",
       "2                          3                          0   \n",
       "3                          2                          1   \n",
       "4                        108                         17   \n",
       "\n",
       "   big_church_count_5000  church_count_5000  mosque_count_5000  \\\n",
       "0                     13                 22                  1   \n",
       "1                     15                 29                  1   \n",
       "2                     11                 27                  0   \n",
       "3                      4                  4                  0   \n",
       "4                    135                236                  2   \n",
       "\n",
       "   leisure_count_5000  sport_count_5000  market_count_5000  price_doc  \n",
       "0                   0                52                  4    5850000  \n",
       "1                  10                66                 14    6000000  \n",
       "2                   4                67                 10    5700000  \n",
       "3                   0                26                  3   13100000  \n",
       "4                  91               195                 14   16331452  \n",
       "\n",
       "[5 rows x 292 columns]"
      ]
     },
     "execution_count": 20,
     "metadata": {},
     "output_type": "execute_result"
    }
   ],
   "source": [
    "train.head()"
   ]
  },
  {
   "cell_type": "code",
   "execution_count": 21,
   "metadata": {},
   "outputs": [
    {
     "name": "stdout",
     "output_type": "stream",
     "text": [
      "<class 'pandas.core.frame.DataFrame'>\n",
      "Int64Index: 30471 entries, 0 to 30470\n",
      "Columns: 292 entries, id to price_doc\n",
      "dtypes: float64(119), int64(157), object(16)\n",
      "memory usage: 68.1+ MB\n"
     ]
    }
   ],
   "source": [
    "train.info()"
   ]
  },
  {
   "cell_type": "code",
   "execution_count": 22,
   "metadata": {},
   "outputs": [
    {
     "data": {
      "text/plain": [
       "life_sq                                   6383\n",
       "floor                                      167\n",
       "max_floor                                 9572\n",
       "material                                  9572\n",
       "build_year                               13605\n",
       "num_room                                  9572\n",
       "kitch_sq                                  9572\n",
       "state                                    13559\n",
       "preschool_quota                           6688\n",
       "school_quota                              6685\n",
       "hospital_beds_raion                      14441\n",
       "raion_build_count_with_material_info      4991\n",
       "build_count_block                         4991\n",
       "build_count_wood                          4991\n",
       "build_count_frame                         4991\n",
       "build_count_brick                         4991\n",
       "build_count_monolith                      4991\n",
       "build_count_panel                         4991\n",
       "build_count_foam                          4991\n",
       "build_count_slag                          4991\n",
       "build_count_mix                           4991\n",
       "raion_build_count_with_builddate_info     4991\n",
       "build_count_before_1920                   4991\n",
       "build_count_1921-1945                     4991\n",
       "build_count_1946-1970                     4991\n",
       "build_count_1971-1995                     4991\n",
       "build_count_after_1995                    4991\n",
       "metro_min_walk                              25\n",
       "metro_km_walk                               25\n",
       "railroad_station_walk_km                    25\n",
       "railroad_station_walk_min                   25\n",
       "ID_railroad_station_walk                    25\n",
       "cafe_sum_500_min_price_avg               13281\n",
       "cafe_sum_500_max_price_avg               13281\n",
       "cafe_avg_price_500                       13281\n",
       "cafe_sum_1000_min_price_avg               6524\n",
       "cafe_sum_1000_max_price_avg               6524\n",
       "cafe_avg_price_1000                       6524\n",
       "cafe_sum_1500_min_price_avg               4199\n",
       "cafe_sum_1500_max_price_avg               4199\n",
       "cafe_avg_price_1500                       4199\n",
       "cafe_sum_2000_min_price_avg               1725\n",
       "cafe_sum_2000_max_price_avg               1725\n",
       "cafe_avg_price_2000                       1725\n",
       "cafe_sum_3000_min_price_avg                991\n",
       "cafe_sum_3000_max_price_avg                991\n",
       "cafe_avg_price_3000                        991\n",
       "prom_part_5000                             178\n",
       "cafe_sum_5000_min_price_avg                297\n",
       "cafe_sum_5000_max_price_avg                297\n",
       "cafe_avg_price_5000                        297\n",
       "dtype: int64"
      ]
     },
     "execution_count": 22,
     "metadata": {},
     "output_type": "execute_result"
    }
   ],
   "source": [
    "#list columns that contain NaN values\n",
    "\n",
    "train.isnull().sum()[train.isnull().sum() >= 1]"
   ]
  },
  {
   "cell_type": "code",
   "execution_count": 23,
   "metadata": {},
   "outputs": [
    {
     "name": "stdout",
     "output_type": "stream",
     "text": [
      "<class 'pandas.core.frame.DataFrame'>\n",
      "Int64Index: 30471 entries, 0 to 30470\n",
      "Columns: 241 entries, id to price_doc\n",
      "dtypes: float64(68), int64(157), object(16)\n",
      "memory usage: 56.3+ MB\n"
     ]
    }
   ],
   "source": [
    "#drop columns with NaN values for now, will populate later\n",
    "\n",
    "del train['life_sq']\n",
    "del train['floor']\n",
    "del train['max_floor']\n",
    "del train['material']\n",
    "del train['build_year']\n",
    "del train['num_room']\n",
    "del train['kitch_sq']\n",
    "del train['state']\n",
    "del train['preschool_quota']\n",
    "del train['school_quota']\n",
    "del train['hospital_beds_raion']\n",
    "del train['raion_build_count_with_material_info']\n",
    "del train['build_count_block']\n",
    "del train['build_count_wood']\n",
    "del train['build_count_frame']\n",
    "del train['build_count_brick']\n",
    "del train['build_count_monolith']\n",
    "del train['build_count_panel']\n",
    "del train['build_count_foam']\n",
    "del train['build_count_slag']\n",
    "del train['build_count_mix']\n",
    "del train['raion_build_count_with_builddate_info']\n",
    "del train['build_count_before_1920']\n",
    "del train['build_count_1921-1945']\n",
    "del train['build_count_1946-1970']\n",
    "del train['build_count_1971-1995']\n",
    "del train['build_count_after_1995']\n",
    "del train['metro_min_walk']\n",
    "del train['metro_km_walk']\n",
    "del train['railroad_station_walk_km']\n",
    "del train['railroad_station_walk_min']\n",
    "del train['ID_railroad_station_walk']\n",
    "del train['cafe_sum_500_min_price_avg']\n",
    "del train['cafe_sum_500_max_price_avg']\n",
    "del train['cafe_avg_price_500']\n",
    "del train['cafe_sum_1000_min_price_avg']\n",
    "del train['cafe_sum_1000_max_price_avg']\n",
    "del train['cafe_avg_price_1000']\n",
    "del train['cafe_sum_1500_min_price_avg']\n",
    "del train['cafe_sum_1500_max_price_avg']\n",
    "del train['cafe_avg_price_1500']\n",
    "del train['cafe_sum_2000_min_price_avg']\n",
    "del train['cafe_sum_2000_max_price_avg']\n",
    "del train['cafe_avg_price_2000']\n",
    "del train['cafe_sum_3000_min_price_avg']\n",
    "del train['cafe_sum_3000_max_price_avg']\n",
    "del train['cafe_avg_price_3000']\n",
    "del train['prom_part_5000']\n",
    "del train['cafe_sum_5000_min_price_avg']\n",
    "del train['cafe_sum_5000_max_price_avg']\n",
    "del train['cafe_avg_price_5000']\n",
    "train.info()"
   ]
  },
  {
   "cell_type": "code",
   "execution_count": 24,
   "metadata": {},
   "outputs": [
    {
     "data": {
      "text/plain": [
       "<matplotlib.axes._subplots.AxesSubplot at 0x11739acd0>"
      ]
     },
     "execution_count": 24,
     "metadata": {},
     "output_type": "execute_result"
    },
    {
     "data": {
      "image/png": "[encoded data removed]",
      "text/plain": [
       "<matplotlib.figure.Figure at 0x11739a750>"
      ]
     },
     "metadata": {},
     "output_type": "display_data"
    }
   ],
   "source": [
    "#price distribution\n",
    "\n",
    "sns.distplot(train['price_doc'])"
   ]
  },
  {
   "cell_type": "code",
   "execution_count": 32,
   "metadata": {},
   "outputs": [],
   "source": [
    "#train test split\n",
    "\n",
    "df = train\n",
    "X, y = df.drop('price_doc', axis = 1), df['price_doc']\n",
    "X_train, X_test, y_train, y_test = train_test_split(X, y, random_state = 1)"
   ]
  },
  {
   "cell_type": "code",
   "execution_count": 6,
   "metadata": {},
   "outputs": [
    {
     "data": {
      "text/plain": [
       "6274411.0"
      ]
     },
     "execution_count": 6,
     "metadata": {},
     "output_type": "execute_result"
    }
   ],
   "source": [
    "train['price_doc'].median()"
   ]
  },
  {
   "cell_type": "code",
   "execution_count": 7,
   "metadata": {},
   "outputs": [
    {
     "data": {
      "text/html": [
       "<div>\n",
       "<table border=\"1\" class=\"dataframe\">\n",
       "  <thead>\n",
       "    <tr style=\"text-align: right;\">\n",
       "      <th></th>\n",
       "      <th>id</th>\n",
       "      <th>price_doc</th>\n",
       "    </tr>\n",
       "  </thead>\n",
       "  <tbody>\n",
       "    <tr>\n",
       "      <th>0</th>\n",
       "      <td>30474</td>\n",
       "      <td>6274411</td>\n",
       "    </tr>\n",
       "    <tr>\n",
       "      <th>1</th>\n",
       "      <td>30475</td>\n",
       "      <td>6274411</td>\n",
       "    </tr>\n",
       "    <tr>\n",
       "      <th>2</th>\n",
       "      <td>30476</td>\n",
       "      <td>6274411</td>\n",
       "    </tr>\n",
       "    <tr>\n",
       "      <th>3</th>\n",
       "      <td>30477</td>\n",
       "      <td>6274411</td>\n",
       "    </tr>\n",
       "    <tr>\n",
       "      <th>4</th>\n",
       "      <td>30478</td>\n",
       "      <td>6274411</td>\n",
       "    </tr>\n",
       "  </tbody>\n",
       "</table>\n",
       "</div>"
      ],
      "text/plain": [
       "      id  price_doc\n",
       "0  30474    6274411\n",
       "1  30475    6274411\n",
       "2  30476    6274411\n",
       "3  30477    6274411\n",
       "4  30478    6274411"
      ]
     },
     "execution_count": 7,
     "metadata": {},
     "output_type": "execute_result"
    }
   ],
   "source": [
    "#null accuracy submission\n",
    "\n",
    "test_ids['price_doc'] = 6274411\n",
    "\n",
    "result = test_ids\n",
    "result.head()"
   ]
  },
  {
   "cell_type": "code",
   "execution_count": 39,
   "metadata": {
    "collapsed": true
   },
   "outputs": [],
   "source": [
    "result.to_csv('submission.csv', sep = ',', index = False)"
   ]
  },
  {
   "cell_type": "code",
   "execution_count": null,
   "metadata": {
    "collapsed": true
   },
   "outputs": [],
   "source": []
  }
 ],
 "metadata": {
  "kernelspec": {
   "display_name": "Python 2",
   "language": "python",
   "name": "python2"
  },
  "language_info": {
   "codemirror_mode": {
    "name": "ipython",
    "version": 2
   },
   "file_extension": ".py",
   "mimetype": "text/x-python",
   "name": "python",
   "nbconvert_exporter": "python",
   "pygments_lexer": "ipython2",
   "version": "2.7.13"
  }
 },
 "nbformat": 4,
 "nbformat_minor": 2
}
