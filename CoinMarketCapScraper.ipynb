{
 "cells": [
  {
   "cell_type": "code",
   "execution_count": 5,
   "metadata": {
    "collapsed": true
   },
   "outputs": [],
   "source": [
    "#imports\n",
    "\n",
    "from lxml import html\n",
    "import requests\n",
    "import pandas as pd\n",
    "import numpy as np"
   ]
  },
  {
   "cell_type": "code",
   "execution_count": 6,
   "metadata": {
    "collapsed": true
   },
   "outputs": [],
   "source": [
    "#requests\n",
    "\n",
    "page = requests.get('https://coinmarketcap.com/')\n",
    "tree = html.fromstring(page.content)\n",
    "names = tree.xpath('//a[@class = \"currency-name-container\"]/text()')"
   ]
  },
  {
   "cell_type": "code",
   "execution_count": 7,
   "metadata": {},
   "outputs": [],
   "source": [
    "#create blank dataframe\n",
    "\n",
    "columns = ['Date', 'Open', 'High', 'Low', 'Close', 'Volume', 'MarketCap', 'CryptoName']\n",
    "df = pd.DataFrame(columns = columns)"
   ]
  },
  {
   "cell_type": "code",
   "execution_count": 8,
   "metadata": {},
   "outputs": [
    {
     "name": "stdout",
     "output_type": "stream",
     "text": [
      "successfully added bitcoin historical data\n",
      "successfully added ethereum historical data\n",
      "successfully added ripple historical data\n",
      "successfully added bitcoin cash historical data\n",
      "successfully added litecoin historical data\n",
      "successfully added cardano historical data\n",
      "successfully added iota historical data\n",
      "successfully added dash historical data\n",
      "successfully added nem historical data\n",
      "successfully added monero historical data\n",
      "successfully added eos historical data\n",
      "successfully added bitcoin gold historical data\n",
      "successfully added neo historical data\n",
      "successfully added stellar historical data\n",
      "successfully added qtum historical data\n",
      "successfully added ethereum classic historical data\n",
      "successfully added lisk historical data\n",
      "successfully added bitconnect historical data\n",
      "successfully added tron historical data\n",
      "successfully added verge historical data\n",
      "successfully added zcash historical data\n",
      "successfully added ardor historical data\n",
      "successfully added hshare historical data\n",
      "successfully added omisego historical data\n",
      "successfully added bitshares historical data\n",
      "successfully added icon historical data\n",
      "successfully added waves historical data\n",
      "successfully added stratis historical data\n",
      "successfully added raiblocks historical data\n",
      "successfully added nxt historical data\n",
      "successfully added populous historical data\n",
      "successfully added tether historical data\n",
      "successfully added bytecoin historical data\n",
      "successfully added dogecoin historical data\n",
      "successfully added komodo historical data\n",
      "successfully added binance coin historical data\n",
      "successfully added siacoin historical data\n",
      "successfully added augur historical data\n",
      "successfully added steem historical data\n",
      "successfully added golem historical data\n",
      "successfully added ark historical data\n",
      "successfully added salt historical data\n",
      "successfully added pivx historical data\n",
      "successfully added veritaseum historical data\n",
      "successfully added monacoin historical data\n",
      "successfully added digibyte historical data\n",
      "successfully added decred historical data\n",
      "successfully added vechain historical data\n",
      "successfully added status historical data\n",
      "successfully added zcoin historical data\n",
      "successfully added maidsafecoin historical data\n",
      "successfully added syscoin historical data\n",
      "successfully added tenx historical data\n",
      "successfully added byteball bytes historical data\n",
      "successfully added electroneum historical data\n",
      "successfully added basic attenti... historical data\n",
      "successfully added reddcoin historical data\n",
      "successfully added bytom historical data\n",
      "successfully added factom historical data\n",
      "successfully added digixdao historical data\n",
      "successfully added aion historical data\n",
      "successfully added bitcoindark historical data\n",
      "successfully added santiment net... historical data\n",
      "successfully added aeternity historical data\n",
      "successfully added civic historical data\n",
      "successfully added 0x historical data\n",
      "successfully added qash historical data\n",
      "successfully added power ledger historical data\n",
      "successfully added dent historical data\n",
      "successfully added kyber network historical data\n",
      "successfully added vertcoin historical data\n",
      "successfully added walton historical data\n",
      "successfully added substratum historical data\n",
      "successfully added gamecredits historical data\n",
      "successfully added aelf historical data\n"
     ]
    }
   ],
   "source": [
    "#append hostorical data\n",
    "\n",
    "for i in range(0, 75):\n",
    "    page = requests.get('https://coinmarketcap.com/currencies/' + names[i] + '/historical-data/?start=20170101&end=20171227')\n",
    "    tree = html.fromstring(page.content)\n",
    "    dates = tree.xpath('//td[@class = \"text-left\"]/text()')\n",
    "    detail = tree.xpath('//td/text()')\n",
    "    df2 = pd.DataFrame(np.array(detail).reshape(len(dates), 7), columns = ['Date', 'Open', 'High', 'Low', 'Close', 'Volume', 'MarketCap'])\n",
    "    df2['CryptoName'] = names[i]\n",
    "    df = df.append(df2)\n",
    "    print('successfully added ' + names[i].lower() + ' historical data')"
   ]
  },
  {
   "cell_type": "code",
   "execution_count": 9,
   "metadata": {},
   "outputs": [
    {
     "data": {
      "text/html": [
       "<div>\n",
       "<style>\n",
       "    .dataframe thead tr:only-child th {\n",
       "        text-align: right;\n",
       "    }\n",
       "\n",
       "    .dataframe thead th {\n",
       "        text-align: left;\n",
       "    }\n",
       "\n",
       "    .dataframe tbody tr th {\n",
       "        vertical-align: top;\n",
       "    }\n",
       "</style>\n",
       "<table border=\"1\" class=\"dataframe\">\n",
       "  <thead>\n",
       "    <tr style=\"text-align: right;\">\n",
       "      <th></th>\n",
       "      <th>Date</th>\n",
       "      <th>Open</th>\n",
       "      <th>High</th>\n",
       "      <th>Low</th>\n",
       "      <th>Close</th>\n",
       "      <th>Volume</th>\n",
       "      <th>MarketCap</th>\n",
       "      <th>CryptoName</th>\n",
       "    </tr>\n",
       "  </thead>\n",
       "  <tbody>\n",
       "    <tr>\n",
       "      <th>0</th>\n",
       "      <td>Dec 26, 2017</td>\n",
       "      <td>14036.60</td>\n",
       "      <td>16461.20</td>\n",
       "      <td>14028.90</td>\n",
       "      <td>16099.80</td>\n",
       "      <td>13,454,300,000</td>\n",
       "      <td>235,294,000,000</td>\n",
       "      <td>Bitcoin</td>\n",
       "    </tr>\n",
       "    <tr>\n",
       "      <th>1</th>\n",
       "      <td>Dec 25, 2017</td>\n",
       "      <td>13995.90</td>\n",
       "      <td>14593.00</td>\n",
       "      <td>13448.90</td>\n",
       "      <td>14026.60</td>\n",
       "      <td>10,664,700,000</td>\n",
       "      <td>234,590,000,000</td>\n",
       "      <td>Bitcoin</td>\n",
       "    </tr>\n",
       "    <tr>\n",
       "      <th>2</th>\n",
       "      <td>Dec 24, 2017</td>\n",
       "      <td>14608.20</td>\n",
       "      <td>14626.00</td>\n",
       "      <td>12747.70</td>\n",
       "      <td>13925.80</td>\n",
       "      <td>11,572,300,000</td>\n",
       "      <td>244,824,000,000</td>\n",
       "      <td>Bitcoin</td>\n",
       "    </tr>\n",
       "    <tr>\n",
       "      <th>3</th>\n",
       "      <td>Dec 23, 2017</td>\n",
       "      <td>13948.70</td>\n",
       "      <td>15603.20</td>\n",
       "      <td>13828.80</td>\n",
       "      <td>14699.20</td>\n",
       "      <td>13,086,000,000</td>\n",
       "      <td>233,748,000,000</td>\n",
       "      <td>Bitcoin</td>\n",
       "    </tr>\n",
       "    <tr>\n",
       "      <th>4</th>\n",
       "      <td>Dec 22, 2017</td>\n",
       "      <td>15898.00</td>\n",
       "      <td>15943.40</td>\n",
       "      <td>11833.00</td>\n",
       "      <td>13831.80</td>\n",
       "      <td>22,198,000,000</td>\n",
       "      <td>266,381,000,000</td>\n",
       "      <td>Bitcoin</td>\n",
       "    </tr>\n",
       "  </tbody>\n",
       "</table>\n",
       "</div>"
      ],
      "text/plain": [
       "           Date      Open      High       Low     Close          Volume  \\\n",
       "0  Dec 26, 2017  14036.60  16461.20  14028.90  16099.80  13,454,300,000   \n",
       "1  Dec 25, 2017  13995.90  14593.00  13448.90  14026.60  10,664,700,000   \n",
       "2  Dec 24, 2017  14608.20  14626.00  12747.70  13925.80  11,572,300,000   \n",
       "3  Dec 23, 2017  13948.70  15603.20  13828.80  14699.20  13,086,000,000   \n",
       "4  Dec 22, 2017  15898.00  15943.40  11833.00  13831.80  22,198,000,000   \n",
       "\n",
       "         MarketCap CryptoName  \n",
       "0  235,294,000,000    Bitcoin  \n",
       "1  234,590,000,000    Bitcoin  \n",
       "2  244,824,000,000    Bitcoin  \n",
       "3  233,748,000,000    Bitcoin  \n",
       "4  266,381,000,000    Bitcoin  "
      ]
     },
     "execution_count": 9,
     "metadata": {},
     "output_type": "execute_result"
    }
   ],
   "source": [
    "#test output\n",
    "\n",
    "df.head()"
   ]
  },
  {
   "cell_type": "code",
   "execution_count": 10,
   "metadata": {},
   "outputs": [
    {
     "name": "stdout",
     "output_type": "stream",
     "text": [
      "<class 'pandas.core.frame.DataFrame'>\n",
      "Int64Index: 17113 entries, 0 to 5\n",
      "Data columns (total 8 columns):\n",
      "Date          17113 non-null object\n",
      "Open          17113 non-null object\n",
      "High          17113 non-null object\n",
      "Low           17113 non-null object\n",
      "Close         17113 non-null object\n",
      "Volume        17113 non-null object\n",
      "MarketCap     17113 non-null object\n",
      "CryptoName    17113 non-null object\n",
      "dtypes: object(8)\n",
      "memory usage: 1.2+ MB\n"
     ]
    }
   ],
   "source": [
    "#test output cont.\n",
    "\n",
    "df.info()"
   ]
  },
  {
   "cell_type": "code",
   "execution_count": 11,
   "metadata": {
    "collapsed": true
   },
   "outputs": [],
   "source": [
    "#create csv file as output\n",
    "\n",
    "df.to_csv('output.csv')"
   ]
  },
  {
   "cell_type": "code",
   "execution_count": null,
   "metadata": {
    "collapsed": true
   },
   "outputs": [],
   "source": []
  }
 ],
 "metadata": {
  "kernelspec": {
   "display_name": "Python 3",
   "language": "python",
   "name": "python3"
  },
  "language_info": {
   "codemirror_mode": {
    "name": "ipython",
    "version": 3
   },
   "file_extension": ".py",
   "mimetype": "text/x-python",
   "name": "python",
   "nbconvert_exporter": "python",
   "pygments_lexer": "ipython3",
   "version": "3.6.3"
  }
 },
 "nbformat": 4,
 "nbformat_minor": 2
}
