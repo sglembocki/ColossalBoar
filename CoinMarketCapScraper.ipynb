{
 "cells": [
  {
   "cell_type": "code",
   "execution_count": 1,
   "metadata": {
    "collapsed": true
   },
   "outputs": [],
   "source": [
    "#imports\n",
    "\n",
    "from lxml import html\n",
    "import requests\n",
    "import pandas as pd\n",
    "import numpy as np\n",
    "import datetime"
   ]
  },
  {
   "cell_type": "code",
   "execution_count": 2,
   "metadata": {},
   "outputs": [
    {
     "name": "stdout",
     "output_type": "stream",
     "text": [
      "2018 6 19 21 11 32\n"
     ]
    }
   ],
   "source": [
    "now = datetime.datetime.now()\n",
    "print(now.year, now.month, now.day, now.hour, now.minute, now.second)"
   ]
  },
  {
   "cell_type": "code",
   "execution_count": 10,
   "metadata": {
    "collapsed": true
   },
   "outputs": [],
   "source": [
    "#requests\n",
    "\n",
    "page = requests.get('https://coinmarketcap.com/')\n",
    "tree = html.fromstring(page.content)\n",
    "names = tree.xpath('//a[@class = \"currency-name-container link-secondary\"]/text()')"
   ]
  },
  {
   "cell_type": "code",
   "execution_count": 12,
   "metadata": {
    "collapsed": true
   },
   "outputs": [],
   "source": [
    "#create blank dataframe\n",
    "\n",
    "columns = ['Date', 'Open', 'High', 'Low', 'Close', 'Volume', 'MarketCap', 'CryptoName', 'Rank']\n",
    "df = pd.DataFrame(columns = columns)"
   ]
  },
  {
   "cell_type": "code",
   "execution_count": 13,
   "metadata": {},
   "outputs": [
    {
     "name": "stdout",
     "output_type": "stream",
     "text": [
      "successfully added bitcoin historical data\n",
      "successfully added ethereum historical data\n",
      "successfully added ripple historical data\n",
      "successfully added bitcoin cash historical data\n",
      "successfully added eos historical data\n",
      "successfully added litecoin historical data\n",
      "successfully added stellar historical data\n",
      "successfully added cardano historical data\n",
      "successfully added iota historical data\n",
      "successfully added tron historical data\n",
      "successfully added tether historical data\n",
      "successfully added neo historical data\n",
      "successfully added dash historical data\n",
      "successfully added monero historical data\n",
      "successfully added binance coin historical data\n",
      "successfully added nem historical data\n",
      "successfully added vechain historical data\n",
      "successfully added ethereum classic historical data\n",
      "successfully added ontology historical data\n",
      "successfully added omisego historical data\n",
      "successfully added qtum historical data\n",
      "successfully added zcash historical data\n",
      "successfully added icon historical data\n",
      "successfully added bytecoin historical data\n",
      "successfully added lisk historical data\n",
      "successfully added decred historical data\n",
      "successfully added zilliqa historical data\n",
      "successfully added aeternity historical data\n",
      "successfully added bitcoin gold historical data\n",
      "successfully added bytom historical data\n",
      "successfully added 0x historical data\n",
      "successfully added siacoin historical data\n",
      "successfully added verge historical data\n",
      "successfully added steem historical data\n",
      "successfully added bitshares historical data\n",
      "successfully added augur historical data\n",
      "successfully added nano historical data\n",
      "successfully added rchain historical data\n",
      "successfully added waves historical data\n",
      "successfully added bitcoin diamond historical data\n",
      "successfully added dogecoin historical data\n",
      "successfully added maker historical data\n",
      "successfully added wanchain historical data\n",
      "successfully added bitcoin private historical data\n",
      "successfully added golem historical data\n",
      "successfully added stratis historical data\n",
      "successfully added populous historical data\n",
      "successfully added digibyte historical data\n",
      "successfully added waltonchain historical data\n",
      "successfully added status historical data\n",
      "successfully added basic attenti... historical data\n",
      "successfully added nebulas historical data\n",
      "successfully added hshare historical data\n",
      "successfully added huobi token historical data\n",
      "successfully added iost historical data\n",
      "successfully added kucoin shares historical data\n",
      "successfully added aion historical data\n",
      "successfully added digixdao historical data\n",
      "successfully added loopring historical data\n",
      "successfully added komodo historical data\n",
      "successfully added gxchain historical data\n",
      "successfully added bancor historical data\n",
      "successfully added cryptonex historical data\n",
      "successfully added reddcoin historical data\n",
      "successfully added ardor historical data\n",
      "successfully added aelf historical data\n",
      "successfully added moac historical data\n",
      "successfully added monacoin historical data\n",
      "successfully added maidsafecoin historical data\n",
      "successfully added ark historical data\n",
      "successfully added dentacoin historical data\n",
      "successfully added elastos historical data\n",
      "successfully added cybermiles historical data\n",
      "successfully added pivx historical data\n",
      "successfully added bibox token historical data\n"
     ]
    }
   ],
   "source": [
    "#append hostorical data\n",
    "\n",
    "for i in range(0, 75):\n",
    "    page = requests.get('https://coinmarketcap.com/currencies/' + names[i].lower() + '/historical-data/?start=20170101&end=' + str(now.year) + str(now.month) + str(now.day))\n",
    "    tree = html.fromstring(page.content)\n",
    "    dates = tree.xpath('//td[@class = \"text-left\"]/text()')\n",
    "    detail = tree.xpath('//td/text()')\n",
    "    df2 = pd.DataFrame(np.array(detail).reshape(len(dates), 7), columns = ['Date', 'Open', 'High', 'Low', 'Close', 'Volume', 'MarketCap'])\n",
    "    df2['CryptoName'] = names[i]\n",
    "    df2['Rank'] = i + 1\n",
    "    df = df.append(df2)\n",
    "    print('successfully added ' + names[i].lower() + ' historical data')"
   ]
  },
  {
   "cell_type": "code",
   "execution_count": 14,
   "metadata": {},
   "outputs": [
    {
     "data": {
      "text/html": [
       "<div>\n",
       "<style>\n",
       "    .dataframe thead tr:only-child th {\n",
       "        text-align: right;\n",
       "    }\n",
       "\n",
       "    .dataframe thead th {\n",
       "        text-align: left;\n",
       "    }\n",
       "\n",
       "    .dataframe tbody tr th {\n",
       "        vertical-align: top;\n",
       "    }\n",
       "</style>\n",
       "<table border=\"1\" class=\"dataframe\">\n",
       "  <thead>\n",
       "    <tr style=\"text-align: right;\">\n",
       "      <th></th>\n",
       "      <th>Date</th>\n",
       "      <th>Open</th>\n",
       "      <th>High</th>\n",
       "      <th>Low</th>\n",
       "      <th>Close</th>\n",
       "      <th>Volume</th>\n",
       "      <th>MarketCap</th>\n",
       "      <th>CryptoName</th>\n",
       "      <th>Rank</th>\n",
       "    </tr>\n",
       "  </thead>\n",
       "  <tbody>\n",
       "    <tr>\n",
       "      <th>0</th>\n",
       "      <td>Jun 19, 2018</td>\n",
       "      <td>6742.39</td>\n",
       "      <td>6822.50</td>\n",
       "      <td>6709.92</td>\n",
       "      <td>6769.94</td>\n",
       "      <td>4,057,030,000</td>\n",
       "      <td>115,306,000,000</td>\n",
       "      <td>Bitcoin</td>\n",
       "      <td>1</td>\n",
       "    </tr>\n",
       "    <tr>\n",
       "      <th>1</th>\n",
       "      <td>Jun 18, 2018</td>\n",
       "      <td>6510.07</td>\n",
       "      <td>6781.14</td>\n",
       "      <td>6446.68</td>\n",
       "      <td>6734.82</td>\n",
       "      <td>4,039,200,000</td>\n",
       "      <td>111,319,000,000</td>\n",
       "      <td>Bitcoin</td>\n",
       "      <td>1</td>\n",
       "    </tr>\n",
       "    <tr>\n",
       "      <th>2</th>\n",
       "      <td>Jun 17, 2018</td>\n",
       "      <td>6545.53</td>\n",
       "      <td>6589.11</td>\n",
       "      <td>6499.27</td>\n",
       "      <td>6499.27</td>\n",
       "      <td>3,104,020,000</td>\n",
       "      <td>111,913,000,000</td>\n",
       "      <td>Bitcoin</td>\n",
       "      <td>1</td>\n",
       "    </tr>\n",
       "    <tr>\n",
       "      <th>3</th>\n",
       "      <td>Jun 16, 2018</td>\n",
       "      <td>6455.45</td>\n",
       "      <td>6592.49</td>\n",
       "      <td>6402.29</td>\n",
       "      <td>6550.16</td>\n",
       "      <td>3,194,170,000</td>\n",
       "      <td>110,359,000,000</td>\n",
       "      <td>Bitcoin</td>\n",
       "      <td>1</td>\n",
       "    </tr>\n",
       "    <tr>\n",
       "      <th>4</th>\n",
       "      <td>Jun 15, 2018</td>\n",
       "      <td>6674.08</td>\n",
       "      <td>6681.08</td>\n",
       "      <td>6433.87</td>\n",
       "      <td>6456.58</td>\n",
       "      <td>3,955,390,000</td>\n",
       "      <td>114,084,000,000</td>\n",
       "      <td>Bitcoin</td>\n",
       "      <td>1</td>\n",
       "    </tr>\n",
       "  </tbody>\n",
       "</table>\n",
       "</div>"
      ],
      "text/plain": [
       "           Date     Open     High      Low    Close         Volume  \\\n",
       "0  Jun 19, 2018  6742.39  6822.50  6709.92  6769.94  4,057,030,000   \n",
       "1  Jun 18, 2018  6510.07  6781.14  6446.68  6734.82  4,039,200,000   \n",
       "2  Jun 17, 2018  6545.53  6589.11  6499.27  6499.27  3,104,020,000   \n",
       "3  Jun 16, 2018  6455.45  6592.49  6402.29  6550.16  3,194,170,000   \n",
       "4  Jun 15, 2018  6674.08  6681.08  6433.87  6456.58  3,955,390,000   \n",
       "\n",
       "         MarketCap CryptoName Rank  \n",
       "0  115,306,000,000    Bitcoin    1  \n",
       "1  111,319,000,000    Bitcoin    1  \n",
       "2  111,913,000,000    Bitcoin    1  \n",
       "3  110,359,000,000    Bitcoin    1  \n",
       "4  114,084,000,000    Bitcoin    1  "
      ]
     },
     "execution_count": 14,
     "metadata": {},
     "output_type": "execute_result"
    }
   ],
   "source": [
    "#test output\n",
    "\n",
    "df.head()"
   ]
  },
  {
   "cell_type": "code",
   "execution_count": 15,
   "metadata": {},
   "outputs": [
    {
     "name": "stdout",
     "output_type": "stream",
     "text": [
      "<class 'pandas.core.frame.DataFrame'>\n",
      "Int64Index: 24588 entries, 0 to 534\n",
      "Data columns (total 9 columns):\n",
      "Date          24588 non-null object\n",
      "Open          24588 non-null object\n",
      "High          24588 non-null object\n",
      "Low           24588 non-null object\n",
      "Close         24588 non-null object\n",
      "Volume        24588 non-null object\n",
      "MarketCap     24588 non-null object\n",
      "CryptoName    24588 non-null object\n",
      "Rank          24588 non-null object\n",
      "dtypes: object(9)\n",
      "memory usage: 1.9+ MB\n"
     ]
    }
   ],
   "source": [
    "#test output cont.\n",
    "\n",
    "df.info()"
   ]
  },
  {
   "cell_type": "code",
   "execution_count": 16,
   "metadata": {
    "collapsed": true
   },
   "outputs": [],
   "source": [
    "#create csv file as output\n",
    "\n",
    "df.to_csv('output.csv')"
   ]
  },
  {
   "cell_type": "code",
   "execution_count": null,
   "metadata": {
    "collapsed": true
   },
   "outputs": [],
   "source": []
  }
 ],
 "metadata": {
  "kernelspec": {
   "display_name": "Python 3",
   "language": "python",
   "name": "python3"
  },
  "language_info": {
   "codemirror_mode": {
    "name": "ipython",
    "version": 3
   },
   "file_extension": ".py",
   "mimetype": "text/x-python",
   "name": "python",
   "nbconvert_exporter": "python",
   "pygments_lexer": "ipython3",
   "version": "3.6.3"
  }
 },
 "nbformat": 4,
 "nbformat_minor": 2
}
