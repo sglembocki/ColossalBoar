{
 "cells": [
  {
   "cell_type": "code",
   "execution_count": 9,
   "metadata": {
    "collapsed": true
   },
   "outputs": [],
   "source": [
    "from lxml import html\n",
    "import requests\n",
    "import pandas as pd\n",
    "from IPython.display import HTML"
   ]
  },
  {
   "cell_type": "code",
   "execution_count": 13,
   "metadata": {
    "collapsed": false
   },
   "outputs": [],
   "source": [
    "page = requests.get('http://econpy.pythonanywhere.com/ex/001.html')\n",
    "tree = html.fromstring(page.content)\n",
    "buyers = tree.xpath('//div[@title = \"buyer-name\"]/text()')"
   ]
  },
  {
   "cell_type": "code",
   "execution_count": 16,
   "metadata": {
    "collapsed": false
   },
   "outputs": [
    {
     "data": {
      "text/plain": [
       "['Carson Busses',\n",
       " 'Earl E. Byrd',\n",
       " 'Patty Cakes',\n",
       " 'Derri Anne Connecticut',\n",
       " 'Moe Dess',\n",
       " 'Leda Doggslife',\n",
       " 'Dan Druff',\n",
       " 'Al Fresco',\n",
       " 'Ido Hoe',\n",
       " 'Howie Kisses',\n",
       " 'Len Lease',\n",
       " 'Phil Meup',\n",
       " 'Ira Pent',\n",
       " 'Ben D. Rules',\n",
       " 'Ave Sectomy',\n",
       " 'Gary Shattire',\n",
       " 'Bobbi Soks',\n",
       " 'Sheila Takya',\n",
       " 'Rose Tattoo',\n",
       " 'Moe Tell']"
      ]
     },
     "execution_count": 16,
     "metadata": {},
     "output_type": "execute_result"
    }
   ],
   "source": [
    "buyers"
   ]
  },
  {
   "cell_type": "code",
   "execution_count": 17,
   "metadata": {
    "collapsed": true
   },
   "outputs": [],
   "source": [
    "prices = tree.xpath('//span[@class = \"item-price\"]/text()')"
   ]
  },
  {
   "cell_type": "code",
   "execution_count": 18,
   "metadata": {
    "collapsed": false
   },
   "outputs": [],
   "source": [
    "df = pd.DataFrame({\"Buyer\": buyers, \"Price\": prices})"
   ]
  },
  {
   "cell_type": "code",
   "execution_count": 19,
   "metadata": {
    "collapsed": false
   },
   "outputs": [
    {
     "data": {
      "text/plain": [
       "                    Buyer   Price\n",
       "0           Carson Busses  $29.95\n",
       "1            Earl E. Byrd   $8.37\n",
       "2             Patty Cakes  $15.26\n",
       "3  Derri Anne Connecticut  $19.25\n",
       "4                Moe Dess  $19.25"
      ]
     },
     "execution_count": 19,
     "metadata": {},
     "output_type": "execute_result"
    }
   ],
   "source": [
    "df.head()"
   ]
  },
  {
   "cell_type": "code",
   "execution_count": null,
   "metadata": {
    "collapsed": true
   },
   "outputs": [],
   "source": []
  }
 ],
 "metadata": {
  "anaconda-cloud": {},
  "kernelspec": {
   "display_name": "Python [conda root]",
   "language": "python",
   "name": "conda-root-py"
  },
  "language_info": {
   "codemirror_mode": {
    "name": "ipython",
    "version": 2
   },
   "file_extension": ".py",
   "mimetype": "text/x-python",
   "name": "python",
   "nbconvert_exporter": "python",
   "pygments_lexer": "ipython2",
   "version": "2.7.12"
  }
 },
 "nbformat": 4,
 "nbformat_minor": 0
}
