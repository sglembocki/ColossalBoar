{
 "cells": [
  {
   "cell_type": "code",
   "execution_count": 29,
   "metadata": {
    "collapsed": true
   },
   "outputs": [],
   "source": [
    "import pandas as pd\n",
    "import matplotlib as plt\n",
    "import seaborn as sns\n",
    "%matplotlib inline"
   ]
  },
  {
   "cell_type": "code",
   "execution_count": 30,
   "metadata": {
    "collapsed": false
   },
   "outputs": [
    {
     "name": "stderr",
     "output_type": "stream",
     "text": [
      "/Users/sglembocki/anaconda/lib/python3.6/site-packages/IPython/core/interactiveshell.py:2717: DtypeWarning: Columns (26) have mixed types. Specify dtype option on import or set low_memory=False.\n",
      "  interactivity=interactivity, compiler=compiler, result=result)\n"
     ]
    },
    {
     "data": {
      "text/html": [
       "<div>\n",
       "<table border=\"1\" class=\"dataframe\">\n",
       "  <thead>\n",
       "    <tr style=\"text-align: right;\">\n",
       "      <th></th>\n",
       "      <th>Unnamed: 0</th>\n",
       "      <th>Date</th>\n",
       "      <th>GameID</th>\n",
       "      <th>Drive</th>\n",
       "      <th>qtr</th>\n",
       "      <th>down</th>\n",
       "      <th>time</th>\n",
       "      <th>TimeUnder</th>\n",
       "      <th>TimeSecs</th>\n",
       "      <th>PlayTimeDiff</th>\n",
       "      <th>...</th>\n",
       "      <th>Accepted.Penalty</th>\n",
       "      <th>PenalizedTeam</th>\n",
       "      <th>PenaltyType</th>\n",
       "      <th>PenalizedPlayer</th>\n",
       "      <th>Penalty.Yards</th>\n",
       "      <th>PosTeamScore</th>\n",
       "      <th>DefTeamScore</th>\n",
       "      <th>ScoreDiff</th>\n",
       "      <th>AbsScoreDiff</th>\n",
       "      <th>Season</th>\n",
       "    </tr>\n",
       "  </thead>\n",
       "  <tbody>\n",
       "    <tr>\n",
       "      <th>0</th>\n",
       "      <td>36</td>\n",
       "      <td>9/10/15</td>\n",
       "      <td>2015091000</td>\n",
       "      <td>1</td>\n",
       "      <td>1</td>\n",
       "      <td>NaN</td>\n",
       "      <td>15:00</td>\n",
       "      <td>15</td>\n",
       "      <td>3600.0</td>\n",
       "      <td>0.0</td>\n",
       "      <td>...</td>\n",
       "      <td>0</td>\n",
       "      <td>NaN</td>\n",
       "      <td>NaN</td>\n",
       "      <td>NaN</td>\n",
       "      <td>0</td>\n",
       "      <td>0.0</td>\n",
       "      <td>0.0</td>\n",
       "      <td>0.0</td>\n",
       "      <td>0.0</td>\n",
       "      <td>2015</td>\n",
       "    </tr>\n",
       "    <tr>\n",
       "      <th>1</th>\n",
       "      <td>51</td>\n",
       "      <td>9/10/15</td>\n",
       "      <td>2015091000</td>\n",
       "      <td>1</td>\n",
       "      <td>1</td>\n",
       "      <td>1.0</td>\n",
       "      <td>15:00</td>\n",
       "      <td>15</td>\n",
       "      <td>3600.0</td>\n",
       "      <td>0.0</td>\n",
       "      <td>...</td>\n",
       "      <td>0</td>\n",
       "      <td>NaN</td>\n",
       "      <td>NaN</td>\n",
       "      <td>NaN</td>\n",
       "      <td>0</td>\n",
       "      <td>0.0</td>\n",
       "      <td>0.0</td>\n",
       "      <td>0.0</td>\n",
       "      <td>0.0</td>\n",
       "      <td>2015</td>\n",
       "    </tr>\n",
       "    <tr>\n",
       "      <th>2</th>\n",
       "      <td>72</td>\n",
       "      <td>9/10/15</td>\n",
       "      <td>2015091000</td>\n",
       "      <td>1</td>\n",
       "      <td>1</td>\n",
       "      <td>1.0</td>\n",
       "      <td>14:21</td>\n",
       "      <td>15</td>\n",
       "      <td>3561.0</td>\n",
       "      <td>39.0</td>\n",
       "      <td>...</td>\n",
       "      <td>0</td>\n",
       "      <td>NaN</td>\n",
       "      <td>NaN</td>\n",
       "      <td>NaN</td>\n",
       "      <td>0</td>\n",
       "      <td>0.0</td>\n",
       "      <td>0.0</td>\n",
       "      <td>0.0</td>\n",
       "      <td>0.0</td>\n",
       "      <td>2015</td>\n",
       "    </tr>\n",
       "    <tr>\n",
       "      <th>3</th>\n",
       "      <td>101</td>\n",
       "      <td>9/10/15</td>\n",
       "      <td>2015091000</td>\n",
       "      <td>1</td>\n",
       "      <td>1</td>\n",
       "      <td>2.0</td>\n",
       "      <td>14:04</td>\n",
       "      <td>15</td>\n",
       "      <td>3544.0</td>\n",
       "      <td>17.0</td>\n",
       "      <td>...</td>\n",
       "      <td>0</td>\n",
       "      <td>NaN</td>\n",
       "      <td>NaN</td>\n",
       "      <td>NaN</td>\n",
       "      <td>0</td>\n",
       "      <td>0.0</td>\n",
       "      <td>0.0</td>\n",
       "      <td>0.0</td>\n",
       "      <td>0.0</td>\n",
       "      <td>2015</td>\n",
       "    </tr>\n",
       "    <tr>\n",
       "      <th>4</th>\n",
       "      <td>122</td>\n",
       "      <td>9/10/15</td>\n",
       "      <td>2015091000</td>\n",
       "      <td>1</td>\n",
       "      <td>1</td>\n",
       "      <td>1.0</td>\n",
       "      <td>13:26</td>\n",
       "      <td>14</td>\n",
       "      <td>3506.0</td>\n",
       "      <td>38.0</td>\n",
       "      <td>...</td>\n",
       "      <td>0</td>\n",
       "      <td>NaN</td>\n",
       "      <td>NaN</td>\n",
       "      <td>NaN</td>\n",
       "      <td>0</td>\n",
       "      <td>0.0</td>\n",
       "      <td>0.0</td>\n",
       "      <td>0.0</td>\n",
       "      <td>0.0</td>\n",
       "      <td>2015</td>\n",
       "    </tr>\n",
       "  </tbody>\n",
       "</table>\n",
       "<p>5 rows × 66 columns</p>\n",
       "</div>"
      ],
      "text/plain": [
       "   Unnamed: 0     Date      GameID  Drive  qtr  down   time  TimeUnder  \\\n",
       "0          36  9/10/15  2015091000      1    1   NaN  15:00         15   \n",
       "1          51  9/10/15  2015091000      1    1   1.0  15:00         15   \n",
       "2          72  9/10/15  2015091000      1    1   1.0  14:21         15   \n",
       "3         101  9/10/15  2015091000      1    1   2.0  14:04         15   \n",
       "4         122  9/10/15  2015091000      1    1   1.0  13:26         14   \n",
       "\n",
       "   TimeSecs  PlayTimeDiff  ...   Accepted.Penalty  PenalizedTeam  PenaltyType  \\\n",
       "0    3600.0           0.0  ...                  0            NaN          NaN   \n",
       "1    3600.0           0.0  ...                  0            NaN          NaN   \n",
       "2    3561.0          39.0  ...                  0            NaN          NaN   \n",
       "3    3544.0          17.0  ...                  0            NaN          NaN   \n",
       "4    3506.0          38.0  ...                  0            NaN          NaN   \n",
       "\n",
       "   PenalizedPlayer  Penalty.Yards  PosTeamScore  DefTeamScore ScoreDiff  \\\n",
       "0              NaN              0           0.0           0.0       0.0   \n",
       "1              NaN              0           0.0           0.0       0.0   \n",
       "2              NaN              0           0.0           0.0       0.0   \n",
       "3              NaN              0           0.0           0.0       0.0   \n",
       "4              NaN              0           0.0           0.0       0.0   \n",
       "\n",
       "  AbsScoreDiff Season  \n",
       "0          0.0   2015  \n",
       "1          0.0   2015  \n",
       "2          0.0   2015  \n",
       "3          0.0   2015  \n",
       "4          0.0   2015  \n",
       "\n",
       "[5 rows x 66 columns]"
      ]
     },
     "execution_count": 30,
     "metadata": {},
     "output_type": "execute_result"
    }
   ],
   "source": [
    "data = pd.read_csv('nfl_data_2015.csv')\n",
    "data.head()"
   ]
  },
  {
   "cell_type": "code",
   "execution_count": 31,
   "metadata": {
    "collapsed": false
   },
   "outputs": [
    {
     "name": "stdout",
     "output_type": "stream",
     "text": [
      "<class 'pandas.core.frame.DataFrame'>\n",
      "RangeIndex: 46129 entries, 0 to 46128\n",
      "Data columns (total 66 columns):\n",
      "Unnamed: 0            46129 non-null int64\n",
      "Date                  46129 non-null object\n",
      "GameID                46129 non-null int64\n",
      "Drive                 46129 non-null int64\n",
      "qtr                   46129 non-null int64\n",
      "down                  39006 non-null float64\n",
      "time                  46102 non-null object\n",
      "TimeUnder             46129 non-null int64\n",
      "TimeSecs              46102 non-null float64\n",
      "PlayTimeDiff          46075 non-null float64\n",
      "SideofField           46063 non-null object\n",
      "yrdln                 46021 non-null float64\n",
      "yrdline100            46021 non-null float64\n",
      "ydstogo               46129 non-null int64\n",
      "ydsnet                46129 non-null int64\n",
      "GoalToGo              46021 non-null float64\n",
      "FirstDown             42811 non-null float64\n",
      "posteam               42878 non-null object\n",
      "DefensiveTeam         42878 non-null object\n",
      "desc                  46129 non-null object\n",
      "PlayAttempted         46129 non-null int64\n",
      "Yards.Gained          46129 non-null int64\n",
      "sp                    46129 non-null int64\n",
      "Touchdown             46129 non-null int64\n",
      "ExPointResult         1131 non-null object\n",
      "TwoPointConv          89 non-null object\n",
      "DefTwoPoint           5 non-null object\n",
      "Safety                46129 non-null int64\n",
      "PuntResult            2485 non-null object\n",
      "PlayType              46129 non-null object\n",
      "Passer                19398 non-null object\n",
      "PassAttempt           46129 non-null int64\n",
      "PassOutcome           19435 non-null object\n",
      "PassLength            19291 non-null object\n",
      "PassLocation          19291 non-null object\n",
      "InterceptionThrown    46129 non-null int64\n",
      "Interceptor           467 non-null object\n",
      "Rusher                13066 non-null object\n",
      "RushAttempt           46129 non-null int64\n",
      "RunLocation           12966 non-null object\n",
      "RunGap                9587 non-null object\n",
      "Receiver              18458 non-null object\n",
      "Reception             46129 non-null int64\n",
      "ReturnResult          2344 non-null object\n",
      "Returner              2498 non-null object\n",
      "BlockingPlayer        11 non-null object\n",
      "Tackler1              24903 non-null object\n",
      "Tackler2              3356 non-null object\n",
      "FieldGoalResult       1001 non-null object\n",
      "FieldGoalDistance     989 non-null float64\n",
      "Fumble                46129 non-null int64\n",
      "RecFumbTeam           481 non-null object\n",
      "RecFumbPlayer         481 non-null object\n",
      "Sack                  46129 non-null int64\n",
      "Challenge.Replay      46129 non-null int64\n",
      "ChalReplayResult      413 non-null object\n",
      "Accepted.Penalty      46129 non-null int64\n",
      "PenalizedTeam         3535 non-null object\n",
      "PenaltyType           1952 non-null object\n",
      "PenalizedPlayer       3404 non-null object\n",
      "Penalty.Yards         46129 non-null int64\n",
      "PosTeamScore          42878 non-null float64\n",
      "DefTeamScore          42878 non-null float64\n",
      "ScoreDiff             42878 non-null float64\n",
      "AbsScoreDiff          42878 non-null float64\n",
      "Season                46129 non-null int64\n",
      "dtypes: float64(12), int64(22), object(32)\n",
      "memory usage: 23.2+ MB\n"
     ]
    }
   ],
   "source": [
    "data.info()"
   ]
  },
  {
   "cell_type": "code",
   "execution_count": 32,
   "metadata": {
    "collapsed": false
   },
   "outputs": [
    {
     "data": {
      "text/html": [
       "<div>\n",
       "<table border=\"1\" class=\"dataframe\">\n",
       "  <thead>\n",
       "    <tr style=\"text-align: right;\">\n",
       "      <th></th>\n",
       "      <th>Unnamed: 0</th>\n",
       "      <th>GameID</th>\n",
       "      <th>Drive</th>\n",
       "      <th>qtr</th>\n",
       "      <th>down</th>\n",
       "      <th>TimeUnder</th>\n",
       "      <th>TimeSecs</th>\n",
       "      <th>PlayTimeDiff</th>\n",
       "      <th>yrdln</th>\n",
       "      <th>yrdline100</th>\n",
       "      <th>...</th>\n",
       "      <th>Fumble</th>\n",
       "      <th>Sack</th>\n",
       "      <th>Challenge.Replay</th>\n",
       "      <th>Accepted.Penalty</th>\n",
       "      <th>Penalty.Yards</th>\n",
       "      <th>PosTeamScore</th>\n",
       "      <th>DefTeamScore</th>\n",
       "      <th>ScoreDiff</th>\n",
       "      <th>AbsScoreDiff</th>\n",
       "      <th>Season</th>\n",
       "    </tr>\n",
       "  </thead>\n",
       "  <tbody>\n",
       "    <tr>\n",
       "      <th>count</th>\n",
       "      <td>46129.000000</td>\n",
       "      <td>4.612900e+04</td>\n",
       "      <td>46129.000000</td>\n",
       "      <td>46129.000000</td>\n",
       "      <td>39006.000000</td>\n",
       "      <td>46129.000000</td>\n",
       "      <td>46102.000000</td>\n",
       "      <td>46075.000000</td>\n",
       "      <td>46021.000000</td>\n",
       "      <td>46021.000000</td>\n",
       "      <td>...</td>\n",
       "      <td>46129.000000</td>\n",
       "      <td>46129.000000</td>\n",
       "      <td>46129.000000</td>\n",
       "      <td>46129.000000</td>\n",
       "      <td>46129.000000</td>\n",
       "      <td>42878.000000</td>\n",
       "      <td>42878.00000</td>\n",
       "      <td>42878.000000</td>\n",
       "      <td>42878.000000</td>\n",
       "      <td>46129.0</td>\n",
       "    </tr>\n",
       "    <tr>\n",
       "      <th>mean</th>\n",
       "      <td>55648.646556</td>\n",
       "      <td>2.015164e+09</td>\n",
       "      <td>12.279607</td>\n",
       "      <td>2.583407</td>\n",
       "      <td>1.996949</td>\n",
       "      <td>7.322335</td>\n",
       "      <td>1686.735847</td>\n",
       "      <td>20.214585</td>\n",
       "      <td>28.565090</td>\n",
       "      <td>49.411312</td>\n",
       "      <td>...</td>\n",
       "      <td>0.013592</td>\n",
       "      <td>0.027401</td>\n",
       "      <td>0.008953</td>\n",
       "      <td>0.076633</td>\n",
       "      <td>0.652388</td>\n",
       "      <td>10.586408</td>\n",
       "      <td>11.65024</td>\n",
       "      <td>-1.063832</td>\n",
       "      <td>7.773100</td>\n",
       "      <td>2015.0</td>\n",
       "    </tr>\n",
       "    <tr>\n",
       "      <th>std</th>\n",
       "      <td>87501.612069</td>\n",
       "      <td>2.183164e+05</td>\n",
       "      <td>7.144244</td>\n",
       "      <td>1.134256</td>\n",
       "      <td>1.003834</td>\n",
       "      <td>4.661081</td>\n",
       "      <td>1065.494471</td>\n",
       "      <td>17.613538</td>\n",
       "      <td>12.591719</td>\n",
       "      <td>24.852971</td>\n",
       "      <td>...</td>\n",
       "      <td>0.115792</td>\n",
       "      <td>0.163252</td>\n",
       "      <td>0.094198</td>\n",
       "      <td>0.266011</td>\n",
       "      <td>2.716825</td>\n",
       "      <td>9.495190</td>\n",
       "      <td>9.96655</td>\n",
       "      <td>10.716223</td>\n",
       "      <td>7.452965</td>\n",
       "      <td>0.0</td>\n",
       "    </tr>\n",
       "    <tr>\n",
       "      <th>min</th>\n",
       "      <td>35.000000</td>\n",
       "      <td>2.015091e+09</td>\n",
       "      <td>1.000000</td>\n",
       "      <td>1.000000</td>\n",
       "      <td>1.000000</td>\n",
       "      <td>0.000000</td>\n",
       "      <td>-747.000000</td>\n",
       "      <td>0.000000</td>\n",
       "      <td>1.000000</td>\n",
       "      <td>1.000000</td>\n",
       "      <td>...</td>\n",
       "      <td>0.000000</td>\n",
       "      <td>0.000000</td>\n",
       "      <td>0.000000</td>\n",
       "      <td>0.000000</td>\n",
       "      <td>0.000000</td>\n",
       "      <td>0.000000</td>\n",
       "      <td>0.00000</td>\n",
       "      <td>-41.000000</td>\n",
       "      <td>0.000000</td>\n",
       "      <td>2015.0</td>\n",
       "    </tr>\n",
       "    <tr>\n",
       "      <th>25%</th>\n",
       "      <td>12661.000000</td>\n",
       "      <td>2.015101e+09</td>\n",
       "      <td>6.000000</td>\n",
       "      <td>2.000000</td>\n",
       "      <td>1.000000</td>\n",
       "      <td>3.000000</td>\n",
       "      <td>759.000000</td>\n",
       "      <td>5.000000</td>\n",
       "      <td>20.000000</td>\n",
       "      <td>31.000000</td>\n",
       "      <td>...</td>\n",
       "      <td>0.000000</td>\n",
       "      <td>0.000000</td>\n",
       "      <td>0.000000</td>\n",
       "      <td>0.000000</td>\n",
       "      <td>0.000000</td>\n",
       "      <td>3.000000</td>\n",
       "      <td>3.00000</td>\n",
       "      <td>-7.000000</td>\n",
       "      <td>3.000000</td>\n",
       "      <td>2015.0</td>\n",
       "    </tr>\n",
       "    <tr>\n",
       "      <th>50%</th>\n",
       "      <td>26032.000000</td>\n",
       "      <td>2.015111e+09</td>\n",
       "      <td>12.000000</td>\n",
       "      <td>3.000000</td>\n",
       "      <td>2.000000</td>\n",
       "      <td>7.000000</td>\n",
       "      <td>1800.000000</td>\n",
       "      <td>16.000000</td>\n",
       "      <td>30.000000</td>\n",
       "      <td>50.000000</td>\n",
       "      <td>...</td>\n",
       "      <td>0.000000</td>\n",
       "      <td>0.000000</td>\n",
       "      <td>0.000000</td>\n",
       "      <td>0.000000</td>\n",
       "      <td>0.000000</td>\n",
       "      <td>9.000000</td>\n",
       "      <td>10.00000</td>\n",
       "      <td>0.000000</td>\n",
       "      <td>6.000000</td>\n",
       "      <td>2015.0</td>\n",
       "    </tr>\n",
       "    <tr>\n",
       "      <th>75%</th>\n",
       "      <td>39415.000000</td>\n",
       "      <td>2.015121e+09</td>\n",
       "      <td>18.000000</td>\n",
       "      <td>4.000000</td>\n",
       "      <td>3.000000</td>\n",
       "      <td>11.000000</td>\n",
       "      <td>2579.000000</td>\n",
       "      <td>37.000000</td>\n",
       "      <td>39.000000</td>\n",
       "      <td>71.000000</td>\n",
       "      <td>...</td>\n",
       "      <td>0.000000</td>\n",
       "      <td>0.000000</td>\n",
       "      <td>0.000000</td>\n",
       "      <td>0.000000</td>\n",
       "      <td>0.000000</td>\n",
       "      <td>17.000000</td>\n",
       "      <td>17.00000</td>\n",
       "      <td>5.000000</td>\n",
       "      <td>11.000000</td>\n",
       "      <td>2015.0</td>\n",
       "    </tr>\n",
       "    <tr>\n",
       "      <th>max</th>\n",
       "      <td>466111.000000</td>\n",
       "      <td>2.016010e+09</td>\n",
       "      <td>33.000000</td>\n",
       "      <td>5.000000</td>\n",
       "      <td>4.000000</td>\n",
       "      <td>15.000000</td>\n",
       "      <td>3600.000000</td>\n",
       "      <td>940.000000</td>\n",
       "      <td>50.000000</td>\n",
       "      <td>99.000000</td>\n",
       "      <td>...</td>\n",
       "      <td>1.000000</td>\n",
       "      <td>1.000000</td>\n",
       "      <td>1.000000</td>\n",
       "      <td>1.000000</td>\n",
       "      <td>55.000000</td>\n",
       "      <td>52.000000</td>\n",
       "      <td>51.00000</td>\n",
       "      <td>41.000000</td>\n",
       "      <td>41.000000</td>\n",
       "      <td>2015.0</td>\n",
       "    </tr>\n",
       "  </tbody>\n",
       "</table>\n",
       "<p>8 rows × 34 columns</p>\n",
       "</div>"
      ],
      "text/plain": [
       "          Unnamed: 0        GameID         Drive           qtr          down  \\\n",
       "count   46129.000000  4.612900e+04  46129.000000  46129.000000  39006.000000   \n",
       "mean    55648.646556  2.015164e+09     12.279607      2.583407      1.996949   \n",
       "std     87501.612069  2.183164e+05      7.144244      1.134256      1.003834   \n",
       "min        35.000000  2.015091e+09      1.000000      1.000000      1.000000   \n",
       "25%     12661.000000  2.015101e+09      6.000000      2.000000      1.000000   \n",
       "50%     26032.000000  2.015111e+09     12.000000      3.000000      2.000000   \n",
       "75%     39415.000000  2.015121e+09     18.000000      4.000000      3.000000   \n",
       "max    466111.000000  2.016010e+09     33.000000      5.000000      4.000000   \n",
       "\n",
       "          TimeUnder      TimeSecs  PlayTimeDiff         yrdln    yrdline100  \\\n",
       "count  46129.000000  46102.000000  46075.000000  46021.000000  46021.000000   \n",
       "mean       7.322335   1686.735847     20.214585     28.565090     49.411312   \n",
       "std        4.661081   1065.494471     17.613538     12.591719     24.852971   \n",
       "min        0.000000   -747.000000      0.000000      1.000000      1.000000   \n",
       "25%        3.000000    759.000000      5.000000     20.000000     31.000000   \n",
       "50%        7.000000   1800.000000     16.000000     30.000000     50.000000   \n",
       "75%       11.000000   2579.000000     37.000000     39.000000     71.000000   \n",
       "max       15.000000   3600.000000    940.000000     50.000000     99.000000   \n",
       "\n",
       "        ...           Fumble          Sack  Challenge.Replay  \\\n",
       "count   ...     46129.000000  46129.000000      46129.000000   \n",
       "mean    ...         0.013592      0.027401          0.008953   \n",
       "std     ...         0.115792      0.163252          0.094198   \n",
       "min     ...         0.000000      0.000000          0.000000   \n",
       "25%     ...         0.000000      0.000000          0.000000   \n",
       "50%     ...         0.000000      0.000000          0.000000   \n",
       "75%     ...         0.000000      0.000000          0.000000   \n",
       "max     ...         1.000000      1.000000          1.000000   \n",
       "\n",
       "       Accepted.Penalty  Penalty.Yards  PosTeamScore  DefTeamScore  \\\n",
       "count      46129.000000   46129.000000  42878.000000   42878.00000   \n",
       "mean           0.076633       0.652388     10.586408      11.65024   \n",
       "std            0.266011       2.716825      9.495190       9.96655   \n",
       "min            0.000000       0.000000      0.000000       0.00000   \n",
       "25%            0.000000       0.000000      3.000000       3.00000   \n",
       "50%            0.000000       0.000000      9.000000      10.00000   \n",
       "75%            0.000000       0.000000     17.000000      17.00000   \n",
       "max            1.000000      55.000000     52.000000      51.00000   \n",
       "\n",
       "          ScoreDiff  AbsScoreDiff   Season  \n",
       "count  42878.000000  42878.000000  46129.0  \n",
       "mean      -1.063832      7.773100   2015.0  \n",
       "std       10.716223      7.452965      0.0  \n",
       "min      -41.000000      0.000000   2015.0  \n",
       "25%       -7.000000      3.000000   2015.0  \n",
       "50%        0.000000      6.000000   2015.0  \n",
       "75%        5.000000     11.000000   2015.0  \n",
       "max       41.000000     41.000000   2015.0  \n",
       "\n",
       "[8 rows x 34 columns]"
      ]
     },
     "execution_count": 32,
     "metadata": {},
     "output_type": "execute_result"
    }
   ],
   "source": [
    "data.describe()"
   ]
  },
  {
   "cell_type": "code",
   "execution_count": 33,
   "metadata": {
    "collapsed": false
   },
   "outputs": [
    {
     "data": {
      "text/plain": [
       "46129"
      ]
     },
     "execution_count": 33,
     "metadata": {},
     "output_type": "execute_result"
    }
   ],
   "source": [
    "data['Unnamed: 0'].nunique()"
   ]
  },
  {
   "cell_type": "code",
   "execution_count": 34,
   "metadata": {
    "collapsed": false
   },
   "outputs": [
    {
     "name": "stdout",
     "output_type": "stream",
     "text": [
      "256\n",
      "256.0\n"
     ]
    }
   ],
   "source": [
    "print(data['GameID'].nunique())\n",
    "print(32 * 16 / 2) #total number of regular season games"
   ]
  },
  {
   "cell_type": "code",
   "execution_count": 35,
   "metadata": {
    "collapsed": false
   },
   "outputs": [
    {
     "name": "stdout",
     "output_type": "stream",
     "text": [
      "[1 2 3 4 5]\n",
      "[ nan   1.   2.   3.   4.]\n"
     ]
    }
   ],
   "source": [
    "print(data['qtr'].unique())\n",
    "print(data['down'].unique())"
   ]
  },
  {
   "cell_type": "code",
   "execution_count": 36,
   "metadata": {
    "collapsed": false
   },
   "outputs": [
    {
     "name": "stdout",
     "output_type": "stream",
     "text": [
      "[ 0.  1.  2.  3.  4.]\n"
     ]
    }
   ],
   "source": [
    "data['down'] = data['down'].fillna(0)\n",
    "print(data['down'].unique())"
   ]
  },
  {
   "cell_type": "code",
   "execution_count": 37,
   "metadata": {
    "collapsed": false
   },
   "outputs": [
    {
     "name": "stdout",
     "output_type": "stream",
     "text": [
      "['NE' 'PIT' nan 'GB' 'CHI' 'MID' 'HOU' 'KC' 'CLE' 'NYJ' 'BUF' 'IND' 'MIA'\n",
      " 'WAS' 'CAR' 'JAC' 'STL' 'SEA' 'NO' 'ARI' 'SD' 'DET' 'TB' 'TEN' 'CIN' 'OAK'\n",
      " 'DEN' 'BAL' 'NYG' 'DAL' 'ATL' 'PHI' 'MIN' 'SF' '50']\n",
      "['PIT' 'NE' nan 'CHI' 'GB' 'KC' 'HOU' 'NYJ' 'CLE' 'IND' 'BUF' 'WAS' 'MIA'\n",
      " 'JAC' 'CAR' 'SEA' 'STL' 'ARI' 'NO' 'DET' 'SD' 'TEN' 'TB' 'OAK' 'CIN' 'BAL'\n",
      " 'DEN' 'DAL' 'NYG' 'PHI' 'ATL' 'SF' 'MIN']\n",
      "[False True]\n",
      "[True False]\n"
     ]
    }
   ],
   "source": [
    "print(data['SideofField'].unique())\n",
    "print(data['posteam'].unique())\n",
    "\n",
    "data['OwnTerritory'] = data['SideofField'] == data['posteam'] * 1\n",
    "data['OppTerritory'] = data['SideofField'] != data['posteam'] * 1\n",
    "\n",
    "print(data['OwnTerritory'].unique())\n",
    "print(data['OppTerritory'].unique())"
   ]
  },
  {
   "cell_type": "code",
   "execution_count": 38,
   "metadata": {
    "collapsed": false
   },
   "outputs": [
    {
     "data": {
      "text/plain": [
       "10    17868\n",
       "0      7123\n",
       "5      2046\n",
       "1      2001\n",
       "7      1910\n",
       "Name: ydstogo, dtype: int64"
      ]
     },
     "execution_count": 38,
     "metadata": {},
     "output_type": "execute_result"
    }
   ],
   "source": [
    "data['ydstogo'].value_counts().head(5)"
   ]
  },
  {
   "cell_type": "code",
   "execution_count": 39,
   "metadata": {
    "collapsed": false
   },
   "outputs": [
    {
     "data": {
      "text/plain": [
       "0    S.Gostkowski kicks 65 yards from NE 35 to end ...\n",
       "1    (15:00) De.Williams right tackle to PIT 38 for...\n",
       "2    (14:21) B.Roethlisberger pass short right to A...\n",
       "3    (14:04) De.Williams right guard to NE 49 for 4...\n",
       "4    (13:26) B.Roethlisberger pass short right to H...\n",
       "Name: desc, dtype: object"
      ]
     },
     "execution_count": 39,
     "metadata": {},
     "output_type": "execute_result"
    }
   ],
   "source": [
    "data['desc'].head()"
   ]
  },
  {
   "cell_type": "code",
   "execution_count": 40,
   "metadata": {
    "collapsed": false
   },
   "outputs": [
    {
     "data": {
      "text/plain": [
       "count    46129.0\n",
       "mean         1.0\n",
       "std          0.0\n",
       "min          1.0\n",
       "25%          1.0\n",
       "50%          1.0\n",
       "75%          1.0\n",
       "max          1.0\n",
       "Name: PlayAttempted, dtype: float64"
      ]
     },
     "execution_count": 40,
     "metadata": {},
     "output_type": "execute_result"
    }
   ],
   "source": [
    "data['PlayAttempted'].describe()"
   ]
  },
  {
   "cell_type": "code",
   "execution_count": 41,
   "metadata": {
    "collapsed": true
   },
   "outputs": [],
   "source": [
    "del data['PlayAttempted']"
   ]
  },
  {
   "cell_type": "code",
   "execution_count": 42,
   "metadata": {
    "collapsed": false
   },
   "outputs": [
    {
     "name": "stdout",
     "output_type": "stream",
     "text": [
      "[0 1]\n",
      "[nan 'Clean' 'Blocked']\n",
      "[nan 'Made' 'Missed' 'Aborted']\n"
     ]
    }
   ],
   "source": [
    "print(data['sp'].unique())\n",
    "print(data['PuntResult'].unique())\n",
    "print(data['ExPointResult'].unique())"
   ]
  },
  {
   "cell_type": "code",
   "execution_count": 43,
   "metadata": {
    "collapsed": false
   },
   "outputs": [
    {
     "data": {
      "text/plain": [
       "Made       1065\n",
       "Missed       55\n",
       "Aborted      11\n",
       "Name: ExPointResult, dtype: int64"
      ]
     },
     "execution_count": 43,
     "metadata": {},
     "output_type": "execute_result"
    }
   ],
   "source": [
    "data['ExPointResult'].value_counts()"
   ]
  },
  {
   "cell_type": "code",
   "execution_count": 44,
   "metadata": {
    "collapsed": false
   },
   "outputs": [
    {
     "name": "stdout",
     "output_type": "stream",
     "text": [
      "[nan 'Clean' 'Blocked']\n",
      "['Kickoff' 'Run' 'Pass' 'Sack' 'No Play' 'Field Goal' 'Punt' 'Quarter End'\n",
      " 'Extra Point' 'Two Minute Warning' 'Timeout' 'QB Kneel' 'Onside Kick'\n",
      " 'End of Game' 'Spike' 'Half End']\n",
      "[nan 'right' 'left' 'middle']\n",
      "[nan 'tackle' 'guard' 'end']\n",
      "[nan 'NE' 'GB' 'KC' 'CLE' 'NYJ' 'BUF' 'WAS' 'CAR' 'SEA' 'NO' 'DET' 'TEN'\n",
      " 'TB' 'CIN' 'DAL' 'NYG' 'PHI' 'DEN' 'HOU' 'PIT' 'SF' 'MIN' 'CHI' 'SD' 'ATL'\n",
      " 'STL' 'MIA' 'OAK' 'BAL' 'JAC' 'IND' 'ARI']\n"
     ]
    }
   ],
   "source": [
    "print(data['PuntResult'].unique())\n",
    "print(data['PlayType'].unique())\n",
    "print(data['PassLocation'].unique())\n",
    "print(data['RunGap'].unique())\n",
    "print(data['RecFumbTeam'].unique())"
   ]
  },
  {
   "cell_type": "code",
   "execution_count": 45,
   "metadata": {
    "collapsed": false
   },
   "outputs": [
    {
     "name": "stdout",
     "output_type": "stream",
     "text": [
      "[False True]\n",
      "[True False]\n"
     ]
    }
   ],
   "source": [
    "data['FumRecovered'] = data['RecFumbTeam'] == data['posteam'] * 1 * data['Fumble']\n",
    "data['FumLost'] = data['RecFumbTeam'] != data['posteam'] * 1 * data['Fumble']\n",
    "\n",
    "print(data['FumRecovered'].unique())\n",
    "print(data['FumLost'].unique())"
   ]
  },
  {
   "cell_type": "code",
   "execution_count": 46,
   "metadata": {
    "collapsed": false
   },
   "outputs": [
    {
     "name": "stdout",
     "output_type": "stream",
     "text": [
      "0\n",
      "1\n"
     ]
    }
   ],
   "source": [
    "print(False * 1)\n",
    "print(True * 1)"
   ]
  },
  {
   "cell_type": "code",
   "execution_count": 47,
   "metadata": {
    "collapsed": false
   },
   "outputs": [],
   "source": [
    "data['Turnover'] = data['Fumble'] + data['InterceptionThrown']"
   ]
  },
  {
   "cell_type": "code",
   "execution_count": 48,
   "metadata": {
    "collapsed": false
   },
   "outputs": [
    {
     "name": "stdout",
     "output_type": "stream",
     "text": [
      "DefensiveTeam\n",
      "ARI    49\n",
      "ATL    31\n",
      "BAL    21\n",
      "BUF    34\n",
      "CAR    52\n",
      "Name: Turnover, dtype: int64\n",
      "posteam\n",
      "ARI    35\n",
      "ATL    46\n",
      "BAL    33\n",
      "BUF    32\n",
      "CAR    26\n",
      "Name: Turnover, dtype: int64\n",
      "DefensiveTeam\n",
      "ARI    14\n",
      "ATL   -15\n",
      "BAL   -12\n",
      "BUF     2\n",
      "CAR    26\n",
      "Name: Turnover, dtype: int64\n"
     ]
    }
   ],
   "source": [
    "takeaways = data['Turnover'].groupby(data['DefensiveTeam']).sum()\n",
    "turnovers = data['Turnover'].groupby(data['posteam']).sum()\n",
    "\n",
    "print(takeaways.head())\n",
    "print(turnovers.head())\n",
    "\n",
    "differential = takeaways - turnovers\n",
    "print(test.head())"
   ]
  },
  {
   "cell_type": "code",
   "execution_count": 49,
   "metadata": {
    "collapsed": false
   },
   "outputs": [
    {
     "data": {
      "text/plain": [
       "count    46129.0\n",
       "mean      2015.0\n",
       "std          0.0\n",
       "min       2015.0\n",
       "25%       2015.0\n",
       "50%       2015.0\n",
       "75%       2015.0\n",
       "max       2015.0\n",
       "Name: Season, dtype: float64"
      ]
     },
     "execution_count": 49,
     "metadata": {},
     "output_type": "execute_result"
    }
   ],
   "source": [
    "data['Season'].describe()"
   ]
  },
  {
   "cell_type": "code",
   "execution_count": 50,
   "metadata": {
    "collapsed": true
   },
   "outputs": [],
   "source": [
    "del data['Season']"
   ]
  },
  {
   "cell_type": "code",
   "execution_count": 51,
   "metadata": {
    "collapsed": false
   },
   "outputs": [
    {
     "data": {
      "text/html": [
       "<div>\n",
       "<table border=\"1\" class=\"dataframe\">\n",
       "  <thead>\n",
       "    <tr style=\"text-align: right;\">\n",
       "      <th></th>\n",
       "      <th>posteam</th>\n",
       "      <th>wins</th>\n",
       "      <th>rank</th>\n",
       "    </tr>\n",
       "  </thead>\n",
       "  <tbody>\n",
       "    <tr>\n",
       "      <th>0</th>\n",
       "      <td>CAR</td>\n",
       "      <td>15</td>\n",
       "      <td>1</td>\n",
       "    </tr>\n",
       "    <tr>\n",
       "      <th>1</th>\n",
       "      <td>ARI</td>\n",
       "      <td>13</td>\n",
       "      <td>2</td>\n",
       "    </tr>\n",
       "    <tr>\n",
       "      <th>2</th>\n",
       "      <td>NE</td>\n",
       "      <td>12</td>\n",
       "      <td>3</td>\n",
       "    </tr>\n",
       "    <tr>\n",
       "      <th>3</th>\n",
       "      <td>DEN</td>\n",
       "      <td>12</td>\n",
       "      <td>4</td>\n",
       "    </tr>\n",
       "    <tr>\n",
       "      <th>4</th>\n",
       "      <td>CIN</td>\n",
       "      <td>12</td>\n",
       "      <td>5</td>\n",
       "    </tr>\n",
       "  </tbody>\n",
       "</table>\n",
       "</div>"
      ],
      "text/plain": [
       "  posteam  wins  rank\n",
       "0     CAR    15     1\n",
       "1     ARI    13     2\n",
       "2      NE    12     3\n",
       "3     DEN    12     4\n",
       "4     CIN    12     5"
      ]
     },
     "execution_count": 51,
     "metadata": {},
     "output_type": "execute_result"
    }
   ],
   "source": [
    "rank = pd.read_csv('team_rankings.csv')\n",
    "rank.head()"
   ]
  },
  {
   "cell_type": "code",
   "execution_count": 52,
   "metadata": {
    "collapsed": false
   },
   "outputs": [
    {
     "data": {
      "text/html": [
       "<div>\n",
       "<table border=\"1\" class=\"dataframe\">\n",
       "  <thead>\n",
       "    <tr style=\"text-align: right;\">\n",
       "      <th></th>\n",
       "      <th>Unnamed: 0</th>\n",
       "      <th>Date</th>\n",
       "      <th>GameID</th>\n",
       "      <th>Drive</th>\n",
       "      <th>qtr</th>\n",
       "      <th>down</th>\n",
       "      <th>time</th>\n",
       "      <th>TimeUnder</th>\n",
       "      <th>TimeSecs</th>\n",
       "      <th>PlayTimeDiff</th>\n",
       "      <th>...</th>\n",
       "      <th>DefTeamScore</th>\n",
       "      <th>ScoreDiff</th>\n",
       "      <th>AbsScoreDiff</th>\n",
       "      <th>OwnTerritory</th>\n",
       "      <th>OppTerritory</th>\n",
       "      <th>FumRecovered</th>\n",
       "      <th>FumLost</th>\n",
       "      <th>Turnover</th>\n",
       "      <th>wins</th>\n",
       "      <th>rank</th>\n",
       "    </tr>\n",
       "  </thead>\n",
       "  <tbody>\n",
       "    <tr>\n",
       "      <th>0</th>\n",
       "      <td>36</td>\n",
       "      <td>9/10/15</td>\n",
       "      <td>2015091000</td>\n",
       "      <td>1</td>\n",
       "      <td>1</td>\n",
       "      <td>0.0</td>\n",
       "      <td>15:00</td>\n",
       "      <td>15</td>\n",
       "      <td>3600.0</td>\n",
       "      <td>0.0</td>\n",
       "      <td>...</td>\n",
       "      <td>0.0</td>\n",
       "      <td>0.0</td>\n",
       "      <td>0.0</td>\n",
       "      <td>False</td>\n",
       "      <td>True</td>\n",
       "      <td>False</td>\n",
       "      <td>True</td>\n",
       "      <td>0</td>\n",
       "      <td>10.0</td>\n",
       "      <td>9.0</td>\n",
       "    </tr>\n",
       "    <tr>\n",
       "      <th>1</th>\n",
       "      <td>51</td>\n",
       "      <td>9/10/15</td>\n",
       "      <td>2015091000</td>\n",
       "      <td>1</td>\n",
       "      <td>1</td>\n",
       "      <td>1.0</td>\n",
       "      <td>15:00</td>\n",
       "      <td>15</td>\n",
       "      <td>3600.0</td>\n",
       "      <td>0.0</td>\n",
       "      <td>...</td>\n",
       "      <td>0.0</td>\n",
       "      <td>0.0</td>\n",
       "      <td>0.0</td>\n",
       "      <td>True</td>\n",
       "      <td>False</td>\n",
       "      <td>False</td>\n",
       "      <td>True</td>\n",
       "      <td>0</td>\n",
       "      <td>10.0</td>\n",
       "      <td>9.0</td>\n",
       "    </tr>\n",
       "    <tr>\n",
       "      <th>2</th>\n",
       "      <td>72</td>\n",
       "      <td>9/10/15</td>\n",
       "      <td>2015091000</td>\n",
       "      <td>1</td>\n",
       "      <td>1</td>\n",
       "      <td>1.0</td>\n",
       "      <td>14:21</td>\n",
       "      <td>15</td>\n",
       "      <td>3561.0</td>\n",
       "      <td>39.0</td>\n",
       "      <td>...</td>\n",
       "      <td>0.0</td>\n",
       "      <td>0.0</td>\n",
       "      <td>0.0</td>\n",
       "      <td>True</td>\n",
       "      <td>False</td>\n",
       "      <td>False</td>\n",
       "      <td>True</td>\n",
       "      <td>0</td>\n",
       "      <td>10.0</td>\n",
       "      <td>9.0</td>\n",
       "    </tr>\n",
       "    <tr>\n",
       "      <th>3</th>\n",
       "      <td>101</td>\n",
       "      <td>9/10/15</td>\n",
       "      <td>2015091000</td>\n",
       "      <td>1</td>\n",
       "      <td>1</td>\n",
       "      <td>2.0</td>\n",
       "      <td>14:04</td>\n",
       "      <td>15</td>\n",
       "      <td>3544.0</td>\n",
       "      <td>17.0</td>\n",
       "      <td>...</td>\n",
       "      <td>0.0</td>\n",
       "      <td>0.0</td>\n",
       "      <td>0.0</td>\n",
       "      <td>True</td>\n",
       "      <td>False</td>\n",
       "      <td>False</td>\n",
       "      <td>True</td>\n",
       "      <td>0</td>\n",
       "      <td>10.0</td>\n",
       "      <td>9.0</td>\n",
       "    </tr>\n",
       "    <tr>\n",
       "      <th>4</th>\n",
       "      <td>122</td>\n",
       "      <td>9/10/15</td>\n",
       "      <td>2015091000</td>\n",
       "      <td>1</td>\n",
       "      <td>1</td>\n",
       "      <td>1.0</td>\n",
       "      <td>13:26</td>\n",
       "      <td>14</td>\n",
       "      <td>3506.0</td>\n",
       "      <td>38.0</td>\n",
       "      <td>...</td>\n",
       "      <td>0.0</td>\n",
       "      <td>0.0</td>\n",
       "      <td>0.0</td>\n",
       "      <td>False</td>\n",
       "      <td>True</td>\n",
       "      <td>False</td>\n",
       "      <td>True</td>\n",
       "      <td>0</td>\n",
       "      <td>10.0</td>\n",
       "      <td>9.0</td>\n",
       "    </tr>\n",
       "  </tbody>\n",
       "</table>\n",
       "<p>5 rows × 71 columns</p>\n",
       "</div>"
      ],
      "text/plain": [
       "   Unnamed: 0     Date      GameID  Drive  qtr  down   time  TimeUnder  \\\n",
       "0          36  9/10/15  2015091000      1    1   0.0  15:00         15   \n",
       "1          51  9/10/15  2015091000      1    1   1.0  15:00         15   \n",
       "2          72  9/10/15  2015091000      1    1   1.0  14:21         15   \n",
       "3         101  9/10/15  2015091000      1    1   2.0  14:04         15   \n",
       "4         122  9/10/15  2015091000      1    1   1.0  13:26         14   \n",
       "\n",
       "   TimeSecs  PlayTimeDiff ...  DefTeamScore  ScoreDiff  AbsScoreDiff  \\\n",
       "0    3600.0           0.0 ...           0.0        0.0           0.0   \n",
       "1    3600.0           0.0 ...           0.0        0.0           0.0   \n",
       "2    3561.0          39.0 ...           0.0        0.0           0.0   \n",
       "3    3544.0          17.0 ...           0.0        0.0           0.0   \n",
       "4    3506.0          38.0 ...           0.0        0.0           0.0   \n",
       "\n",
       "   OwnTerritory  OppTerritory  FumRecovered  FumLost Turnover  wins rank  \n",
       "0         False          True         False     True        0  10.0  9.0  \n",
       "1          True         False         False     True        0  10.0  9.0  \n",
       "2          True         False         False     True        0  10.0  9.0  \n",
       "3          True         False         False     True        0  10.0  9.0  \n",
       "4         False          True         False     True        0  10.0  9.0  \n",
       "\n",
       "[5 rows x 71 columns]"
      ]
     },
     "execution_count": 52,
     "metadata": {},
     "output_type": "execute_result"
    }
   ],
   "source": [
    "data = pd.merge(data, rank, how = 'left', on = 'posteam')\n",
    "data.head()"
   ]
  },
  {
   "cell_type": "code",
   "execution_count": 53,
   "metadata": {
    "collapsed": false
   },
   "outputs": [
    {
     "data": {
      "text/plain": [
       "posteam\n",
       "ARI    7924\n",
       "ATL    7306\n",
       "BAL    7063\n",
       "BUF    7236\n",
       "CAR    6790\n",
       "CHI    6975\n",
       "CIN    6951\n",
       "CLE    7077\n",
       "DAL    6545\n",
       "DEN    6640\n",
       "DET    7247\n",
       "GB     6711\n",
       "HOU    6996\n",
       "IND    7013\n",
       "JAC    7101\n",
       "KC     6596\n",
       "MIA    7121\n",
       "MIN    6556\n",
       "NE     7395\n",
       "NO     7498\n",
       "NYG    7394\n",
       "NYJ    7355\n",
       "OAK    7168\n",
       "PHI    6957\n",
       "PIT    7570\n",
       "SD     7286\n",
       "SEA    7497\n",
       "SF     6421\n",
       "STL    6048\n",
       "TB     7133\n",
       "TEN    6601\n",
       "WAS    7194\n",
       "Name: Yards.Gained, dtype: int64"
      ]
     },
     "execution_count": 53,
     "metadata": {},
     "output_type": "execute_result"
    }
   ],
   "source": [
    "data['Yards.Gained'].groupby(data['posteam']).sum()"
   ]
  },
  {
   "cell_type": "code",
   "execution_count": 55,
   "metadata": {
    "collapsed": false
   },
   "outputs": [
    {
     "data": {
      "text/plain": [
       "posteam\n",
       "ARI    13.0\n",
       "ATL     8.0\n",
       "BAL     5.0\n",
       "BUF     8.0\n",
       "CAR    15.0\n",
       "CHI     6.0\n",
       "CIN    12.0\n",
       "CLE     3.0\n",
       "DAL     4.0\n",
       "DEN    12.0\n",
       "DET     7.0\n",
       "GB     10.0\n",
       "HOU     9.0\n",
       "IND     8.0\n",
       "JAC     NaN\n",
       "KC     11.0\n",
       "MIA     6.0\n",
       "MIN    11.0\n",
       "NE     12.0\n",
       "NO      9.0\n",
       "NYG     6.0\n",
       "NYJ    10.0\n",
       "OAK     7.0\n",
       "PHI     7.0\n",
       "PIT    10.0\n",
       "SD      4.0\n",
       "SEA    10.0\n",
       "SF      5.0\n",
       "STL     7.0\n",
       "TB      6.0\n",
       "TEN     3.0\n",
       "WAS     9.0\n",
       "Name: wins, dtype: float64"
      ]
     },
     "execution_count": 55,
     "metadata": {},
     "output_type": "execute_result"
    }
   ],
   "source": [
    "data['wins'].groupby(data['posteam']).max()"
   ]
  },
  {
   "cell_type": "code",
   "execution_count": 69,
   "metadata": {
    "collapsed": false
   },
   "outputs": [
    {
     "data": {
      "text/plain": [
       "Rusher\n",
       "A.Abdullah    602\n",
       "A.Andrews     520\n",
       "A.Bailey        6\n",
       "A.Bethea        6\n",
       "A.Blue        698\n",
       "Name: Yards.Gained, dtype: int64"
      ]
     },
     "execution_count": 69,
     "metadata": {},
     "output_type": "execute_result"
    }
   ],
   "source": [
    "#which players had the most rushing yards\n",
    "\n",
    "data['Yards.Gained'].groupby(data['Rusher']).sum().head()"
   ]
  },
  {
   "cell_type": "code",
   "execution_count": 82,
   "metadata": {
    "collapsed": false
   },
   "outputs": [
    {
     "data": {
      "text/plain": [
       "Rusher\n",
       "A.Peterson    1490\n",
       "D.Martin      1403\n",
       "T.Gurley      1179\n",
       "D.Freeman     1109\n",
       "L.Murray      1104\n",
       "Name: Yards.Gained, dtype: int64"
      ]
     },
     "execution_count": 82,
     "metadata": {},
     "output_type": "execute_result"
    }
   ],
   "source": [
    "#order the above stat\n",
    "\n",
    "sort = data['Yards.Gained'].groupby(data['Rusher']).sum()\n",
    "sort.sort_values(ascending = False).head()"
   ]
  },
  {
   "cell_type": "code",
   "execution_count": 86,
   "metadata": {
    "collapsed": false
   },
   "outputs": [
    {
     "data": {
      "text/plain": [
       "R.Nelson       55.0\n",
       "R.Incognito    38.0\n",
       "D.Walker       36.0\n",
       "J.Wright       29.0\n",
       "M.Butler       28.0\n",
       "dtype: float64"
      ]
     },
     "execution_count": 86,
     "metadata": {},
     "output_type": "execute_result"
    }
   ],
   "source": [
    "#which players had the most yards per carry?\n",
    "\n",
    "yards_per_carry = data['Yards.Gained'].groupby(data['Rusher']).sum() / data['Rusher'].value_counts()\n",
    "yards_per_carry.sort_values(ascending = False).head()"
   ]
  },
  {
   "cell_type": "code",
   "execution_count": 112,
   "metadata": {
    "collapsed": false
   },
   "outputs": [
    {
     "data": {
      "text/html": [
       "<div>\n",
       "<table border=\"1\" class=\"dataframe\">\n",
       "  <thead>\n",
       "    <tr style=\"text-align: right;\">\n",
       "      <th></th>\n",
       "      <th>0</th>\n",
       "    </tr>\n",
       "  </thead>\n",
       "  <tbody>\n",
       "    <tr>\n",
       "      <th>A.Abdullah</th>\n",
       "      <td>4.209790</td>\n",
       "    </tr>\n",
       "    <tr>\n",
       "      <th>A.Andrews</th>\n",
       "      <td>3.636364</td>\n",
       "    </tr>\n",
       "    <tr>\n",
       "      <th>A.Bailey</th>\n",
       "      <td>3.000000</td>\n",
       "    </tr>\n",
       "    <tr>\n",
       "      <th>A.Bethea</th>\n",
       "      <td>2.000000</td>\n",
       "    </tr>\n",
       "    <tr>\n",
       "      <th>A.Blue</th>\n",
       "      <td>3.814208</td>\n",
       "    </tr>\n",
       "  </tbody>\n",
       "</table>\n",
       "</div>"
      ],
      "text/plain": [
       "                   0\n",
       "A.Abdullah  4.209790\n",
       "A.Andrews   3.636364\n",
       "A.Bailey    3.000000\n",
       "A.Bethea    2.000000\n",
       "A.Blue      3.814208"
      ]
     },
     "execution_count": 112,
     "metadata": {},
     "output_type": "execute_result"
    }
   ],
   "source": [
    "#let's limit stat above to players with at least 100 carries\n",
    "\n",
    "carries = data['Rusher'].value_counts()\n",
    "carries = carries[carries >= 100]\n",
    "carries = pd.DataFrame(carries)\n",
    "yards_per_carry = pd.DataFrame(yards_per_carry)\n",
    "\n",
    "pd.merge(carries, yards_per_carry, how = 'left')"
   ]
  },
  {
   "cell_type": "code",
   "execution_count": 88,
   "metadata": {
    "collapsed": false
   },
   "outputs": [
    {
     "data": {
      "text/plain": [
       "B.Browner     21\n",
       "A.Smith       19\n",
       "T.Williams    16\n",
       "J.Hughes      16\n",
       "T.Smith       14\n",
       "Name: PenalizedPlayer, dtype: int64"
      ]
     },
     "execution_count": 88,
     "metadata": {},
     "output_type": "execute_result"
    }
   ],
   "source": [
    "#who was the nfl player penalized most frequently?\n",
    "\n",
    "data['PenalizedPlayer'].value_counts().head()"
   ]
  },
  {
   "cell_type": "code",
   "execution_count": 56,
   "metadata": {
    "collapsed": false
   },
   "outputs": [
    {
     "data": {
      "text/plain": [
       "<matplotlib.axes._subplots.AxesSubplot at 0x117f88978>"
      ]
     },
     "execution_count": 56,
     "metadata": {},
     "output_type": "execute_result"
    },
    {
     "data": {
      "image/png": "[encoded data removed]",
      "text/plain": [
       "<matplotlib.figure.Figure at 0x1171fa748>"
      ]
     },
     "metadata": {},
     "output_type": "display_data"
    }
   ],
   "source": [
    "sns.regplot(x = data['wins'].groupby(data['posteam']).max(), y = data['Yards.Gained'].groupby(data['posteam']).sum())"
   ]
  },
  {
   "cell_type": "code",
   "execution_count": 57,
   "metadata": {
    "collapsed": false
   },
   "outputs": [
    {
     "data": {
      "text/plain": [
       "posteam\n",
       "ARI    35\n",
       "ATL    46\n",
       "BAL    33\n",
       "BUF    32\n",
       "CAR    26\n",
       "CHI    30\n",
       "CIN    26\n",
       "CLE    39\n",
       "DAL    43\n",
       "DEN    38\n",
       "DET    32\n",
       "GB     32\n",
       "HOU    35\n",
       "IND    38\n",
       "JAC    41\n",
       "KC     19\n",
       "MIA    35\n",
       "MIN    28\n",
       "NE     20\n",
       "NO     33\n",
       "NYG    41\n",
       "NYJ    36\n",
       "OAK    41\n",
       "PHI    46\n",
       "PIT    34\n",
       "SD     34\n",
       "SEA    24\n",
       "SF     29\n",
       "STL    32\n",
       "TB     39\n",
       "TEN    45\n",
       "WAS    33\n",
       "Name: Turnover, dtype: int64"
      ]
     },
     "execution_count": 57,
     "metadata": {},
     "output_type": "execute_result"
    }
   ],
   "source": [
    "data['Turnover'].groupby(data['posteam']).sum()"
   ]
  },
  {
   "cell_type": "code",
   "execution_count": 59,
   "metadata": {
    "collapsed": false
   },
   "outputs": [
    {
     "data": {
      "text/plain": [
       "<matplotlib.axes._subplots.AxesSubplot at 0x117f5cbe0>"
      ]
     },
     "execution_count": 59,
     "metadata": {},
     "output_type": "execute_result"
    },
    {
     "data": {
      "image/png": "[encoded data removed]",
      "text/plain": [
       "<matplotlib.figure.Figure at 0x11b108dd8>"
      ]
     },
     "metadata": {},
     "output_type": "display_data"
    }
   ],
   "source": [
    "sns.regplot(x = data['wins'].groupby(data['posteam']).max(), y = data['Turnover'].groupby(data['posteam']).sum())"
   ]
  },
  {
   "cell_type": "code",
   "execution_count": 62,
   "metadata": {
    "collapsed": false
   },
   "outputs": [
    {
     "data": {
      "text/plain": [
       "<matplotlib.axes._subplots.AxesSubplot at 0x117ed4a20>"
      ]
     },
     "execution_count": 62,
     "metadata": {},
     "output_type": "execute_result"
    },
    {
     "data": {
      "image/png": "[encoded data removed]",
      "text/plain": [
       "<matplotlib.figure.Figure at 0x11e4c80f0>"
      ]
     },
     "metadata": {},
     "output_type": "display_data"
    }
   ],
   "source": [
    "sns.regplot(x = data['wins'].groupby(data['posteam']).max(), y = differential)"
   ]
  },
  {
   "cell_type": "code",
   "execution_count": null,
   "metadata": {
    "collapsed": true
   },
   "outputs": [],
   "source": []
  }
 ],
 "metadata": {
  "kernelspec": {
   "display_name": "Python 3",
   "language": "python",
   "name": "python3"
  },
  "language_info": {
   "codemirror_mode": {
    "name": "ipython",
    "version": 3
   },
   "file_extension": ".py",
   "mimetype": "text/x-python",
   "name": "python",
   "nbconvert_exporter": "python",
   "pygments_lexer": "ipython3",
   "version": "3.6.0"
  }
 },
 "nbformat": 4,
 "nbformat_minor": 2
}
