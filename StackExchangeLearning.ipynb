{
 "cells": [
  {
   "cell_type": "code",
   "execution_count": 172,
   "metadata": {
    "collapsed": false
   },
   "outputs": [],
   "source": [
    "import pandas as pd\n",
    "from nltk.stem.snowball import SnowballStemmer\n",
    "from textblob import TextBlob, Word\n",
    "from BeautifulSoup import BeautifulSoup\n",
    "import re\n",
    "from sklearn.cross_validation import train_test_split, cross_val_score\n",
    "from sklearn.feature_extraction.text import CountVectorizer, TfidfVectorizer\n",
    "import numpy as np\n",
    "from sklearn.naive_bayes import MultinomialNB\n",
    "from sklearn import metrics\n",
    "from sklearn.metrics import f1_score\n",
    "from sklearn.linear_model import LogisticRegression"
   ]
  },
  {
   "cell_type": "code",
   "execution_count": 157,
   "metadata": {
    "collapsed": true
   },
   "outputs": [],
   "source": [
    "stemmer = SnowballStemmer('english')"
   ]
  },
  {
   "cell_type": "code",
   "execution_count": 158,
   "metadata": {
    "collapsed": true
   },
   "outputs": [],
   "source": [
    "#define functions here\n",
    "\n",
    "def clean_html(raw_html):\n",
    "    for index, row in raw_html.iterrows():\n",
    "        cleanr = re.compile('<.*?>')\n",
    "        cleantext = re.sub(cleanr, '', row['content_decoded'])\n",
    "        return cleantext\n",
    "\n",
    "def word_tokenize(text, how = 'lemma'):\n",
    "    words = TextBlob(text).words\n",
    "    if how == 'lemma':\n",
    "        return [word.lemmatize() for word in words]\n",
    "    elif how == 'stem':\n",
    "        return [stemmer.stem(word) for word in words]\n",
    "    \n",
    "def spelling(text):\n",
    "    words = TextBlob(text).words\n",
    "    return [word.correct() for word in words]"
   ]
  },
  {
   "cell_type": "code",
   "execution_count": 147,
   "metadata": {
    "collapsed": false
   },
   "outputs": [],
   "source": [
    "#read in all csv files\n",
    "\n",
    "bio = pd.read_csv('https://raw.githubusercontent.com/sglembocki/Machine-Learning/master/StackExchangeLearning/biology.csv')\n",
    "cooking = pd.read_csv('https://raw.githubusercontent.com/sglembocki/Machine-Learning/master/StackExchangeLearning/cooking.csv')\n",
    "crypto = pd.read_csv('https://raw.githubusercontent.com/sglembocki/Machine-Learning/master/StackExchangeLearning/crypto.csv')\n",
    "diy = pd.read_csv('https://raw.githubusercontent.com/sglembocki/Machine-Learning/master/StackExchangeLearning/diy.csv')\n",
    "robot = pd.read_csv('https://raw.githubusercontent.com/sglembocki/Machine-Learning/master/StackExchangeLearning/robotics.csv')\n",
    "travel = pd.read_csv('https://raw.githubusercontent.com/sglembocki/Machine-Learning/master/StackExchangeLearning/travel.csv')"
   ]
  },
  {
   "cell_type": "code",
   "execution_count": 148,
   "metadata": {
    "collapsed": false
   },
   "outputs": [
    {
     "data": {
      "text/html": [
       "<div>\n",
       "<table border=\"1\" class=\"dataframe\">\n",
       "  <thead>\n",
       "    <tr style=\"text-align: right;\">\n",
       "      <th></th>\n",
       "      <th>id</th>\n",
       "      <th>title</th>\n",
       "      <th>content</th>\n",
       "      <th>tags</th>\n",
       "      <th>content_decoded</th>\n",
       "    </tr>\n",
       "  </thead>\n",
       "  <tbody>\n",
       "    <tr>\n",
       "      <th>0</th>\n",
       "      <td>1</td>\n",
       "      <td>What is the criticality of the ribosome bindin...</td>\n",
       "      <td>&lt;p&gt;In prokaryotic translation, how critical fo...</td>\n",
       "      <td>ribosome binding-sites translation synthetic-b...</td>\n",
       "      <td>what is the criticality of the ribosome bindin...</td>\n",
       "    </tr>\n",
       "    <tr>\n",
       "      <th>1</th>\n",
       "      <td>2</td>\n",
       "      <td>How is RNAse contamination in RNA based experi...</td>\n",
       "      <td>&lt;p&gt;Does anyone have any suggestions to prevent...</td>\n",
       "      <td>rna biochemistry</td>\n",
       "      <td>how is rnase contamination in rna based experi...</td>\n",
       "    </tr>\n",
       "    <tr>\n",
       "      <th>2</th>\n",
       "      <td>3</td>\n",
       "      <td>Are lymphocyte sizes clustered in two groups?</td>\n",
       "      <td>&lt;p&gt;Tortora writes in &lt;em&gt;Principles of Anatomy...</td>\n",
       "      <td>immunology cell-biology hematology</td>\n",
       "      <td>are lymphocyte sizes clustered in two groups? ...</td>\n",
       "    </tr>\n",
       "    <tr>\n",
       "      <th>3</th>\n",
       "      <td>4</td>\n",
       "      <td>How long does antibiotic-dosed LB maintain goo...</td>\n",
       "      <td>&lt;p&gt;Various people in our lab will prepare a li...</td>\n",
       "      <td>cell-culture</td>\n",
       "      <td>how long does antibiotic-dosed lb maintain goo...</td>\n",
       "    </tr>\n",
       "    <tr>\n",
       "      <th>4</th>\n",
       "      <td>5</td>\n",
       "      <td>Is exon order always preserved in splicing?</td>\n",
       "      <td>&lt;p&gt;Are there any cases in which the splicing m...</td>\n",
       "      <td>splicing mrna spliceosome introns exons</td>\n",
       "      <td>is exon order always preserved in splicing? &lt;p...</td>\n",
       "    </tr>\n",
       "  </tbody>\n",
       "</table>\n",
       "</div>"
      ],
      "text/plain": [
       "   id                                              title  \\\n",
       "0   1  What is the criticality of the ribosome bindin...   \n",
       "1   2  How is RNAse contamination in RNA based experi...   \n",
       "2   3      Are lymphocyte sizes clustered in two groups?   \n",
       "3   4  How long does antibiotic-dosed LB maintain goo...   \n",
       "4   5        Is exon order always preserved in splicing?   \n",
       "\n",
       "                                             content  \\\n",
       "0  <p>In prokaryotic translation, how critical fo...   \n",
       "1  <p>Does anyone have any suggestions to prevent...   \n",
       "2  <p>Tortora writes in <em>Principles of Anatomy...   \n",
       "3  <p>Various people in our lab will prepare a li...   \n",
       "4  <p>Are there any cases in which the splicing m...   \n",
       "\n",
       "                                                tags  \\\n",
       "0  ribosome binding-sites translation synthetic-b...   \n",
       "1                                   rna biochemistry   \n",
       "2                 immunology cell-biology hematology   \n",
       "3                                       cell-culture   \n",
       "4            splicing mrna spliceosome introns exons   \n",
       "\n",
       "                                     content_decoded  \n",
       "0  what is the criticality of the ribosome bindin...  \n",
       "1  how is rnase contamination in rna based experi...  \n",
       "2  are lymphocyte sizes clustered in two groups? ...  \n",
       "3  how long does antibiotic-dosed lb maintain goo...  \n",
       "4  is exon order always preserved in splicing? <p...  "
      ]
     },
     "execution_count": 148,
     "metadata": {},
     "output_type": "execute_result"
    }
   ],
   "source": [
    "bio['content_decoded'] = (bio['title'] + ' ' + bio['content'])\n",
    "bio['content_decoded'] = bio['content_decoded'].str.decode('utf-8', errors = 'ignore').str.lower()\n",
    "bio.head()"
   ]
  },
  {
   "cell_type": "code",
   "execution_count": 159,
   "metadata": {
    "collapsed": false
   },
   "outputs": [
    {
     "data": {
      "text/html": [
       "<div>\n",
       "<table border=\"1\" class=\"dataframe\">\n",
       "  <thead>\n",
       "    <tr style=\"text-align: right;\">\n",
       "      <th></th>\n",
       "      <th>id</th>\n",
       "      <th>title</th>\n",
       "      <th>content</th>\n",
       "      <th>tags</th>\n",
       "      <th>content_decoded</th>\n",
       "      <th>Content_decoded</th>\n",
       "    </tr>\n",
       "  </thead>\n",
       "  <tbody>\n",
       "    <tr>\n",
       "      <th>0</th>\n",
       "      <td>1</td>\n",
       "      <td>What is the criticality of the ribosome bindin...</td>\n",
       "      <td>In prokaryotic translation, how critical for e...</td>\n",
       "      <td>ribosome binding-sites translation synthetic-b...</td>\n",
       "      <td>what is the criticality of the ribosome bindin...</td>\n",
       "      <td>what is the criticality of the ribosome bindin...</td>\n",
       "    </tr>\n",
       "    <tr>\n",
       "      <th>1</th>\n",
       "      <td>2</td>\n",
       "      <td>How is RNAse contamination in RNA based experi...</td>\n",
       "      <td>Does anyone have any suggestions to prevent RN...</td>\n",
       "      <td>rna biochemistry</td>\n",
       "      <td>how is rnase contamination in rna based experi...</td>\n",
       "      <td>how is rnase contamination in rna based experi...</td>\n",
       "    </tr>\n",
       "    <tr>\n",
       "      <th>2</th>\n",
       "      <td>3</td>\n",
       "      <td>Are lymphocyte sizes clustered in two groups?</td>\n",
       "      <td>Tortora writes in Principles of Anatomy and Ph...</td>\n",
       "      <td>immunology cell-biology hematology</td>\n",
       "      <td>are lymphocyte sizes clustered in two groups? ...</td>\n",
       "      <td>are lymphocyte sizes clustered in two groups? ...</td>\n",
       "    </tr>\n",
       "    <tr>\n",
       "      <th>3</th>\n",
       "      <td>4</td>\n",
       "      <td>How long does antibiotic-dosed LB maintain goo...</td>\n",
       "      <td>Various people in our lab will prepare a liter...</td>\n",
       "      <td>cell-culture</td>\n",
       "      <td>how long does antibiotic-dosed lb maintain goo...</td>\n",
       "      <td>how long does antibiotic-dosed lb maintain goo...</td>\n",
       "    </tr>\n",
       "    <tr>\n",
       "      <th>4</th>\n",
       "      <td>5</td>\n",
       "      <td>Is exon order always preserved in splicing?</td>\n",
       "      <td>Are there any cases in which the splicing mach...</td>\n",
       "      <td>splicing mrna spliceosome introns exons</td>\n",
       "      <td>is exon order always preserved in splicing? ar...</td>\n",
       "      <td>is exon order always preserved in splicing? ar...</td>\n",
       "    </tr>\n",
       "  </tbody>\n",
       "</table>\n",
       "</div>"
      ],
      "text/plain": [
       "   id                                              title  \\\n",
       "0   1  What is the criticality of the ribosome bindin...   \n",
       "1   2  How is RNAse contamination in RNA based experi...   \n",
       "2   3      Are lymphocyte sizes clustered in two groups?   \n",
       "3   4  How long does antibiotic-dosed LB maintain goo...   \n",
       "4   5        Is exon order always preserved in splicing?   \n",
       "\n",
       "                                             content  \\\n",
       "0  In prokaryotic translation, how critical for e...   \n",
       "1  Does anyone have any suggestions to prevent RN...   \n",
       "2  Tortora writes in Principles of Anatomy and Ph...   \n",
       "3  Various people in our lab will prepare a liter...   \n",
       "4  Are there any cases in which the splicing mach...   \n",
       "\n",
       "                                                tags  \\\n",
       "0  ribosome binding-sites translation synthetic-b...   \n",
       "1                                   rna biochemistry   \n",
       "2                 immunology cell-biology hematology   \n",
       "3                                       cell-culture   \n",
       "4            splicing mrna spliceosome introns exons   \n",
       "\n",
       "                                     content_decoded  \\\n",
       "0  what is the criticality of the ribosome bindin...   \n",
       "1  how is rnase contamination in rna based experi...   \n",
       "2  are lymphocyte sizes clustered in two groups? ...   \n",
       "3  how long does antibiotic-dosed lb maintain goo...   \n",
       "4  is exon order always preserved in splicing? ar...   \n",
       "\n",
       "                                     Content_decoded  \n",
       "0  what is the criticality of the ribosome bindin...  \n",
       "1  how is rnase contamination in rna based experi...  \n",
       "2  are lymphocyte sizes clustered in two groups? ...  \n",
       "3  how long does antibiotic-dosed lb maintain goo...  \n",
       "4  is exon order always preserved in splicing? ar...  "
      ]
     },
     "execution_count": 159,
     "metadata": {},
     "output_type": "execute_result"
    }
   ],
   "source": [
    "bio['content_decoded'] = bio['content_decoded'].str.replace('<.*?>', ' ')\n",
    "bio['content_decoded'] = bio['content_decoded'].str.replace('/n', ' ')\n",
    "bio.head()"
   ]
  },
  {
   "cell_type": "code",
   "execution_count": 160,
   "metadata": {
    "collapsed": false
   },
   "outputs": [
    {
     "name": "stdout",
     "output_type": "stream",
     "text": [
      "<class 'pandas.core.frame.DataFrame'>\n",
      "RangeIndex: 13196 entries, 0 to 13195\n",
      "Data columns (total 6 columns):\n",
      "id                 13196 non-null int64\n",
      "title              13196 non-null object\n",
      "content            13196 non-null object\n",
      "tags               13196 non-null object\n",
      "content_decoded    13196 non-null object\n",
      "Content_decoded    13196 non-null object\n",
      "dtypes: int64(1), object(5)\n",
      "memory usage: 618.6+ KB\n"
     ]
    }
   ],
   "source": [
    "bio.info()"
   ]
  },
  {
   "cell_type": "code",
   "execution_count": 161,
   "metadata": {
    "collapsed": false
   },
   "outputs": [
    {
     "data": {
      "text/plain": [
       "evolution        0.012807\n",
       "human-biology    0.012504\n",
       "genetics         0.012428\n",
       "biochemistry     0.008184\n",
       "cell-biology     0.006896\n",
       "Name: tags, dtype: float64"
      ]
     },
     "execution_count": 161,
     "metadata": {},
     "output_type": "execute_result"
    }
   ],
   "source": [
    "#null accuracy\n",
    "\n",
    "null = bio.tags.value_counts() / bio.shape[0]\n",
    "null.head()"
   ]
  },
  {
   "cell_type": "code",
   "execution_count": 162,
   "metadata": {
    "collapsed": false
   },
   "outputs": [
    {
     "data": {
      "text/plain": [
       "6474     what is the evolutionary purpose of white spot...\n",
       "6491     binding of multivalent antibody to mutiple epi...\n",
       "272      how does golgi's neural histological stain wor...\n",
       "11469    cellular demand for antioxidants antioxidants ...\n",
       "11950    does cas9 require a nuclear localization signa...\n",
       "Name: content_decoded, dtype: object"
      ]
     },
     "execution_count": 162,
     "metadata": {},
     "output_type": "execute_result"
    }
   ],
   "source": [
    "x_train, x_test, y_train, y_test = train_test_split(bio.content_decoded, bio.tags, random_state = 1)\n",
    "x_train.head()"
   ]
  },
  {
   "cell_type": "code",
   "execution_count": 163,
   "metadata": {
    "collapsed": false
   },
   "outputs": [],
   "source": [
    "vect = CountVectorizer(stop_words = 'english', analyzer = lambda x: word_tokenize(x, how = 'stem')) #troubleshoot stop_words\n",
    "x_train_dtm = vect.fit_transform(x_train)\n",
    "x_test_dtm = vect.transform(x_test)"
   ]
  },
  {
   "cell_type": "code",
   "execution_count": 164,
   "metadata": {
    "collapsed": false
   },
   "outputs": [
    {
     "data": {
      "text/html": [
       "<div>\n",
       "<table border=\"1\" class=\"dataframe\">\n",
       "  <thead>\n",
       "    <tr style=\"text-align: right;\">\n",
       "      <th></th>\n",
       "      <th>'3</th>\n",
       "      <th>'5</th>\n",
       "      <th>'a</th>\n",
       "      <th>'b</th>\n",
       "      <th>'c</th>\n",
       "      <th>'d</th>\n",
       "      <th>'detect</th>\n",
       "      <th>'e</th>\n",
       "      <th>'g</th>\n",
       "      <th>'h</th>\n",
       "      <th>...</th>\n",
       "      <th>➕</th>\n",
       "      <th>➖</th>\n",
       "      <th>➜</th>\n",
       "      <th>➡</th>\n",
       "      <th>➡++gfe</th>\n",
       "      <th>ヒト</th>\n",
       "      <th>螳螂捕蝉，黄雀在后</th>\n",
       "      <th>说苑</th>\n",
       "      <th>？</th>\n",
       "      <th>￼￼￼￼￼</th>\n",
       "    </tr>\n",
       "  </thead>\n",
       "  <tbody>\n",
       "    <tr>\n",
       "      <th>0</th>\n",
       "      <td>0</td>\n",
       "      <td>0</td>\n",
       "      <td>0</td>\n",
       "      <td>0</td>\n",
       "      <td>0</td>\n",
       "      <td>0</td>\n",
       "      <td>0</td>\n",
       "      <td>0</td>\n",
       "      <td>0</td>\n",
       "      <td>0</td>\n",
       "      <td>...</td>\n",
       "      <td>0</td>\n",
       "      <td>0</td>\n",
       "      <td>0</td>\n",
       "      <td>0</td>\n",
       "      <td>0</td>\n",
       "      <td>0</td>\n",
       "      <td>0</td>\n",
       "      <td>0</td>\n",
       "      <td>0</td>\n",
       "      <td>0</td>\n",
       "    </tr>\n",
       "    <tr>\n",
       "      <th>1</th>\n",
       "      <td>0</td>\n",
       "      <td>0</td>\n",
       "      <td>0</td>\n",
       "      <td>0</td>\n",
       "      <td>0</td>\n",
       "      <td>0</td>\n",
       "      <td>0</td>\n",
       "      <td>0</td>\n",
       "      <td>0</td>\n",
       "      <td>0</td>\n",
       "      <td>...</td>\n",
       "      <td>0</td>\n",
       "      <td>0</td>\n",
       "      <td>0</td>\n",
       "      <td>0</td>\n",
       "      <td>0</td>\n",
       "      <td>0</td>\n",
       "      <td>0</td>\n",
       "      <td>0</td>\n",
       "      <td>0</td>\n",
       "      <td>0</td>\n",
       "    </tr>\n",
       "    <tr>\n",
       "      <th>2</th>\n",
       "      <td>0</td>\n",
       "      <td>0</td>\n",
       "      <td>0</td>\n",
       "      <td>0</td>\n",
       "      <td>0</td>\n",
       "      <td>0</td>\n",
       "      <td>0</td>\n",
       "      <td>0</td>\n",
       "      <td>0</td>\n",
       "      <td>0</td>\n",
       "      <td>...</td>\n",
       "      <td>0</td>\n",
       "      <td>0</td>\n",
       "      <td>0</td>\n",
       "      <td>0</td>\n",
       "      <td>0</td>\n",
       "      <td>0</td>\n",
       "      <td>0</td>\n",
       "      <td>0</td>\n",
       "      <td>0</td>\n",
       "      <td>0</td>\n",
       "    </tr>\n",
       "    <tr>\n",
       "      <th>3</th>\n",
       "      <td>0</td>\n",
       "      <td>0</td>\n",
       "      <td>0</td>\n",
       "      <td>0</td>\n",
       "      <td>0</td>\n",
       "      <td>0</td>\n",
       "      <td>0</td>\n",
       "      <td>0</td>\n",
       "      <td>0</td>\n",
       "      <td>0</td>\n",
       "      <td>...</td>\n",
       "      <td>0</td>\n",
       "      <td>0</td>\n",
       "      <td>0</td>\n",
       "      <td>0</td>\n",
       "      <td>0</td>\n",
       "      <td>0</td>\n",
       "      <td>0</td>\n",
       "      <td>0</td>\n",
       "      <td>0</td>\n",
       "      <td>0</td>\n",
       "    </tr>\n",
       "    <tr>\n",
       "      <th>4</th>\n",
       "      <td>0</td>\n",
       "      <td>0</td>\n",
       "      <td>0</td>\n",
       "      <td>0</td>\n",
       "      <td>0</td>\n",
       "      <td>0</td>\n",
       "      <td>0</td>\n",
       "      <td>0</td>\n",
       "      <td>0</td>\n",
       "      <td>0</td>\n",
       "      <td>...</td>\n",
       "      <td>0</td>\n",
       "      <td>0</td>\n",
       "      <td>0</td>\n",
       "      <td>0</td>\n",
       "      <td>0</td>\n",
       "      <td>0</td>\n",
       "      <td>0</td>\n",
       "      <td>0</td>\n",
       "      <td>0</td>\n",
       "      <td>0</td>\n",
       "    </tr>\n",
       "  </tbody>\n",
       "</table>\n",
       "<p>5 rows × 32590 columns</p>\n",
       "</div>"
      ],
      "text/plain": [
       "   '3  '5  'a  'b  'c  'd  'detect  'e  'g  'h  ...    ➕  ➖  ➜  ➡  ➡++gfe  ヒト  \\\n",
       "0   0   0   0   0   0   0        0   0   0   0  ...    0  0  0  0       0   0   \n",
       "1   0   0   0   0   0   0        0   0   0   0  ...    0  0  0  0       0   0   \n",
       "2   0   0   0   0   0   0        0   0   0   0  ...    0  0  0  0       0   0   \n",
       "3   0   0   0   0   0   0        0   0   0   0  ...    0  0  0  0       0   0   \n",
       "4   0   0   0   0   0   0        0   0   0   0  ...    0  0  0  0       0   0   \n",
       "\n",
       "   螳螂捕蝉，黄雀在后  说苑  ？  ￼￼￼￼￼  \n",
       "0          0   0  0      0  \n",
       "1          0   0  0      0  \n",
       "2          0   0  0      0  \n",
       "3          0   0  0      0  \n",
       "4          0   0  0      0  \n",
       "\n",
       "[5 rows x 32590 columns]"
      ]
     },
     "execution_count": 164,
     "metadata": {},
     "output_type": "execute_result"
    }
   ],
   "source": [
    "#examine the vocabulary and document-term matrix together\n",
    "\n",
    "train_arr = x_train_dtm.toarray()\n",
    "train_features = vect.get_feature_names()\n",
    "pd.DataFrame(x_train_dtm.toarray(), columns = vect.get_feature_names()).head()"
   ]
  },
  {
   "cell_type": "code",
   "execution_count": 165,
   "metadata": {
    "collapsed": false
   },
   "outputs": [
    {
     "name": "stdout",
     "output_type": "stream",
     "text": [
      "(9897, 32590)\n",
      "(3299, 32590)\n"
     ]
    }
   ],
   "source": [
    "#verify shape of train and test\n",
    "\n",
    "print x_train_dtm.shape\n",
    "print x_test_dtm.shape"
   ]
  },
  {
   "cell_type": "code",
   "execution_count": 166,
   "metadata": {
    "collapsed": false
   },
   "outputs": [
    {
     "data": {
      "text/html": [
       "<div>\n",
       "<table border=\"1\" class=\"dataframe\">\n",
       "  <thead>\n",
       "    <tr style=\"text-align: right;\">\n",
       "      <th></th>\n",
       "      <th>Count</th>\n",
       "      <th>Token</th>\n",
       "    </tr>\n",
       "  </thead>\n",
       "  <tbody>\n",
       "    <tr>\n",
       "      <th>29111</th>\n",
       "      <td>50276</td>\n",
       "      <td>the</td>\n",
       "    </tr>\n",
       "    <tr>\n",
       "      <th>21456</th>\n",
       "      <td>27812</td>\n",
       "      <td>of</td>\n",
       "    </tr>\n",
       "    <tr>\n",
       "      <th>29447</th>\n",
       "      <td>25368</td>\n",
       "      <td>to</td>\n",
       "    </tr>\n",
       "    <tr>\n",
       "      <th>3458</th>\n",
       "      <td>23380</td>\n",
       "      <td>a</td>\n",
       "    </tr>\n",
       "    <tr>\n",
       "      <th>15759</th>\n",
       "      <td>21923</td>\n",
       "      <td>i</td>\n",
       "    </tr>\n",
       "  </tbody>\n",
       "</table>\n",
       "</div>"
      ],
      "text/plain": [
       "       Count Token\n",
       "29111  50276   the\n",
       "21456  27812    of\n",
       "29447  25368    to\n",
       "3458   23380     a\n",
       "15759  21923     i"
      ]
     },
     "execution_count": 166,
     "metadata": {},
     "output_type": "execute_result"
    }
   ],
   "source": [
    "#create df with count and token\n",
    "\n",
    "x_train_token_counts = pd.DataFrame({'Token': train_features, 'Count': np.sum(train_arr, axis = 0)})\n",
    "x_train_token_counts.sort_values(by = 'Count', ascending = False).head()"
   ]
  },
  {
   "cell_type": "code",
   "execution_count": 167,
   "metadata": {
    "collapsed": false
   },
   "outputs": [
    {
     "data": {
      "text/plain": [
       "MultinomialNB(alpha=1.0, class_prior=None, fit_prior=True)"
      ]
     },
     "execution_count": 167,
     "metadata": {},
     "output_type": "execute_result"
    }
   ],
   "source": [
    "#instantiate and fit the model\n",
    "\n",
    "nb = MultinomialNB()\n",
    "nb.fit(x_train_dtm, y_train)"
   ]
  },
  {
   "cell_type": "code",
   "execution_count": 168,
   "metadata": {
    "collapsed": false
   },
   "outputs": [
    {
     "name": "stdout",
     "output_type": "stream",
     "text": [
      "0.0248560169748\n"
     ]
    }
   ],
   "source": [
    "#check accuracy of predictions\n",
    "\n",
    "predictions = nb.predict(x_test_dtm)\n",
    "print metrics.accuracy_score(y_test, predictions)"
   ]
  },
  {
   "cell_type": "code",
   "execution_count": 169,
   "metadata": {
    "collapsed": false
   },
   "outputs": [
    {
     "name": "stderr",
     "output_type": "stream",
     "text": [
      "C:\\Python2\\lib\\site-packages\\sklearn\\metrics\\classification.py:1074: UndefinedMetricWarning: F-score is ill-defined and being set to 0.0 in labels with no predicted samples.\n",
      "  'precision', 'predicted', average, warn_for)\n",
      "C:\\Python2\\lib\\site-packages\\sklearn\\metrics\\classification.py:1076: UndefinedMetricWarning: F-score is ill-defined and being set to 0.0 in labels with no true samples.\n",
      "  'recall', 'true', average, warn_for)\n"
     ]
    },
    {
     "data": {
      "text/plain": [
       "0.0041656583890502764"
      ]
     },
     "execution_count": 169,
     "metadata": {},
     "output_type": "execute_result"
    }
   ],
   "source": [
    "f1_score(y_test, predictions, average = 'weighted')"
   ]
  },
  {
   "cell_type": "code",
   "execution_count": 174,
   "metadata": {
    "collapsed": false
   },
   "outputs": [
    {
     "data": {
      "text/plain": [
       "0.057290087905425884"
      ]
     },
     "execution_count": 174,
     "metadata": {},
     "output_type": "execute_result"
    }
   ],
   "source": [
    "logreg = LogisticRegression()\n",
    "logreg.fit(x_train_dtm, y_train)\n",
    "predictions = logreg.predict(x_test_dtm)\n",
    "metrics.accuracy_score(y_test, predictions)"
   ]
  },
  {
   "cell_type": "code",
   "execution_count": 175,
   "metadata": {
    "collapsed": false
   },
   "outputs": [
    {
     "data": {
      "text/plain": [
       "0.024478285824780181"
      ]
     },
     "execution_count": 175,
     "metadata": {},
     "output_type": "execute_result"
    }
   ],
   "source": [
    "f1_score(y_test, predictions, average = 'weighted')"
   ]
  },
  {
   "cell_type": "code",
   "execution_count": null,
   "metadata": {
    "collapsed": true
   },
   "outputs": [],
   "source": []
  }
 ],
 "metadata": {
  "anaconda-cloud": {},
  "kernelspec": {
   "display_name": "Python [default]",
   "language": "python",
   "name": "python2"
  },
  "language_info": {
   "codemirror_mode": {
    "name": "ipython",
    "version": 2
   },
   "file_extension": ".py",
   "mimetype": "text/x-python",
   "name": "python",
   "nbconvert_exporter": "python",
   "pygments_lexer": "ipython2",
   "version": "2.7.12"
  }
 },
 "nbformat": 4,
 "nbformat_minor": 1
}
