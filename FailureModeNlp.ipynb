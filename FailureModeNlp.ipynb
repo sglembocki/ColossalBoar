{
 "cells": [
  {
   "cell_type": "markdown",
   "metadata": {},
   "source": [
    "The purpose of this notebook is to develop and test a model that is capable of predicting Field Failure Modes based on free text and multiple choice fields populated at Service Centers. This allows better aggregation of issues and more efficient problem solving."
   ]
  },
  {
   "cell_type": "code",
   "execution_count": 1,
   "metadata": {
    "collapsed": true
   },
   "outputs": [],
   "source": [
    "#natural language processing to predict field failure modes"
   ]
  },
  {
   "cell_type": "code",
   "execution_count": 57,
   "metadata": {
    "collapsed": false
   },
   "outputs": [],
   "source": [
    "import pandas as pd\n",
    "import matplotlib.pyplot as plt\n",
    "import seaborn as sns\n",
    "from sklearn.cross_validation import train_test_split, cross_val_score\n",
    "from sklearn.linear_model import LogisticRegression\n",
    "from sklearn.feature_extraction.text import CountVectorizer, TfidfVectorizer\n",
    "from sklearn.naive_bayes import MultinomialNB\n",
    "from sklearn import metrics\n",
    "import numpy as np\n",
    "from textblob import TextBlob, Word\n",
    "from nltk.stem.snowball import SnowballStemmer\n",
    "from nltk.corpus import stopwords\n",
    "from sklearn.linear_model import LogisticRegression\n",
    "from sklearn.linear_model import SGDClassifier\n",
    "from sklearn.pipeline import Pipeline, FeatureUnion, make_pipeline, make_union\n",
    "from sklearn.grid_search import GridSearchCV"
   ]
  },
  {
   "cell_type": "code",
   "execution_count": 3,
   "metadata": {
    "collapsed": true
   },
   "outputs": [],
   "source": [
    "stemmer = SnowballStemmer('english')"
   ]
  },
  {
   "cell_type": "code",
   "execution_count": 4,
   "metadata": {
    "collapsed": false
   },
   "outputs": [],
   "source": [
    "#define fuctions, try excluding stop words here (doesn't work below)\n",
    "\n",
    "def word_tokenize(text, how = 'lemma'):\n",
    "    words = TextBlob(text).words\n",
    "    if how == 'lemma':\n",
    "        return [word.lemmatize() for word in words]\n",
    "    elif how == 'stem':\n",
    "        return [stemmer.stem(word) for word in words]\n",
    "    \n",
    "def spelling(text):\n",
    "    words = TextBlob(text).words\n",
    "    return [word.correct() for word in words]"
   ]
  },
  {
   "cell_type": "markdown",
   "metadata": {},
   "source": [
    "Data exploration results show how many claims do not have a Failure Mode assigned. This is because the sheer number of claims coming through each day as well as a lack of Engineering bandwidth to manually assign Failure Modes. The chart below illustrates this distribution."
   ]
  },
  {
   "cell_type": "code",
   "execution_count": 5,
   "metadata": {
    "collapsed": false
   },
   "outputs": [],
   "source": [
    "#read in csv file for all since 2016-01-01 (we weill not be using this dataset for the model)\n",
    "\n",
    "df_all = pd.read_csv('C:\\Users\\sglembocki\\Documents\\Excel Files\\FaultModeNaturalLanguageProcessing.csv')"
   ]
  },
  {
   "cell_type": "code",
   "execution_count": 6,
   "metadata": {
    "collapsed": false
   },
   "outputs": [
    {
     "data": {
      "text/html": [
       "<div>\n",
       "<table border=\"1\" class=\"dataframe\">\n",
       "  <thead>\n",
       "    <tr style=\"text-align: right;\">\n",
       "      <th></th>\n",
       "      <th>IsNull</th>\n",
       "      <th>RepairOrderJobID</th>\n",
       "    </tr>\n",
       "  </thead>\n",
       "  <tbody>\n",
       "    <tr>\n",
       "      <th>0</th>\n",
       "      <td>0</td>\n",
       "      <td>1064771</td>\n",
       "    </tr>\n",
       "    <tr>\n",
       "      <th>1</th>\n",
       "      <td>0</td>\n",
       "      <td>1064772</td>\n",
       "    </tr>\n",
       "    <tr>\n",
       "      <th>2</th>\n",
       "      <td>0</td>\n",
       "      <td>1064773</td>\n",
       "    </tr>\n",
       "    <tr>\n",
       "      <th>3</th>\n",
       "      <td>0</td>\n",
       "      <td>1372398</td>\n",
       "    </tr>\n",
       "    <tr>\n",
       "      <th>4</th>\n",
       "      <td>0</td>\n",
       "      <td>1377547</td>\n",
       "    </tr>\n",
       "  </tbody>\n",
       "</table>\n",
       "</div>"
      ],
      "text/plain": [
       "   IsNull  RepairOrderJobID\n",
       "0       0           1064771\n",
       "1       0           1064772\n",
       "2       0           1064773\n",
       "3       0           1372398\n",
       "4       0           1377547"
      ]
     },
     "execution_count": 6,
     "metadata": {},
     "output_type": "execute_result"
    }
   ],
   "source": [
    "df_all.head()"
   ]
  },
  {
   "cell_type": "code",
   "execution_count": 7,
   "metadata": {
    "collapsed": false
   },
   "outputs": [
    {
     "data": {
      "text/plain": [
       "<matplotlib.text.Text at 0xdb3bcc0>"
      ]
     },
     "execution_count": 7,
     "metadata": {},
     "output_type": "execute_result"
    },
    {
     "data": {
      "image/png": "[encoded data removed]",
      "text/plain": [
       "<matplotlib.figure.Figure at 0xdae1940>"
      ]
     },
     "metadata": {},
     "output_type": "display_data"
    }
   ],
   "source": [
    "%matplotlib inline\n",
    "df_all.IsNull.value_counts().plot(kind = 'bar', title = 'Failure Mode Assigned Counts (after 2016-01-01 00:00:00)')\n",
    "plt.xlabel('Assigned')\n",
    "plt.ylabel('# of Jobs')"
   ]
  },
  {
   "cell_type": "code",
   "execution_count": 8,
   "metadata": {
    "collapsed": false
   },
   "outputs": [],
   "source": [
    "#read in csv file\n",
    "\n",
    "df = pd.read_csv('C:\\Users\\sglembocki\\Documents\\Excel Files\\FaultModeNaturalLanguageProcessingRev4.csv')"
   ]
  },
  {
   "cell_type": "code",
   "execution_count": 9,
   "metadata": {
    "collapsed": false
   },
   "outputs": [
    {
     "data": {
      "text/plain": [
       "3524"
      ]
     },
     "execution_count": 9,
     "metadata": {},
     "output_type": "execute_result"
    }
   ],
   "source": [
    "#number of options (this is what we are predicting)\n",
    "\n",
    "df['FaultModeID'].nunique()"
   ]
  },
  {
   "cell_type": "markdown",
   "metadata": {},
   "source": [
    "First, let's cleanse and parse the data. Below are some steps that are taken to do so:\n",
    "\n",
    "- Claims that could potentially be in other languages have been excluded. This is because it contains the English version as well as the untranslated version which can throw off the Count Vectorizer.\n",
    "- Unnecessary columns are removed from the DataFrame\n",
    "- It is noted that the data is a bit sparse. Some claims contain NULL values in the free text fields which result in a NULL values when all columns are concatenated. These are removed from the DataFrame\n",
    "- There is a fairly large tail of Failure Modes that have only been assigned once. These are removed to improve the predicition results for the more commonly occuring Failure Modes\n",
    "- All free text and multiple choice fields are combined in one field for simplification\n",
    "- There are special characters that are removed to improve the Count Vectorizer\n",
    "\n",
    "*All of the steps above improve the accuracy of the model"
   ]
  },
  {
   "cell_type": "code",
   "execution_count": 10,
   "metadata": {
    "collapsed": false
   },
   "outputs": [],
   "source": [
    "#remove all claims that could potentially be non-english\n",
    "\n",
    "df = df[df['Region'] != 'APAC']\n",
    "df = df[df['Region'] != 'EU']\n",
    "df = df[df['FaultModeID'] != 5388]\n",
    "df = df[df['FailureMode'] != 'Unable to Duplicate Concern']"
   ]
  },
  {
   "cell_type": "code",
   "execution_count": 11,
   "metadata": {
    "collapsed": false
   },
   "outputs": [],
   "source": [
    "#delete unused fields\n",
    "\n",
    "del df['Region']\n",
    "del df['JobID']"
   ]
  },
  {
   "cell_type": "code",
   "execution_count": 12,
   "metadata": {
    "collapsed": false
   },
   "outputs": [
    {
     "data": {
      "text/html": [
       "<div>\n",
       "<table border=\"1\" class=\"dataframe\">\n",
       "  <thead>\n",
       "    <tr style=\"text-align: right;\">\n",
       "      <th></th>\n",
       "      <th>Vin</th>\n",
       "      <th>ComplaintNarrative</th>\n",
       "      <th>CauseDescription</th>\n",
       "      <th>CauseNarrative</th>\n",
       "      <th>FaultModeID</th>\n",
       "      <th>FailureMode</th>\n",
       "      <th>RollupSymptom</th>\n",
       "      <th>CorrectionNarrative</th>\n",
       "    </tr>\n",
       "  </thead>\n",
       "  <tbody>\n",
       "    <tr>\n",
       "      <th>14</th>\n",
       "      <td>5YJSA1H21FFP77752</td>\n",
       "      <td>Customer states: High Power Wall Connector (HP...</td>\n",
       "      <td>Inoperative</td>\n",
       "      <td>NaN</td>\n",
       "      <td>471</td>\n",
       "      <td>Wall Connector Pilot Fault</td>\n",
       "      <td>High Power Wall Connector (HPC) fails to charg...</td>\n",
       "      <td>Shipping High Power Wall Connector to customer...</td>\n",
       "    </tr>\n",
       "    <tr>\n",
       "      <th>20</th>\n",
       "      <td>5YJSA1H43FF081959</td>\n",
       "      <td>Customer states rear right door is leaking air...</td>\n",
       "      <td>Poorly Fitted</td>\n",
       "      <td>misaligned</td>\n",
       "      <td>346</td>\n",
       "      <td>Primary Seal Poor Fitment</td>\n",
       "      <td>Window seal leaks air/water</td>\n",
       "      <td>found glass to not be positioned on the correc...</td>\n",
       "    </tr>\n",
       "    <tr>\n",
       "      <th>25</th>\n",
       "      <td>5YJSA1H10FF081469</td>\n",
       "      <td>Customer states: Guest reports HPWC is failing...</td>\n",
       "      <td>NaN</td>\n",
       "      <td>NaN</td>\n",
       "      <td>470</td>\n",
       "      <td>Wall Connector Loose Crimp</td>\n",
       "      <td>High Power Wall Connector (HPC) fails to charg...</td>\n",
       "      <td>Provided guest with a new HPWC. Warranty excha...</td>\n",
       "    </tr>\n",
       "    <tr>\n",
       "      <th>27</th>\n",
       "      <td>5YJSA1H2XFF081410</td>\n",
       "      <td>Customer states: the passenger side visor does...</td>\n",
       "      <td>Distorted Warped / Bent</td>\n",
       "      <td>Sun visor retaining clip fatigued.</td>\n",
       "      <td>437</td>\n",
       "      <td>Sun Visor Clip Broken</td>\n",
       "      <td>Sun visor will not latch into hook</td>\n",
       "      <td>Found passenger side sun visor clip fatigued, ...</td>\n",
       "    </tr>\n",
       "    <tr>\n",
       "      <th>32</th>\n",
       "      <td>5YJSA1H2XFFP78740</td>\n",
       "      <td>Customer states: vehicle has 3 alerts, will no...</td>\n",
       "      <td>Seized/Stiff/Sticking/Binding</td>\n",
       "      <td>Vehicle towed in with BMS_f152_SW_pos_contacto...</td>\n",
       "      <td>214</td>\n",
       "      <td>HV Contactor - Stuck</td>\n",
       "      <td>12v Battery Alert</td>\n",
       "      <td>Vehicle towed in with BMS_f152_SW_pos_contacto...</td>\n",
       "    </tr>\n",
       "  </tbody>\n",
       "</table>\n",
       "</div>"
      ],
      "text/plain": [
       "                  Vin                                 ComplaintNarrative  \\\n",
       "14  5YJSA1H21FFP77752  Customer states: High Power Wall Connector (HP...   \n",
       "20  5YJSA1H43FF081959  Customer states rear right door is leaking air...   \n",
       "25  5YJSA1H10FF081469  Customer states: Guest reports HPWC is failing...   \n",
       "27  5YJSA1H2XFF081410  Customer states: the passenger side visor does...   \n",
       "32  5YJSA1H2XFFP78740  Customer states: vehicle has 3 alerts, will no...   \n",
       "\n",
       "                 CauseDescription  \\\n",
       "14                    Inoperative   \n",
       "20                  Poorly Fitted   \n",
       "25                            NaN   \n",
       "27        Distorted Warped / Bent   \n",
       "32  Seized/Stiff/Sticking/Binding   \n",
       "\n",
       "                                       CauseNarrative  FaultModeID  \\\n",
       "14                                                NaN          471   \n",
       "20                                        misaligned           346   \n",
       "25                                                NaN          470   \n",
       "27                 Sun visor retaining clip fatigued.          437   \n",
       "32  Vehicle towed in with BMS_f152_SW_pos_contacto...          214   \n",
       "\n",
       "                   FailureMode  \\\n",
       "14  Wall Connector Pilot Fault   \n",
       "20   Primary Seal Poor Fitment   \n",
       "25  Wall Connector Loose Crimp   \n",
       "27       Sun Visor Clip Broken   \n",
       "32        HV Contactor - Stuck   \n",
       "\n",
       "                                        RollupSymptom  \\\n",
       "14  High Power Wall Connector (HPC) fails to charg...   \n",
       "20                       Window seal leaks air/water    \n",
       "25  High Power Wall Connector (HPC) fails to charg...   \n",
       "27                 Sun visor will not latch into hook   \n",
       "32                                  12v Battery Alert   \n",
       "\n",
       "                                  CorrectionNarrative  \n",
       "14  Shipping High Power Wall Connector to customer...  \n",
       "20  found glass to not be positioned on the correc...  \n",
       "25  Provided guest with a new HPWC. Warranty excha...  \n",
       "27  Found passenger side sun visor clip fatigued, ...  \n",
       "32  Vehicle towed in with BMS_f152_SW_pos_contacto...  "
      ]
     },
     "execution_count": 12,
     "metadata": {},
     "output_type": "execute_result"
    }
   ],
   "source": [
    "df.head()"
   ]
  },
  {
   "cell_type": "code",
   "execution_count": 13,
   "metadata": {
    "collapsed": false
   },
   "outputs": [],
   "source": [
    "#drop NaN values\n",
    "\n",
    "df = df.dropna()"
   ]
  },
  {
   "cell_type": "code",
   "execution_count": 14,
   "metadata": {
    "collapsed": false
   },
   "outputs": [
    {
     "data": {
      "text/html": [
       "<div>\n",
       "<table border=\"1\" class=\"dataframe\">\n",
       "  <thead>\n",
       "    <tr style=\"text-align: right;\">\n",
       "      <th></th>\n",
       "      <th>Vin</th>\n",
       "      <th>ComplaintNarrative</th>\n",
       "      <th>CauseDescription</th>\n",
       "      <th>CauseNarrative</th>\n",
       "      <th>FaultModeID</th>\n",
       "      <th>FailureMode</th>\n",
       "      <th>RollupSymptom</th>\n",
       "      <th>CorrectionNarrative</th>\n",
       "    </tr>\n",
       "  </thead>\n",
       "  <tbody>\n",
       "    <tr>\n",
       "      <th>20</th>\n",
       "      <td>5YJSA1H43FF081959</td>\n",
       "      <td>Customer states rear right door is leaking air...</td>\n",
       "      <td>Poorly Fitted</td>\n",
       "      <td>misaligned</td>\n",
       "      <td>346</td>\n",
       "      <td>Primary Seal Poor Fitment</td>\n",
       "      <td>Window seal leaks air/water</td>\n",
       "      <td>found glass to not be positioned on the correc...</td>\n",
       "    </tr>\n",
       "    <tr>\n",
       "      <th>27</th>\n",
       "      <td>5YJSA1H2XFF081410</td>\n",
       "      <td>Customer states: the passenger side visor does...</td>\n",
       "      <td>Distorted Warped / Bent</td>\n",
       "      <td>Sun visor retaining clip fatigued.</td>\n",
       "      <td>437</td>\n",
       "      <td>Sun Visor Clip Broken</td>\n",
       "      <td>Sun visor will not latch into hook</td>\n",
       "      <td>Found passenger side sun visor clip fatigued, ...</td>\n",
       "    </tr>\n",
       "    <tr>\n",
       "      <th>32</th>\n",
       "      <td>5YJSA1H2XFFP78740</td>\n",
       "      <td>Customer states: vehicle has 3 alerts, will no...</td>\n",
       "      <td>Seized/Stiff/Sticking/Binding</td>\n",
       "      <td>Vehicle towed in with BMS_f152_SW_pos_contacto...</td>\n",
       "      <td>214</td>\n",
       "      <td>HV Contactor - Stuck</td>\n",
       "      <td>12v Battery Alert</td>\n",
       "      <td>Vehicle towed in with BMS_f152_SW_pos_contacto...</td>\n",
       "    </tr>\n",
       "    <tr>\n",
       "      <th>36</th>\n",
       "      <td>5YJSA1H28FFP78851</td>\n",
       "      <td>Client reports persistent \"feedback crackle/hu...</td>\n",
       "      <td>Intermittent</td>\n",
       "      <td>Intermittent, potential amp or model fault int...</td>\n",
       "      <td>60</td>\n",
       "      <td>Center Display Causing Audio Distortion</td>\n",
       "      <td>Audio Distortion</td>\n",
       "      <td>Test drove several times under various conditi...</td>\n",
       "    </tr>\n",
       "    <tr>\n",
       "      <th>37</th>\n",
       "      <td>5YJSA1H2XFFP73179</td>\n",
       "      <td>Customer states: Customer states that the Pano...</td>\n",
       "      <td>Incorrect Alignment</td>\n",
       "      <td>Positioning/alignment of glass panels with res...</td>\n",
       "      <td>317</td>\n",
       "      <td>Pano Roof Glass Poor Fitment</td>\n",
       "      <td>Panoramic roof will not open/ close</td>\n",
       "      <td>Moving glass catches the fixed glass seal maki...</td>\n",
       "    </tr>\n",
       "  </tbody>\n",
       "</table>\n",
       "</div>"
      ],
      "text/plain": [
       "                  Vin                                 ComplaintNarrative  \\\n",
       "20  5YJSA1H43FF081959  Customer states rear right door is leaking air...   \n",
       "27  5YJSA1H2XFF081410  Customer states: the passenger side visor does...   \n",
       "32  5YJSA1H2XFFP78740  Customer states: vehicle has 3 alerts, will no...   \n",
       "36  5YJSA1H28FFP78851  Client reports persistent \"feedback crackle/hu...   \n",
       "37  5YJSA1H2XFFP73179  Customer states: Customer states that the Pano...   \n",
       "\n",
       "                 CauseDescription  \\\n",
       "20                  Poorly Fitted   \n",
       "27        Distorted Warped / Bent   \n",
       "32  Seized/Stiff/Sticking/Binding   \n",
       "36                   Intermittent   \n",
       "37            Incorrect Alignment   \n",
       "\n",
       "                                       CauseNarrative  FaultModeID  \\\n",
       "20                                        misaligned           346   \n",
       "27                 Sun visor retaining clip fatigued.          437   \n",
       "32  Vehicle towed in with BMS_f152_SW_pos_contacto...          214   \n",
       "36  Intermittent, potential amp or model fault int...           60   \n",
       "37  Positioning/alignment of glass panels with res...          317   \n",
       "\n",
       "                                FailureMode  \\\n",
       "20                Primary Seal Poor Fitment   \n",
       "27                    Sun Visor Clip Broken   \n",
       "32                     HV Contactor - Stuck   \n",
       "36  Center Display Causing Audio Distortion   \n",
       "37             Pano Roof Glass Poor Fitment   \n",
       "\n",
       "                          RollupSymptom  \\\n",
       "20         Window seal leaks air/water    \n",
       "27   Sun visor will not latch into hook   \n",
       "32                    12v Battery Alert   \n",
       "36                     Audio Distortion   \n",
       "37  Panoramic roof will not open/ close   \n",
       "\n",
       "                                  CorrectionNarrative  \n",
       "20  found glass to not be positioned on the correc...  \n",
       "27  Found passenger side sun visor clip fatigued, ...  \n",
       "32  Vehicle towed in with BMS_f152_SW_pos_contacto...  \n",
       "36  Test drove several times under various conditi...  \n",
       "37  Moving glass catches the fixed glass seal maki...  "
      ]
     },
     "execution_count": 14,
     "metadata": {},
     "output_type": "execute_result"
    }
   ],
   "source": [
    "df.head()"
   ]
  },
  {
   "cell_type": "code",
   "execution_count": 15,
   "metadata": {
    "collapsed": false
   },
   "outputs": [
    {
     "name": "stdout",
     "output_type": "stream",
     "text": [
      "(2502L,)\n",
      "(1394L,)\n",
      "(1108L,)\n"
     ]
    }
   ],
   "source": [
    "#show count of total claims and claims that are unique failure modes (i.e. only have been assigned once)\n",
    "\n",
    "vc = df.FailureMode.value_counts()\n",
    "\n",
    "print vc.shape\n",
    "print vc[vc != 1].shape #let's include these\n",
    "print vc[vc == 1].shape #and exclude these"
   ]
  },
  {
   "cell_type": "code",
   "execution_count": 16,
   "metadata": {
    "collapsed": false
   },
   "outputs": [
    {
     "data": {
      "text/html": [
       "<div>\n",
       "<table border=\"1\" class=\"dataframe\">\n",
       "  <thead>\n",
       "    <tr style=\"text-align: right;\">\n",
       "      <th></th>\n",
       "      <th>FailureMode</th>\n",
       "    </tr>\n",
       "  </thead>\n",
       "  <tbody>\n",
       "    <tr>\n",
       "      <th>Falcon Door Inductive Sensors - Detect Object That Is Not Present</th>\n",
       "      <td>1120</td>\n",
       "    </tr>\n",
       "    <tr>\n",
       "      <th>Key Fob Battery - Replacement Required</th>\n",
       "      <td>1002</td>\n",
       "    </tr>\n",
       "    <tr>\n",
       "      <th>12v Battery - Replacement Required Alert</th>\n",
       "      <td>793</td>\n",
       "    </tr>\n",
       "    <tr>\n",
       "      <th>Front Door - Latch Fault</th>\n",
       "      <td>569</td>\n",
       "    </tr>\n",
       "    <tr>\n",
       "      <th>Falcon Door Ultrasonic Sensor - Detects Object That Is Not Present</th>\n",
       "      <td>537</td>\n",
       "    </tr>\n",
       "  </tbody>\n",
       "</table>\n",
       "</div>"
      ],
      "text/plain": [
       "                                                    FailureMode\n",
       "Falcon Door Inductive Sensors - Detect Object T...         1120\n",
       "Key Fob Battery - Replacement Required                     1002\n",
       "12v Battery - Replacement Required Alert                    793\n",
       "Front Door - Latch Fault                                    569\n",
       "Falcon Door Ultrasonic Sensor - Detects Object ...          537"
      ]
     },
     "execution_count": 16,
     "metadata": {},
     "output_type": "execute_result"
    }
   ],
   "source": [
    "values = pd.DataFrame(vc[vc > 1])\n",
    "values.head() #these are the failure modes we want to include"
   ]
  },
  {
   "cell_type": "code",
   "execution_count": 17,
   "metadata": {
    "collapsed": false
   },
   "outputs": [
    {
     "data": {
      "text/plain": [
       "<matplotlib.axes._subplots.AxesSubplot at 0x12b8e908>"
      ]
     },
     "execution_count": 17,
     "metadata": {},
     "output_type": "execute_result"
    },
    {
     "data": {
      "image/png": "[encoded data removed]",
      "text/plain": [
       "<matplotlib.figure.Figure at 0x129da0f0>"
      ]
     },
     "metadata": {},
     "output_type": "display_data"
    }
   ],
   "source": [
    "df.FaultModeID.value_counts().head(10).plot(kind = 'bar', stacked = True)"
   ]
  },
  {
   "cell_type": "code",
   "execution_count": 18,
   "metadata": {
    "collapsed": true
   },
   "outputs": [],
   "source": [
    "df = df[df['FailureMode'].isin(values.index.tolist())] #filter out data to include only those that occur more than once"
   ]
  },
  {
   "cell_type": "code",
   "execution_count": 19,
   "metadata": {
    "collapsed": false
   },
   "outputs": [],
   "source": [
    "#create a new field that combines all other features of interest\n",
    "\n",
    "df['All'] = (df['ComplaintNarrative'] + ' ' + df['CauseDescription'] + ' ' + df['CauseNarrative'] + ' ' + df['RollupSymptom'] + df['CorrectionNarrative'])"
   ]
  },
  {
   "cell_type": "code",
   "execution_count": 20,
   "metadata": {
    "collapsed": false
   },
   "outputs": [
    {
     "data": {
      "text/html": [
       "<div>\n",
       "<table border=\"1\" class=\"dataframe\">\n",
       "  <thead>\n",
       "    <tr style=\"text-align: right;\">\n",
       "      <th></th>\n",
       "      <th>Vin</th>\n",
       "      <th>ComplaintNarrative</th>\n",
       "      <th>CauseDescription</th>\n",
       "      <th>CauseNarrative</th>\n",
       "      <th>FaultModeID</th>\n",
       "      <th>FailureMode</th>\n",
       "      <th>RollupSymptom</th>\n",
       "      <th>CorrectionNarrative</th>\n",
       "      <th>All</th>\n",
       "    </tr>\n",
       "  </thead>\n",
       "  <tbody>\n",
       "    <tr>\n",
       "      <th>20</th>\n",
       "      <td>5YJSA1H43FF081959</td>\n",
       "      <td>Customer states rear right door is leaking air...</td>\n",
       "      <td>Poorly Fitted</td>\n",
       "      <td>misaligned</td>\n",
       "      <td>346</td>\n",
       "      <td>Primary Seal Poor Fitment</td>\n",
       "      <td>Window seal leaks air/water</td>\n",
       "      <td>found glass to not be positioned on the correc...</td>\n",
       "      <td>Customer states rear right door is leaking air...</td>\n",
       "    </tr>\n",
       "    <tr>\n",
       "      <th>27</th>\n",
       "      <td>5YJSA1H2XFF081410</td>\n",
       "      <td>Customer states: the passenger side visor does...</td>\n",
       "      <td>Distorted Warped / Bent</td>\n",
       "      <td>Sun visor retaining clip fatigued.</td>\n",
       "      <td>437</td>\n",
       "      <td>Sun Visor Clip Broken</td>\n",
       "      <td>Sun visor will not latch into hook</td>\n",
       "      <td>Found passenger side sun visor clip fatigued, ...</td>\n",
       "      <td>Customer states: the passenger side visor does...</td>\n",
       "    </tr>\n",
       "    <tr>\n",
       "      <th>32</th>\n",
       "      <td>5YJSA1H2XFFP78740</td>\n",
       "      <td>Customer states: vehicle has 3 alerts, will no...</td>\n",
       "      <td>Seized/Stiff/Sticking/Binding</td>\n",
       "      <td>Vehicle towed in with BMS_f152_SW_pos_contacto...</td>\n",
       "      <td>214</td>\n",
       "      <td>HV Contactor - Stuck</td>\n",
       "      <td>12v Battery Alert</td>\n",
       "      <td>Vehicle towed in with BMS_f152_SW_pos_contacto...</td>\n",
       "      <td>Customer states: vehicle has 3 alerts, will no...</td>\n",
       "    </tr>\n",
       "    <tr>\n",
       "      <th>36</th>\n",
       "      <td>5YJSA1H28FFP78851</td>\n",
       "      <td>Client reports persistent \"feedback crackle/hu...</td>\n",
       "      <td>Intermittent</td>\n",
       "      <td>Intermittent, potential amp or model fault int...</td>\n",
       "      <td>60</td>\n",
       "      <td>Center Display Causing Audio Distortion</td>\n",
       "      <td>Audio Distortion</td>\n",
       "      <td>Test drove several times under various conditi...</td>\n",
       "      <td>Client reports persistent \"feedback crackle/hu...</td>\n",
       "    </tr>\n",
       "    <tr>\n",
       "      <th>37</th>\n",
       "      <td>5YJSA1H2XFFP73179</td>\n",
       "      <td>Customer states: Customer states that the Pano...</td>\n",
       "      <td>Incorrect Alignment</td>\n",
       "      <td>Positioning/alignment of glass panels with res...</td>\n",
       "      <td>317</td>\n",
       "      <td>Pano Roof Glass Poor Fitment</td>\n",
       "      <td>Panoramic roof will not open/ close</td>\n",
       "      <td>Moving glass catches the fixed glass seal maki...</td>\n",
       "      <td>Customer states: Customer states that the Pano...</td>\n",
       "    </tr>\n",
       "  </tbody>\n",
       "</table>\n",
       "</div>"
      ],
      "text/plain": [
       "                  Vin                                 ComplaintNarrative  \\\n",
       "20  5YJSA1H43FF081959  Customer states rear right door is leaking air...   \n",
       "27  5YJSA1H2XFF081410  Customer states: the passenger side visor does...   \n",
       "32  5YJSA1H2XFFP78740  Customer states: vehicle has 3 alerts, will no...   \n",
       "36  5YJSA1H28FFP78851  Client reports persistent \"feedback crackle/hu...   \n",
       "37  5YJSA1H2XFFP73179  Customer states: Customer states that the Pano...   \n",
       "\n",
       "                 CauseDescription  \\\n",
       "20                  Poorly Fitted   \n",
       "27        Distorted Warped / Bent   \n",
       "32  Seized/Stiff/Sticking/Binding   \n",
       "36                   Intermittent   \n",
       "37            Incorrect Alignment   \n",
       "\n",
       "                                       CauseNarrative  FaultModeID  \\\n",
       "20                                        misaligned           346   \n",
       "27                 Sun visor retaining clip fatigued.          437   \n",
       "32  Vehicle towed in with BMS_f152_SW_pos_contacto...          214   \n",
       "36  Intermittent, potential amp or model fault int...           60   \n",
       "37  Positioning/alignment of glass panels with res...          317   \n",
       "\n",
       "                                FailureMode  \\\n",
       "20                Primary Seal Poor Fitment   \n",
       "27                    Sun Visor Clip Broken   \n",
       "32                     HV Contactor - Stuck   \n",
       "36  Center Display Causing Audio Distortion   \n",
       "37             Pano Roof Glass Poor Fitment   \n",
       "\n",
       "                          RollupSymptom  \\\n",
       "20         Window seal leaks air/water    \n",
       "27   Sun visor will not latch into hook   \n",
       "32                    12v Battery Alert   \n",
       "36                     Audio Distortion   \n",
       "37  Panoramic roof will not open/ close   \n",
       "\n",
       "                                  CorrectionNarrative  \\\n",
       "20  found glass to not be positioned on the correc...   \n",
       "27  Found passenger side sun visor clip fatigued, ...   \n",
       "32  Vehicle towed in with BMS_f152_SW_pos_contacto...   \n",
       "36  Test drove several times under various conditi...   \n",
       "37  Moving glass catches the fixed glass seal maki...   \n",
       "\n",
       "                                                  All  \n",
       "20  Customer states rear right door is leaking air...  \n",
       "27  Customer states: the passenger side visor does...  \n",
       "32  Customer states: vehicle has 3 alerts, will no...  \n",
       "36  Client reports persistent \"feedback crackle/hu...  \n",
       "37  Customer states: Customer states that the Pano...  "
      ]
     },
     "execution_count": 20,
     "metadata": {},
     "output_type": "execute_result"
    }
   ],
   "source": [
    "df[df['FaultModeID'] != 5388].head()"
   ]
  },
  {
   "cell_type": "code",
   "execution_count": 21,
   "metadata": {
    "collapsed": false
   },
   "outputs": [],
   "source": [
    "#decode feature column, remove special characters\n",
    "\n",
    "df['CorrectionNarrativeRev2'] = df['All'].str.decode('utf-8', errors = 'ignore').str.lower() #decode and lowercase\n",
    "df['CorrectionNarrativeRev2'] = df['CorrectionNarrativeRev2'].str.replace('\"', '') #remove double quotes\n",
    "df['CorrectionNarrativeRev2'] = df['CorrectionNarrativeRev2'].str.replace('\\'', '') #remove single quotes\n",
    "df['CorrectionNarrativeRev2'] = df['CorrectionNarrativeRev2'].str.replace('customer states:', '') #present in nearly all claims\n",
    "df['CorrectionNarrativeRev2'] = df['CorrectionNarrativeRev2'].str.replace('customer states', '') #slight variation of above\n",
    "df['CorrectionNarrativeRev2'] = df['CorrectionNarrativeRev2'].str.replace(' / ', ' ') #remove slashes\n",
    "df['CorrectionNarrativeRev2'] = df['CorrectionNarrativeRev2'].str.replace('/', ' ') #remove slashes\n",
    "df['CorrectionNarrativeRev2'] = df['CorrectionNarrativeRev2'].str.replace('.', ' ') #remove periods\n",
    "df['CorrectionNarrativeRev2'] = df['CorrectionNarrativeRev2'].str.replace('\\n', ' ')"
   ]
  },
  {
   "cell_type": "code",
   "execution_count": 22,
   "metadata": {
    "collapsed": false
   },
   "outputs": [
    {
     "data": {
      "text/html": [
       "<div>\n",
       "<table border=\"1\" class=\"dataframe\">\n",
       "  <thead>\n",
       "    <tr style=\"text-align: right;\">\n",
       "      <th></th>\n",
       "      <th>Vin</th>\n",
       "      <th>ComplaintNarrative</th>\n",
       "      <th>CauseDescription</th>\n",
       "      <th>CauseNarrative</th>\n",
       "      <th>FaultModeID</th>\n",
       "      <th>FailureMode</th>\n",
       "      <th>RollupSymptom</th>\n",
       "      <th>CorrectionNarrative</th>\n",
       "      <th>All</th>\n",
       "      <th>CorrectionNarrativeRev2</th>\n",
       "    </tr>\n",
       "  </thead>\n",
       "  <tbody>\n",
       "    <tr>\n",
       "      <th>20</th>\n",
       "      <td>5YJSA1H43FF081959</td>\n",
       "      <td>Customer states rear right door is leaking air...</td>\n",
       "      <td>Poorly Fitted</td>\n",
       "      <td>misaligned</td>\n",
       "      <td>346</td>\n",
       "      <td>Primary Seal Poor Fitment</td>\n",
       "      <td>Window seal leaks air/water</td>\n",
       "      <td>found glass to not be positioned on the correc...</td>\n",
       "      <td>Customer states rear right door is leaking air...</td>\n",
       "      <td>rear right door is leaking air   he can push ...</td>\n",
       "    </tr>\n",
       "    <tr>\n",
       "      <th>27</th>\n",
       "      <td>5YJSA1H2XFF081410</td>\n",
       "      <td>Customer states: the passenger side visor does...</td>\n",
       "      <td>Distorted Warped / Bent</td>\n",
       "      <td>Sun visor retaining clip fatigued.</td>\n",
       "      <td>437</td>\n",
       "      <td>Sun Visor Clip Broken</td>\n",
       "      <td>Sun visor will not latch into hook</td>\n",
       "      <td>Found passenger side sun visor clip fatigued, ...</td>\n",
       "      <td>Customer states: the passenger side visor does...</td>\n",
       "      <td>the passenger side visor doesnt latch properl...</td>\n",
       "    </tr>\n",
       "    <tr>\n",
       "      <th>32</th>\n",
       "      <td>5YJSA1H2XFFP78740</td>\n",
       "      <td>Customer states: vehicle has 3 alerts, will no...</td>\n",
       "      <td>Seized/Stiff/Sticking/Binding</td>\n",
       "      <td>Vehicle towed in with BMS_f152_SW_pos_contacto...</td>\n",
       "      <td>214</td>\n",
       "      <td>HV Contactor - Stuck</td>\n",
       "      <td>12v Battery Alert</td>\n",
       "      <td>Vehicle towed in with BMS_f152_SW_pos_contacto...</td>\n",
       "      <td>Customer states: vehicle has 3 alerts, will no...</td>\n",
       "      <td>vehicle has 3 alerts, will not start in wacon...</td>\n",
       "    </tr>\n",
       "    <tr>\n",
       "      <th>36</th>\n",
       "      <td>5YJSA1H28FFP78851</td>\n",
       "      <td>Client reports persistent \"feedback crackle/hu...</td>\n",
       "      <td>Intermittent</td>\n",
       "      <td>Intermittent, potential amp or model fault int...</td>\n",
       "      <td>60</td>\n",
       "      <td>Center Display Causing Audio Distortion</td>\n",
       "      <td>Audio Distortion</td>\n",
       "      <td>Test drove several times under various conditi...</td>\n",
       "      <td>Client reports persistent \"feedback crackle/hu...</td>\n",
       "      <td>client reports persistent feedback crackle hum...</td>\n",
       "    </tr>\n",
       "    <tr>\n",
       "      <th>37</th>\n",
       "      <td>5YJSA1H2XFFP73179</td>\n",
       "      <td>Customer states: Customer states that the Pano...</td>\n",
       "      <td>Incorrect Alignment</td>\n",
       "      <td>Positioning/alignment of glass panels with res...</td>\n",
       "      <td>317</td>\n",
       "      <td>Pano Roof Glass Poor Fitment</td>\n",
       "      <td>Panoramic roof will not open/ close</td>\n",
       "      <td>Moving glass catches the fixed glass seal maki...</td>\n",
       "      <td>Customer states: Customer states that the Pano...</td>\n",
       "      <td>that the panoramic roof does not open proper...</td>\n",
       "    </tr>\n",
       "  </tbody>\n",
       "</table>\n",
       "</div>"
      ],
      "text/plain": [
       "                  Vin                                 ComplaintNarrative  \\\n",
       "20  5YJSA1H43FF081959  Customer states rear right door is leaking air...   \n",
       "27  5YJSA1H2XFF081410  Customer states: the passenger side visor does...   \n",
       "32  5YJSA1H2XFFP78740  Customer states: vehicle has 3 alerts, will no...   \n",
       "36  5YJSA1H28FFP78851  Client reports persistent \"feedback crackle/hu...   \n",
       "37  5YJSA1H2XFFP73179  Customer states: Customer states that the Pano...   \n",
       "\n",
       "                 CauseDescription  \\\n",
       "20                  Poorly Fitted   \n",
       "27        Distorted Warped / Bent   \n",
       "32  Seized/Stiff/Sticking/Binding   \n",
       "36                   Intermittent   \n",
       "37            Incorrect Alignment   \n",
       "\n",
       "                                       CauseNarrative  FaultModeID  \\\n",
       "20                                        misaligned           346   \n",
       "27                 Sun visor retaining clip fatigued.          437   \n",
       "32  Vehicle towed in with BMS_f152_SW_pos_contacto...          214   \n",
       "36  Intermittent, potential amp or model fault int...           60   \n",
       "37  Positioning/alignment of glass panels with res...          317   \n",
       "\n",
       "                                FailureMode  \\\n",
       "20                Primary Seal Poor Fitment   \n",
       "27                    Sun Visor Clip Broken   \n",
       "32                     HV Contactor - Stuck   \n",
       "36  Center Display Causing Audio Distortion   \n",
       "37             Pano Roof Glass Poor Fitment   \n",
       "\n",
       "                          RollupSymptom  \\\n",
       "20         Window seal leaks air/water    \n",
       "27   Sun visor will not latch into hook   \n",
       "32                    12v Battery Alert   \n",
       "36                     Audio Distortion   \n",
       "37  Panoramic roof will not open/ close   \n",
       "\n",
       "                                  CorrectionNarrative  \\\n",
       "20  found glass to not be positioned on the correc...   \n",
       "27  Found passenger side sun visor clip fatigued, ...   \n",
       "32  Vehicle towed in with BMS_f152_SW_pos_contacto...   \n",
       "36  Test drove several times under various conditi...   \n",
       "37  Moving glass catches the fixed glass seal maki...   \n",
       "\n",
       "                                                  All  \\\n",
       "20  Customer states rear right door is leaking air...   \n",
       "27  Customer states: the passenger side visor does...   \n",
       "32  Customer states: vehicle has 3 alerts, will no...   \n",
       "36  Client reports persistent \"feedback crackle/hu...   \n",
       "37  Customer states: Customer states that the Pano...   \n",
       "\n",
       "                              CorrectionNarrativeRev2  \n",
       "20   rear right door is leaking air   he can push ...  \n",
       "27   the passenger side visor doesnt latch properl...  \n",
       "32   vehicle has 3 alerts, will not start in wacon...  \n",
       "36  client reports persistent feedback crackle hum...  \n",
       "37    that the panoramic roof does not open proper...  "
      ]
     },
     "execution_count": 22,
     "metadata": {},
     "output_type": "execute_result"
    }
   ],
   "source": [
    "df.head()"
   ]
  },
  {
   "cell_type": "code",
   "execution_count": 23,
   "metadata": {
    "collapsed": false
   },
   "outputs": [
    {
     "data": {
      "text/html": [
       "<div>\n",
       "<table border=\"1\" class=\"dataframe\">\n",
       "  <thead>\n",
       "    <tr style=\"text-align: right;\">\n",
       "      <th></th>\n",
       "      <th>Vin</th>\n",
       "      <th>ComplaintNarrative</th>\n",
       "      <th>CauseDescription</th>\n",
       "      <th>CauseNarrative</th>\n",
       "      <th>FaultModeID</th>\n",
       "      <th>FailureMode</th>\n",
       "      <th>RollupSymptom</th>\n",
       "      <th>CorrectionNarrative</th>\n",
       "      <th>All</th>\n",
       "      <th>CorrectionNarrativeRev2</th>\n",
       "    </tr>\n",
       "  </thead>\n",
       "  <tbody>\n",
       "    <tr>\n",
       "      <th>20</th>\n",
       "      <td>5YJSA1H43FF081959</td>\n",
       "      <td>Customer states rear right door is leaking air...</td>\n",
       "      <td>Poorly Fitted</td>\n",
       "      <td>misaligned</td>\n",
       "      <td>346</td>\n",
       "      <td>Primary Seal Poor Fitment</td>\n",
       "      <td>Window seal leaks air/water</td>\n",
       "      <td>found glass to not be positioned on the correc...</td>\n",
       "      <td>Customer states rear right door is leaking air...</td>\n",
       "      <td>rear right door is leaking air   he can push ...</td>\n",
       "    </tr>\n",
       "    <tr>\n",
       "      <th>27</th>\n",
       "      <td>5YJSA1H2XFF081410</td>\n",
       "      <td>Customer states: the passenger side visor does...</td>\n",
       "      <td>Distorted Warped / Bent</td>\n",
       "      <td>Sun visor retaining clip fatigued.</td>\n",
       "      <td>437</td>\n",
       "      <td>Sun Visor Clip Broken</td>\n",
       "      <td>Sun visor will not latch into hook</td>\n",
       "      <td>Found passenger side sun visor clip fatigued, ...</td>\n",
       "      <td>Customer states: the passenger side visor does...</td>\n",
       "      <td>the passenger side visor doesnt latch properl...</td>\n",
       "    </tr>\n",
       "    <tr>\n",
       "      <th>32</th>\n",
       "      <td>5YJSA1H2XFFP78740</td>\n",
       "      <td>Customer states: vehicle has 3 alerts, will no...</td>\n",
       "      <td>Seized/Stiff/Sticking/Binding</td>\n",
       "      <td>Vehicle towed in with BMS_f152_SW_pos_contacto...</td>\n",
       "      <td>214</td>\n",
       "      <td>HV Contactor - Stuck</td>\n",
       "      <td>12v Battery Alert</td>\n",
       "      <td>Vehicle towed in with BMS_f152_SW_pos_contacto...</td>\n",
       "      <td>Customer states: vehicle has 3 alerts, will no...</td>\n",
       "      <td>vehicle has 3 alerts, will not start in wacon...</td>\n",
       "    </tr>\n",
       "    <tr>\n",
       "      <th>36</th>\n",
       "      <td>5YJSA1H28FFP78851</td>\n",
       "      <td>Client reports persistent \"feedback crackle/hu...</td>\n",
       "      <td>Intermittent</td>\n",
       "      <td>Intermittent, potential amp or model fault int...</td>\n",
       "      <td>60</td>\n",
       "      <td>Center Display Causing Audio Distortion</td>\n",
       "      <td>Audio Distortion</td>\n",
       "      <td>Test drove several times under various conditi...</td>\n",
       "      <td>Client reports persistent \"feedback crackle/hu...</td>\n",
       "      <td>client reports persistent feedback crackle hum...</td>\n",
       "    </tr>\n",
       "    <tr>\n",
       "      <th>37</th>\n",
       "      <td>5YJSA1H2XFFP73179</td>\n",
       "      <td>Customer states: Customer states that the Pano...</td>\n",
       "      <td>Incorrect Alignment</td>\n",
       "      <td>Positioning/alignment of glass panels with res...</td>\n",
       "      <td>317</td>\n",
       "      <td>Pano Roof Glass Poor Fitment</td>\n",
       "      <td>Panoramic roof will not open/ close</td>\n",
       "      <td>Moving glass catches the fixed glass seal maki...</td>\n",
       "      <td>Customer states: Customer states that the Pano...</td>\n",
       "      <td>that the panoramic roof does not open proper...</td>\n",
       "    </tr>\n",
       "  </tbody>\n",
       "</table>\n",
       "</div>"
      ],
      "text/plain": [
       "                  Vin                                 ComplaintNarrative  \\\n",
       "20  5YJSA1H43FF081959  Customer states rear right door is leaking air...   \n",
       "27  5YJSA1H2XFF081410  Customer states: the passenger side visor does...   \n",
       "32  5YJSA1H2XFFP78740  Customer states: vehicle has 3 alerts, will no...   \n",
       "36  5YJSA1H28FFP78851  Client reports persistent \"feedback crackle/hu...   \n",
       "37  5YJSA1H2XFFP73179  Customer states: Customer states that the Pano...   \n",
       "\n",
       "                 CauseDescription  \\\n",
       "20                  Poorly Fitted   \n",
       "27        Distorted Warped / Bent   \n",
       "32  Seized/Stiff/Sticking/Binding   \n",
       "36                   Intermittent   \n",
       "37            Incorrect Alignment   \n",
       "\n",
       "                                       CauseNarrative  FaultModeID  \\\n",
       "20                                        misaligned           346   \n",
       "27                 Sun visor retaining clip fatigued.          437   \n",
       "32  Vehicle towed in with BMS_f152_SW_pos_contacto...          214   \n",
       "36  Intermittent, potential amp or model fault int...           60   \n",
       "37  Positioning/alignment of glass panels with res...          317   \n",
       "\n",
       "                                FailureMode  \\\n",
       "20                Primary Seal Poor Fitment   \n",
       "27                    Sun Visor Clip Broken   \n",
       "32                     HV Contactor - Stuck   \n",
       "36  Center Display Causing Audio Distortion   \n",
       "37             Pano Roof Glass Poor Fitment   \n",
       "\n",
       "                          RollupSymptom  \\\n",
       "20         Window seal leaks air/water    \n",
       "27   Sun visor will not latch into hook   \n",
       "32                    12v Battery Alert   \n",
       "36                     Audio Distortion   \n",
       "37  Panoramic roof will not open/ close   \n",
       "\n",
       "                                  CorrectionNarrative  \\\n",
       "20  found glass to not be positioned on the correc...   \n",
       "27  Found passenger side sun visor clip fatigued, ...   \n",
       "32  Vehicle towed in with BMS_f152_SW_pos_contacto...   \n",
       "36  Test drove several times under various conditi...   \n",
       "37  Moving glass catches the fixed glass seal maki...   \n",
       "\n",
       "                                                  All  \\\n",
       "20  Customer states rear right door is leaking air...   \n",
       "27  Customer states: the passenger side visor does...   \n",
       "32  Customer states: vehicle has 3 alerts, will no...   \n",
       "36  Client reports persistent \"feedback crackle/hu...   \n",
       "37  Customer states: Customer states that the Pano...   \n",
       "\n",
       "                              CorrectionNarrativeRev2  \n",
       "20   rear right door is leaking air   he can push ...  \n",
       "27   the passenger side visor doesnt latch properl...  \n",
       "32   vehicle has 3 alerts, will not start in wacon...  \n",
       "36  client reports persistent feedback crackle hum...  \n",
       "37    that the panoramic roof does not open proper...  "
      ]
     },
     "execution_count": 23,
     "metadata": {},
     "output_type": "execute_result"
    }
   ],
   "source": [
    "df[df['FaultModeID'] != 5388].head()"
   ]
  },
  {
   "cell_type": "code",
   "execution_count": 24,
   "metadata": {
    "collapsed": false
   },
   "outputs": [
    {
     "name": "stdout",
     "output_type": "stream",
     "text": [
      "<class 'pandas.core.frame.DataFrame'>\n",
      "Int64Index: 22866 entries, 20 to 57558\n",
      "Data columns (total 10 columns):\n",
      "Vin                        22866 non-null object\n",
      "ComplaintNarrative         22866 non-null object\n",
      "CauseDescription           22866 non-null object\n",
      "CauseNarrative             22866 non-null object\n",
      "FaultModeID                22866 non-null int64\n",
      "FailureMode                22866 non-null object\n",
      "RollupSymptom              22866 non-null object\n",
      "CorrectionNarrative        22866 non-null object\n",
      "All                        22866 non-null object\n",
      "CorrectionNarrativeRev2    22866 non-null object\n",
      "dtypes: int64(1), object(9)\n",
      "memory usage: 1.9+ MB\n"
     ]
    }
   ],
   "source": [
    "df.info()"
   ]
  },
  {
   "cell_type": "markdown",
   "metadata": {},
   "source": [
    "Before a model is developed it is important to note the NULL accuracy. If we were to guess the most commonly occurring Failure Mode then we would arrive at 4.9% accuracy. This will serve as a baseline when gauging the effectiveness of the the model(s)."
   ]
  },
  {
   "cell_type": "code",
   "execution_count": 25,
   "metadata": {
    "collapsed": false
   },
   "outputs": [
    {
     "data": {
      "text/plain": [
       "Falcon Door Inductive Sensors - Detect Object That Is Not Present     0.048981\n",
       "Key Fob Battery - Replacement Required                                0.043821\n",
       "12v Battery - Replacement Required Alert                              0.034680\n",
       "Front Door - Latch Fault                                              0.024884\n",
       "Falcon Door Ultrasonic Sensor - Detects Object That Is Not Present    0.023485\n",
       "Name: FailureMode, dtype: float64"
      ]
     },
     "execution_count": 25,
     "metadata": {},
     "output_type": "execute_result"
    }
   ],
   "source": [
    "#null accuracy\n",
    "\n",
    "null = df.FailureMode.value_counts() / df.shape[0]\n",
    "null.head()"
   ]
  },
  {
   "cell_type": "markdown",
   "metadata": {},
   "source": [
    "Now it is time to develop our first model. Because of the structure and type of data the DataFrame includes, we begin with a Naive Bayes model. This is known to be a very fast model when predicting large text data sets. To prep our model, the data is sent through a Count Vectorizer and turned into a Document Term Matrix. When Count Vectorizing the data, we pass every term through a spell check and stemmer (found to be a bit more effective than lemmatizing). It is also useful to note that sending the terms through a spell check prior to the stemmer is VERY expensive. To evaluate the model, we will use both accuracy and roc_auc scores."
   ]
  },
  {
   "cell_type": "code",
   "execution_count": 26,
   "metadata": {
    "collapsed": true
   },
   "outputs": [],
   "source": [
    "#split into training and testing sets\n",
    "\n",
    "x_train, x_test, y_train, y_test = train_test_split(df.CorrectionNarrativeRev2, df.FaultModeID, random_state = 1)"
   ]
  },
  {
   "cell_type": "code",
   "execution_count": 27,
   "metadata": {
    "collapsed": true
   },
   "outputs": [],
   "source": [
    "#learn the vocabulary of the training data"
   ]
  },
  {
   "cell_type": "code",
   "execution_count": 28,
   "metadata": {
    "collapsed": false
   },
   "outputs": [
    {
     "data": {
      "text/plain": [
       "32244     the spine roof applique has extremely rough e...\n",
       "33534     passenger side falcon wing door stops 1-2 fee...\n",
       "27450     there are water bubbles on his touchscreen   ...\n",
       "15978     left falcon wing door is not properly aligned...\n",
       "8596     door seal has poor fitment or are pulling away...\n",
       "Name: CorrectionNarrativeRev2, dtype: object"
      ]
     },
     "execution_count": 28,
     "metadata": {},
     "output_type": "execute_result"
    }
   ],
   "source": [
    "x_train.head()"
   ]
  },
  {
   "cell_type": "code",
   "execution_count": 29,
   "metadata": {
    "collapsed": false
   },
   "outputs": [],
   "source": [
    "#instantiate and fit count vectorizer (stop_words not working)\n",
    "\n",
    "vect = CountVectorizer(stop_words = 'english', analyzer = lambda x: word_tokenize(x, how = 'stem')) #troubleshoot stop_words\n",
    "x_train_dtm = vect.fit_transform(x_train)"
   ]
  },
  {
   "cell_type": "code",
   "execution_count": 31,
   "metadata": {
    "collapsed": false
   },
   "outputs": [
    {
     "data": {
      "text/html": [
       "<div>\n",
       "<table border=\"1\" class=\"dataframe\">\n",
       "  <thead>\n",
       "    <tr style=\"text-align: right;\">\n",
       "      <th></th>\n",
       "      <th>0</th>\n",
       "      <th>0-2</th>\n",
       "      <th>0-25mph</th>\n",
       "      <th>0-5mph</th>\n",
       "      <th>0-60mph</th>\n",
       "      <th>00</th>\n",
       "      <th>00-c</th>\n",
       "      <th>000</th>\n",
       "      <th>00012</th>\n",
       "      <th>000453</th>\n",
       "      <th>...</th>\n",
       "      <th>zealand</th>\n",
       "      <th>zepp</th>\n",
       "      <th>zero</th>\n",
       "      <th>zhang</th>\n",
       "      <th>zip</th>\n",
       "      <th>zipper</th>\n",
       "      <th>zkvc_xm8cw4</th>\n",
       "      <th>zone</th>\n",
       "      <th>zoom</th>\n",
       "      <th>zschall</th>\n",
       "    </tr>\n",
       "  </thead>\n",
       "  <tbody>\n",
       "    <tr>\n",
       "      <th>0</th>\n",
       "      <td>0</td>\n",
       "      <td>0</td>\n",
       "      <td>0</td>\n",
       "      <td>0</td>\n",
       "      <td>0</td>\n",
       "      <td>0</td>\n",
       "      <td>0</td>\n",
       "      <td>0</td>\n",
       "      <td>0</td>\n",
       "      <td>0</td>\n",
       "      <td>...</td>\n",
       "      <td>0</td>\n",
       "      <td>0</td>\n",
       "      <td>0</td>\n",
       "      <td>0</td>\n",
       "      <td>0</td>\n",
       "      <td>0</td>\n",
       "      <td>0</td>\n",
       "      <td>0</td>\n",
       "      <td>0</td>\n",
       "      <td>0</td>\n",
       "    </tr>\n",
       "    <tr>\n",
       "      <th>1</th>\n",
       "      <td>0</td>\n",
       "      <td>0</td>\n",
       "      <td>0</td>\n",
       "      <td>0</td>\n",
       "      <td>0</td>\n",
       "      <td>0</td>\n",
       "      <td>0</td>\n",
       "      <td>0</td>\n",
       "      <td>0</td>\n",
       "      <td>0</td>\n",
       "      <td>...</td>\n",
       "      <td>0</td>\n",
       "      <td>0</td>\n",
       "      <td>0</td>\n",
       "      <td>0</td>\n",
       "      <td>0</td>\n",
       "      <td>0</td>\n",
       "      <td>0</td>\n",
       "      <td>0</td>\n",
       "      <td>0</td>\n",
       "      <td>0</td>\n",
       "    </tr>\n",
       "    <tr>\n",
       "      <th>2</th>\n",
       "      <td>0</td>\n",
       "      <td>0</td>\n",
       "      <td>0</td>\n",
       "      <td>0</td>\n",
       "      <td>0</td>\n",
       "      <td>0</td>\n",
       "      <td>0</td>\n",
       "      <td>0</td>\n",
       "      <td>0</td>\n",
       "      <td>0</td>\n",
       "      <td>...</td>\n",
       "      <td>0</td>\n",
       "      <td>0</td>\n",
       "      <td>0</td>\n",
       "      <td>0</td>\n",
       "      <td>0</td>\n",
       "      <td>0</td>\n",
       "      <td>0</td>\n",
       "      <td>0</td>\n",
       "      <td>0</td>\n",
       "      <td>0</td>\n",
       "    </tr>\n",
       "    <tr>\n",
       "      <th>3</th>\n",
       "      <td>0</td>\n",
       "      <td>0</td>\n",
       "      <td>0</td>\n",
       "      <td>0</td>\n",
       "      <td>0</td>\n",
       "      <td>0</td>\n",
       "      <td>0</td>\n",
       "      <td>0</td>\n",
       "      <td>0</td>\n",
       "      <td>0</td>\n",
       "      <td>...</td>\n",
       "      <td>0</td>\n",
       "      <td>0</td>\n",
       "      <td>0</td>\n",
       "      <td>0</td>\n",
       "      <td>0</td>\n",
       "      <td>0</td>\n",
       "      <td>0</td>\n",
       "      <td>0</td>\n",
       "      <td>0</td>\n",
       "      <td>0</td>\n",
       "    </tr>\n",
       "    <tr>\n",
       "      <th>4</th>\n",
       "      <td>0</td>\n",
       "      <td>0</td>\n",
       "      <td>0</td>\n",
       "      <td>0</td>\n",
       "      <td>0</td>\n",
       "      <td>0</td>\n",
       "      <td>0</td>\n",
       "      <td>0</td>\n",
       "      <td>0</td>\n",
       "      <td>0</td>\n",
       "      <td>...</td>\n",
       "      <td>0</td>\n",
       "      <td>0</td>\n",
       "      <td>0</td>\n",
       "      <td>0</td>\n",
       "      <td>0</td>\n",
       "      <td>0</td>\n",
       "      <td>0</td>\n",
       "      <td>0</td>\n",
       "      <td>0</td>\n",
       "      <td>0</td>\n",
       "    </tr>\n",
       "  </tbody>\n",
       "</table>\n",
       "<p>5 rows × 13261 columns</p>\n",
       "</div>"
      ],
      "text/plain": [
       "   0  0-2  0-25mph  0-5mph  0-60mph  00  00-c  000  00012  000453   ...     \\\n",
       "0  0    0        0       0        0   0     0    0      0       0   ...      \n",
       "1  0    0        0       0        0   0     0    0      0       0   ...      \n",
       "2  0    0        0       0        0   0     0    0      0       0   ...      \n",
       "3  0    0        0       0        0   0     0    0      0       0   ...      \n",
       "4  0    0        0       0        0   0     0    0      0       0   ...      \n",
       "\n",
       "   zealand  zepp  zero  zhang  zip  zipper  zkvc_xm8cw4  zone  zoom  zschall  \n",
       "0        0     0     0      0    0       0            0     0     0        0  \n",
       "1        0     0     0      0    0       0            0     0     0        0  \n",
       "2        0     0     0      0    0       0            0     0     0        0  \n",
       "3        0     0     0      0    0       0            0     0     0        0  \n",
       "4        0     0     0      0    0       0            0     0     0        0  \n",
       "\n",
       "[5 rows x 13261 columns]"
      ]
     },
     "execution_count": 31,
     "metadata": {},
     "output_type": "execute_result"
    }
   ],
   "source": [
    "#examine the vocabulary and document-term matrix together\n",
    "\n",
    "train_arr = x_train_dtm.toarray()\n",
    "train_features = vect.get_feature_names()\n",
    "pd.DataFrame(x_train_dtm.toarray(), columns = vect.get_feature_names()).head()"
   ]
  },
  {
   "cell_type": "code",
   "execution_count": 32,
   "metadata": {
    "collapsed": false
   },
   "outputs": [
    {
     "data": {
      "text/plain": [
       "8787      falcon door does not open (right)  poor adhes...\n",
       "9897     passenger side lift pads are missing   missing...\n",
       "4874      front passenger side window has a wind noise ...\n",
       "3178      customer stats that the vehicle cannot establ...\n",
       "57150    alert appeared: 12v battery power low car may ...\n",
       "Name: CorrectionNarrativeRev2, dtype: object"
      ]
     },
     "execution_count": 32,
     "metadata": {},
     "output_type": "execute_result"
    }
   ],
   "source": [
    "x_test.head()"
   ]
  },
  {
   "cell_type": "code",
   "execution_count": 33,
   "metadata": {
    "collapsed": true
   },
   "outputs": [],
   "source": [
    "#transform testing data into a document term matrix\n",
    "\n",
    "x_test_dtm = vect.transform(x_test)"
   ]
  },
  {
   "cell_type": "code",
   "execution_count": 34,
   "metadata": {
    "collapsed": false
   },
   "outputs": [
    {
     "data": {
      "text/html": [
       "<div>\n",
       "<table border=\"1\" class=\"dataframe\">\n",
       "  <thead>\n",
       "    <tr style=\"text-align: right;\">\n",
       "      <th></th>\n",
       "      <th>0</th>\n",
       "      <th>0-2</th>\n",
       "      <th>0-25mph</th>\n",
       "      <th>0-5mph</th>\n",
       "      <th>0-60mph</th>\n",
       "      <th>00</th>\n",
       "      <th>00-c</th>\n",
       "      <th>000</th>\n",
       "      <th>00012</th>\n",
       "      <th>000453</th>\n",
       "      <th>...</th>\n",
       "      <th>zealand</th>\n",
       "      <th>zepp</th>\n",
       "      <th>zero</th>\n",
       "      <th>zhang</th>\n",
       "      <th>zip</th>\n",
       "      <th>zipper</th>\n",
       "      <th>zkvc_xm8cw4</th>\n",
       "      <th>zone</th>\n",
       "      <th>zoom</th>\n",
       "      <th>zschall</th>\n",
       "    </tr>\n",
       "  </thead>\n",
       "  <tbody>\n",
       "    <tr>\n",
       "      <th>0</th>\n",
       "      <td>0</td>\n",
       "      <td>0</td>\n",
       "      <td>0</td>\n",
       "      <td>0</td>\n",
       "      <td>0</td>\n",
       "      <td>0</td>\n",
       "      <td>0</td>\n",
       "      <td>0</td>\n",
       "      <td>0</td>\n",
       "      <td>0</td>\n",
       "      <td>...</td>\n",
       "      <td>0</td>\n",
       "      <td>0</td>\n",
       "      <td>0</td>\n",
       "      <td>0</td>\n",
       "      <td>0</td>\n",
       "      <td>0</td>\n",
       "      <td>0</td>\n",
       "      <td>0</td>\n",
       "      <td>0</td>\n",
       "      <td>0</td>\n",
       "    </tr>\n",
       "    <tr>\n",
       "      <th>1</th>\n",
       "      <td>0</td>\n",
       "      <td>0</td>\n",
       "      <td>0</td>\n",
       "      <td>0</td>\n",
       "      <td>0</td>\n",
       "      <td>0</td>\n",
       "      <td>0</td>\n",
       "      <td>0</td>\n",
       "      <td>0</td>\n",
       "      <td>0</td>\n",
       "      <td>...</td>\n",
       "      <td>0</td>\n",
       "      <td>0</td>\n",
       "      <td>0</td>\n",
       "      <td>0</td>\n",
       "      <td>0</td>\n",
       "      <td>0</td>\n",
       "      <td>0</td>\n",
       "      <td>0</td>\n",
       "      <td>0</td>\n",
       "      <td>0</td>\n",
       "    </tr>\n",
       "    <tr>\n",
       "      <th>2</th>\n",
       "      <td>0</td>\n",
       "      <td>0</td>\n",
       "      <td>0</td>\n",
       "      <td>0</td>\n",
       "      <td>0</td>\n",
       "      <td>0</td>\n",
       "      <td>0</td>\n",
       "      <td>0</td>\n",
       "      <td>0</td>\n",
       "      <td>0</td>\n",
       "      <td>...</td>\n",
       "      <td>0</td>\n",
       "      <td>0</td>\n",
       "      <td>0</td>\n",
       "      <td>0</td>\n",
       "      <td>0</td>\n",
       "      <td>0</td>\n",
       "      <td>0</td>\n",
       "      <td>0</td>\n",
       "      <td>0</td>\n",
       "      <td>0</td>\n",
       "    </tr>\n",
       "    <tr>\n",
       "      <th>3</th>\n",
       "      <td>0</td>\n",
       "      <td>0</td>\n",
       "      <td>0</td>\n",
       "      <td>0</td>\n",
       "      <td>0</td>\n",
       "      <td>0</td>\n",
       "      <td>0</td>\n",
       "      <td>0</td>\n",
       "      <td>0</td>\n",
       "      <td>0</td>\n",
       "      <td>...</td>\n",
       "      <td>0</td>\n",
       "      <td>0</td>\n",
       "      <td>0</td>\n",
       "      <td>0</td>\n",
       "      <td>0</td>\n",
       "      <td>0</td>\n",
       "      <td>0</td>\n",
       "      <td>0</td>\n",
       "      <td>0</td>\n",
       "      <td>0</td>\n",
       "    </tr>\n",
       "    <tr>\n",
       "      <th>4</th>\n",
       "      <td>0</td>\n",
       "      <td>0</td>\n",
       "      <td>0</td>\n",
       "      <td>0</td>\n",
       "      <td>0</td>\n",
       "      <td>0</td>\n",
       "      <td>0</td>\n",
       "      <td>0</td>\n",
       "      <td>0</td>\n",
       "      <td>0</td>\n",
       "      <td>...</td>\n",
       "      <td>0</td>\n",
       "      <td>0</td>\n",
       "      <td>0</td>\n",
       "      <td>0</td>\n",
       "      <td>0</td>\n",
       "      <td>0</td>\n",
       "      <td>0</td>\n",
       "      <td>0</td>\n",
       "      <td>0</td>\n",
       "      <td>0</td>\n",
       "    </tr>\n",
       "  </tbody>\n",
       "</table>\n",
       "<p>5 rows × 13261 columns</p>\n",
       "</div>"
      ],
      "text/plain": [
       "   0  0-2  0-25mph  0-5mph  0-60mph  00  00-c  000  00012  000453   ...     \\\n",
       "0  0    0        0       0        0   0     0    0      0       0   ...      \n",
       "1  0    0        0       0        0   0     0    0      0       0   ...      \n",
       "2  0    0        0       0        0   0     0    0      0       0   ...      \n",
       "3  0    0        0       0        0   0     0    0      0       0   ...      \n",
       "4  0    0        0       0        0   0     0    0      0       0   ...      \n",
       "\n",
       "   zealand  zepp  zero  zhang  zip  zipper  zkvc_xm8cw4  zone  zoom  zschall  \n",
       "0        0     0     0      0    0       0            0     0     0        0  \n",
       "1        0     0     0      0    0       0            0     0     0        0  \n",
       "2        0     0     0      0    0       0            0     0     0        0  \n",
       "3        0     0     0      0    0       0            0     0     0        0  \n",
       "4        0     0     0      0    0       0            0     0     0        0  \n",
       "\n",
       "[5 rows x 13261 columns]"
      ]
     },
     "execution_count": 34,
     "metadata": {},
     "output_type": "execute_result"
    }
   ],
   "source": [
    "pd.DataFrame(x_test_dtm.toarray(), columns = vect.get_feature_names()).head()"
   ]
  },
  {
   "cell_type": "code",
   "execution_count": 35,
   "metadata": {
    "collapsed": false
   },
   "outputs": [
    {
     "name": "stdout",
     "output_type": "stream",
     "text": [
      "(17149, 13261)\n",
      "(5717, 13261)\n"
     ]
    }
   ],
   "source": [
    "#ensure columns match\n",
    "\n",
    "print x_train_dtm.shape\n",
    "print x_test_dtm.shape"
   ]
  },
  {
   "cell_type": "code",
   "execution_count": 36,
   "metadata": {
    "collapsed": false
   },
   "outputs": [
    {
     "data": {
      "text/html": [
       "<div>\n",
       "<table border=\"1\" class=\"dataframe\">\n",
       "  <thead>\n",
       "    <tr style=\"text-align: right;\">\n",
       "      <th></th>\n",
       "      <th>Count</th>\n",
       "      <th>Token</th>\n",
       "    </tr>\n",
       "  </thead>\n",
       "  <tbody>\n",
       "    <tr>\n",
       "      <th>1944</th>\n",
       "      <td>64019</td>\n",
       "      <td>and</td>\n",
       "    </tr>\n",
       "    <tr>\n",
       "      <th>11781</th>\n",
       "      <td>58059</td>\n",
       "      <td>the</td>\n",
       "    </tr>\n",
       "    <tr>\n",
       "      <th>4650</th>\n",
       "      <td>55605</td>\n",
       "      <td>door</td>\n",
       "    </tr>\n",
       "    <tr>\n",
       "      <th>11907</th>\n",
       "      <td>47281</td>\n",
       "      <td>to</td>\n",
       "    </tr>\n",
       "    <tr>\n",
       "      <th>10114</th>\n",
       "      <td>29569</td>\n",
       "      <td>replac</td>\n",
       "    </tr>\n",
       "  </tbody>\n",
       "</table>\n",
       "</div>"
      ],
      "text/plain": [
       "       Count   Token\n",
       "1944   64019     and\n",
       "11781  58059     the\n",
       "4650   55605    door\n",
       "11907  47281      to\n",
       "10114  29569  replac"
      ]
     },
     "execution_count": 36,
     "metadata": {},
     "output_type": "execute_result"
    }
   ],
   "source": [
    "#create df with count and token\n",
    "\n",
    "x_train_token_counts = pd.DataFrame({'Token': train_features, 'Count': np.sum(train_arr, axis = 0)})\n",
    "x_train_token_counts.sort_values(by = 'Count', ascending = False).head() #stop words still exist"
   ]
  },
  {
   "cell_type": "code",
   "execution_count": 37,
   "metadata": {
    "collapsed": false
   },
   "outputs": [
    {
     "data": {
      "text/plain": [
       "MultinomialNB(alpha=1.0, class_prior=None, fit_prior=True)"
      ]
     },
     "execution_count": 37,
     "metadata": {},
     "output_type": "execute_result"
    }
   ],
   "source": [
    "#instantiate and fit the model\n",
    "\n",
    "nb = MultinomialNB()\n",
    "nb.fit(x_train_dtm, y_train)"
   ]
  },
  {
   "cell_type": "code",
   "execution_count": 38,
   "metadata": {
    "collapsed": false
   },
   "outputs": [
    {
     "data": {
      "text/plain": [
       "array([2877, 2877, 1774, ..., 3687, 1627, 5148], dtype=int64)"
      ]
     },
     "execution_count": 38,
     "metadata": {},
     "output_type": "execute_result"
    }
   ],
   "source": [
    "#let's check out our predicitons\n",
    "\n",
    "predictions = nb.predict(x_test_dtm)\n",
    "predictions"
   ]
  },
  {
   "cell_type": "code",
   "execution_count": 39,
   "metadata": {
    "collapsed": false
   },
   "outputs": [
    {
     "name": "stdout",
     "output_type": "stream",
     "text": [
      "0.369949274095\n"
     ]
    }
   ],
   "source": [
    "#model accuracy for all models\n",
    "\n",
    "print metrics.accuracy_score(y_test, predictions)"
   ]
  },
  {
   "cell_type": "markdown",
   "metadata": {},
   "source": [
    "This is a relatively accurate model given the low NULL accuracy; however, it seems there is a lot of room for improvement. Before testing another model, let's try splitting the data by the type of car. Logic here is that many defects and issues will be specific to model. Below is a data set that contains VIN and ModelID and can be joined to the original DataFrame to split by model id. The Naive Bayes Model will be compared to the accuracy score from the combined model."
   ]
  },
  {
   "cell_type": "code",
   "execution_count": 40,
   "metadata": {
    "collapsed": false
   },
   "outputs": [
    {
     "data": {
      "text/html": [
       "<div>\n",
       "<table border=\"1\" class=\"dataframe\">\n",
       "  <thead>\n",
       "    <tr style=\"text-align: right;\">\n",
       "      <th></th>\n",
       "      <th>Vin</th>\n",
       "      <th>ModelID</th>\n",
       "    </tr>\n",
       "  </thead>\n",
       "  <tbody>\n",
       "    <tr>\n",
       "      <th>0</th>\n",
       "      <td>5YJSA1H26FF082988</td>\n",
       "      <td>1</td>\n",
       "    </tr>\n",
       "    <tr>\n",
       "      <th>1</th>\n",
       "      <td>5YJSA1E47FF108360</td>\n",
       "      <td>1</td>\n",
       "    </tr>\n",
       "    <tr>\n",
       "      <th>2</th>\n",
       "      <td>5YJSA1E26FF118733</td>\n",
       "      <td>1</td>\n",
       "    </tr>\n",
       "    <tr>\n",
       "      <th>3</th>\n",
       "      <td>5YJSA1H46FF093412</td>\n",
       "      <td>1</td>\n",
       "    </tr>\n",
       "    <tr>\n",
       "      <th>4</th>\n",
       "      <td>5YJSA7E28GF141290</td>\n",
       "      <td>1</td>\n",
       "    </tr>\n",
       "  </tbody>\n",
       "</table>\n",
       "</div>"
      ],
      "text/plain": [
       "                 Vin  ModelID\n",
       "0  5YJSA1H26FF082988        1\n",
       "1  5YJSA1E47FF108360        1\n",
       "2  5YJSA1E26FF118733        1\n",
       "3  5YJSA1H46FF093412        1\n",
       "4  5YJSA7E28GF141290        1"
      ]
     },
     "execution_count": 40,
     "metadata": {},
     "output_type": "execute_result"
    }
   ],
   "source": [
    "#generate new models based on vehicle model id\n",
    "\n",
    "model = pd.read_csv('C:\\Users\\sglembocki\\Documents\\Excel Files\\VinModel.csv')\n",
    "model[model['ModelID'] == 1].head()"
   ]
  },
  {
   "cell_type": "code",
   "execution_count": 41,
   "metadata": {
    "collapsed": false
   },
   "outputs": [
    {
     "name": "stdout",
     "output_type": "stream",
     "text": [
      "<class 'pandas.core.frame.DataFrame'>\n",
      "RangeIndex: 214126 entries, 0 to 214125\n",
      "Data columns (total 2 columns):\n",
      "Vin        214126 non-null object\n",
      "ModelID    214126 non-null int64\n",
      "dtypes: int64(1), object(1)\n",
      "memory usage: 3.3+ MB\n"
     ]
    }
   ],
   "source": [
    "model.info()"
   ]
  },
  {
   "cell_type": "code",
   "execution_count": 42,
   "metadata": {
    "collapsed": false
   },
   "outputs": [],
   "source": [
    "#join df with model and split into separate dataframes by model id\n",
    "\n",
    "df_model = pd.merge(df, model, on = 'Vin', how = 'inner')\n",
    "model_s = df_model[df_model['ModelID'] == 1]\n",
    "model_x = df_model[df_model['ModelID'] == 2]"
   ]
  },
  {
   "cell_type": "code",
   "execution_count": 43,
   "metadata": {
    "collapsed": false
   },
   "outputs": [
    {
     "data": {
      "text/html": [
       "<div>\n",
       "<table border=\"1\" class=\"dataframe\">\n",
       "  <thead>\n",
       "    <tr style=\"text-align: right;\">\n",
       "      <th></th>\n",
       "      <th>Vin</th>\n",
       "      <th>ComplaintNarrative</th>\n",
       "      <th>CauseDescription</th>\n",
       "      <th>CauseNarrative</th>\n",
       "      <th>FaultModeID</th>\n",
       "      <th>FailureMode</th>\n",
       "      <th>RollupSymptom</th>\n",
       "      <th>CorrectionNarrative</th>\n",
       "      <th>All</th>\n",
       "      <th>CorrectionNarrativeRev2</th>\n",
       "      <th>ModelID</th>\n",
       "    </tr>\n",
       "  </thead>\n",
       "  <tbody>\n",
       "    <tr>\n",
       "      <th>0</th>\n",
       "      <td>5YJSA1H43FF081959</td>\n",
       "      <td>Customer states rear right door is leaking air...</td>\n",
       "      <td>Poorly Fitted</td>\n",
       "      <td>misaligned</td>\n",
       "      <td>346</td>\n",
       "      <td>Primary Seal Poor Fitment</td>\n",
       "      <td>Window seal leaks air/water</td>\n",
       "      <td>found glass to not be positioned on the correc...</td>\n",
       "      <td>Customer states rear right door is leaking air...</td>\n",
       "      <td>rear right door is leaking air   he can push ...</td>\n",
       "      <td>1</td>\n",
       "    </tr>\n",
       "    <tr>\n",
       "      <th>1</th>\n",
       "      <td>5YJSA1H2XFF081410</td>\n",
       "      <td>Customer states: the passenger side visor does...</td>\n",
       "      <td>Distorted Warped / Bent</td>\n",
       "      <td>Sun visor retaining clip fatigued.</td>\n",
       "      <td>437</td>\n",
       "      <td>Sun Visor Clip Broken</td>\n",
       "      <td>Sun visor will not latch into hook</td>\n",
       "      <td>Found passenger side sun visor clip fatigued, ...</td>\n",
       "      <td>Customer states: the passenger side visor does...</td>\n",
       "      <td>the passenger side visor doesnt latch properl...</td>\n",
       "      <td>1</td>\n",
       "    </tr>\n",
       "    <tr>\n",
       "      <th>2</th>\n",
       "      <td>5YJSA1H2XFF081410</td>\n",
       "      <td>Customer states: trim on back side of passenge...</td>\n",
       "      <td>Broken/Cracked/Damaged</td>\n",
       "      <td>Passenger front inner seat cushion trim fatigued.</td>\n",
       "      <td>7781</td>\n",
       "      <td>Cosmetic Damage</td>\n",
       "      <td>Seat bottom trim is coming off</td>\n",
       "      <td>Found front passenger inner cushion trim fatig...</td>\n",
       "      <td>Customer states: trim on back side of passenge...</td>\n",
       "      <td>trim on back side of passenger seat is coming...</td>\n",
       "      <td>1</td>\n",
       "    </tr>\n",
       "    <tr>\n",
       "      <th>3</th>\n",
       "      <td>5YJSA1H2XFFP78740</td>\n",
       "      <td>Customer states: vehicle has 3 alerts, will no...</td>\n",
       "      <td>Seized/Stiff/Sticking/Binding</td>\n",
       "      <td>Vehicle towed in with BMS_f152_SW_pos_contacto...</td>\n",
       "      <td>214</td>\n",
       "      <td>HV Contactor - Stuck</td>\n",
       "      <td>12v Battery Alert</td>\n",
       "      <td>Vehicle towed in with BMS_f152_SW_pos_contacto...</td>\n",
       "      <td>Customer states: vehicle has 3 alerts, will no...</td>\n",
       "      <td>vehicle has 3 alerts, will not start in wacon...</td>\n",
       "      <td>1</td>\n",
       "    </tr>\n",
       "    <tr>\n",
       "      <th>4</th>\n",
       "      <td>5YJSA1H28FFP78851</td>\n",
       "      <td>Client reports persistent \"feedback crackle/hu...</td>\n",
       "      <td>Intermittent</td>\n",
       "      <td>Intermittent, potential amp or model fault int...</td>\n",
       "      <td>60</td>\n",
       "      <td>Center Display Causing Audio Distortion</td>\n",
       "      <td>Audio Distortion</td>\n",
       "      <td>Test drove several times under various conditi...</td>\n",
       "      <td>Client reports persistent \"feedback crackle/hu...</td>\n",
       "      <td>client reports persistent feedback crackle hum...</td>\n",
       "      <td>1</td>\n",
       "    </tr>\n",
       "  </tbody>\n",
       "</table>\n",
       "</div>"
      ],
      "text/plain": [
       "                 Vin                                 ComplaintNarrative  \\\n",
       "0  5YJSA1H43FF081959  Customer states rear right door is leaking air...   \n",
       "1  5YJSA1H2XFF081410  Customer states: the passenger side visor does...   \n",
       "2  5YJSA1H2XFF081410  Customer states: trim on back side of passenge...   \n",
       "3  5YJSA1H2XFFP78740  Customer states: vehicle has 3 alerts, will no...   \n",
       "4  5YJSA1H28FFP78851  Client reports persistent \"feedback crackle/hu...   \n",
       "\n",
       "                CauseDescription  \\\n",
       "0                  Poorly Fitted   \n",
       "1        Distorted Warped / Bent   \n",
       "2        Broken/Cracked/Damaged    \n",
       "3  Seized/Stiff/Sticking/Binding   \n",
       "4                   Intermittent   \n",
       "\n",
       "                                      CauseNarrative  FaultModeID  \\\n",
       "0                                        misaligned           346   \n",
       "1                 Sun visor retaining clip fatigued.          437   \n",
       "2  Passenger front inner seat cushion trim fatigued.         7781   \n",
       "3  Vehicle towed in with BMS_f152_SW_pos_contacto...          214   \n",
       "4  Intermittent, potential amp or model fault int...           60   \n",
       "\n",
       "                               FailureMode  \\\n",
       "0                Primary Seal Poor Fitment   \n",
       "1                    Sun Visor Clip Broken   \n",
       "2                          Cosmetic Damage   \n",
       "3                     HV Contactor - Stuck   \n",
       "4  Center Display Causing Audio Distortion   \n",
       "\n",
       "                        RollupSymptom  \\\n",
       "0        Window seal leaks air/water    \n",
       "1  Sun visor will not latch into hook   \n",
       "2      Seat bottom trim is coming off   \n",
       "3                   12v Battery Alert   \n",
       "4                    Audio Distortion   \n",
       "\n",
       "                                 CorrectionNarrative  \\\n",
       "0  found glass to not be positioned on the correc...   \n",
       "1  Found passenger side sun visor clip fatigued, ...   \n",
       "2  Found front passenger inner cushion trim fatig...   \n",
       "3  Vehicle towed in with BMS_f152_SW_pos_contacto...   \n",
       "4  Test drove several times under various conditi...   \n",
       "\n",
       "                                                 All  \\\n",
       "0  Customer states rear right door is leaking air...   \n",
       "1  Customer states: the passenger side visor does...   \n",
       "2  Customer states: trim on back side of passenge...   \n",
       "3  Customer states: vehicle has 3 alerts, will no...   \n",
       "4  Client reports persistent \"feedback crackle/hu...   \n",
       "\n",
       "                             CorrectionNarrativeRev2  ModelID  \n",
       "0   rear right door is leaking air   he can push ...        1  \n",
       "1   the passenger side visor doesnt latch properl...        1  \n",
       "2   trim on back side of passenger seat is coming...        1  \n",
       "3   vehicle has 3 alerts, will not start in wacon...        1  \n",
       "4  client reports persistent feedback crackle hum...        1  "
      ]
     },
     "execution_count": 43,
     "metadata": {},
     "output_type": "execute_result"
    }
   ],
   "source": [
    "model_s.head()"
   ]
  },
  {
   "cell_type": "code",
   "execution_count": 44,
   "metadata": {
    "collapsed": false
   },
   "outputs": [
    {
     "name": "stdout",
     "output_type": "stream",
     "text": [
      "<class 'pandas.core.frame.DataFrame'>\n",
      "Int64Index: 5024 entries, 0 to 22865\n",
      "Data columns (total 11 columns):\n",
      "Vin                        5024 non-null object\n",
      "ComplaintNarrative         5024 non-null object\n",
      "CauseDescription           5024 non-null object\n",
      "CauseNarrative             5024 non-null object\n",
      "FaultModeID                5024 non-null int64\n",
      "FailureMode                5024 non-null object\n",
      "RollupSymptom              5024 non-null object\n",
      "CorrectionNarrative        5024 non-null object\n",
      "All                        5024 non-null object\n",
      "CorrectionNarrativeRev2    5024 non-null object\n",
      "ModelID                    5024 non-null int64\n",
      "dtypes: int64(2), object(9)\n",
      "memory usage: 471.0+ KB\n"
     ]
    }
   ],
   "source": [
    "model_s.info()"
   ]
  },
  {
   "cell_type": "code",
   "execution_count": 45,
   "metadata": {
    "collapsed": false
   },
   "outputs": [
    {
     "data": {
      "text/html": [
       "<div>\n",
       "<table border=\"1\" class=\"dataframe\">\n",
       "  <thead>\n",
       "    <tr style=\"text-align: right;\">\n",
       "      <th></th>\n",
       "      <th>Vin</th>\n",
       "      <th>ComplaintNarrative</th>\n",
       "      <th>CauseDescription</th>\n",
       "      <th>CauseNarrative</th>\n",
       "      <th>FaultModeID</th>\n",
       "      <th>FailureMode</th>\n",
       "      <th>RollupSymptom</th>\n",
       "      <th>CorrectionNarrative</th>\n",
       "      <th>All</th>\n",
       "      <th>CorrectionNarrativeRev2</th>\n",
       "      <th>ModelID</th>\n",
       "    </tr>\n",
       "  </thead>\n",
       "  <tbody>\n",
       "    <tr>\n",
       "      <th>1119</th>\n",
       "      <td>5YJXCAE47GFF00002</td>\n",
       "      <td>Customer states: Liftgate will not open from t...</td>\n",
       "      <td>Firmware Fault</td>\n",
       "      <td>Error in firmware causing latch to not operate</td>\n",
       "      <td>2515</td>\n",
       "      <td>Liftgate - Does Not Respond To Open Command</td>\n",
       "      <td>Liftgate does not open/close properly</td>\n",
       "      <td>Verified the concern, tested latch and found l...</td>\n",
       "      <td>Customer states: Liftgate will not open from t...</td>\n",
       "      <td>liftgate will not open from the touchscreen  ...</td>\n",
       "      <td>2</td>\n",
       "    </tr>\n",
       "    <tr>\n",
       "      <th>1120</th>\n",
       "      <td>5YJXCAE47GFF00002</td>\n",
       "      <td>Customer states: Luggage compartment trim is d...</td>\n",
       "      <td>Distorted Warped / Bent</td>\n",
       "      <td>rear fascia garnish not secured to bumper</td>\n",
       "      <td>1892</td>\n",
       "      <td>Rear Fascia - Poor Fit</td>\n",
       "      <td>Rear fascia trim damaged</td>\n",
       "      <td>Removed and replaced Rear Fascia garnish.,Remo...</td>\n",
       "      <td>Customer states: Luggage compartment trim is d...</td>\n",
       "      <td>luggage compartment trim is detached *on pass...</td>\n",
       "      <td>2</td>\n",
       "    </tr>\n",
       "    <tr>\n",
       "      <th>1121</th>\n",
       "      <td>5YJXCAE47GFF00002</td>\n",
       "      <td>Customer states: Falcon Door stops in mid moti...</td>\n",
       "      <td>Incorrect Adjustment</td>\n",
       "      <td>door striker out of adjustment.</td>\n",
       "      <td>4216</td>\n",
       "      <td>Falcon Door Latch - Will Not Cinch</td>\n",
       "      <td>Falcon Door will not fully close</td>\n",
       "      <td>Verified customer complaint, excessive seal pr...</td>\n",
       "      <td>Customer states: Falcon Door stops in mid moti...</td>\n",
       "      <td>falcon door stops in mid motion while  closin...</td>\n",
       "      <td>2</td>\n",
       "    </tr>\n",
       "    <tr>\n",
       "      <th>1122</th>\n",
       "      <td>5YJXCAE47GFF00002</td>\n",
       "      <td>Customer states: Side mirror tilt function not...</td>\n",
       "      <td>No Fault Found / Unable To Replicate</td>\n",
       "      <td>Not verified</td>\n",
       "      <td>1627</td>\n",
       "      <td>Customer Education</td>\n",
       "      <td>Side mirror adjustment issue</td>\n",
       "      <td>Customer Education. While in reverse, adjusted...</td>\n",
       "      <td>Customer states: Side mirror tilt function not...</td>\n",
       "      <td>side mirror tilt function not working correct...</td>\n",
       "      <td>2</td>\n",
       "    </tr>\n",
       "    <tr>\n",
       "      <th>1123</th>\n",
       "      <td>5YJXCAE47GFF00002</td>\n",
       "      <td>Customer states: after opening the doors by to...</td>\n",
       "      <td>Firmware Fault</td>\n",
       "      <td>Firmware issue, completed</td>\n",
       "      <td>5148</td>\n",
       "      <td>Key Fob - Not Communicating With Vehicle</td>\n",
       "      <td>Key FOB function problems</td>\n",
       "      <td>Verified complaint, FW issue, recommend update...</td>\n",
       "      <td>Customer states: after opening the doors by to...</td>\n",
       "      <td>after opening the doors by touch, the car wil...</td>\n",
       "      <td>2</td>\n",
       "    </tr>\n",
       "  </tbody>\n",
       "</table>\n",
       "</div>"
      ],
      "text/plain": [
       "                    Vin                                 ComplaintNarrative  \\\n",
       "1119  5YJXCAE47GFF00002  Customer states: Liftgate will not open from t...   \n",
       "1120  5YJXCAE47GFF00002  Customer states: Luggage compartment trim is d...   \n",
       "1121  5YJXCAE47GFF00002  Customer states: Falcon Door stops in mid moti...   \n",
       "1122  5YJXCAE47GFF00002  Customer states: Side mirror tilt function not...   \n",
       "1123  5YJXCAE47GFF00002  Customer states: after opening the doors by to...   \n",
       "\n",
       "                          CauseDescription  \\\n",
       "1119                        Firmware Fault   \n",
       "1120               Distorted Warped / Bent   \n",
       "1121                  Incorrect Adjustment   \n",
       "1122  No Fault Found / Unable To Replicate   \n",
       "1123                        Firmware Fault   \n",
       "\n",
       "                                      CauseNarrative  FaultModeID  \\\n",
       "1119  Error in firmware causing latch to not operate         2515   \n",
       "1120      rear fascia garnish not secured to bumper          1892   \n",
       "1121                 door striker out of adjustment.         4216   \n",
       "1122                                    Not verified         1627   \n",
       "1123                       Firmware issue, completed         5148   \n",
       "\n",
       "                                      FailureMode  \\\n",
       "1119  Liftgate - Does Not Respond To Open Command   \n",
       "1120                       Rear Fascia - Poor Fit   \n",
       "1121           Falcon Door Latch - Will Not Cinch   \n",
       "1122                           Customer Education   \n",
       "1123     Key Fob - Not Communicating With Vehicle   \n",
       "\n",
       "                              RollupSymptom  \\\n",
       "1119  Liftgate does not open/close properly   \n",
       "1120               Rear fascia trim damaged   \n",
       "1121       Falcon Door will not fully close   \n",
       "1122           Side mirror adjustment issue   \n",
       "1123              Key FOB function problems   \n",
       "\n",
       "                                    CorrectionNarrative  \\\n",
       "1119  Verified the concern, tested latch and found l...   \n",
       "1120  Removed and replaced Rear Fascia garnish.,Remo...   \n",
       "1121  Verified customer complaint, excessive seal pr...   \n",
       "1122  Customer Education. While in reverse, adjusted...   \n",
       "1123  Verified complaint, FW issue, recommend update...   \n",
       "\n",
       "                                                    All  \\\n",
       "1119  Customer states: Liftgate will not open from t...   \n",
       "1120  Customer states: Luggage compartment trim is d...   \n",
       "1121  Customer states: Falcon Door stops in mid moti...   \n",
       "1122  Customer states: Side mirror tilt function not...   \n",
       "1123  Customer states: after opening the doors by to...   \n",
       "\n",
       "                                CorrectionNarrativeRev2  ModelID  \n",
       "1119   liftgate will not open from the touchscreen  ...        2  \n",
       "1120   luggage compartment trim is detached *on pass...        2  \n",
       "1121   falcon door stops in mid motion while  closin...        2  \n",
       "1122   side mirror tilt function not working correct...        2  \n",
       "1123   after opening the doors by touch, the car wil...        2  "
      ]
     },
     "execution_count": 45,
     "metadata": {},
     "output_type": "execute_result"
    }
   ],
   "source": [
    "model_x.head()"
   ]
  },
  {
   "cell_type": "code",
   "execution_count": 46,
   "metadata": {
    "collapsed": false
   },
   "outputs": [
    {
     "name": "stdout",
     "output_type": "stream",
     "text": [
      "<class 'pandas.core.frame.DataFrame'>\n",
      "Int64Index: 17842 entries, 1119 to 22861\n",
      "Data columns (total 11 columns):\n",
      "Vin                        17842 non-null object\n",
      "ComplaintNarrative         17842 non-null object\n",
      "CauseDescription           17842 non-null object\n",
      "CauseNarrative             17842 non-null object\n",
      "FaultModeID                17842 non-null int64\n",
      "FailureMode                17842 non-null object\n",
      "RollupSymptom              17842 non-null object\n",
      "CorrectionNarrative        17842 non-null object\n",
      "All                        17842 non-null object\n",
      "CorrectionNarrativeRev2    17842 non-null object\n",
      "ModelID                    17842 non-null int64\n",
      "dtypes: int64(2), object(9)\n",
      "memory usage: 1.6+ MB\n"
     ]
    }
   ],
   "source": [
    "model_x.info()"
   ]
  },
  {
   "cell_type": "code",
   "execution_count": 47,
   "metadata": {
    "collapsed": false
   },
   "outputs": [
    {
     "data": {
      "text/plain": [
       "12v Battery - Replacement Required Alert                  0.133957\n",
       "Key Fob Battery - Replacement Required                    0.043591\n",
       "Key Fob Buttons - Exposed                                 0.035828\n",
       "Key Fob - Not Communicating With Vehicle                  0.031051\n",
       "Bulletin (SB-16-32-001): Steering Wheel Clicking Noise    0.020303\n",
       "Name: FailureMode, dtype: float64"
      ]
     },
     "execution_count": 47,
     "metadata": {},
     "output_type": "execute_result"
    }
   ],
   "source": [
    "#null accuracy\n",
    "\n",
    "null = model_s.FailureMode.value_counts() / model_s.shape[0]\n",
    "null.head()"
   ]
  },
  {
   "cell_type": "code",
   "execution_count": 48,
   "metadata": {
    "collapsed": false
   },
   "outputs": [],
   "source": [
    "x_train, x_test, y_train, y_test = train_test_split(model_s.CorrectionNarrativeRev2, model_s.FaultModeID, random_state = 1)"
   ]
  },
  {
   "cell_type": "code",
   "execution_count": 49,
   "metadata": {
    "collapsed": true
   },
   "outputs": [],
   "source": [
    "#instantiate count vectorizer (stop_words not working)\n",
    "\n",
    "vect = CountVectorizer(stop_words = 'english', analyzer = lambda x: word_tokenize(x, how = 'stem')) #troubleshoot stop_words\n",
    "x_train_dtm = vect.fit_transform(x_train)"
   ]
  },
  {
   "cell_type": "code",
   "execution_count": 50,
   "metadata": {
    "collapsed": true
   },
   "outputs": [],
   "source": [
    "x_test_dtm = vect.transform(x_test)"
   ]
  },
  {
   "cell_type": "code",
   "execution_count": 51,
   "metadata": {
    "collapsed": false
   },
   "outputs": [
    {
     "data": {
      "text/plain": [
       "MultinomialNB(alpha=1.0, class_prior=None, fit_prior=True)"
      ]
     },
     "execution_count": 51,
     "metadata": {},
     "output_type": "execute_result"
    }
   ],
   "source": [
    "#fit the model\n",
    "\n",
    "nb = MultinomialNB()\n",
    "nb.fit(x_train_dtm, y_train)"
   ]
  },
  {
   "cell_type": "code",
   "execution_count": 52,
   "metadata": {
    "collapsed": false
   },
   "outputs": [
    {
     "data": {
      "text/plain": [
       "array([  260,   325, 10083, ...,   262,  8288,  3660], dtype=int64)"
      ]
     },
     "execution_count": 52,
     "metadata": {},
     "output_type": "execute_result"
    }
   ],
   "source": [
    "#let's check out our predicitons\n",
    "\n",
    "predictions = nb.predict(x_test_dtm)\n",
    "predictions"
   ]
  },
  {
   "cell_type": "code",
   "execution_count": 53,
   "metadata": {
    "collapsed": false
   },
   "outputs": [
    {
     "name": "stdout",
     "output_type": "stream",
     "text": [
      "0.501592356688\n"
     ]
    }
   ],
   "source": [
    "#model accuracy for model id == 1\n",
    "\n",
    "print metrics.accuracy_score(y_test, predictions) #note that this is much better than when vehicles were combined"
   ]
  },
  {
   "cell_type": "markdown",
   "metadata": {},
   "source": [
    "Results show that the prediction model is much more accurate when split by vehicle model. Results show 50.2% accuracy which is a huge improvement from the 13.4% NULL accuracy. Next step is to try a different model (Logistic Regression) and validate using the same accuracy score metric. This model runs slower but could result in an accuracy improvement"
   ]
  },
  {
   "cell_type": "code",
   "execution_count": 65,
   "metadata": {
    "collapsed": false
   },
   "outputs": [
    {
     "data": {
      "text/plain": [
       "LogisticRegression(C=1.0, class_weight=None, dual=False, fit_intercept=True,\n",
       "          intercept_scaling=1, max_iter=100, multi_class='ovr', n_jobs=1,\n",
       "          penalty='l2', random_state=None, solver='liblinear', tol=0.0001,\n",
       "          verbose=0, warm_start=False)"
      ]
     },
     "execution_count": 65,
     "metadata": {},
     "output_type": "execute_result"
    }
   ],
   "source": [
    "#let's try logistic regression for model id == 1\n",
    "\n",
    "logreg = LogisticRegression()\n",
    "logreg.fit(x_train_dtm, y_train)"
   ]
  },
  {
   "cell_type": "code",
   "execution_count": 55,
   "metadata": {
    "collapsed": false
   },
   "outputs": [
    {
     "data": {
      "text/plain": [
       "array([  260,   325, 10083, ...,   262,  3793,  3660], dtype=int64)"
      ]
     },
     "execution_count": 55,
     "metadata": {},
     "output_type": "execute_result"
    }
   ],
   "source": [
    "predictions = logreg.predict(x_test_dtm)\n",
    "predictions"
   ]
  },
  {
   "cell_type": "code",
   "execution_count": 56,
   "metadata": {
    "collapsed": false
   },
   "outputs": [
    {
     "data": {
      "text/plain": [
       "0.60270700636942676"
      ]
     },
     "execution_count": 56,
     "metadata": {},
     "output_type": "execute_result"
    }
   ],
   "source": [
    "#model accuracy for model s using logistic regression\n",
    "\n",
    "metrics.accuracy_score(y_test, predictions)"
   ]
  },
  {
   "cell_type": "code",
   "execution_count": 62,
   "metadata": {
    "collapsed": false
   },
   "outputs": [
    {
     "data": {
      "text/plain": [
       "SGDClassifier(alpha=0.001, average=False, class_weight=None, epsilon=0.1,\n",
       "       eta0=0.0, fit_intercept=True, l1_ratio=0.15,\n",
       "       learning_rate='optimal', loss='hinge', n_iter=5, n_jobs=1,\n",
       "       penalty='l2', power_t=0.5, random_state=1, shuffle=True, verbose=0,\n",
       "       warm_start=False)"
      ]
     },
     "execution_count": 62,
     "metadata": {},
     "output_type": "execute_result"
    }
   ],
   "source": [
    "#support vector machine\n",
    "\n",
    "svm = SGDClassifier(loss = 'hinge', penalty = 'l2', alpha = 1e-3, n_iter = 5, random_state = 1)\n",
    "svm.fit(x_train_dtm, y_train)"
   ]
  },
  {
   "cell_type": "code",
   "execution_count": 63,
   "metadata": {
    "collapsed": false
   },
   "outputs": [
    {
     "data": {
      "text/plain": [
       "0.51512738853503182"
      ]
     },
     "execution_count": 63,
     "metadata": {},
     "output_type": "execute_result"
    }
   ],
   "source": [
    "#model accuracy for support vector machine\n",
    "\n",
    "predictions = svm.predict(x_test_dtm)\n",
    "metrics.accuracy_score(y_test, predictions)"
   ]
  },
  {
   "cell_type": "code",
   "execution_count": 66,
   "metadata": {
    "collapsed": false
   },
   "outputs": [
    {
     "data": {
      "text/plain": [
       "Falcon Door Inductive Sensors - Detect Object That Is Not Present     0.062773\n",
       "Key Fob Battery - Replacement Required                                0.043885\n",
       "Front Door - Latch Fault                                              0.031891\n",
       "Falcon Door Ultrasonic Sensor - Detects Object That Is Not Present    0.030098\n",
       "Front Door Glass - Regulator Adjustment Required                      0.022475\n",
       "Name: FailureMode, dtype: float64"
      ]
     },
     "execution_count": 66,
     "metadata": {},
     "output_type": "execute_result"
    }
   ],
   "source": [
    "#null accuracy\n",
    "\n",
    "null = model_x.FailureMode.value_counts() / model_x.shape[0]\n",
    "null.head()"
   ]
  },
  {
   "cell_type": "code",
   "execution_count": 67,
   "metadata": {
    "collapsed": true
   },
   "outputs": [],
   "source": [
    "x_train, x_test, y_train, y_test = train_test_split(model_x.CorrectionNarrativeRev2, model_x.FaultModeID, random_state = 1)"
   ]
  },
  {
   "cell_type": "code",
   "execution_count": 68,
   "metadata": {
    "collapsed": true
   },
   "outputs": [],
   "source": [
    "#instantiate count vectorizer (stop_words not working)\n",
    "\n",
    "vect = CountVectorizer(stop_words = 'english', analyzer = lambda x: word_tokenize(x, how = 'stem')) #troubleshoot stop_words\n",
    "x_train_dtm = vect.fit_transform(x_train)"
   ]
  },
  {
   "cell_type": "code",
   "execution_count": 69,
   "metadata": {
    "collapsed": true
   },
   "outputs": [],
   "source": [
    "x_test_dtm = vect.transform(x_test)"
   ]
  },
  {
   "cell_type": "code",
   "execution_count": 70,
   "metadata": {
    "collapsed": false
   },
   "outputs": [
    {
     "data": {
      "text/plain": [
       "MultinomialNB(alpha=1.0, class_prior=None, fit_prior=True)"
      ]
     },
     "execution_count": 70,
     "metadata": {},
     "output_type": "execute_result"
    }
   ],
   "source": [
    "#fit the model\n",
    "\n",
    "nb = MultinomialNB()\n",
    "nb.fit(x_train_dtm, y_train)"
   ]
  },
  {
   "cell_type": "code",
   "execution_count": 71,
   "metadata": {
    "collapsed": false
   },
   "outputs": [
    {
     "data": {
      "text/plain": [
       "array([2373, 6234, 2878, ..., 2878, 1747, 6116], dtype=int64)"
      ]
     },
     "execution_count": 71,
     "metadata": {},
     "output_type": "execute_result"
    }
   ],
   "source": [
    "#let's check out our predictions\n",
    "\n",
    "predictions = nb.predict(x_test_dtm)\n",
    "predictions"
   ]
  },
  {
   "cell_type": "code",
   "execution_count": 72,
   "metadata": {
    "collapsed": false
   },
   "outputs": [
    {
     "name": "stdout",
     "output_type": "stream",
     "text": [
      "0.422102667563\n"
     ]
    }
   ],
   "source": [
    "#model accuracy for model id == 2\n",
    "\n",
    "print metrics.accuracy_score(y_test, predictions)"
   ]
  },
  {
   "cell_type": "code",
   "execution_count": 73,
   "metadata": {
    "collapsed": false
   },
   "outputs": [
    {
     "data": {
      "text/plain": [
       "LogisticRegression(C=1.0, class_weight=None, dual=False, fit_intercept=True,\n",
       "          intercept_scaling=1, max_iter=100, multi_class='ovr', n_jobs=1,\n",
       "          penalty='l2', random_state=None, solver='liblinear', tol=0.0001,\n",
       "          verbose=0, warm_start=False)"
      ]
     },
     "execution_count": 73,
     "metadata": {},
     "output_type": "execute_result"
    }
   ],
   "source": [
    "#let's try logistic regression for model id == 2\n",
    "\n",
    "logreg = LogisticRegression()\n",
    "logreg.fit(x_train_dtm, y_train)"
   ]
  },
  {
   "cell_type": "code",
   "execution_count": 74,
   "metadata": {
    "collapsed": false
   },
   "outputs": [
    {
     "data": {
      "text/plain": [
       "array([2373, 6234, 2877, ..., 2878, 1747, 6116], dtype=int64)"
      ]
     },
     "execution_count": 74,
     "metadata": {},
     "output_type": "execute_result"
    }
   ],
   "source": [
    "predictions = logreg.predict(x_test_dtm)\n",
    "predictions"
   ]
  },
  {
   "cell_type": "code",
   "execution_count": 75,
   "metadata": {
    "collapsed": false
   },
   "outputs": [
    {
     "data": {
      "text/plain": [
       "0.54516924456399907"
      ]
     },
     "execution_count": 75,
     "metadata": {},
     "output_type": "execute_result"
    }
   ],
   "source": [
    "metrics.accuracy_score(y_test, predictions)"
   ]
  },
  {
   "cell_type": "code",
   "execution_count": 76,
   "metadata": {
    "collapsed": false
   },
   "outputs": [
    {
     "data": {
      "text/plain": [
       "SGDClassifier(alpha=0.001, average=False, class_weight=None, epsilon=0.1,\n",
       "       eta0=0.0, fit_intercept=True, l1_ratio=0.15,\n",
       "       learning_rate='optimal', loss='hinge', n_iter=5, n_jobs=1,\n",
       "       penalty='l2', power_t=0.5, random_state=1, shuffle=True, verbose=0,\n",
       "       warm_start=False)"
      ]
     },
     "execution_count": 76,
     "metadata": {},
     "output_type": "execute_result"
    }
   ],
   "source": [
    "#support vector machines\n",
    "\n",
    "svm = SGDClassifier(loss = 'hinge', penalty = 'l2', alpha = 1e-3, n_iter = 5, random_state = 1)\n",
    "svm.fit(x_train_dtm, y_train)"
   ]
  },
  {
   "cell_type": "code",
   "execution_count": 77,
   "metadata": {
    "collapsed": false
   },
   "outputs": [
    {
     "data": {
      "text/plain": [
       "0.47657475902264068"
      ]
     },
     "execution_count": 77,
     "metadata": {},
     "output_type": "execute_result"
    }
   ],
   "source": [
    "predictions = svm.predict(x_test_dtm)\n",
    "metrics.accuracy_score(y_test, predictions)"
   ]
  },
  {
   "cell_type": "markdown",
   "metadata": {
    "collapsed": true
   },
   "source": [
    "Conclusion"
   ]
  },
  {
   "cell_type": "markdown",
   "metadata": {},
   "source": [
    "Next Steps:\n",
    "\n",
    "- Spelling corrections (very expensive)\n",
    "- Grid search (also very expensive)\n",
    "- Map failure modes to systems\n",
    "- Further data cleansing"
   ]
  },
  {
   "cell_type": "code",
   "execution_count": 79,
   "metadata": {
    "collapsed": false
   },
   "outputs": [],
   "source": [
    "#pipeline\n",
    "\n",
    "pipe = Pipeline([\n",
    "  ('features', FeatureUnion([\n",
    "        ('counts', CountVectorizer(analyzer = lambda x: word_tokenize(x, how = 'stem'))),\n",
    "        ('tf_idf', TfidfVectorizer())])),\n",
    "  ('classifier', LogisticRegression())\n",
    "])"
   ]
  },
  {
   "cell_type": "code",
   "execution_count": 78,
   "metadata": {
    "collapsed": false
   },
   "outputs": [
    {
     "name": "stdout",
     "output_type": "stream",
     "text": [
      "{'features__counts__ngram_range': [(1, 1), (1, 2)]}\n"
     ]
    }
   ],
   "source": [
    "#parameter tuning using grid search\n",
    "\n",
    "gram_range = [(1, n) for n in range(1, 3)]\n",
    "param_grid = {\n",
    "    'features__counts__ngram_range': gram_range\n",
    "}\n",
    "print param_grid"
   ]
  },
  {
   "cell_type": "code",
   "execution_count": 89,
   "metadata": {
    "collapsed": true
   },
   "outputs": [],
   "source": [
    "#grid = GridSearchCV(pipe, param_grid, cv = 5, scoring = 'accuracy')"
   ]
  },
  {
   "cell_type": "code",
   "execution_count": null,
   "metadata": {
    "collapsed": false
   },
   "outputs": [],
   "source": [
    "#grid.fit(x_train, y_train)"
   ]
  },
  {
   "cell_type": "code",
   "execution_count": 80,
   "metadata": {
    "collapsed": false
   },
   "outputs": [
    {
     "data": {
      "text/plain": [
       "Pipeline(steps=[('features', FeatureUnion(n_jobs=1,\n",
       "       transformer_list=[('counts', CountVectorizer(analyzer=<function <lambda> at 0x000000001A0533C8>,\n",
       "        binary=False, decode_error=u'strict', dtype=<type 'numpy.int64'>,\n",
       "        encoding=u'utf-8', input=u'content', lowercase=True, max_df=1.0,\n",
       "      ...ty='l2', random_state=None, solver='liblinear', tol=0.0001,\n",
       "          verbose=0, warm_start=False))])"
      ]
     },
     "execution_count": 80,
     "metadata": {},
     "output_type": "execute_result"
    }
   ],
   "source": [
    "pipe.fit(x_train, y_train)"
   ]
  },
  {
   "cell_type": "code",
   "execution_count": 94,
   "metadata": {
    "collapsed": false
   },
   "outputs": [
    {
     "name": "stderr",
     "output_type": "stream",
     "text": [
      "C:\\Users\\sglembocki\\AppData\\Local\\Continuum\\Anaconda2\\lib\\site-packages\\sklearn\\cross_validation.py:516: Warning: The least populated class in y has only 1 members, which is too few. The minimum number of labels for any class cannot be less than n_folds=5.\n",
      "  % (min_labels, self.n_folds)), Warning)\n"
     ]
    },
    {
     "data": {
      "text/plain": [
       "0.54588455477489739"
      ]
     },
     "execution_count": 94,
     "metadata": {},
     "output_type": "execute_result"
    }
   ],
   "source": [
    "mean = cross_val_score(pipe, x_train, y_train, cv = 5, scoring = 'accuracy').mean()\n",
    "mean"
   ]
  },
  {
   "cell_type": "code",
   "execution_count": null,
   "metadata": {
    "collapsed": true
   },
   "outputs": [],
   "source": []
  }
 ],
 "metadata": {
  "anaconda-cloud": {},
  "kernelspec": {
   "display_name": "Python [conda root]",
   "language": "python",
   "name": "conda-root-py"
  },
  "language_info": {
   "codemirror_mode": {
    "name": "ipython",
    "version": 2
   },
   "file_extension": ".py",
   "mimetype": "text/x-python",
   "name": "python",
   "nbconvert_exporter": "python",
   "pygments_lexer": "ipython2",
   "version": "2.7.12"
  }
 },
 "nbformat": 4,
 "nbformat_minor": 1
}
