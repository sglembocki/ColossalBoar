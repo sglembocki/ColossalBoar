{
 "cells": [
  {
   "cell_type": "code",
   "execution_count": 58,
   "metadata": {
    "collapsed": false
   },
   "outputs": [],
   "source": [
    "from lxml import html\n",
    "import requests\n",
    "import pandas as pd\n",
    "import numpy as np\n",
    "import plotly.plotly as py\n",
    "import plotly\n",
    "import plotly.figure_factory as ff"
   ]
  },
  {
   "cell_type": "code",
   "execution_count": 59,
   "metadata": {
    "collapsed": false
   },
   "outputs": [],
   "source": [
    "plotly.tools.set_credentials_file(username = 'stefan.glembocki@gmail.com', api_key = 'KujNsc41qZsHljTZoSi7')"
   ]
  },
  {
   "cell_type": "code",
   "execution_count": 60,
   "metadata": {
    "collapsed": true
   },
   "outputs": [],
   "source": [
    "page = requests.get('https://coinmarketcap.com/currencies/ethereum/historical-data/')\n",
    "tree = html.fromstring(page.content)\n",
    "dates = tree.xpath('//td[@class = \"text-left\"]/text()')\n",
    "highs = tree.xpath('//td/text()')"
   ]
  },
  {
   "cell_type": "code",
   "execution_count": 63,
   "metadata": {
    "collapsed": false
   },
   "outputs": [],
   "source": [
    "df = pd.DataFrame(np.array(highs).reshape(len(dates), 7), columns = ['Date', 'Open', 'High', 'Low', 'Close', 'Volume', 'MarketCap'])\n",
    "df['CryptoName'] = 'Ethereum'"
   ]
  },
  {
   "cell_type": "code",
   "execution_count": 64,
   "metadata": {
    "collapsed": true
   },
   "outputs": [],
   "source": [
    "page = requests.get('https://coinmarketcap.com/currencies/litecoin/historical-data/')\n",
    "tree = html.fromstring(page.content)\n",
    "dates = tree.xpath('//td[@class = \"text-left\"]/text()')\n",
    "highs = tree.xpath('//td/text()')"
   ]
  },
  {
   "cell_type": "code",
   "execution_count": 65,
   "metadata": {
    "collapsed": true
   },
   "outputs": [],
   "source": [
    "df2 = pd.DataFrame(np.array(highs).reshape(len(dates), 7), columns = ['Date', 'Open', 'High', 'Low', 'Close', 'Volume', 'MarketCap'])\n",
    "df2['CryptoName'] = 'Litecoin'"
   ]
  },
  {
   "cell_type": "code",
   "execution_count": 66,
   "metadata": {
    "collapsed": false
   },
   "outputs": [],
   "source": [
    "page = requests.get('https://coinmarketcap.com/currencies/ripple/historical-data/')\n",
    "tree = html.fromstring(page.content)\n",
    "dates = tree.xpath('//td[@class = \"text-left\"]/text()')\n",
    "highs = tree.xpath('//td/text()')"
   ]
  },
  {
   "cell_type": "code",
   "execution_count": 67,
   "metadata": {
    "collapsed": true
   },
   "outputs": [],
   "source": [
    "df3 = pd.DataFrame(np.array(highs).reshape(len(dates), 7), columns = ['Date', 'Open', 'High', 'Low', 'Close', 'Volume', 'MarketCap'])\n",
    "df3['CryptoName'] = 'Ripple'"
   ]
  },
  {
   "cell_type": "code",
   "execution_count": 68,
   "metadata": {
    "collapsed": true
   },
   "outputs": [],
   "source": [
    "data = df.append(df2, ignore_index = True)\n",
    "data2 = data.append(df3, ignore_index = True)"
   ]
  },
  {
   "cell_type": "code",
   "execution_count": 69,
   "metadata": {
    "collapsed": false
   },
   "outputs": [
    {
     "data": {
      "text/html": [
       "<iframe id=\"igraph\" scrolling=\"no\" style=\"border:none;\" seamless=\"seamless\" src=\"https://plot.ly/~sglembocki/6.embed\" height=\"2780px\" width=\"100%\"></iframe>"
      ],
      "text/plain": [
       "<plotly.tools.PlotlyDisplay object>"
      ]
     },
     "execution_count": 69,
     "metadata": {},
     "output_type": "execute_result"
    }
   ],
   "source": [
    "table = ff.create_table(data2)\n",
    "py.iplot(table, filename = 'cmc_eth_data')"
   ]
  },
  {
   "cell_type": "code",
   "execution_count": null,
   "metadata": {
    "collapsed": true
   },
   "outputs": [],
   "source": []
  }
 ],
 "metadata": {
  "kernelspec": {
   "display_name": "Python [default]",
   "language": "python",
   "name": "python2"
  },
  "language_info": {
   "codemirror_mode": {
    "name": "ipython",
    "version": 2
   },
   "file_extension": ".py",
   "mimetype": "text/x-python",
   "name": "python",
   "nbconvert_exporter": "python",
   "pygments_lexer": "ipython2",
   "version": "2.7.12"
  }
 },
 "nbformat": 4,
 "nbformat_minor": 1
}
