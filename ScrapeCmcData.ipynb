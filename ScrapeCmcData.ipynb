{
 "cells": [
  {
   "cell_type": "code",
   "execution_count": 70,
   "metadata": {
    "collapsed": false
   },
   "outputs": [],
   "source": [
    "from lxml import html\n",
    "import requests\n",
    "import pandas as pd\n",
    "import numpy as np\n",
    "import plotly.plotly as py\n",
    "import plotly\n",
    "import plotly.figure_factory as ff"
   ]
  },
  {
   "cell_type": "code",
   "execution_count": 71,
   "metadata": {
    "collapsed": false
   },
   "outputs": [],
   "source": [
    "plotly.tools.set_credentials_file(username = '', api_key = '')"
   ]
  },
  {
   "cell_type": "code",
   "execution_count": 72,
   "metadata": {
    "collapsed": true
   },
   "outputs": [],
   "source": [
    "page = requests.get('https://coinmarketcap.com/currencies/ethereum/historical-data/?start=20170101&end=20171226')\n",
    "tree = html.fromstring(page.content)\n",
    "dates = tree.xpath('//td[@class = \"text-left\"]/text()')\n",
    "highs = tree.xpath('//td/text()')"
   ]
  },
  {
   "cell_type": "code",
   "execution_count": 73,
   "metadata": {
    "collapsed": false
   },
   "outputs": [],
   "source": [
    "df = pd.DataFrame(np.array(highs).reshape(len(dates), 7), columns = ['Date', 'Open', 'High', 'Low', 'Close', 'Volume', 'MarketCap'])\n",
    "df['CryptoName'] = 'Ethereum'"
   ]
  },
  {
   "cell_type": "code",
   "execution_count": 74,
   "metadata": {
    "collapsed": true
   },
   "outputs": [],
   "source": [
    "page = requests.get('https://coinmarketcap.com/currencies/litecoin/historical-data/?start=20170101&end=20171226')\n",
    "tree = html.fromstring(page.content)\n",
    "dates = tree.xpath('//td[@class = \"text-left\"]/text()')\n",
    "highs = tree.xpath('//td/text()')"
   ]
  },
  {
   "cell_type": "code",
   "execution_count": 75,
   "metadata": {
    "collapsed": true
   },
   "outputs": [],
   "source": [
    "df2 = pd.DataFrame(np.array(highs).reshape(len(dates), 7), columns = ['Date', 'Open', 'High', 'Low', 'Close', 'Volume', 'MarketCap'])\n",
    "df2['CryptoName'] = 'Litecoin'"
   ]
  },
  {
   "cell_type": "code",
   "execution_count": 76,
   "metadata": {
    "collapsed": false
   },
   "outputs": [],
   "source": [
    "page = requests.get('https://coinmarketcap.com/currencies/ripple/historical-data/?start=20170101&end=20171226')\n",
    "tree = html.fromstring(page.content)\n",
    "dates = tree.xpath('//td[@class = \"text-left\"]/text()')\n",
    "highs = tree.xpath('//td/text()')"
   ]
  },
  {
   "cell_type": "code",
   "execution_count": 77,
   "metadata": {
    "collapsed": true
   },
   "outputs": [],
   "source": [
    "df3 = pd.DataFrame(np.array(highs).reshape(len(dates), 7), columns = ['Date', 'Open', 'High', 'Low', 'Close', 'Volume', 'MarketCap'])\n",
    "df3['CryptoName'] = 'Ripple'"
   ]
  },
  {
   "cell_type": "code",
   "execution_count": 78,
   "metadata": {
    "collapsed": true
   },
   "outputs": [],
   "source": [
    "data = df.append(df2, ignore_index = True)\n",
    "data2 = data.append(df3, ignore_index = True)"
   ]
  },
  {
   "cell_type": "code",
   "execution_count": 79,
   "metadata": {
    "collapsed": false
   },
   "outputs": [
    {
     "data": {
      "text/html": [
       "<iframe id=\"igraph\" scrolling=\"no\" style=\"border:none;\" seamless=\"seamless\" src=\"https://plot.ly/~sglembocki/6.embed\" height=\"32390px\" width=\"100%\"></iframe>"
      ],
      "text/plain": [
       "<plotly.tools.PlotlyDisplay object>"
      ]
     },
     "execution_count": 79,
     "metadata": {},
     "output_type": "execute_result"
    }
   ],
   "source": [
    "table = ff.create_table(data2)\n",
    "py.iplot(table, filename = 'cmc_eth_data')"
   ]
  },
  {
   "cell_type": "code",
   "execution_count": 80,
   "metadata": {
    "collapsed": true
   },
   "outputs": [],
   "source": [
    "data2.to_csv('CmcOutput.csv')"
   ]
  },
  {
   "cell_type": "code",
   "execution_count": null,
   "metadata": {
    "collapsed": true
   },
   "outputs": [],
   "source": []
  }
 ],
 "metadata": {
  "kernelspec": {
   "display_name": "Python [default]",
   "language": "python",
   "name": "python2"
  },
  "language_info": {
   "codemirror_mode": {
    "name": "ipython",
    "version": 2
   },
   "file_extension": ".py",
   "mimetype": "text/x-python",
   "name": "python",
   "nbconvert_exporter": "python",
   "pygments_lexer": "ipython2",
   "version": "2.7.12"
  }
 },
 "nbformat": 4,
 "nbformat_minor": 1
}
