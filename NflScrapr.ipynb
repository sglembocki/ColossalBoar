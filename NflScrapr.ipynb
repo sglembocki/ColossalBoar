{
 "cells": [
  {
   "cell_type": "code",
   "execution_count": 140,
   "metadata": {
    "collapsed": false
   },
   "outputs": [],
   "source": [
    "#imports\n",
    "\n",
    "from bs4 import BeautifulSoup\n",
    "import urllib\n",
    "import re\n",
    "import pandas as pd\n",
    "import numpy as np"
   ]
  },
  {
   "cell_type": "code",
   "execution_count": 141,
   "metadata": {
    "collapsed": true
   },
   "outputs": [],
   "source": [
    "#this block of code extracts team names that will be used for urls\n",
    "\n",
    "teams_url = 'http://www.footballdb.com/teams/index.html'\n",
    "teams_page = urllib.urlopen(teams_url)"
   ]
  },
  {
   "cell_type": "code",
   "execution_count": 142,
   "metadata": {
    "collapsed": false
   },
   "outputs": [
    {
     "name": "stdout",
     "output_type": "stream",
     "text": [
      "<!DOCTYPE html>\n",
      "<html lang=\"en\">\n",
      " <head>\n",
      "  <meta charset=\"utf-8\"/>\n",
      "  <meta content=\"IE=edge\" http-equiv=\"X-UA-Compatible\"/>\n",
      "  <meta content=\"initial-scale=1.0, width=device-width\" name=\"viewport\"/>\n",
      "  <title>\n",
      "   Teams | The Football Database\n",
      "  </title>\n",
      "  <meta content=\"View stats and statistics, rosters, results, draft results and transactions for current and defunct NFL teams\" name=\"description\"/>\n",
      "  <meta content=\"index,follow\" name=\"robots\"/>\n",
      "  <meta content=\"FootballDB.com\" property=\"og:site_name\">\n",
      "   <meta content=\"Teams | The Football Database\" property=\"og:title\"/>\n",
      "   <meta content=\"website\" property=\"og:type\"/>\n",
      "   <meta content=\"View stats and statistics, rosters, results, draft results and transactions for current and defunct NFL teams\" property=\"og:description\"/>\n",
      "   <meta content=\"http://www.footballdb.com/images/footballdb_200x200.png\" property=\"og:image\"/>\n",
      "   <meta content=\"http://www.footballdb.com/teams/index.html\" property=\"og:url\"/>\n",
      "   <meta content=\"summary\" name=\"twitte\n"
     ]
    }
   ],
   "source": [
    "#preview of the html\n",
    "\n",
    "teams_soup = BeautifulSoup(teams_page, 'html.parser')\n",
    "print(teams_soup.prettify()[0:1000])"
   ]
  },
  {
   "cell_type": "code",
   "execution_count": 143,
   "metadata": {
    "collapsed": false
   },
   "outputs": [
    {
     "data": {
      "text/plain": [
       "[<a href=\"/teams/nfl/buffalo-bills\">Buffalo Bills</a>,\n",
       " <a href=\"/teams/nfl/miami-dolphins\">Miami Dolphins</a>,\n",
       " <a href=\"/teams/nfl/new-england-patriots\">New England Patriots</a>,\n",
       " <a href=\"/teams/nfl/new-york-jets\">New York Jets</a>,\n",
       " <a href=\"/teams/nfl/baltimore-ravens\">Baltimore Ravens</a>,\n",
       " <a href=\"/teams/nfl/cincinnati-bengals\">Cincinnati Bengals</a>,\n",
       " <a href=\"/teams/nfl/cleveland-browns\">Cleveland Browns</a>,\n",
       " <a href=\"/teams/nfl/pittsburgh-steelers\">Pittsburgh Steelers</a>,\n",
       " <a href=\"/teams/nfl/houston-texans\">Houston Texans</a>,\n",
       " <a href=\"/teams/nfl/indianapolis-colts\">Indianapolis Colts</a>,\n",
       " <a href=\"/teams/nfl/jacksonville-jaguars\">Jacksonville Jaguars</a>,\n",
       " <a href=\"/teams/nfl/tennessee-titans\">Tennessee Titans</a>,\n",
       " <a href=\"/teams/nfl/denver-broncos\">Denver Broncos</a>,\n",
       " <a href=\"/teams/nfl/kansas-city-chiefs\">Kansas City Chiefs</a>,\n",
       " <a href=\"/teams/nfl/los-angeles-chargers\">Los Angeles Chargers</a>,\n",
       " <a href=\"/teams/nfl/oakland-raiders\">Oakland Raiders</a>,\n",
       " <a href=\"/teams/nfl/dallas-cowboys\">Dallas Cowboys</a>,\n",
       " <a href=\"/teams/nfl/new-york-giants\">New York Giants</a>,\n",
       " <a href=\"/teams/nfl/philadelphia-eagles\">Philadelphia Eagles</a>,\n",
       " <a href=\"/teams/nfl/washington-redskins\">Washington Redskins</a>,\n",
       " <a href=\"/teams/nfl/chicago-bears\">Chicago Bears</a>,\n",
       " <a href=\"/teams/nfl/detroit-lions\">Detroit Lions</a>,\n",
       " <a href=\"/teams/nfl/green-bay-packers\">Green Bay Packers</a>,\n",
       " <a href=\"/teams/nfl/minnesota-vikings\">Minnesota Vikings</a>,\n",
       " <a href=\"/teams/nfl/atlanta-falcons\">Atlanta Falcons</a>,\n",
       " <a href=\"/teams/nfl/carolina-panthers\">Carolina Panthers</a>,\n",
       " <a href=\"/teams/nfl/new-orleans-saints\">New Orleans Saints</a>,\n",
       " <a href=\"/teams/nfl/tampa-bay-buccaneers\">Tampa Bay Buccaneers</a>,\n",
       " <a href=\"/teams/nfl/arizona-cardinals\">Arizona Cardinals</a>,\n",
       " <a href=\"/teams/nfl/los-angeles-rams\">Los Angeles Rams</a>,\n",
       " <a href=\"/teams/nfl/san-francisco-49ers\">San Francisco 49ers</a>]"
      ]
     },
     "execution_count": 143,
     "metadata": {},
     "output_type": "execute_result"
    }
   ],
   "source": [
    "#list with html tags\n",
    "\n",
    "teams_list = teams_soup.find_all('a', attrs = {'href': re.compile('/teams/nfl/')})[0:31]\n",
    "teams_list"
   ]
  },
  {
   "cell_type": "code",
   "execution_count": 144,
   "metadata": {
    "collapsed": false
   },
   "outputs": [
    {
     "data": {
      "text/plain": [
       "['buffalo-bills',\n",
       " 'miami-dolphins',\n",
       " 'new-england-patriots',\n",
       " 'new-york-jets',\n",
       " 'baltimore-ravens',\n",
       " 'cincinnati-bengals',\n",
       " 'cleveland-browns',\n",
       " 'pittsburgh-steelers',\n",
       " 'houston-texans',\n",
       " 'indianapolis-colts',\n",
       " 'jacksonville-jaguars',\n",
       " 'tennessee-titans',\n",
       " 'denver-broncos',\n",
       " 'kansas-city-chiefs',\n",
       " 'los-angeles-chargers',\n",
       " 'oakland-raiders',\n",
       " 'dallas-cowboys',\n",
       " 'new-york-giants',\n",
       " 'philadelphia-eagles',\n",
       " 'washington-redskins',\n",
       " 'chicago-bears',\n",
       " 'detroit-lions',\n",
       " 'green-bay-packers',\n",
       " 'minnesota-vikings',\n",
       " 'atlanta-falcons',\n",
       " 'carolina-panthers',\n",
       " 'new-orleans-saints',\n",
       " 'tampa-bay-buccaneers',\n",
       " 'arizona-cardinals',\n",
       " 'los-angeles-rams',\n",
       " 'san-francisco-49ers']"
      ]
     },
     "execution_count": 144,
     "metadata": {},
     "output_type": "execute_result"
    }
   ],
   "source": [
    "#list wihtout html\n",
    "\n",
    "teams_list_clean = []\n",
    "\n",
    "for i in range(0, len(teams_list)):\n",
    "    teams_list_clean.append(re.sub('<[^<]+?>', '', str(teams_list[i])).lower().replace(' ', '-'))\n",
    "    \n",
    "teams_list_clean"
   ]
  },
  {
   "cell_type": "code",
   "execution_count": 145,
   "metadata": {
    "collapsed": false
   },
   "outputs": [],
   "source": [
    "#instantiate dataframes. the columns are what is available on the website of interest\n",
    "\n",
    "passing_cols = ['player', 'pass_attempts', 'completions', 'compl_percent', 'passing_yards', 'yards_per_pass', 'passing_touchdowns', 'touchdown_percentage', 'interceptions', 'int_percentage', 'long', 'sack', 'loss', 'passer_rating']\n",
    "rushing_cols = ['player', 'games_played', 'rush_attempts', 'rush_yards', 'yards_per_rush', 'yards_per_game', 'long', 'rush_touchdowns', 'first_downs']\n",
    "receiving_cols = ['player', 'games', 'receptions', 'receiving_yards', 'yards_per_catch', 'yards_per_game', 'long', 'receiving_touchdowns', 'first_downs', 'targets', 'yards_after_catch']\n",
    "kick_returns_cols = ['player', 'kick_returns', 'kick_return_yards', 'kick_return_average', 'fair_catches', 'long', 'touchdowns']\n",
    "punt_returns_cols = ['player', 'punt_returns', 'punt_return_yards', 'punt_return_average', 'fair_catches', 'long', 'touchdowns']\n",
    "punts_cols = ['player', 'punts', 'yards', 'average', 'long', 'touchbacks', 'inside_twenty', 'out_of_bounds', 'fair_catches', 'downed', 'blocked', 'net', 'return', 'return_yards', 'touchdowns']\n",
    "kicking_cols = ['player', 'pat', 'field_goals', '0_19', '20_29', '30-39', '40-49', '50_plus', 'long', 'points']\n",
    "kickoffs_cols = ['player', 'number', 'yards', 'average', 'long', 'touchbacks', 'out_of_bounds', 'returns', 'return_yards', 'touchdowns', 'osk', 'osr']\n",
    "defense_cols = ['player', 'interceptions', 'yards', 'average', 'long', 'touchdowns', 'solo_tackles', 'assists',  'total_tackles', 'sacks', 'yards_for_loss']\n",
    "\n",
    "passing_df = pd.DataFrame(columns = passing_cols)\n",
    "rushing_df = pd.DataFrame(columns = rushing_cols)\n",
    "receiving_df = pd.DataFrame(columns = receiving_cols)\n",
    "kick_returns_df = pd.DataFrame(columns = kick_returns_cols)\n",
    "punt_returns_df = pd.DataFrame(columns = punt_returns_cols)\n",
    "punts_df = pd.DataFrame(columns = punts_cols)\n",
    "kicking_df = pd.DataFrame(columns = kicking_cols)\n",
    "kickoffs_df = pd.DataFrame(columns = kickoff_cols)\n",
    "defense_df = pd.DataFrame(columns = defense_cols)"
   ]
  },
  {
   "cell_type": "code",
   "execution_count": 146,
   "metadata": {
    "collapsed": false
   },
   "outputs": [
    {
     "name": "stdout",
     "output_type": "stream",
     "text": [
      "successfuly imported passing stats for the buffalo-bills\n",
      "successfuly imported rushing stats for the buffalo-bills\n",
      "successfuly imported receiving stats for the buffalo-bills\n",
      "successfuly imported kick return stats for the buffalo-bills\n",
      "successfuly imported punt return stats for the buffalo-bills\n",
      "successfuly imported punting stats for the buffalo-bills\n",
      "successfuly imported kicking stats for the buffalo-bills\n",
      "successfuly imported kickoff stats for the buffalo-bills\n",
      "successfuly imported defense stats for the buffalo-bills\n",
      "successfuly imported passing stats for the miami-dolphins\n",
      "successfuly imported rushing stats for the miami-dolphins\n",
      "successfuly imported receiving stats for the miami-dolphins\n",
      "successfuly imported kick return stats for the miami-dolphins\n",
      "successfuly imported punt return stats for the miami-dolphins\n",
      "successfuly imported punting stats for the miami-dolphins\n",
      "successfuly imported kicking stats for the miami-dolphins\n",
      "successfuly imported kickoff stats for the miami-dolphins\n",
      "successfuly imported defense stats for the miami-dolphins\n",
      "successfuly imported passing stats for the new-england-patriots\n",
      "successfuly imported rushing stats for the new-england-patriots\n",
      "successfuly imported receiving stats for the new-england-patriots\n",
      "successfuly imported kick return stats for the new-england-patriots\n",
      "successfuly imported punt return stats for the new-england-patriots\n",
      "successfuly imported punting stats for the new-england-patriots\n",
      "successfuly imported kicking stats for the new-england-patriots\n",
      "successfuly imported kickoff stats for the new-england-patriots\n",
      "successfuly imported defense stats for the new-england-patriots\n",
      "successfuly imported passing stats for the new-york-jets\n",
      "successfuly imported rushing stats for the new-york-jets\n",
      "successfuly imported receiving stats for the new-york-jets\n",
      "successfuly imported kick return stats for the new-york-jets\n",
      "successfuly imported punt return stats for the new-york-jets\n",
      "successfuly imported punting stats for the new-york-jets\n",
      "successfuly imported kicking stats for the new-york-jets\n",
      "successfuly imported kickoff stats for the new-york-jets\n",
      "successfuly imported defense stats for the new-york-jets\n",
      "successfuly imported passing stats for the baltimore-ravens\n",
      "successfuly imported rushing stats for the baltimore-ravens\n",
      "successfuly imported receiving stats for the baltimore-ravens\n",
      "successfuly imported kick return stats for the baltimore-ravens\n",
      "successfuly imported punt return stats for the baltimore-ravens\n",
      "successfuly imported punting stats for the baltimore-ravens\n",
      "successfuly imported kicking stats for the baltimore-ravens\n",
      "successfuly imported kickoff stats for the baltimore-ravens\n",
      "successfuly imported defense stats for the baltimore-ravens\n",
      "successfuly imported passing stats for the cincinnati-bengals\n",
      "successfuly imported rushing stats for the cincinnati-bengals\n",
      "successfuly imported receiving stats for the cincinnati-bengals\n",
      "successfuly imported kick return stats for the cincinnati-bengals\n",
      "successfuly imported punt return stats for the cincinnati-bengals\n",
      "successfuly imported punting stats for the cincinnati-bengals\n",
      "successfuly imported kicking stats for the cincinnati-bengals\n",
      "successfuly imported kickoff stats for the cincinnati-bengals\n",
      "successfuly imported defense stats for the cincinnati-bengals\n",
      "successfuly imported passing stats for the cleveland-browns\n",
      "successfuly imported rushing stats for the cleveland-browns\n",
      "successfuly imported receiving stats for the cleveland-browns\n",
      "successfuly imported kick return stats for the cleveland-browns\n",
      "successfuly imported punt return stats for the cleveland-browns\n",
      "successfuly imported punting stats for the cleveland-browns\n",
      "successfuly imported kicking stats for the cleveland-browns\n",
      "successfuly imported kickoff stats for the cleveland-browns\n",
      "successfuly imported defense stats for the cleveland-browns\n",
      "successfuly imported passing stats for the pittsburgh-steelers\n",
      "successfuly imported rushing stats for the pittsburgh-steelers\n",
      "successfuly imported receiving stats for the pittsburgh-steelers\n",
      "successfuly imported kick return stats for the pittsburgh-steelers\n",
      "successfuly imported punt return stats for the pittsburgh-steelers\n",
      "successfuly imported punting stats for the pittsburgh-steelers\n",
      "successfuly imported kicking stats for the pittsburgh-steelers\n",
      "successfuly imported kickoff stats for the pittsburgh-steelers\n",
      "successfuly imported defense stats for the pittsburgh-steelers\n",
      "successfuly imported passing stats for the houston-texans\n",
      "successfuly imported rushing stats for the houston-texans\n",
      "successfuly imported receiving stats for the houston-texans\n",
      "successfuly imported kick return stats for the houston-texans\n",
      "successfuly imported punt return stats for the houston-texans\n",
      "successfuly imported punting stats for the houston-texans\n",
      "successfuly imported kicking stats for the houston-texans\n",
      "successfuly imported kickoff stats for the houston-texans\n",
      "successfuly imported defense stats for the houston-texans\n",
      "successfuly imported passing stats for the indianapolis-colts\n",
      "successfuly imported rushing stats for the indianapolis-colts\n",
      "successfuly imported receiving stats for the indianapolis-colts\n",
      "successfuly imported kick return stats for the indianapolis-colts\n",
      "successfuly imported punt return stats for the indianapolis-colts\n",
      "successfuly imported punting stats for the indianapolis-colts\n",
      "successfuly imported kicking stats for the indianapolis-colts\n",
      "successfuly imported kickoff stats for the indianapolis-colts\n",
      "successfuly imported defense stats for the indianapolis-colts\n",
      "successfuly imported passing stats for the jacksonville-jaguars\n",
      "successfuly imported rushing stats for the jacksonville-jaguars\n",
      "successfuly imported receiving stats for the jacksonville-jaguars\n",
      "successfuly imported kick return stats for the jacksonville-jaguars\n",
      "successfuly imported punt return stats for the jacksonville-jaguars\n",
      "successfuly imported punting stats for the jacksonville-jaguars\n",
      "successfuly imported kicking stats for the jacksonville-jaguars\n",
      "successfuly imported kickoff stats for the jacksonville-jaguars\n",
      "successfuly imported defense stats for the jacksonville-jaguars\n",
      "successfuly imported passing stats for the tennessee-titans\n",
      "successfuly imported rushing stats for the tennessee-titans\n",
      "successfuly imported receiving stats for the tennessee-titans\n",
      "successfuly imported kick return stats for the tennessee-titans\n",
      "successfuly imported punt return stats for the tennessee-titans\n",
      "successfuly imported punting stats for the tennessee-titans\n",
      "successfuly imported kicking stats for the tennessee-titans\n",
      "successfuly imported kickoff stats for the tennessee-titans\n",
      "successfuly imported defense stats for the tennessee-titans\n",
      "successfuly imported passing stats for the denver-broncos\n",
      "successfuly imported rushing stats for the denver-broncos\n",
      "successfuly imported receiving stats for the denver-broncos\n",
      "successfuly imported kick return stats for the denver-broncos\n",
      "successfuly imported punt return stats for the denver-broncos\n",
      "successfuly imported punting stats for the denver-broncos\n",
      "successfuly imported kicking stats for the denver-broncos\n",
      "successfuly imported kickoff stats for the denver-broncos\n",
      "successfuly imported defense stats for the denver-broncos\n",
      "successfuly imported passing stats for the kansas-city-chiefs\n",
      "successfuly imported rushing stats for the kansas-city-chiefs\n",
      "successfuly imported receiving stats for the kansas-city-chiefs\n",
      "successfuly imported kick return stats for the kansas-city-chiefs\n",
      "successfuly imported punt return stats for the kansas-city-chiefs\n",
      "successfuly imported punting stats for the kansas-city-chiefs\n",
      "successfuly imported kicking stats for the kansas-city-chiefs\n",
      "successfuly imported kickoff stats for the kansas-city-chiefs\n",
      "successfuly imported defense stats for the kansas-city-chiefs\n",
      "successfuly imported passing stats for the los-angeles-chargers\n",
      "successfuly imported rushing stats for the los-angeles-chargers\n",
      "successfuly imported receiving stats for the los-angeles-chargers\n",
      "successfuly imported kick return stats for the los-angeles-chargers\n",
      "successfuly imported punt return stats for the los-angeles-chargers\n",
      "successfuly imported punting stats for the los-angeles-chargers\n",
      "successfuly imported kicking stats for the los-angeles-chargers\n",
      "successfuly imported kickoff stats for the los-angeles-chargers\n",
      "successfuly imported defense stats for the los-angeles-chargers\n",
      "successfuly imported passing stats for the oakland-raiders\n",
      "successfuly imported rushing stats for the oakland-raiders\n",
      "successfuly imported receiving stats for the oakland-raiders\n",
      "successfuly imported kick return stats for the oakland-raiders\n",
      "successfuly imported punt return stats for the oakland-raiders\n",
      "successfuly imported punting stats for the oakland-raiders\n",
      "successfuly imported kicking stats for the oakland-raiders\n",
      "successfuly imported kickoff stats for the oakland-raiders\n",
      "successfuly imported defense stats for the oakland-raiders\n",
      "successfuly imported passing stats for the dallas-cowboys\n",
      "successfuly imported rushing stats for the dallas-cowboys\n",
      "successfuly imported receiving stats for the dallas-cowboys\n",
      "successfuly imported kick return stats for the dallas-cowboys\n",
      "successfuly imported punt return stats for the dallas-cowboys\n",
      "successfuly imported punting stats for the dallas-cowboys\n",
      "successfuly imported kicking stats for the dallas-cowboys\n",
      "successfuly imported kickoff stats for the dallas-cowboys\n",
      "successfuly imported defense stats for the dallas-cowboys\n",
      "successfuly imported passing stats for the new-york-giants\n",
      "successfuly imported rushing stats for the new-york-giants\n",
      "successfuly imported receiving stats for the new-york-giants\n",
      "successfuly imported kick return stats for the new-york-giants\n",
      "successfuly imported punt return stats for the new-york-giants\n",
      "successfuly imported punting stats for the new-york-giants\n",
      "successfuly imported kicking stats for the new-york-giants\n",
      "successfuly imported kickoff stats for the new-york-giants\n",
      "successfuly imported defense stats for the new-york-giants\n",
      "successfuly imported passing stats for the philadelphia-eagles\n",
      "successfuly imported rushing stats for the philadelphia-eagles\n",
      "successfuly imported receiving stats for the philadelphia-eagles\n",
      "successfuly imported kick return stats for the philadelphia-eagles\n",
      "successfuly imported punt return stats for the philadelphia-eagles\n",
      "successfuly imported punting stats for the philadelphia-eagles\n",
      "successfuly imported kicking stats for the philadelphia-eagles\n",
      "successfuly imported kickoff stats for the philadelphia-eagles\n",
      "successfuly imported defense stats for the philadelphia-eagles\n",
      "successfuly imported passing stats for the washington-redskins\n",
      "successfuly imported rushing stats for the washington-redskins\n",
      "successfuly imported receiving stats for the washington-redskins\n",
      "successfuly imported kick return stats for the washington-redskins\n",
      "successfuly imported punt return stats for the washington-redskins\n",
      "successfuly imported punting stats for the washington-redskins\n",
      "successfuly imported kicking stats for the washington-redskins\n",
      "successfuly imported kickoff stats for the washington-redskins\n",
      "successfuly imported defense stats for the washington-redskins\n",
      "successfuly imported passing stats for the chicago-bears\n",
      "successfuly imported rushing stats for the chicago-bears\n",
      "successfuly imported receiving stats for the chicago-bears\n",
      "successfuly imported kick return stats for the chicago-bears\n",
      "successfuly imported punt return stats for the chicago-bears\n",
      "successfuly imported punting stats for the chicago-bears\n",
      "successfuly imported kicking stats for the chicago-bears\n",
      "successfuly imported kickoff stats for the chicago-bears\n",
      "successfuly imported defense stats for the chicago-bears\n",
      "successfuly imported passing stats for the detroit-lions\n",
      "successfuly imported rushing stats for the detroit-lions\n",
      "successfuly imported receiving stats for the detroit-lions\n",
      "successfuly imported kick return stats for the detroit-lions\n",
      "successfuly imported punt return stats for the detroit-lions\n",
      "successfuly imported punting stats for the detroit-lions\n",
      "successfuly imported kicking stats for the detroit-lions\n",
      "successfuly imported kickoff stats for the detroit-lions\n",
      "successfuly imported defense stats for the detroit-lions\n",
      "successfuly imported passing stats for the green-bay-packers\n",
      "successfuly imported rushing stats for the green-bay-packers\n",
      "successfuly imported receiving stats for the green-bay-packers\n",
      "successfuly imported kick return stats for the green-bay-packers\n",
      "successfuly imported punt return stats for the green-bay-packers\n",
      "successfuly imported punting stats for the green-bay-packers\n",
      "successfuly imported kicking stats for the green-bay-packers\n",
      "successfuly imported kickoff stats for the green-bay-packers\n",
      "successfuly imported defense stats for the green-bay-packers\n",
      "successfuly imported passing stats for the minnesota-vikings\n",
      "successfuly imported rushing stats for the minnesota-vikings\n",
      "successfuly imported receiving stats for the minnesota-vikings\n",
      "successfuly imported kick return stats for the minnesota-vikings\n",
      "successfuly imported punt return stats for the minnesota-vikings\n",
      "successfuly imported punting stats for the minnesota-vikings\n",
      "successfuly imported kicking stats for the minnesota-vikings\n",
      "successfuly imported kickoff stats for the minnesota-vikings\n",
      "successfuly imported defense stats for the minnesota-vikings\n",
      "successfuly imported passing stats for the atlanta-falcons\n",
      "successfuly imported rushing stats for the atlanta-falcons\n",
      "successfuly imported receiving stats for the atlanta-falcons\n",
      "successfuly imported kick return stats for the atlanta-falcons\n",
      "successfuly imported punt return stats for the atlanta-falcons\n",
      "successfuly imported punting stats for the atlanta-falcons\n",
      "successfuly imported kicking stats for the atlanta-falcons\n",
      "successfuly imported kickoff stats for the atlanta-falcons\n",
      "successfuly imported defense stats for the atlanta-falcons\n",
      "successfuly imported passing stats for the carolina-panthers\n",
      "successfuly imported rushing stats for the carolina-panthers\n",
      "successfuly imported receiving stats for the carolina-panthers\n",
      "successfuly imported kick return stats for the carolina-panthers\n",
      "successfuly imported punt return stats for the carolina-panthers\n",
      "successfuly imported punting stats for the carolina-panthers\n",
      "successfuly imported kicking stats for the carolina-panthers\n",
      "successfuly imported kickoff stats for the carolina-panthers\n",
      "successfuly imported defense stats for the carolina-panthers\n",
      "successfuly imported passing stats for the new-orleans-saints\n",
      "successfuly imported rushing stats for the new-orleans-saints\n",
      "successfuly imported receiving stats for the new-orleans-saints\n",
      "successfuly imported kick return stats for the new-orleans-saints\n",
      "successfuly imported punt return stats for the new-orleans-saints\n",
      "successfuly imported punting stats for the new-orleans-saints\n",
      "successfuly imported kicking stats for the new-orleans-saints\n",
      "successfuly imported kickoff stats for the new-orleans-saints\n",
      "successfuly imported defense stats for the new-orleans-saints\n",
      "successfuly imported passing stats for the tampa-bay-buccaneers\n",
      "successfuly imported rushing stats for the tampa-bay-buccaneers\n",
      "successfuly imported receiving stats for the tampa-bay-buccaneers\n",
      "successfuly imported kick return stats for the tampa-bay-buccaneers\n",
      "successfuly imported punt return stats for the tampa-bay-buccaneers\n",
      "successfuly imported punting stats for the tampa-bay-buccaneers\n",
      "successfuly imported kicking stats for the tampa-bay-buccaneers\n",
      "successfuly imported kickoff stats for the tampa-bay-buccaneers\n",
      "successfuly imported defense stats for the tampa-bay-buccaneers\n",
      "successfuly imported passing stats for the arizona-cardinals\n",
      "successfuly imported rushing stats for the arizona-cardinals\n",
      "successfuly imported receiving stats for the arizona-cardinals\n",
      "successfuly imported kick return stats for the arizona-cardinals\n",
      "successfuly imported punt return stats for the arizona-cardinals\n",
      "successfuly imported punting stats for the arizona-cardinals\n",
      "successfuly imported kicking stats for the arizona-cardinals\n",
      "successfuly imported kickoff stats for the arizona-cardinals\n",
      "successfuly imported defense stats for the arizona-cardinals\n",
      "successfuly imported passing stats for the los-angeles-rams\n",
      "successfuly imported rushing stats for the los-angeles-rams\n",
      "successfuly imported receiving stats for the los-angeles-rams\n",
      "successfuly imported kick return stats for the los-angeles-rams\n",
      "successfuly imported punt return stats for the los-angeles-rams\n",
      "successfuly imported punting stats for the los-angeles-rams\n",
      "successfuly imported kicking stats for the los-angeles-rams\n",
      "successfuly imported kickoff stats for the los-angeles-rams\n",
      "successfuly imported defense stats for the los-angeles-rams\n",
      "successfuly imported passing stats for the san-francisco-49ers\n",
      "successfuly imported rushing stats for the san-francisco-49ers\n",
      "successfuly imported receiving stats for the san-francisco-49ers\n",
      "successfuly imported kick return stats for the san-francisco-49ers\n",
      "successfuly imported punt return stats for the san-francisco-49ers\n",
      "successfuly imported punting stats for the san-francisco-49ers\n",
      "successfuly imported kicking stats for the san-francisco-49ers\n",
      "successfuly imported kickoff stats for the san-francisco-49ers\n",
      "successfuly imported defense stats for the san-francisco-49ers\n"
     ]
    }
   ],
   "source": [
    "#all stats\n",
    "\n",
    "for i in range(0, len(teams_list_clean)):\n",
    "    url = 'http://www.footballdb.com/teams/nfl/' + teams_list_clean[i] + '/stats'\n",
    "    page = urllib.urlopen(url)\n",
    "    soup = BeautifulSoup(page, 'html.parser')\n",
    "    all = soup.find_all('td')\n",
    "    \n",
    "    #passing\n",
    "    \n",
    "    passing_html = soup.find('div', attrs = {'class': 'divToggle_offense', 'id': 'divToggle_P'})\n",
    "    passing_players = str(passing_html).count('/players/') / 2\n",
    "    passing_count = int(14 * ((str(passing_html).count('/players/') / 2) + 2))\n",
    "    \n",
    "    passing = all[0:passing_count]\n",
    "    passing_clean = []\n",
    "    \n",
    "    for x in range(0, len(passing)):\n",
    "        passing_clean.append(re.sub('<[^<]+?>', '', str(passing[x])))\n",
    "    \n",
    "    passing_df2 = pd.DataFrame(np.array(passing_clean).reshape(passing_players + 2, len(passing_cols)), columns = passing_cols)\n",
    "    passing_df2['team'] = teams_list_clean[i]\n",
    "    passing_df = passing_df.append(passing_df2)\n",
    "    \n",
    "    print('successfuly imported passing stats for the ' + teams_list_clean[i])\n",
    "    \n",
    "    #rushing\n",
    "    \n",
    "    rushing_html = soup.find('div', attrs = {'class': 'divToggle_offense', 'id': 'divToggle_R'})\n",
    "    rushing_players = str(rushing_html).count('/players/') / 2\n",
    "    rushing_count = int(9 * ((str(rushing_html).count('/players/') / 2) + 2))\n",
    "    \n",
    "    rushing = all[passing_count:rushing_count + passing_count] #update this\n",
    "    rushing_clean = []\n",
    "    \n",
    "    for x in range(0, len(rushing)):\n",
    "        rushing_clean.append(re.sub('<[^<]+?>', '', str(rushing[x])))\n",
    "        \n",
    "    rushing_df2 = pd.DataFrame(np.array(rushing_clean).reshape(rushing_players + 2, len(rushing_cols)), columns = rushing_cols)\n",
    "    rushing_df2['team'] = teams_list_clean[i]\n",
    "    rushing_df = rushing_df.append(rushing_df2)\n",
    "    \n",
    "    print('successfuly imported rushing stats for the ' + teams_list_clean[i])\n",
    "    \n",
    "    #receiving\n",
    "    \n",
    "    receiving_html = soup.find('div', attrs = {'class': 'divToggle_offense', 'id': 'divToggle_C'})\n",
    "    receiving_players = str(receiving_html).count('/players/') / 2\n",
    "    receiving_count = int(11 * ((str(receiving_html).count('/players/') / 2) + 2))\n",
    "    \n",
    "    receiving = all[passing_count + rushing_count:receiving_count + rushing_count + passing_count]\n",
    "    receiving_clean = []\n",
    "    \n",
    "    for x in range(0, len(receiving)):\n",
    "        receiving_clean.append(re.sub('<[^<]+?>', '', str(receiving[x])))\n",
    "\n",
    "    receiving_df2 = pd.DataFrame(np.array(receiving_clean).reshape(receiving_players + 2, len(receiving_cols)), columns = receiving_cols)\n",
    "    receiving_df2['team'] = teams_list_clean[i]\n",
    "    receiving_df = receiving_df.append(receiving_df2)\n",
    "    \n",
    "    print('successfuly imported receiving stats for the ' + teams_list_clean[i])\n",
    "    \n",
    "    #kick returns\n",
    "    \n",
    "    kick_returns_html = soup.find('div', attrs = {'class': 'divToggle_special hidden-xs', 'id': 'divToggle_KR'})\n",
    "    kick_returns_players = str(kick_returns_html).count('/players/') / 2\n",
    "    kick_returns_count = int(7 * ((str(kick_returns_html).count('/players/') / 2) + 2))\n",
    "    \n",
    "    kick_returns = all[passing_count + rushing_count + receiving_count:kick_returns_count + receiving_count + rushing_count + passing_count]\n",
    "    kick_returns_clean = []\n",
    "    \n",
    "    for x in range(0, len(kick_returns)):\n",
    "        kick_returns_clean.append(re.sub('<[^<]+?>', '', str(kick_returns[x])))\n",
    "\n",
    "    kick_returns_df2 = pd.DataFrame(np.array(kick_returns_clean).reshape(kick_returns_players + 2, len(kick_returns_cols)), columns = kick_returns_cols)\n",
    "    kick_returns_df2['team'] = teams_list_clean[i]\n",
    "    kick_returns_df = kick_returns_df.append(kick_returns_df2)\n",
    "    \n",
    "    print('successfuly imported kick return stats for the ' + teams_list_clean[i])\n",
    "    \n",
    "    #punt returns\n",
    "    \n",
    "    punt_returns_html = soup.find('div', attrs = {'class': 'divToggle_special hidden-xs', 'id': 'divToggle_PR'})\n",
    "    punt_returns_players = str(punt_returns_html).count('/players/') / 2\n",
    "    punt_returns_count = int(7 * ((str(punt_returns_html).count('/players/') / 2) + 2))\n",
    "    \n",
    "    punt_returns = all[passing_count + rushing_count + receiving_count + kick_returns_count:punt_returns_count + kick_returns_count + receiving_count + rushing_count + passing_count]\n",
    "    punt_returns_clean = []\n",
    "    \n",
    "    for x in range(0, len(punt_returns)):\n",
    "        punt_returns_clean.append(re.sub('<[^<]+?>', '', str(punt_returns[x])))\n",
    "        \n",
    "    punt_returns_df2 = pd.DataFrame(np.array(punt_returns_clean).reshape(punt_returns_players + 2, len(punt_returns_cols)), columns = punt_returns_cols)\n",
    "    punt_returns_df2['team'] = teams_list_clean[i]\n",
    "    punt_returns_df = punt_returns_df.append(punt_returns_df2)\n",
    "    \n",
    "    print('successfuly imported punt return stats for the ' + teams_list_clean[i])\n",
    "    \n",
    "    #punting\n",
    "    \n",
    "    punts_html = soup.find('div', attrs = {'class': 'divToggle_special hidden-xs', 'id': 'divToggle_PR'})\n",
    "    punts_players = str(punt_returns_html).count('/players/') / 2\n",
    "    punts_count = int(15 * ((str(punt_returns_html).count('/players/') / 2) + 2))\n",
    "    \n",
    "    punts = all[passing_count + rushing_count + receiving_count + kick_returns_count + punt_returns_count:punts_count + punt_returns_count + kick_returns_count + receiving_count + rushing_count + passing_count]\n",
    "    punts_clean = []\n",
    "    \n",
    "    for x in range(0, len(punts)):\n",
    "        punts_clean.append(re.sub('<[^<]+?>', '', str(punts[x])))\n",
    "        \n",
    "    punts_df2 = pd.DataFrame(np.array(punts_clean).reshape(punts_players + 2, len(punts_cols)), columns = punts_cols)\n",
    "    punts_df2['team'] = teams_list_clean[i]\n",
    "    punts_df = punts_df.append(punts_df2)\n",
    "    \n",
    "    print('successfuly imported punting stats for the ' + teams_list_clean[i])\n",
    "    \n",
    "    #kicking\n",
    "    \n",
    "    kicking_html = soup.find('div', attrs = {'class': 'divToggle_special hidden-xs', 'id': 'divToggle_U'})\n",
    "    kicking_players = str(kicking_html).count('/players/') / 2\n",
    "    kicking_count = int(10 * ((str(kicking_html).count('/players/') / 2) + 2))\n",
    "    \n",
    "    kicking = all[passing_count + rushing_count + receiving_count + kick_returns_count + punt_returns_count + punts_count:kicking_count + punts_count + punt_returns_count + kick_returns_count + receiving_count + rushing_count + passing_count]\n",
    "    kicking_clean = []\n",
    "    \n",
    "    for x in range(0, len(kicking)):\n",
    "        kicking_clean.append(re.sub('<[^<]+?>', '', str(kicking[x])))\n",
    "        \n",
    "    kicking_df2 = pd.DataFrame(np.array(kicking_clean).reshape(kicking_players + 2, len(kicking_cols)), columns = kicking_cols)\n",
    "    kicking_df2['team'] = teams_list_clean[i]\n",
    "    kicking_df = kicking_df.append(kicking_df2)\n",
    "    \n",
    "    print('successfuly imported kicking stats for the ' + teams_list_clean[i])\n",
    "    \n",
    "    #kickoffs\n",
    "    \n",
    "    kickoffs_html = soup.find('div', attrs = {'class': 'divToggle_special hidden-xs', 'id': 'divToggle_O'})\n",
    "    kickoffs_players = str(kickoffs_html).count('/players/') / 2\n",
    "    kickoffs_count = int(12 * ((str(kickoffs_html).count('/players/') / 2) + 2))\n",
    "    \n",
    "    kickoffs = all[passing_count + rushing_count + receiving_count + kick_returns_count + punt_returns_count + punts_count + kicking_count:kickoffs_count + kicking_count + punts_count + punt_returns_count + kick_returns_count + receiving_count + rushing_count + passing_count]\n",
    "    kickoffs_clean = []\n",
    "    \n",
    "    for x in range(0, len(kickoffs)):\n",
    "        kickoffs_clean.append(re.sub('<[^<]+?>', '', str(kickoffs[x])))\n",
    "        \n",
    "    kickoffs_df2 = pd.DataFrame(np.array(kickoffs_clean).reshape(kickoffs_players + 2, len(kickoffs_cols)), columns = kickoffs_cols)\n",
    "    kickoffs_df2['team'] = teams_list_clean[i]\n",
    "    kickoffs_df = kickoffs_df.append(kickoffs_df2)\n",
    "    \n",
    "    print('successfuly imported kickoff stats for the ' + teams_list_clean[i])\n",
    "    \n",
    "    #defense\n",
    "    \n",
    "    defense_html = soup.find('div', attrs = {'class': 'divToggle_defense hidden-xs', 'id': 'divToggle_D'})\n",
    "    defense_players = str(defense_html).count('/players/') / 2\n",
    "    defense_count = int(11 * ((str(defense_html).count('/players/') / 2) + 2))\n",
    "    \n",
    "    defense = all[passing_count + rushing_count + receiving_count + kick_returns_count + punt_returns_count + punts_count + kicking_count + kickoffs_count:defense_count + kickoffs_count + kicking_count + punts_count + punt_returns_count + kick_returns_count + receiving_count + rushing_count + passing_count]\n",
    "    defense_clean = []\n",
    "    \n",
    "    for x in range(0, len(defense)):\n",
    "        defense_clean.append(re.sub('<[^<]+?>', '', str(defense[x])))\n",
    "        \n",
    "    defense_df2 = pd.DataFrame(np.array(defense_clean).reshape(defense_players + 2, len(defense_cols)), columns = defense_cols)\n",
    "    defense_df2['team'] = teams_list_clean[i]\n",
    "    defense_df = defense_df.append(defense_df2)\n",
    "    \n",
    "    print('successfuly imported defense stats for the ' + teams_list_clean[i])"
   ]
  },
  {
   "cell_type": "code",
   "execution_count": null,
   "metadata": {
    "collapsed": true
   },
   "outputs": [],
   "source": [
    "#output to csv files\n",
    "\n",
    "passing_df.to_csv('nfl_passing.csv')\n",
    "rushing_df.to_csv('nfl.rushing.csv')\n",
    "receiving_df.to_csv('nfl_receiving.csv')\n",
    "kick_returns_df.to_csv('nfl_kick_returns.csv')\n",
    "punt_returns_df.to_csv('nfl_punt_returns.csv')\n",
    "kicking_df.to_csv('nfl_kicking.csv')\n",
    "kickoffs_df.to_csv('nfl_kickoff.csv')\n",
    "defense_df.to_csv('nfl_defense.csv')"
   ]
  },
  {
   "cell_type": "code",
   "execution_count": 104,
   "metadata": {
    "collapsed": true
   },
   "outputs": [],
   "source": [
    "#all code below was used for testing (more output to understand what is going on)\n",
    "\n",
    "url = 'http://www.footballdb.com/teams/nfl/san-francisco-49ers/stats'"
   ]
  },
  {
   "cell_type": "code",
   "execution_count": 105,
   "metadata": {
    "collapsed": true
   },
   "outputs": [],
   "source": [
    "page = urllib.urlopen(url)"
   ]
  },
  {
   "cell_type": "code",
   "execution_count": 106,
   "metadata": {
    "collapsed": false
   },
   "outputs": [
    {
     "name": "stdout",
     "output_type": "stream",
     "text": [
      "<!DOCTYPE html>\n",
      "<html lang=\"en\">\n",
      " <head>\n",
      "  <meta charset=\"utf-8\"/>\n",
      "  <meta content=\"IE=edge\" http-equiv=\"X-UA-Compatible\"/>\n",
      "  <meta content=\"initial-scale=1.0, width=device-width\" name=\"viewport\"/>\n",
      "  <title>\n",
      "   San Francisco 49ers Statistics | The Football Database\n",
      "  </title>\n",
      "  <meta content=\"San Francisco 49ers stats and statistics for the 2017 NFL season, including rushing, passing, receiving, kickoff returns, punt returns, punting, kicking and defense\" name=\"description\"/>\n",
      "  <meta content=\"index,follow\" name=\"robots\"/>\n",
      "  <meta content=\"FootballDB.com\" property=\"og:site_name\">\n",
      "   <meta content=\"San Francisco 49ers Statistics | The Football Database\" property=\"og:title\"/>\n",
      "   <meta content=\"website\" property=\"og:type\"/>\n",
      "   <meta content=\"San Francisco 49ers stats and statistics for the 2017 NFL season, including rushing, passing, receiving, kickoff returns, punt returns, punting, kicking and defense\" property=\"og:description\"/>\n",
      "   <meta content=\"http://www.footballdb.com/images/footbal\n"
     ]
    }
   ],
   "source": [
    "soup = BeautifulSoup(page, 'html.parser')\n",
    "print(soup.prettify()[0:1000])"
   ]
  },
  {
   "cell_type": "code",
   "execution_count": 107,
   "metadata": {
    "collapsed": false
   },
   "outputs": [
    {
     "data": {
      "text/plain": [
       "<div class=\"divToggle_offense\" id=\"divToggle_P\">\\n<a name=\"p\"></a>\\n<h2>Passing</h2>\\n<table class=\"statistics scrollable\">\\n<thead>\\n<tr class=\"header right\">\\n<th class=\"left\" width=\"120\">Player</th>\\n<th>Att</th>\\n<th>Cmp</th>\\n<th>Pct</th>\\n<th>Yds</th>\\n<th>YPA</th>\\n<th>TD</th>\\n<th>TD%</th>\\n<th>Int</th>\\n<th>Int%</th>\\n<th>Lg</th>\\n<th>Sack</th>\\n<th>Loss</th>\\n<th>Rate</th>\\n</tr>\\n</thead>\\n<tbody>\\n<tr class=\"row0 right\">\\n<td class=\"left\"><span class=\"hidden-xs\"><a href=\"/players/cj-beathard-beathcj01\">C.J. Beathard</a></span><span class=\"visible-xs\"><a href=\"/players/cj-beathard-beathcj01\">C.\\xa0Beathard</a></span></td><td>224</td><td>123</td><td>54.9</td><td>1,430</td><td>6.4</td><td>4</td><td>1.8</td><td>6</td><td>2.7</td><td>83t</td><td>19</td><td>141</td><td>69.2</td></tr>\\n<tr class=\"row0 right\">\\n<td class=\"left\"><span class=\"hidden-xs\"><a href=\"/players/jimmy-garoppolo-garopji01\">Jimmy Garoppolo</a></span><span class=\"visible-xs\"><a href=\"/players/jimmy-garoppolo-garopji01\">J.\\xa0Garoppolo</a></span></td><td>145</td><td>100</td><td>69.0</td><td>1,268</td><td>8.7</td><td>5</td><td>3.4</td><td>3</td><td>2.1</td><td>61</td><td>8</td><td>57</td><td>98.9</td></tr>\\n<tr class=\"row0 right\">\\n<td class=\"left\"><span class=\"hidden-xs\"><a href=\"/players/brian-hoyer-hoyerbr01\">Brian Hoyer</a></span><span class=\"visible-xs\"><a href=\"/players/brian-hoyer-hoyerbr01\">B.\\xa0Hoyer</a></span></td><td>205</td><td>119</td><td>58.0</td><td>1,245</td><td>6.1</td><td>4</td><td>2.0</td><td>4</td><td>2.0</td><td>59</td><td>16</td><td>112</td><td>74.1</td></tr>\\n<tr class=\"header right\">\\n<td class=\"left\">San Francisco</td><td>574</td><td>342</td><td>59.6</td><td>3,943</td><td>6.9</td><td>13</td><td>2.3</td><td>13</td><td>2.3</td><td>83t</td><td>43</td><td>310</td><td>78.5</td></tr>\\n<tr class=\"header right\">\\n<td class=\"left\">Opponents</td><td>510</td><td>324</td><td>63.5</td><td>3,774</td><td>7.4</td><td>27</td><td>5.3</td><td>10</td><td>2.0</td><td>72t</td><td>27</td><td>159</td><td>95.3</td></tr>\\n</tbody>\\n</table>\\n</div>"
      ]
     },
     "execution_count": 107,
     "metadata": {},
     "output_type": "execute_result"
    }
   ],
   "source": [
    "passing_html = soup.find('div', attrs = {'class': 'divToggle_offense', 'id': 'divToggle_P'})\n",
    "passing_html"
   ]
  },
  {
   "cell_type": "code",
   "execution_count": 108,
   "metadata": {
    "collapsed": false
   },
   "outputs": [
    {
     "data": {
      "text/plain": [
       "70"
      ]
     },
     "execution_count": 108,
     "metadata": {},
     "output_type": "execute_result"
    }
   ],
   "source": [
    "#calculate number of players and total values\n",
    "\n",
    "passing_players = str(passing_html).count('/players/') / 2\n",
    "passing_count = int(14 * ((str(passing_html).count('/players/') / 2) + 2))\n",
    "passing_count"
   ]
  },
  {
   "cell_type": "code",
   "execution_count": 109,
   "metadata": {
    "collapsed": false
   },
   "outputs": [
    {
     "name": "stdout",
     "output_type": "stream",
     "text": [
      "<type 'int'>\n"
     ]
    }
   ],
   "source": [
    "print(type(passing_count))"
   ]
  },
  {
   "cell_type": "code",
   "execution_count": 110,
   "metadata": {
    "collapsed": false
   },
   "outputs": [
    {
     "data": {
      "text/plain": [
       "[<td class=\"left\"><span class=\"hidden-xs\"><a href=\"/players/cj-beathard-beathcj01\">C.J. Beathard</a></span><span class=\"visible-xs\"><a href=\"/players/cj-beathard-beathcj01\">C.\\xa0Beathard</a></span></td>,\n",
       " <td>224</td>,\n",
       " <td>123</td>,\n",
       " <td>54.9</td>,\n",
       " <td>1,430</td>,\n",
       " <td>6.4</td>,\n",
       " <td>4</td>,\n",
       " <td>1.8</td>,\n",
       " <td>6</td>,\n",
       " <td>2.7</td>,\n",
       " <td>83t</td>,\n",
       " <td>19</td>,\n",
       " <td>141</td>,\n",
       " <td>69.2</td>,\n",
       " <td class=\"left\"><span class=\"hidden-xs\"><a href=\"/players/jimmy-garoppolo-garopji01\">Jimmy Garoppolo</a></span><span class=\"visible-xs\"><a href=\"/players/jimmy-garoppolo-garopji01\">J.\\xa0Garoppolo</a></span></td>,\n",
       " <td>145</td>,\n",
       " <td>100</td>,\n",
       " <td>69.0</td>,\n",
       " <td>1,268</td>,\n",
       " <td>8.7</td>,\n",
       " <td>5</td>,\n",
       " <td>3.4</td>,\n",
       " <td>3</td>,\n",
       " <td>2.1</td>,\n",
       " <td>61</td>,\n",
       " <td>8</td>,\n",
       " <td>57</td>,\n",
       " <td>98.9</td>,\n",
       " <td class=\"left\"><span class=\"hidden-xs\"><a href=\"/players/brian-hoyer-hoyerbr01\">Brian Hoyer</a></span><span class=\"visible-xs\"><a href=\"/players/brian-hoyer-hoyerbr01\">B.\\xa0Hoyer</a></span></td>,\n",
       " <td>205</td>,\n",
       " <td>119</td>,\n",
       " <td>58.0</td>,\n",
       " <td>1,245</td>,\n",
       " <td>6.1</td>,\n",
       " <td>4</td>,\n",
       " <td>2.0</td>,\n",
       " <td>4</td>,\n",
       " <td>2.0</td>,\n",
       " <td>59</td>,\n",
       " <td>16</td>,\n",
       " <td>112</td>,\n",
       " <td>74.1</td>,\n",
       " <td class=\"left\">San Francisco</td>,\n",
       " <td>574</td>,\n",
       " <td>342</td>,\n",
       " <td>59.6</td>,\n",
       " <td>3,943</td>,\n",
       " <td>6.9</td>,\n",
       " <td>13</td>,\n",
       " <td>2.3</td>,\n",
       " <td>13</td>,\n",
       " <td>2.3</td>,\n",
       " <td>83t</td>,\n",
       " <td>43</td>,\n",
       " <td>310</td>,\n",
       " <td>78.5</td>,\n",
       " <td class=\"left\">Opponents</td>,\n",
       " <td>510</td>,\n",
       " <td>324</td>,\n",
       " <td>63.5</td>,\n",
       " <td>3,774</td>,\n",
       " <td>7.4</td>,\n",
       " <td>27</td>,\n",
       " <td>5.3</td>,\n",
       " <td>10</td>,\n",
       " <td>2.0</td>,\n",
       " <td>72t</td>,\n",
       " <td>27</td>,\n",
       " <td>159</td>,\n",
       " <td>95.3</td>]"
      ]
     },
     "execution_count": 110,
     "metadata": {},
     "output_type": "execute_result"
    }
   ],
   "source": [
    "all = soup.find_all('td')\n",
    "passing = all[0:passing_count]\n",
    "passing"
   ]
  },
  {
   "cell_type": "code",
   "execution_count": 111,
   "metadata": {
    "collapsed": false
   },
   "outputs": [
    {
     "data": {
      "text/plain": [
       "<div class=\"divToggle_offense\" id=\"divToggle_R\">\\n<a name=\"r\"></a>\\n<h2>Rushing</h2>\\n<table class=\"statistics scrollable\">\\n<thead>\\n<tr class=\"header right\"><th class=\"left\" width=\"120\">Player</th><th>Gms</th><th>Att</th><th>Yds</th><th>Avg</th><th>YPG</th><th>Lg</th><th>TD</th><th>FD</th></tr>\\n</thead>\\n<tbody>\\n<tr class=\"row0 right\">\\n<td class=\"left\"><span class=\"hidden-xs\"><a href=\"/players/carlos-hyde-hydeca01\">Carlos Hyde</a></span><span class=\"visible-xs\"><a href=\"/players/carlos-hyde-hydeca01\">C.\\xa0Hyde</a></span></td><td>15</td><td>225</td><td>850</td><td>3.78</td><td>56.7</td><td>61</td><td>6</td><td>39</td></tr>\\n<tr class=\"row0 right\">\\n<td class=\"left\"><span class=\"hidden-xs\"><a href=\"/players/matt-breida-breidma01\">Matt Breida</a></span><span class=\"visible-xs\"><a href=\"/players/matt-breida-breidma01\">M.\\xa0Breida</a></span></td><td>15</td><td>93</td><td>393</td><td>4.23</td><td>26.2</td><td>33t</td><td>2</td><td>18</td></tr>\\n<tr class=\"row0 right\">\\n<td class=\"left\"><span class=\"hidden-xs\"><a href=\"/players/cj-beathard-beathcj01\">C.J. Beathard</a></span><span class=\"visible-xs\"><a href=\"/players/cj-beathard-beathcj01\">C.\\xa0Beathard</a></span></td><td>7</td><td>26</td><td>136</td><td>5.23</td><td>19.4</td><td>16</td><td>3</td><td>9</td></tr>\\n<tr class=\"row0 right\">\\n<td class=\"left\"><span class=\"hidden-xs\"><a href=\"/players/marquise-goodwin-goodwma02\">Marquise Goodwin</a></span><span class=\"visible-xs\"><a href=\"/players/marquise-goodwin-goodwma02\">M.\\xa0Goodwin</a></span></td><td>15</td><td>3</td><td>34</td><td>11.33</td><td>2.3</td><td>18</td><td>0</td><td>2</td></tr>\\n<tr class=\"row0 right\">\\n<td class=\"left\"><span class=\"hidden-xs\"><a href=\"/players/kyle-juszczyk-juszcky01\">Kyle Juszczyk</a></span><span class=\"visible-xs\"><a href=\"/players/kyle-juszczyk-juszcky01\">K.\\xa0Juszczyk</a></span></td><td>13</td><td>7</td><td>31</td><td>4.43</td><td>2.4</td><td>12</td><td>0</td><td>4</td></tr>\\n<tr class=\"row0 right\">\\n<td class=\"left\"><span class=\"hidden-xs\"><a href=\"/players/raheem-mostert-mostera01\">Raheem Mostert</a></span><span class=\"visible-xs\"><a href=\"/players/raheem-mostert-mostera01\">R.\\xa0Mostert</a></span></td><td>11</td><td>6</td><td>30</td><td>5.00</td><td>2.7</td><td>16</td><td>0</td><td>1</td></tr>\\n<tr class=\"row0 right\">\\n<td class=\"left\"><span class=\"hidden-xs\"><a href=\"/players/jimmy-garoppolo-garopji01\">Jimmy Garoppolo</a></span><span class=\"visible-xs\"><a href=\"/players/jimmy-garoppolo-garopji01\">J.\\xa0Garoppolo</a></span></td><td>5</td><td>13</td><td>12</td><td>0.92</td><td>2.4</td><td>8</td><td>1</td><td>3</td></tr>\\n<tr class=\"row0 right\">\\n<td class=\"left\"><span class=\"hidden-xs\"><a href=\"/players/brian-hoyer-hoyerbr01\">Brian Hoyer</a></span><span class=\"visible-xs\"><a href=\"/players/brian-hoyer-hoyerbr01\">B.\\xa0Hoyer</a></span></td><td>6</td><td>5</td><td>7</td><td>1.40</td><td>1.2</td><td>9t</td><td>1</td><td>2</td></tr>\\n<tr class=\"header right\">\\n<td class=\"left\">San Francisco</td><td>15</td><td>378</td><td>1,493</td><td>3.95</td><td>99.5</td><td>61</td><td>13</td><td>78</td></tr>\\n<tr class=\"header right\">\\n<td class=\"left\">Opponents</td><td>15</td><td>465</td><td>1,759</td><td>3.78</td><td>117.3</td><td>45</td><td>12</td><td>102</td></tr>\\n</tbody>\\n</table>\\n</div>"
      ]
     },
     "execution_count": 111,
     "metadata": {},
     "output_type": "execute_result"
    }
   ],
   "source": [
    "rushing_html = soup.find('div', attrs = {'class': 'divToggle_offense', 'id': 'divToggle_R'})\n",
    "rushing_html"
   ]
  },
  {
   "cell_type": "code",
   "execution_count": 112,
   "metadata": {
    "collapsed": false
   },
   "outputs": [
    {
     "data": {
      "text/plain": [
       "90"
      ]
     },
     "execution_count": 112,
     "metadata": {},
     "output_type": "execute_result"
    }
   ],
   "source": [
    "rushing_players = str(rushing_html).count('/players/') / 2\n",
    "rushing_count = int(9 * ((str(rushing_html).count('/players/') / 2) + 2))\n",
    "rushing_count"
   ]
  },
  {
   "cell_type": "code",
   "execution_count": 113,
   "metadata": {
    "collapsed": false
   },
   "outputs": [
    {
     "data": {
      "text/plain": [
       "[<td class=\"left\"><span class=\"hidden-xs\"><a href=\"/players/carlos-hyde-hydeca01\">Carlos Hyde</a></span><span class=\"visible-xs\"><a href=\"/players/carlos-hyde-hydeca01\">C.\\xa0Hyde</a></span></td>,\n",
       " <td>15</td>,\n",
       " <td>225</td>,\n",
       " <td>850</td>,\n",
       " <td>3.78</td>,\n",
       " <td>56.7</td>,\n",
       " <td>61</td>,\n",
       " <td>6</td>,\n",
       " <td>39</td>,\n",
       " <td class=\"left\"><span class=\"hidden-xs\"><a href=\"/players/matt-breida-breidma01\">Matt Breida</a></span><span class=\"visible-xs\"><a href=\"/players/matt-breida-breidma01\">M.\\xa0Breida</a></span></td>,\n",
       " <td>15</td>,\n",
       " <td>93</td>,\n",
       " <td>393</td>,\n",
       " <td>4.23</td>,\n",
       " <td>26.2</td>,\n",
       " <td>33t</td>,\n",
       " <td>2</td>,\n",
       " <td>18</td>,\n",
       " <td class=\"left\"><span class=\"hidden-xs\"><a href=\"/players/cj-beathard-beathcj01\">C.J. Beathard</a></span><span class=\"visible-xs\"><a href=\"/players/cj-beathard-beathcj01\">C.\\xa0Beathard</a></span></td>,\n",
       " <td>7</td>,\n",
       " <td>26</td>,\n",
       " <td>136</td>,\n",
       " <td>5.23</td>,\n",
       " <td>19.4</td>,\n",
       " <td>16</td>,\n",
       " <td>3</td>,\n",
       " <td>9</td>,\n",
       " <td class=\"left\"><span class=\"hidden-xs\"><a href=\"/players/marquise-goodwin-goodwma02\">Marquise Goodwin</a></span><span class=\"visible-xs\"><a href=\"/players/marquise-goodwin-goodwma02\">M.\\xa0Goodwin</a></span></td>,\n",
       " <td>15</td>,\n",
       " <td>3</td>,\n",
       " <td>34</td>,\n",
       " <td>11.33</td>,\n",
       " <td>2.3</td>,\n",
       " <td>18</td>,\n",
       " <td>0</td>,\n",
       " <td>2</td>,\n",
       " <td class=\"left\"><span class=\"hidden-xs\"><a href=\"/players/kyle-juszczyk-juszcky01\">Kyle Juszczyk</a></span><span class=\"visible-xs\"><a href=\"/players/kyle-juszczyk-juszcky01\">K.\\xa0Juszczyk</a></span></td>,\n",
       " <td>13</td>,\n",
       " <td>7</td>,\n",
       " <td>31</td>,\n",
       " <td>4.43</td>,\n",
       " <td>2.4</td>,\n",
       " <td>12</td>,\n",
       " <td>0</td>,\n",
       " <td>4</td>,\n",
       " <td class=\"left\"><span class=\"hidden-xs\"><a href=\"/players/raheem-mostert-mostera01\">Raheem Mostert</a></span><span class=\"visible-xs\"><a href=\"/players/raheem-mostert-mostera01\">R.\\xa0Mostert</a></span></td>,\n",
       " <td>11</td>,\n",
       " <td>6</td>,\n",
       " <td>30</td>,\n",
       " <td>5.00</td>,\n",
       " <td>2.7</td>,\n",
       " <td>16</td>,\n",
       " <td>0</td>,\n",
       " <td>1</td>,\n",
       " <td class=\"left\"><span class=\"hidden-xs\"><a href=\"/players/jimmy-garoppolo-garopji01\">Jimmy Garoppolo</a></span><span class=\"visible-xs\"><a href=\"/players/jimmy-garoppolo-garopji01\">J.\\xa0Garoppolo</a></span></td>,\n",
       " <td>5</td>,\n",
       " <td>13</td>,\n",
       " <td>12</td>,\n",
       " <td>0.92</td>,\n",
       " <td>2.4</td>,\n",
       " <td>8</td>,\n",
       " <td>1</td>,\n",
       " <td>3</td>,\n",
       " <td class=\"left\"><span class=\"hidden-xs\"><a href=\"/players/brian-hoyer-hoyerbr01\">Brian Hoyer</a></span><span class=\"visible-xs\"><a href=\"/players/brian-hoyer-hoyerbr01\">B.\\xa0Hoyer</a></span></td>,\n",
       " <td>6</td>,\n",
       " <td>5</td>,\n",
       " <td>7</td>,\n",
       " <td>1.40</td>,\n",
       " <td>1.2</td>,\n",
       " <td>9t</td>,\n",
       " <td>1</td>,\n",
       " <td>2</td>,\n",
       " <td class=\"left\">San Francisco</td>,\n",
       " <td>15</td>,\n",
       " <td>378</td>,\n",
       " <td>1,493</td>,\n",
       " <td>3.95</td>,\n",
       " <td>99.5</td>,\n",
       " <td>61</td>,\n",
       " <td>13</td>,\n",
       " <td>78</td>,\n",
       " <td class=\"left\">Opponents</td>,\n",
       " <td>15</td>,\n",
       " <td>465</td>,\n",
       " <td>1,759</td>,\n",
       " <td>3.78</td>,\n",
       " <td>117.3</td>,\n",
       " <td>45</td>,\n",
       " <td>12</td>,\n",
       " <td>102</td>]"
      ]
     },
     "execution_count": 113,
     "metadata": {},
     "output_type": "execute_result"
    }
   ],
   "source": [
    "rushing = all[passing_count:rushing_count + passing_count]\n",
    "rushing"
   ]
  },
  {
   "cell_type": "code",
   "execution_count": 114,
   "metadata": {
    "collapsed": false
   },
   "outputs": [
    {
     "data": {
      "text/plain": [
       "<div class=\"divToggle_offense\" id=\"divToggle_C\">\\n<a name=\"c\"></a>\\n<h2>Receiving</h2>\\n<table class=\"statistics scrollable\">\\n<thead>\\n<tr class=\"header right\"><th class=\"left\" width=\"120\">Player</th><th>Gms</th><th>Rec</th><th>Yds</th><th>Avg</th><th>YPG</th><th>Lg</th><th>TD</th><th>FD</th><th>Tar</th><th>YAC</th></tr>\\n</thead>\\n<tbody>\\n<tr class=\"row0 right\">\\n<td class=\"left\"><span class=\"hidden-xs\"><a href=\"/players/carlos-hyde-hydeca01\">Carlos Hyde</a></span><span class=\"visible-xs\"><a href=\"/players/carlos-hyde-hydeca01\">C.\\xa0Hyde</a></span></td><td>15</td><td>57</td><td>340</td><td>5.96</td><td>22.7</td><td>18</td><td>0</td><td>17</td><td>84</td><td>304</td></tr>\\n<tr class=\"row0 right\">\\n<td class=\"left\"><span class=\"hidden-xs\"><a href=\"/players/marquise-goodwin-goodwma02\">Marquise Goodwin</a></span><span class=\"visible-xs\"><a href=\"/players/marquise-goodwin-goodwma02\">M.\\xa0Goodwin</a></span></td><td>15</td><td>54</td><td>934</td><td>17.30</td><td>62.3</td><td>83t</td><td>1</td><td>44</td><td>101</td><td>185</td></tr>\\n<tr class=\"row0 right\">\\n<td class=\"left\"><span class=\"hidden-xs\"><a href=\"/players/trent-taylor-taylotr04\">Trent Taylor</a></span><span class=\"visible-xs\"><a href=\"/players/trent-taylor-taylotr04\">T.\\xa0Taylor</a></span></td><td>14</td><td>41</td><td>401</td><td>9.78</td><td>28.6</td><td>33</td><td>2</td><td>25</td><td>58</td><td>179</td></tr>\\n<tr class=\"row0 right\">\\n<td class=\"left\"><span class=\"hidden-xs\"><a href=\"/players/pierre-garcon-garcopi01\">Pierre Garcon</a></span><span class=\"visible-xs\"><a href=\"/players/pierre-garcon-garcopi01\">P.\\xa0Garcon</a></span></td><td>8</td><td>40</td><td>500</td><td>12.50</td><td>62.5</td><td>59</td><td>0</td><td>25</td><td>67</td><td>190</td></tr>\\n<tr class=\"row0 right\">\\n<td class=\"left\"><span class=\"hidden-xs\"><a href=\"/players/george-kittle-kittlge01\">George Kittle</a></span><span class=\"visible-xs\"><a href=\"/players/george-kittle-kittlge01\">G.\\xa0Kittle</a></span></td><td>14</td><td>39</td><td>415</td><td>10.64</td><td>29.6</td><td>31</td><td>2</td><td>19</td><td>57</td><td>191</td></tr>\\n<tr class=\"row0 right\">\\n<td class=\"left\"><span class=\"hidden-xs\"><a href=\"/players/kyle-juszczyk-juszcky01\">Kyle Juszczyk</a></span><span class=\"visible-xs\"><a href=\"/players/kyle-juszczyk-juszcky01\">K.\\xa0Juszczyk</a></span></td><td>13</td><td>29</td><td>296</td><td>10.21</td><td>22.8</td><td>44</td><td>1</td><td>12</td><td>38</td><td>194</td></tr>\\n<tr class=\"row0 right\">\\n<td class=\"left\"><span class=\"hidden-xs\"><a href=\"/players/matt-breida-breidma01\">Matt Breida</a></span><span class=\"visible-xs\"><a href=\"/players/matt-breida-breidma01\">M.\\xa0Breida</a></span></td><td>15</td><td>20</td><td>148</td><td>7.40</td><td>9.9</td><td>21t</td><td>1</td><td>8</td><td>34</td><td>130</td></tr>\\n<tr class=\"row0 right\">\\n<td class=\"left\"><span class=\"hidden-xs\"><a href=\"/players/garrett-celek-celekga01\">Garrett Celek</a></span><span class=\"visible-xs\"><a href=\"/players/garrett-celek-celekga01\">G.\\xa0Celek</a></span></td><td>15</td><td>20</td><td>308</td><td>15.40</td><td>20.5</td><td>61</td><td>4</td><td>14</td><td>32</td><td>161</td></tr>\\n<tr class=\"row0 right\">\\n<td class=\"left\"><span class=\"hidden-xs\"><a href=\"/players/aldrick-robinson-robinal01\">Aldrick Robinson</a></span><span class=\"visible-xs\"><a href=\"/players/aldrick-robinson-robinal01\">A.\\xa0Robinson</a></span></td><td>15</td><td>18</td><td>248</td><td>13.78</td><td>16.5</td><td>45t</td><td>1</td><td>11</td><td>45</td><td>45</td></tr>\\n<tr class=\"row0 right\">\\n<td class=\"left\"><span class=\"hidden-xs\"><a href=\"/players/kendrick-bourne-bournke01\">Kendrick Bourne</a></span><span class=\"visible-xs\"><a href=\"/players/kendrick-bourne-bournke01\">K.\\xa0Bourne</a></span></td><td>10</td><td>14</td><td>229</td><td>16.36</td><td>22.9</td><td>54</td><td>0</td><td>10</td><td>29</td><td>104</td></tr>\\n<tr class=\"row0 right\">\\n<td class=\"left\"><span class=\"hidden-xs\"><a href=\"/players/louis-murphy-murphlo01\">Louis Murphy</a></span><span class=\"visible-xs\"><a href=\"/players/louis-murphy-murphlo01\">L.\\xa0Murphy</a></span></td><td>6</td><td>7</td><td>115</td><td>16.43</td><td>19.2</td><td>40</td><td>1</td><td>6</td><td>15</td><td>37</td></tr>\\n<tr class=\"row0 right\">\\n<td class=\"left\"><span class=\"hidden-xs\"><a href=\"/players/cole-hikutini-hikutco01\">Cole Hikutini</a></span><span class=\"visible-xs\"><a href=\"/players/cole-hikutini-hikutco01\">C.\\xa0Hikutini</a></span></td><td>4</td><td>2</td><td>15</td><td>7.50</td><td>3.8</td><td>10</td><td>0</td><td>2</td><td>3</td><td>2</td></tr>\\n<tr class=\"row0 right\">\\n<td class=\"left\"><span class=\"hidden-xs\"><a href=\"/players/jimmy-garoppolo-garopji01\">Jimmy Garoppolo</a></span><span class=\"visible-xs\"><a href=\"/players/jimmy-garoppolo-garopji01\">J.\\xa0Garoppolo</a></span></td><td>5</td><td>1</td><td>-6</td><td>-6.00</td><td>-1.2</td><td>-6</td><td>0</td><td>0</td><td>1</td><td>0</td></tr>\\n<tr class=\"row0 right\">\\n<td class=\"left\"><span class=\"hidden-xs\"><a href=\"/players/logan-paulsen-paulslo01\">Logan Paulsen</a></span><span class=\"visible-xs\"><a href=\"/players/logan-paulsen-paulslo01\">L.\\xa0Paulsen</a></span></td><td>13</td><td>0</td><td>0</td><td>0.00</td><td>0.0</td><td>0</td><td>0</td><td>0</td><td>2</td><td>0</td></tr>\\n<tr class=\"header right\">\\n<td class=\"left\">San Francisco</td><td>15</td><td>342</td><td>3,943</td><td>11.53</td><td>262.9</td><td>83t</td><td>13</td><td>193</td><td>566</td><td>1,722</td></tr>\\n<tr class=\"header right\">\\n<td class=\"left\">Opponents</td><td>15</td><td>324</td><td>3,774</td><td>11.65</td><td>251.6</td><td>72t</td><td>27</td><td>191</td><td>504</td><td>1,615</td></tr>\\n</tbody>\\n</table>\\n</div>"
      ]
     },
     "execution_count": 114,
     "metadata": {},
     "output_type": "execute_result"
    }
   ],
   "source": [
    "receiving_html = soup.find('div', attrs = {'class': 'divToggle_offense', 'id': 'divToggle_C'})\n",
    "receiving_html"
   ]
  },
  {
   "cell_type": "code",
   "execution_count": 115,
   "metadata": {
    "collapsed": false
   },
   "outputs": [
    {
     "data": {
      "text/plain": [
       "176"
      ]
     },
     "execution_count": 115,
     "metadata": {},
     "output_type": "execute_result"
    }
   ],
   "source": [
    "receiving_players = str(receiving_html).count('/players/') / 2\n",
    "receiving_count = int(11 * ((str(receiving_html).count('/players/') / 2) + 2))\n",
    "receiving_count"
   ]
  },
  {
   "cell_type": "code",
   "execution_count": 116,
   "metadata": {
    "collapsed": false
   },
   "outputs": [
    {
     "data": {
      "text/plain": [
       "[<td class=\"left\"><span class=\"hidden-xs\"><a href=\"/players/carlos-hyde-hydeca01\">Carlos Hyde</a></span><span class=\"visible-xs\"><a href=\"/players/carlos-hyde-hydeca01\">C.\\xa0Hyde</a></span></td>,\n",
       " <td>15</td>,\n",
       " <td>57</td>,\n",
       " <td>340</td>,\n",
       " <td>5.96</td>,\n",
       " <td>22.7</td>,\n",
       " <td>18</td>,\n",
       " <td>0</td>,\n",
       " <td>17</td>,\n",
       " <td>84</td>,\n",
       " <td>304</td>,\n",
       " <td class=\"left\"><span class=\"hidden-xs\"><a href=\"/players/marquise-goodwin-goodwma02\">Marquise Goodwin</a></span><span class=\"visible-xs\"><a href=\"/players/marquise-goodwin-goodwma02\">M.\\xa0Goodwin</a></span></td>,\n",
       " <td>15</td>,\n",
       " <td>54</td>,\n",
       " <td>934</td>,\n",
       " <td>17.30</td>,\n",
       " <td>62.3</td>,\n",
       " <td>83t</td>,\n",
       " <td>1</td>,\n",
       " <td>44</td>,\n",
       " <td>101</td>,\n",
       " <td>185</td>,\n",
       " <td class=\"left\"><span class=\"hidden-xs\"><a href=\"/players/trent-taylor-taylotr04\">Trent Taylor</a></span><span class=\"visible-xs\"><a href=\"/players/trent-taylor-taylotr04\">T.\\xa0Taylor</a></span></td>,\n",
       " <td>14</td>,\n",
       " <td>41</td>,\n",
       " <td>401</td>,\n",
       " <td>9.78</td>,\n",
       " <td>28.6</td>,\n",
       " <td>33</td>,\n",
       " <td>2</td>,\n",
       " <td>25</td>,\n",
       " <td>58</td>,\n",
       " <td>179</td>,\n",
       " <td class=\"left\"><span class=\"hidden-xs\"><a href=\"/players/pierre-garcon-garcopi01\">Pierre Garcon</a></span><span class=\"visible-xs\"><a href=\"/players/pierre-garcon-garcopi01\">P.\\xa0Garcon</a></span></td>,\n",
       " <td>8</td>,\n",
       " <td>40</td>,\n",
       " <td>500</td>,\n",
       " <td>12.50</td>,\n",
       " <td>62.5</td>,\n",
       " <td>59</td>,\n",
       " <td>0</td>,\n",
       " <td>25</td>,\n",
       " <td>67</td>,\n",
       " <td>190</td>,\n",
       " <td class=\"left\"><span class=\"hidden-xs\"><a href=\"/players/george-kittle-kittlge01\">George Kittle</a></span><span class=\"visible-xs\"><a href=\"/players/george-kittle-kittlge01\">G.\\xa0Kittle</a></span></td>,\n",
       " <td>14</td>,\n",
       " <td>39</td>,\n",
       " <td>415</td>,\n",
       " <td>10.64</td>,\n",
       " <td>29.6</td>,\n",
       " <td>31</td>,\n",
       " <td>2</td>,\n",
       " <td>19</td>,\n",
       " <td>57</td>,\n",
       " <td>191</td>,\n",
       " <td class=\"left\"><span class=\"hidden-xs\"><a href=\"/players/kyle-juszczyk-juszcky01\">Kyle Juszczyk</a></span><span class=\"visible-xs\"><a href=\"/players/kyle-juszczyk-juszcky01\">K.\\xa0Juszczyk</a></span></td>,\n",
       " <td>13</td>,\n",
       " <td>29</td>,\n",
       " <td>296</td>,\n",
       " <td>10.21</td>,\n",
       " <td>22.8</td>,\n",
       " <td>44</td>,\n",
       " <td>1</td>,\n",
       " <td>12</td>,\n",
       " <td>38</td>,\n",
       " <td>194</td>,\n",
       " <td class=\"left\"><span class=\"hidden-xs\"><a href=\"/players/matt-breida-breidma01\">Matt Breida</a></span><span class=\"visible-xs\"><a href=\"/players/matt-breida-breidma01\">M.\\xa0Breida</a></span></td>,\n",
       " <td>15</td>,\n",
       " <td>20</td>,\n",
       " <td>148</td>,\n",
       " <td>7.40</td>,\n",
       " <td>9.9</td>,\n",
       " <td>21t</td>,\n",
       " <td>1</td>,\n",
       " <td>8</td>,\n",
       " <td>34</td>,\n",
       " <td>130</td>,\n",
       " <td class=\"left\"><span class=\"hidden-xs\"><a href=\"/players/garrett-celek-celekga01\">Garrett Celek</a></span><span class=\"visible-xs\"><a href=\"/players/garrett-celek-celekga01\">G.\\xa0Celek</a></span></td>,\n",
       " <td>15</td>,\n",
       " <td>20</td>,\n",
       " <td>308</td>,\n",
       " <td>15.40</td>,\n",
       " <td>20.5</td>,\n",
       " <td>61</td>,\n",
       " <td>4</td>,\n",
       " <td>14</td>,\n",
       " <td>32</td>,\n",
       " <td>161</td>,\n",
       " <td class=\"left\"><span class=\"hidden-xs\"><a href=\"/players/aldrick-robinson-robinal01\">Aldrick Robinson</a></span><span class=\"visible-xs\"><a href=\"/players/aldrick-robinson-robinal01\">A.\\xa0Robinson</a></span></td>,\n",
       " <td>15</td>,\n",
       " <td>18</td>,\n",
       " <td>248</td>,\n",
       " <td>13.78</td>,\n",
       " <td>16.5</td>,\n",
       " <td>45t</td>,\n",
       " <td>1</td>,\n",
       " <td>11</td>,\n",
       " <td>45</td>,\n",
       " <td>45</td>,\n",
       " <td class=\"left\"><span class=\"hidden-xs\"><a href=\"/players/kendrick-bourne-bournke01\">Kendrick Bourne</a></span><span class=\"visible-xs\"><a href=\"/players/kendrick-bourne-bournke01\">K.\\xa0Bourne</a></span></td>,\n",
       " <td>10</td>,\n",
       " <td>14</td>,\n",
       " <td>229</td>,\n",
       " <td>16.36</td>,\n",
       " <td>22.9</td>,\n",
       " <td>54</td>,\n",
       " <td>0</td>,\n",
       " <td>10</td>,\n",
       " <td>29</td>,\n",
       " <td>104</td>,\n",
       " <td class=\"left\"><span class=\"hidden-xs\"><a href=\"/players/louis-murphy-murphlo01\">Louis Murphy</a></span><span class=\"visible-xs\"><a href=\"/players/louis-murphy-murphlo01\">L.\\xa0Murphy</a></span></td>,\n",
       " <td>6</td>,\n",
       " <td>7</td>,\n",
       " <td>115</td>,\n",
       " <td>16.43</td>,\n",
       " <td>19.2</td>,\n",
       " <td>40</td>,\n",
       " <td>1</td>,\n",
       " <td>6</td>,\n",
       " <td>15</td>,\n",
       " <td>37</td>,\n",
       " <td class=\"left\"><span class=\"hidden-xs\"><a href=\"/players/cole-hikutini-hikutco01\">Cole Hikutini</a></span><span class=\"visible-xs\"><a href=\"/players/cole-hikutini-hikutco01\">C.\\xa0Hikutini</a></span></td>,\n",
       " <td>4</td>,\n",
       " <td>2</td>,\n",
       " <td>15</td>,\n",
       " <td>7.50</td>,\n",
       " <td>3.8</td>,\n",
       " <td>10</td>,\n",
       " <td>0</td>,\n",
       " <td>2</td>,\n",
       " <td>3</td>,\n",
       " <td>2</td>,\n",
       " <td class=\"left\"><span class=\"hidden-xs\"><a href=\"/players/jimmy-garoppolo-garopji01\">Jimmy Garoppolo</a></span><span class=\"visible-xs\"><a href=\"/players/jimmy-garoppolo-garopji01\">J.\\xa0Garoppolo</a></span></td>,\n",
       " <td>5</td>,\n",
       " <td>1</td>,\n",
       " <td>-6</td>,\n",
       " <td>-6.00</td>,\n",
       " <td>-1.2</td>,\n",
       " <td>-6</td>,\n",
       " <td>0</td>,\n",
       " <td>0</td>,\n",
       " <td>1</td>,\n",
       " <td>0</td>,\n",
       " <td class=\"left\"><span class=\"hidden-xs\"><a href=\"/players/logan-paulsen-paulslo01\">Logan Paulsen</a></span><span class=\"visible-xs\"><a href=\"/players/logan-paulsen-paulslo01\">L.\\xa0Paulsen</a></span></td>,\n",
       " <td>13</td>,\n",
       " <td>0</td>,\n",
       " <td>0</td>,\n",
       " <td>0.00</td>,\n",
       " <td>0.0</td>,\n",
       " <td>0</td>,\n",
       " <td>0</td>,\n",
       " <td>0</td>,\n",
       " <td>2</td>,\n",
       " <td>0</td>,\n",
       " <td class=\"left\">San Francisco</td>,\n",
       " <td>15</td>,\n",
       " <td>342</td>,\n",
       " <td>3,943</td>,\n",
       " <td>11.53</td>,\n",
       " <td>262.9</td>,\n",
       " <td>83t</td>,\n",
       " <td>13</td>,\n",
       " <td>193</td>,\n",
       " <td>566</td>,\n",
       " <td>1,722</td>,\n",
       " <td class=\"left\">Opponents</td>,\n",
       " <td>15</td>,\n",
       " <td>324</td>,\n",
       " <td>3,774</td>,\n",
       " <td>11.65</td>,\n",
       " <td>251.6</td>,\n",
       " <td>72t</td>,\n",
       " <td>27</td>,\n",
       " <td>191</td>,\n",
       " <td>504</td>,\n",
       " <td>1,615</td>]"
      ]
     },
     "execution_count": 116,
     "metadata": {},
     "output_type": "execute_result"
    }
   ],
   "source": [
    "receiving = all[passing_count + rushing_count:receiving_count + rushing_count + passing_count]\n",
    "receiving"
   ]
  },
  {
   "cell_type": "code",
   "execution_count": 117,
   "metadata": {
    "collapsed": false
   },
   "outputs": [
    {
     "data": {
      "text/plain": [
       "<div class=\"divToggle_special hidden-xs\" id=\"divToggle_KR\">\\n<a name=\"kr\"></a>\\n<h2>Kickoff Returns</h2>\\n<table class=\"statistics scrollable\">\\n<thead>\\n<tr class=\"header right\"><th class=\"left\" width=\"120\">Player</th><th>Num</th><th>Yds</th><th>Avg</th><th>FC</th><th>Lg</th><th>TD</th></tr>\\n</thead>\\n<tbody>\\n<tr class=\"row0 right\">\\n<td class=\"left\"><span class=\"hidden-xs\"><a href=\"/players/victor-bolden-boldevi01\">Victor Bolden</a></span><span class=\"visible-xs\"><a href=\"/players/victor-bolden-boldevi01\">V.\\xa0Bolden</a></span></td><td>19</td><td>396</td><td>20.84</td><td>0</td><td>34</td><td>0</td></tr>\\n<tr class=\"row0 right\">\\n<td class=\"left\"><span class=\"hidden-xs\"><a href=\"/players/raheem-mostert-mostera01\">Raheem Mostert</a></span><span class=\"visible-xs\"><a href=\"/players/raheem-mostert-mostera01\">R.\\xa0Mostert</a></span></td><td>5</td><td>83</td><td>16.60</td><td>0</td><td>21</td><td>0</td></tr>\\n<tr class=\"row0 right\">\\n<td class=\"left\"><span class=\"hidden-xs\"><a href=\"/players/matt-breida-breidma01\">Matt Breida</a></span><span class=\"visible-xs\"><a href=\"/players/matt-breida-breidma01\">M.\\xa0Breida</a></span></td><td>5</td><td>83</td><td>16.60</td><td>0</td><td>28</td><td>0</td></tr>\\n<tr class=\"row0 right\">\\n<td class=\"left\"><span class=\"hidden-xs\"><a href=\"/players/trent-taylor-taylotr04\">Trent Taylor</a></span><span class=\"visible-xs\"><a href=\"/players/trent-taylor-taylotr04\">T.\\xa0Taylor</a></span></td><td>1</td><td>8</td><td>8.00</td><td>0</td><td>8</td><td>0</td></tr>\\n<tr class=\"row0 right\">\\n<td class=\"left\"><span class=\"hidden-xs\"><a href=\"/players/ronald-blair-blairro01\">Ronald Blair</a></span><span class=\"visible-xs\"><a href=\"/players/ronald-blair-blairro01\">R.\\xa0Blair</a></span></td><td>1</td><td>0</td><td>0.00</td><td>0</td><td>0</td><td>0</td></tr>\\n<tr class=\"header right\">\\n<td class=\"left\">San Francisco</td><td>31</td><td>570</td><td>18.39</td><td>0</td><td>34</td><td>0</td></tr>\\n<tr class=\"header right\">\\n<td class=\"left\">Opponents</td><td>14</td><td>289</td><td>20.64</td><td>0</td><td>28</td><td>0</td></tr>\\n</tbody>\\n</table>\\n</div>"
      ]
     },
     "execution_count": 117,
     "metadata": {},
     "output_type": "execute_result"
    }
   ],
   "source": [
    "kick_returns_html = soup.find('div', attrs = {'class': 'divToggle_special hidden-xs', 'id': 'divToggle_KR'})\n",
    "kick_returns_html"
   ]
  },
  {
   "cell_type": "code",
   "execution_count": 118,
   "metadata": {
    "collapsed": false
   },
   "outputs": [
    {
     "data": {
      "text/plain": [
       "49"
      ]
     },
     "execution_count": 118,
     "metadata": {},
     "output_type": "execute_result"
    }
   ],
   "source": [
    "kick_returns_players = str(kick_returns_html).count('/players/') / 2\n",
    "kick_returns_count = int(7 * ((str(kick_returns_html).count('/players/') / 2) + 2))\n",
    "kick_returns_count"
   ]
  },
  {
   "cell_type": "code",
   "execution_count": 119,
   "metadata": {
    "collapsed": false
   },
   "outputs": [
    {
     "data": {
      "text/plain": [
       "[<td class=\"left\"><span class=\"hidden-xs\"><a href=\"/players/victor-bolden-boldevi01\">Victor Bolden</a></span><span class=\"visible-xs\"><a href=\"/players/victor-bolden-boldevi01\">V.\\xa0Bolden</a></span></td>,\n",
       " <td>19</td>,\n",
       " <td>396</td>,\n",
       " <td>20.84</td>,\n",
       " <td>0</td>,\n",
       " <td>34</td>,\n",
       " <td>0</td>,\n",
       " <td class=\"left\"><span class=\"hidden-xs\"><a href=\"/players/raheem-mostert-mostera01\">Raheem Mostert</a></span><span class=\"visible-xs\"><a href=\"/players/raheem-mostert-mostera01\">R.\\xa0Mostert</a></span></td>,\n",
       " <td>5</td>,\n",
       " <td>83</td>,\n",
       " <td>16.60</td>,\n",
       " <td>0</td>,\n",
       " <td>21</td>,\n",
       " <td>0</td>,\n",
       " <td class=\"left\"><span class=\"hidden-xs\"><a href=\"/players/matt-breida-breidma01\">Matt Breida</a></span><span class=\"visible-xs\"><a href=\"/players/matt-breida-breidma01\">M.\\xa0Breida</a></span></td>,\n",
       " <td>5</td>,\n",
       " <td>83</td>,\n",
       " <td>16.60</td>,\n",
       " <td>0</td>,\n",
       " <td>28</td>,\n",
       " <td>0</td>,\n",
       " <td class=\"left\"><span class=\"hidden-xs\"><a href=\"/players/trent-taylor-taylotr04\">Trent Taylor</a></span><span class=\"visible-xs\"><a href=\"/players/trent-taylor-taylotr04\">T.\\xa0Taylor</a></span></td>,\n",
       " <td>1</td>,\n",
       " <td>8</td>,\n",
       " <td>8.00</td>,\n",
       " <td>0</td>,\n",
       " <td>8</td>,\n",
       " <td>0</td>,\n",
       " <td class=\"left\"><span class=\"hidden-xs\"><a href=\"/players/ronald-blair-blairro01\">Ronald Blair</a></span><span class=\"visible-xs\"><a href=\"/players/ronald-blair-blairro01\">R.\\xa0Blair</a></span></td>,\n",
       " <td>1</td>,\n",
       " <td>0</td>,\n",
       " <td>0.00</td>,\n",
       " <td>0</td>,\n",
       " <td>0</td>,\n",
       " <td>0</td>,\n",
       " <td class=\"left\">San Francisco</td>,\n",
       " <td>31</td>,\n",
       " <td>570</td>,\n",
       " <td>18.39</td>,\n",
       " <td>0</td>,\n",
       " <td>34</td>,\n",
       " <td>0</td>,\n",
       " <td class=\"left\">Opponents</td>,\n",
       " <td>14</td>,\n",
       " <td>289</td>,\n",
       " <td>20.64</td>,\n",
       " <td>0</td>,\n",
       " <td>28</td>,\n",
       " <td>0</td>]"
      ]
     },
     "execution_count": 119,
     "metadata": {},
     "output_type": "execute_result"
    }
   ],
   "source": [
    "kick_returns = all[passing_count + rushing_count + receiving_count:kick_returns_count + receiving_count + rushing_count + passing_count]\n",
    "kick_returns"
   ]
  },
  {
   "cell_type": "code",
   "execution_count": 120,
   "metadata": {
    "collapsed": false
   },
   "outputs": [
    {
     "data": {
      "text/plain": [
       "<div class=\"divToggle_special hidden-xs\" id=\"divToggle_PR\">\\n<a name=\"pr\"></a>\\n<h2>Punt Returns</h2>\\n<table class=\"statistics scrollable\">\\n<thead>\\n<tr class=\"header right\"><th class=\"left\" width=\"120\">Player</th><th>Num</th><th>Yds</th><th>Avg</th><th>FC</th><th>Lg</th><th>TD</th></tr>\\n</thead>\\n<tbody>\\n<tr class=\"row0 right\">\\n<td class=\"left\"><span class=\"hidden-xs\"><a href=\"/players/trent-taylor-taylotr04\">Trent Taylor</a></span><span class=\"visible-xs\"><a href=\"/players/trent-taylor-taylotr04\">T.\\xa0Taylor</a></span></td><td>27</td><td>249</td><td>9.22</td><td>15</td><td>39</td><td>0</td></tr>\\n<tr class=\"row0 right\">\\n<td class=\"left\"><span class=\"hidden-xs\"><a href=\"/players/victor-bolden-boldevi01\">Victor Bolden</a></span><span class=\"visible-xs\"><a href=\"/players/victor-bolden-boldevi01\">V.\\xa0Bolden</a></span></td><td>4</td><td>23</td><td>5.75</td><td>1</td><td>16</td><td>0</td></tr>\\n<tr class=\"header right\">\\n<td class=\"left\">San Francisco</td><td>31</td><td>272</td><td>8.77</td><td>16</td><td>39</td><td>0</td></tr>\\n<tr class=\"header right\">\\n<td class=\"left\">Opponents</td><td>31</td><td>132</td><td>4.26</td><td>23</td><td>61t</td><td>1</td></tr>\\n</tbody>\\n</table>\\n</div>"
      ]
     },
     "execution_count": 120,
     "metadata": {},
     "output_type": "execute_result"
    }
   ],
   "source": [
    "punt_returns_html = soup.find('div', attrs = {'class': 'divToggle_special hidden-xs', 'id': 'divToggle_PR'})\n",
    "punt_returns_html"
   ]
  },
  {
   "cell_type": "code",
   "execution_count": 121,
   "metadata": {
    "collapsed": false
   },
   "outputs": [
    {
     "data": {
      "text/plain": [
       "28"
      ]
     },
     "execution_count": 121,
     "metadata": {},
     "output_type": "execute_result"
    }
   ],
   "source": [
    "punt_returns_players = str(punt_returns_html).count('/players/') / 2\n",
    "punt_returns_count = int(7 * ((str(punt_returns_html).count('/players/') / 2) + 2))\n",
    "punt_returns_count"
   ]
  },
  {
   "cell_type": "code",
   "execution_count": 122,
   "metadata": {
    "collapsed": false
   },
   "outputs": [
    {
     "data": {
      "text/plain": [
       "[<td class=\"left\"><span class=\"hidden-xs\"><a href=\"/players/trent-taylor-taylotr04\">Trent Taylor</a></span><span class=\"visible-xs\"><a href=\"/players/trent-taylor-taylotr04\">T.\\xa0Taylor</a></span></td>,\n",
       " <td>27</td>,\n",
       " <td>249</td>,\n",
       " <td>9.22</td>,\n",
       " <td>15</td>,\n",
       " <td>39</td>,\n",
       " <td>0</td>,\n",
       " <td class=\"left\"><span class=\"hidden-xs\"><a href=\"/players/victor-bolden-boldevi01\">Victor Bolden</a></span><span class=\"visible-xs\"><a href=\"/players/victor-bolden-boldevi01\">V.\\xa0Bolden</a></span></td>,\n",
       " <td>4</td>,\n",
       " <td>23</td>,\n",
       " <td>5.75</td>,\n",
       " <td>1</td>,\n",
       " <td>16</td>,\n",
       " <td>0</td>,\n",
       " <td class=\"left\">San Francisco</td>,\n",
       " <td>31</td>,\n",
       " <td>272</td>,\n",
       " <td>8.77</td>,\n",
       " <td>16</td>,\n",
       " <td>39</td>,\n",
       " <td>0</td>,\n",
       " <td class=\"left\">Opponents</td>,\n",
       " <td>31</td>,\n",
       " <td>132</td>,\n",
       " <td>4.26</td>,\n",
       " <td>23</td>,\n",
       " <td>61t</td>,\n",
       " <td>1</td>]"
      ]
     },
     "execution_count": 122,
     "metadata": {},
     "output_type": "execute_result"
    }
   ],
   "source": [
    "punt_returns = all[passing_count + rushing_count + receiving_count + kick_returns_count:punt_returns_count + kick_returns_count + receiving_count + rushing_count + passing_count]\n",
    "punt_returns"
   ]
  },
  {
   "cell_type": "code",
   "execution_count": 123,
   "metadata": {
    "collapsed": false
   },
   "outputs": [],
   "source": [
    "passing_clean = []\n",
    "rushing_clean = []\n",
    "receiving_clean = []\n",
    "kick_returns_clean = []\n",
    "punt_returns_clean = []\n",
    "\n",
    "for i in range(0, len(passing)):\n",
    "    passing_clean.append(re.sub('<[^<]+?>', '', str(passing[i])))\n",
    "    \n",
    "for i in range(0, len(rushing)):\n",
    "    rushing_clean.append(re.sub('<[^<]+?>', '', str(rushing[i])))\n",
    "    \n",
    "for i in range(0, len(receiving)):\n",
    "    receiving_clean.append(re.sub('<[^<]+?>', '', str(receiving[i])))\n",
    "    \n",
    "for i in range(0, len(kick_returns)):\n",
    "    kick_returns_clean.append(re.sub('<[^<]+?>', '', str(kick_returns[i])))\n",
    "\n",
    "for i in range(0, len(punt_returns)):\n",
    "    punt_returns_clean.append(re.sub('<[^<]+?>', '', str(punt_returns[i])))"
   ]
  },
  {
   "cell_type": "code",
   "execution_count": 124,
   "metadata": {
    "collapsed": false
   },
   "outputs": [
    {
     "data": {
      "text/plain": [
       "['C.J. BeathardC.\\xc2\\xa0Beathard',\n",
       " '224',\n",
       " '123',\n",
       " '54.9',\n",
       " '1,430',\n",
       " '6.4',\n",
       " '4',\n",
       " '1.8',\n",
       " '6',\n",
       " '2.7']"
      ]
     },
     "execution_count": 124,
     "metadata": {},
     "output_type": "execute_result"
    }
   ],
   "source": [
    "passing_clean[0:10]"
   ]
  },
  {
   "cell_type": "code",
   "execution_count": 125,
   "metadata": {
    "collapsed": false
   },
   "outputs": [
    {
     "data": {
      "text/plain": [
       "['Carlos HydeC.\\xc2\\xa0Hyde',\n",
       " '15',\n",
       " '225',\n",
       " '850',\n",
       " '3.78',\n",
       " '56.7',\n",
       " '61',\n",
       " '6',\n",
       " '39',\n",
       " 'Matt BreidaM.\\xc2\\xa0Breida']"
      ]
     },
     "execution_count": 125,
     "metadata": {},
     "output_type": "execute_result"
    }
   ],
   "source": [
    "rushing_clean[0:10]"
   ]
  },
  {
   "cell_type": "code",
   "execution_count": 126,
   "metadata": {
    "collapsed": false
   },
   "outputs": [
    {
     "data": {
      "text/plain": [
       "['Carlos HydeC.\\xc2\\xa0Hyde',\n",
       " '15',\n",
       " '57',\n",
       " '340',\n",
       " '5.96',\n",
       " '22.7',\n",
       " '18',\n",
       " '0',\n",
       " '17',\n",
       " '84']"
      ]
     },
     "execution_count": 126,
     "metadata": {},
     "output_type": "execute_result"
    }
   ],
   "source": [
    "receiving_clean[0:10]"
   ]
  },
  {
   "cell_type": "code",
   "execution_count": 127,
   "metadata": {
    "collapsed": false
   },
   "outputs": [
    {
     "data": {
      "text/plain": [
       "['Victor BoldenV.\\xc2\\xa0Bolden',\n",
       " '19',\n",
       " '396',\n",
       " '20.84',\n",
       " '0',\n",
       " '34',\n",
       " '0',\n",
       " 'Raheem MostertR.\\xc2\\xa0Mostert',\n",
       " '5',\n",
       " '83']"
      ]
     },
     "execution_count": 127,
     "metadata": {},
     "output_type": "execute_result"
    }
   ],
   "source": [
    "kick_returns_clean[0:10]"
   ]
  },
  {
   "cell_type": "code",
   "execution_count": 128,
   "metadata": {
    "collapsed": false
   },
   "outputs": [
    {
     "data": {
      "text/plain": [
       "['Trent TaylorT.\\xc2\\xa0Taylor',\n",
       " '27',\n",
       " '249',\n",
       " '9.22',\n",
       " '15',\n",
       " '39',\n",
       " '0',\n",
       " 'Victor BoldenV.\\xc2\\xa0Bolden',\n",
       " '4',\n",
       " '23']"
      ]
     },
     "execution_count": 128,
     "metadata": {},
     "output_type": "execute_result"
    }
   ],
   "source": [
    "punt_returns_clean[0:10]"
   ]
  },
  {
   "cell_type": "code",
   "execution_count": 129,
   "metadata": {
    "collapsed": true
   },
   "outputs": [],
   "source": [
    "passing_cols = ['player', 'pass_attempts', 'completions', 'compl_percent', 'passing_yards', 'yards_per_pass', 'passing_touchdowns', 'touchdown_percentage', 'interceptions', 'int_percentage', 'long', 'sack', 'loss', 'passer_rating']\n",
    "rushing_cols = ['player', 'games_played', 'rush_attempts', 'rush_yards', 'yards_per_rush', 'yards_per_game', 'long', 'rush_touchdowns', 'first_downs']\n",
    "receiving_cols = ['player', 'games', 'receptions', 'receiving_yards', 'yards_per_catch', 'yards_per_game', 'long', 'receiving_touchdowns', 'first_downs', 'targets', 'yards_after_catch']\n",
    "kick_returns_cols = ['player', 'kick_returns', 'kick_return_yards', 'kick_return_average', 'fair_catches', 'long', 'touchdowns']\n",
    "punt_returns_cols = ['player', 'punt_returns', 'punt_return_yards', 'punt_return_average', 'fair_catches', 'long', 'touchdowns']"
   ]
  },
  {
   "cell_type": "code",
   "execution_count": 130,
   "metadata": {
    "collapsed": false
   },
   "outputs": [],
   "source": [
    "passing_df = pd.DataFrame(np.array(passing_clean).reshape(passing_players + 2, len(passing_cols)), columns = passing_cols)\n",
    "rushing_df = pd.DataFrame(np.array(rushing_clean).reshape(rushing_players + 2, len(rushing_cols)), columns = rushing_cols)\n",
    "receiving_df = pd.DataFrame(np.array(receiving_clean).reshape(receiving_players + 2, len(receiving_cols)), columns = receiving_cols)\n",
    "kick_returns_df = pd.DataFrame(np.array(kick_returns_clean).reshape(kick_returns_players + 2, len(kick_returns_cols)), columns = kick_returns_cols)\n",
    "punt_returns_df = pd.DataFrame(np.array(punt_returns_clean).reshape(punt_returns_players + 2, len(punt_returns_cols)), columns = punt_returns_cols)"
   ]
  },
  {
   "cell_type": "code",
   "execution_count": 131,
   "metadata": {
    "collapsed": false
   },
   "outputs": [
    {
     "data": {
      "text/html": [
       "<div>\n",
       "<table border=\"1\" class=\"dataframe\">\n",
       "  <thead>\n",
       "    <tr style=\"text-align: right;\">\n",
       "      <th></th>\n",
       "      <th>player</th>\n",
       "      <th>pass_attempts</th>\n",
       "      <th>completions</th>\n",
       "      <th>compl_percent</th>\n",
       "      <th>passing_yards</th>\n",
       "      <th>yards_per_pass</th>\n",
       "      <th>passing_touchdowns</th>\n",
       "      <th>touchdown_percentage</th>\n",
       "      <th>interceptions</th>\n",
       "      <th>int_percentage</th>\n",
       "      <th>long</th>\n",
       "      <th>sack</th>\n",
       "      <th>loss</th>\n",
       "      <th>passer_rating</th>\n",
       "    </tr>\n",
       "  </thead>\n",
       "  <tbody>\n",
       "    <tr>\n",
       "      <th>0</th>\n",
       "      <td>C.J. BeathardC. Beathard</td>\n",
       "      <td>224</td>\n",
       "      <td>123</td>\n",
       "      <td>54.9</td>\n",
       "      <td>1,430</td>\n",
       "      <td>6.4</td>\n",
       "      <td>4</td>\n",
       "      <td>1.8</td>\n",
       "      <td>6</td>\n",
       "      <td>2.7</td>\n",
       "      <td>83t</td>\n",
       "      <td>19</td>\n",
       "      <td>141</td>\n",
       "      <td>69.2</td>\n",
       "    </tr>\n",
       "    <tr>\n",
       "      <th>1</th>\n",
       "      <td>Jimmy GaroppoloJ. Garoppolo</td>\n",
       "      <td>145</td>\n",
       "      <td>100</td>\n",
       "      <td>69.0</td>\n",
       "      <td>1,268</td>\n",
       "      <td>8.7</td>\n",
       "      <td>5</td>\n",
       "      <td>3.4</td>\n",
       "      <td>3</td>\n",
       "      <td>2.1</td>\n",
       "      <td>61</td>\n",
       "      <td>8</td>\n",
       "      <td>57</td>\n",
       "      <td>98.9</td>\n",
       "    </tr>\n",
       "    <tr>\n",
       "      <th>2</th>\n",
       "      <td>Brian HoyerB. Hoyer</td>\n",
       "      <td>205</td>\n",
       "      <td>119</td>\n",
       "      <td>58.0</td>\n",
       "      <td>1,245</td>\n",
       "      <td>6.1</td>\n",
       "      <td>4</td>\n",
       "      <td>2.0</td>\n",
       "      <td>4</td>\n",
       "      <td>2.0</td>\n",
       "      <td>59</td>\n",
       "      <td>16</td>\n",
       "      <td>112</td>\n",
       "      <td>74.1</td>\n",
       "    </tr>\n",
       "    <tr>\n",
       "      <th>3</th>\n",
       "      <td>San Francisco</td>\n",
       "      <td>574</td>\n",
       "      <td>342</td>\n",
       "      <td>59.6</td>\n",
       "      <td>3,943</td>\n",
       "      <td>6.9</td>\n",
       "      <td>13</td>\n",
       "      <td>2.3</td>\n",
       "      <td>13</td>\n",
       "      <td>2.3</td>\n",
       "      <td>83t</td>\n",
       "      <td>43</td>\n",
       "      <td>310</td>\n",
       "      <td>78.5</td>\n",
       "    </tr>\n",
       "    <tr>\n",
       "      <th>4</th>\n",
       "      <td>Opponents</td>\n",
       "      <td>510</td>\n",
       "      <td>324</td>\n",
       "      <td>63.5</td>\n",
       "      <td>3,774</td>\n",
       "      <td>7.4</td>\n",
       "      <td>27</td>\n",
       "      <td>5.3</td>\n",
       "      <td>10</td>\n",
       "      <td>2.0</td>\n",
       "      <td>72t</td>\n",
       "      <td>27</td>\n",
       "      <td>159</td>\n",
       "      <td>95.3</td>\n",
       "    </tr>\n",
       "  </tbody>\n",
       "</table>\n",
       "</div>"
      ],
      "text/plain": [
       "                        player pass_attempts completions compl_percent  \\\n",
       "0     C.J. BeathardC. Beathard           224         123          54.9   \n",
       "1  Jimmy GaroppoloJ. Garoppolo           145         100          69.0   \n",
       "2          Brian HoyerB. Hoyer           205         119          58.0   \n",
       "3                San Francisco           574         342          59.6   \n",
       "4                    Opponents           510         324          63.5   \n",
       "\n",
       "  passing_yards yards_per_pass passing_touchdowns touchdown_percentage  \\\n",
       "0         1,430            6.4                  4                  1.8   \n",
       "1         1,268            8.7                  5                  3.4   \n",
       "2         1,245            6.1                  4                  2.0   \n",
       "3         3,943            6.9                 13                  2.3   \n",
       "4         3,774            7.4                 27                  5.3   \n",
       "\n",
       "  interceptions int_percentage long sack loss passer_rating  \n",
       "0             6            2.7  83t   19  141          69.2  \n",
       "1             3            2.1   61    8   57          98.9  \n",
       "2             4            2.0   59   16  112          74.1  \n",
       "3            13            2.3  83t   43  310          78.5  \n",
       "4            10            2.0  72t   27  159          95.3  "
      ]
     },
     "execution_count": 131,
     "metadata": {},
     "output_type": "execute_result"
    }
   ],
   "source": [
    "passing_df.head()"
   ]
  },
  {
   "cell_type": "code",
   "execution_count": 132,
   "metadata": {
    "collapsed": false
   },
   "outputs": [
    {
     "data": {
      "text/html": [
       "<div>\n",
       "<table border=\"1\" class=\"dataframe\">\n",
       "  <thead>\n",
       "    <tr style=\"text-align: right;\">\n",
       "      <th></th>\n",
       "      <th>player</th>\n",
       "      <th>games_played</th>\n",
       "      <th>rush_attempts</th>\n",
       "      <th>rush_yards</th>\n",
       "      <th>yards_per_rush</th>\n",
       "      <th>yards_per_game</th>\n",
       "      <th>long</th>\n",
       "      <th>rush_touchdowns</th>\n",
       "      <th>first_downs</th>\n",
       "    </tr>\n",
       "  </thead>\n",
       "  <tbody>\n",
       "    <tr>\n",
       "      <th>0</th>\n",
       "      <td>Carlos HydeC. Hyde</td>\n",
       "      <td>15</td>\n",
       "      <td>225</td>\n",
       "      <td>850</td>\n",
       "      <td>3.78</td>\n",
       "      <td>56.7</td>\n",
       "      <td>61</td>\n",
       "      <td>6</td>\n",
       "      <td>39</td>\n",
       "    </tr>\n",
       "    <tr>\n",
       "      <th>1</th>\n",
       "      <td>Matt BreidaM. Breida</td>\n",
       "      <td>15</td>\n",
       "      <td>93</td>\n",
       "      <td>393</td>\n",
       "      <td>4.23</td>\n",
       "      <td>26.2</td>\n",
       "      <td>33t</td>\n",
       "      <td>2</td>\n",
       "      <td>18</td>\n",
       "    </tr>\n",
       "    <tr>\n",
       "      <th>2</th>\n",
       "      <td>C.J. BeathardC. Beathard</td>\n",
       "      <td>7</td>\n",
       "      <td>26</td>\n",
       "      <td>136</td>\n",
       "      <td>5.23</td>\n",
       "      <td>19.4</td>\n",
       "      <td>16</td>\n",
       "      <td>3</td>\n",
       "      <td>9</td>\n",
       "    </tr>\n",
       "    <tr>\n",
       "      <th>3</th>\n",
       "      <td>Marquise GoodwinM. Goodwin</td>\n",
       "      <td>15</td>\n",
       "      <td>3</td>\n",
       "      <td>34</td>\n",
       "      <td>11.33</td>\n",
       "      <td>2.3</td>\n",
       "      <td>18</td>\n",
       "      <td>0</td>\n",
       "      <td>2</td>\n",
       "    </tr>\n",
       "    <tr>\n",
       "      <th>4</th>\n",
       "      <td>Kyle JuszczykK. Juszczyk</td>\n",
       "      <td>13</td>\n",
       "      <td>7</td>\n",
       "      <td>31</td>\n",
       "      <td>4.43</td>\n",
       "      <td>2.4</td>\n",
       "      <td>12</td>\n",
       "      <td>0</td>\n",
       "      <td>4</td>\n",
       "    </tr>\n",
       "  </tbody>\n",
       "</table>\n",
       "</div>"
      ],
      "text/plain": [
       "                       player games_played rush_attempts rush_yards  \\\n",
       "0          Carlos HydeC. Hyde           15           225        850   \n",
       "1        Matt BreidaM. Breida           15            93        393   \n",
       "2    C.J. BeathardC. Beathard            7            26        136   \n",
       "3  Marquise GoodwinM. Goodwin           15             3         34   \n",
       "4    Kyle JuszczykK. Juszczyk           13             7         31   \n",
       "\n",
       "  yards_per_rush yards_per_game long rush_touchdowns first_downs  \n",
       "0           3.78           56.7   61               6          39  \n",
       "1           4.23           26.2  33t               2          18  \n",
       "2           5.23           19.4   16               3           9  \n",
       "3          11.33            2.3   18               0           2  \n",
       "4           4.43            2.4   12               0           4  "
      ]
     },
     "execution_count": 132,
     "metadata": {},
     "output_type": "execute_result"
    }
   ],
   "source": [
    "rushing_df.head()"
   ]
  },
  {
   "cell_type": "code",
   "execution_count": 133,
   "metadata": {
    "collapsed": false
   },
   "outputs": [
    {
     "data": {
      "text/html": [
       "<div>\n",
       "<table border=\"1\" class=\"dataframe\">\n",
       "  <thead>\n",
       "    <tr style=\"text-align: right;\">\n",
       "      <th></th>\n",
       "      <th>player</th>\n",
       "      <th>games</th>\n",
       "      <th>receptions</th>\n",
       "      <th>receiving_yards</th>\n",
       "      <th>yards_per_catch</th>\n",
       "      <th>yards_per_game</th>\n",
       "      <th>long</th>\n",
       "      <th>receiving_touchdowns</th>\n",
       "      <th>first_downs</th>\n",
       "      <th>targets</th>\n",
       "      <th>yards_after_catch</th>\n",
       "    </tr>\n",
       "  </thead>\n",
       "  <tbody>\n",
       "    <tr>\n",
       "      <th>0</th>\n",
       "      <td>Carlos HydeC. Hyde</td>\n",
       "      <td>15</td>\n",
       "      <td>57</td>\n",
       "      <td>340</td>\n",
       "      <td>5.96</td>\n",
       "      <td>22.7</td>\n",
       "      <td>18</td>\n",
       "      <td>0</td>\n",
       "      <td>17</td>\n",
       "      <td>84</td>\n",
       "      <td>304</td>\n",
       "    </tr>\n",
       "    <tr>\n",
       "      <th>1</th>\n",
       "      <td>Marquise GoodwinM. Goodwin</td>\n",
       "      <td>15</td>\n",
       "      <td>54</td>\n",
       "      <td>934</td>\n",
       "      <td>17.30</td>\n",
       "      <td>62.3</td>\n",
       "      <td>83t</td>\n",
       "      <td>1</td>\n",
       "      <td>44</td>\n",
       "      <td>101</td>\n",
       "      <td>185</td>\n",
       "    </tr>\n",
       "    <tr>\n",
       "      <th>2</th>\n",
       "      <td>Trent TaylorT. Taylor</td>\n",
       "      <td>14</td>\n",
       "      <td>41</td>\n",
       "      <td>401</td>\n",
       "      <td>9.78</td>\n",
       "      <td>28.6</td>\n",
       "      <td>33</td>\n",
       "      <td>2</td>\n",
       "      <td>25</td>\n",
       "      <td>58</td>\n",
       "      <td>179</td>\n",
       "    </tr>\n",
       "    <tr>\n",
       "      <th>3</th>\n",
       "      <td>Pierre GarconP. Garcon</td>\n",
       "      <td>8</td>\n",
       "      <td>40</td>\n",
       "      <td>500</td>\n",
       "      <td>12.50</td>\n",
       "      <td>62.5</td>\n",
       "      <td>59</td>\n",
       "      <td>0</td>\n",
       "      <td>25</td>\n",
       "      <td>67</td>\n",
       "      <td>190</td>\n",
       "    </tr>\n",
       "    <tr>\n",
       "      <th>4</th>\n",
       "      <td>George KittleG. Kittle</td>\n",
       "      <td>14</td>\n",
       "      <td>39</td>\n",
       "      <td>415</td>\n",
       "      <td>10.64</td>\n",
       "      <td>29.6</td>\n",
       "      <td>31</td>\n",
       "      <td>2</td>\n",
       "      <td>19</td>\n",
       "      <td>57</td>\n",
       "      <td>191</td>\n",
       "    </tr>\n",
       "  </tbody>\n",
       "</table>\n",
       "</div>"
      ],
      "text/plain": [
       "                       player games receptions receiving_yards  \\\n",
       "0          Carlos HydeC. Hyde    15         57             340   \n",
       "1  Marquise GoodwinM. Goodwin    15         54             934   \n",
       "2       Trent TaylorT. Taylor    14         41             401   \n",
       "3      Pierre GarconP. Garcon     8         40             500   \n",
       "4      George KittleG. Kittle    14         39             415   \n",
       "\n",
       "  yards_per_catch yards_per_game long receiving_touchdowns first_downs  \\\n",
       "0            5.96           22.7   18                    0          17   \n",
       "1           17.30           62.3  83t                    1          44   \n",
       "2            9.78           28.6   33                    2          25   \n",
       "3           12.50           62.5   59                    0          25   \n",
       "4           10.64           29.6   31                    2          19   \n",
       "\n",
       "  targets yards_after_catch  \n",
       "0      84               304  \n",
       "1     101               185  \n",
       "2      58               179  \n",
       "3      67               190  \n",
       "4      57               191  "
      ]
     },
     "execution_count": 133,
     "metadata": {},
     "output_type": "execute_result"
    }
   ],
   "source": [
    "receiving_df.head()"
   ]
  },
  {
   "cell_type": "code",
   "execution_count": 134,
   "metadata": {
    "collapsed": false
   },
   "outputs": [
    {
     "data": {
      "text/html": [
       "<div>\n",
       "<table border=\"1\" class=\"dataframe\">\n",
       "  <thead>\n",
       "    <tr style=\"text-align: right;\">\n",
       "      <th></th>\n",
       "      <th>player</th>\n",
       "      <th>kick_returns</th>\n",
       "      <th>kick_return_yards</th>\n",
       "      <th>kick_return_average</th>\n",
       "      <th>fair_catches</th>\n",
       "      <th>long</th>\n",
       "      <th>touchdowns</th>\n",
       "    </tr>\n",
       "  </thead>\n",
       "  <tbody>\n",
       "    <tr>\n",
       "      <th>0</th>\n",
       "      <td>Victor BoldenV. Bolden</td>\n",
       "      <td>19</td>\n",
       "      <td>396</td>\n",
       "      <td>20.84</td>\n",
       "      <td>0</td>\n",
       "      <td>34</td>\n",
       "      <td>0</td>\n",
       "    </tr>\n",
       "    <tr>\n",
       "      <th>1</th>\n",
       "      <td>Raheem MostertR. Mostert</td>\n",
       "      <td>5</td>\n",
       "      <td>83</td>\n",
       "      <td>16.60</td>\n",
       "      <td>0</td>\n",
       "      <td>21</td>\n",
       "      <td>0</td>\n",
       "    </tr>\n",
       "    <tr>\n",
       "      <th>2</th>\n",
       "      <td>Matt BreidaM. Breida</td>\n",
       "      <td>5</td>\n",
       "      <td>83</td>\n",
       "      <td>16.60</td>\n",
       "      <td>0</td>\n",
       "      <td>28</td>\n",
       "      <td>0</td>\n",
       "    </tr>\n",
       "    <tr>\n",
       "      <th>3</th>\n",
       "      <td>Trent TaylorT. Taylor</td>\n",
       "      <td>1</td>\n",
       "      <td>8</td>\n",
       "      <td>8.00</td>\n",
       "      <td>0</td>\n",
       "      <td>8</td>\n",
       "      <td>0</td>\n",
       "    </tr>\n",
       "    <tr>\n",
       "      <th>4</th>\n",
       "      <td>Ronald BlairR. Blair</td>\n",
       "      <td>1</td>\n",
       "      <td>0</td>\n",
       "      <td>0.00</td>\n",
       "      <td>0</td>\n",
       "      <td>0</td>\n",
       "      <td>0</td>\n",
       "    </tr>\n",
       "  </tbody>\n",
       "</table>\n",
       "</div>"
      ],
      "text/plain": [
       "                     player kick_returns kick_return_yards  \\\n",
       "0    Victor BoldenV. Bolden           19               396   \n",
       "1  Raheem MostertR. Mostert            5                83   \n",
       "2      Matt BreidaM. Breida            5                83   \n",
       "3     Trent TaylorT. Taylor            1                 8   \n",
       "4      Ronald BlairR. Blair            1                 0   \n",
       "\n",
       "  kick_return_average fair_catches long touchdowns  \n",
       "0               20.84            0   34          0  \n",
       "1               16.60            0   21          0  \n",
       "2               16.60            0   28          0  \n",
       "3                8.00            0    8          0  \n",
       "4                0.00            0    0          0  "
      ]
     },
     "execution_count": 134,
     "metadata": {},
     "output_type": "execute_result"
    }
   ],
   "source": [
    "kick_returns_df.head()"
   ]
  },
  {
   "cell_type": "code",
   "execution_count": 135,
   "metadata": {
    "collapsed": false
   },
   "outputs": [
    {
     "data": {
      "text/html": [
       "<div>\n",
       "<table border=\"1\" class=\"dataframe\">\n",
       "  <thead>\n",
       "    <tr style=\"text-align: right;\">\n",
       "      <th></th>\n",
       "      <th>player</th>\n",
       "      <th>punt_returns</th>\n",
       "      <th>punt_return_yards</th>\n",
       "      <th>punt_return_average</th>\n",
       "      <th>fair_catches</th>\n",
       "      <th>long</th>\n",
       "      <th>touchdowns</th>\n",
       "    </tr>\n",
       "  </thead>\n",
       "  <tbody>\n",
       "    <tr>\n",
       "      <th>0</th>\n",
       "      <td>Trent TaylorT. Taylor</td>\n",
       "      <td>27</td>\n",
       "      <td>249</td>\n",
       "      <td>9.22</td>\n",
       "      <td>15</td>\n",
       "      <td>39</td>\n",
       "      <td>0</td>\n",
       "    </tr>\n",
       "    <tr>\n",
       "      <th>1</th>\n",
       "      <td>Victor BoldenV. Bolden</td>\n",
       "      <td>4</td>\n",
       "      <td>23</td>\n",
       "      <td>5.75</td>\n",
       "      <td>1</td>\n",
       "      <td>16</td>\n",
       "      <td>0</td>\n",
       "    </tr>\n",
       "    <tr>\n",
       "      <th>2</th>\n",
       "      <td>San Francisco</td>\n",
       "      <td>31</td>\n",
       "      <td>272</td>\n",
       "      <td>8.77</td>\n",
       "      <td>16</td>\n",
       "      <td>39</td>\n",
       "      <td>0</td>\n",
       "    </tr>\n",
       "    <tr>\n",
       "      <th>3</th>\n",
       "      <td>Opponents</td>\n",
       "      <td>31</td>\n",
       "      <td>132</td>\n",
       "      <td>4.26</td>\n",
       "      <td>23</td>\n",
       "      <td>61t</td>\n",
       "      <td>1</td>\n",
       "    </tr>\n",
       "  </tbody>\n",
       "</table>\n",
       "</div>"
      ],
      "text/plain": [
       "                   player punt_returns punt_return_yards punt_return_average  \\\n",
       "0   Trent TaylorT. Taylor           27               249                9.22   \n",
       "1  Victor BoldenV. Bolden            4                23                5.75   \n",
       "2           San Francisco           31               272                8.77   \n",
       "3               Opponents           31               132                4.26   \n",
       "\n",
       "  fair_catches long touchdowns  \n",
       "0           15   39          0  \n",
       "1            1   16          0  \n",
       "2           16   39          0  \n",
       "3           23  61t          1  "
      ]
     },
     "execution_count": 135,
     "metadata": {},
     "output_type": "execute_result"
    }
   ],
   "source": [
    "punt_returns_df.head()"
   ]
  },
  {
   "cell_type": "code",
   "execution_count": null,
   "metadata": {
    "collapsed": true
   },
   "outputs": [],
   "source": []
  }
 ],
 "metadata": {
  "anaconda-cloud": {},
  "kernelspec": {
   "display_name": "Python [default]",
   "language": "python",
   "name": "python2"
  },
  "language_info": {
   "codemirror_mode": {
    "name": "ipython",
    "version": 2
   },
   "file_extension": ".py",
   "mimetype": "text/x-python",
   "name": "python",
   "nbconvert_exporter": "python",
   "pygments_lexer": "ipython2",
   "version": "2.7.12"
  }
 },
 "nbformat": 4,
 "nbformat_minor": 2
}
